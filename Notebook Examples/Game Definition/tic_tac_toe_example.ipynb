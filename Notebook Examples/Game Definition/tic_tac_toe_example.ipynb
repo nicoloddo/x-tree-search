{
 "cells": [
  {
   "cell_type": "code",
   "execution_count": 59,
   "metadata": {},
   "outputs": [],
   "source": [
    "from src.game_model import GameModel, MAX_ENVIRONMENT_SIZE_TO_PRINT"
   ]
  },
  {
   "cell_type": "markdown",
   "metadata": {},
   "source": [
    "## Declare environment and agents:"
   ]
  },
  {
   "cell_type": "code",
   "execution_count": 60,
   "metadata": {},
   "outputs": [
    {
     "name": "stdout",
     "output_type": "stream",
     "text": [
      "\n",
      "        You can use the method gm.action_is_violation_if(rule, rule_description) to express rules for the game.\n",
      "\n",
      "        Use help(gm.action_is_violation_if) for help on how to define rules.\n",
      "        The rule: \"Nothing is allowed if the game is ended.\" is defined by default, to delete it use gm.delete_rule(1).\n",
      "        Use gm.print_rules() to see all the rules that have been setted.\n",
      "        \n",
      "        Use gm.set_endgame(callable_function(game)) to define based on what dynamics your game should end.\n",
      "        The callable function should have one only input parameter, which represents the game itself, \n",
      "        which can be used to refer to anything inside its model, this include:\n",
      "                - environment = the environment or board (e.g. game.environment)\n",
      "                - agents = the agents involved in the game\n",
      "                - actions = previous actions performed\n",
      "                - started = if the game has started\n",
      "                - ended = if the game has ended\n",
      "        Example: \n",
      "            def three_elements_in_row(game):\n",
      "                board = game.environment\n",
      "                # Check rows for winning condition\n",
      "                for row in board:\n",
      "                    if row[0] == row[1] == row[2] != 'free':\n",
      "                        return True\n",
      "                # If no winner, return False\n",
      "                return False\n",
      "        \n",
      "\n",
      "Game: tic-tac-toe\n",
      "\n",
      "Number of agents: 2, Number of agent features: 2 \n",
      "Agent features labels: [['not starter', 'starter'], ['X', 'O']])\n",
      "\n",
      "Environment shape: (3, 3), Total number of elements: 9 \n",
      "Labels: ['free', 'X', 'O'])\n",
      "\n",
      "Dimensions Descriptions: For the environment we have the 3x3 board and 20 timesteps. For the agents we have 2 players with feature 1 indicating who is playing, waiting and won or lost, and feature 2 indicating their symbol.\n",
      "\n",
      "Agents: \n",
      "[['not starter' 'X']\n",
      " ['not starter' 'X']]\n",
      "\n",
      "Environment:\n",
      "[['free' 'free' 'free']\n",
      " ['free' 'free' 'free']\n",
      " ['free' 'free' 'free']]\n",
      "\n",
      "Rules:\n",
      "1: Nothing is allowed if the game is ended.\n"
     ]
    }
   ],
   "source": [
    "\"\"\"\n",
    "Initializes the GameModel with a labeled environment.\n",
    "\n",
    "Args:\n",
    "    default_label (list of str): The default labels to assign to each column in the environment.\n",
    "    additional_labels (list of str): Other possible labels that can be assigned to the environment elements.\n",
    "\n",
    "    default_agents_labels (list of str)): The default labels to each row of agent features.\n",
    "    additional_agents_labels (list of list of strings): For each agent feature, specify other possible labels that can be assigned to each.\n",
    "\n",
    "    environment_dimensions (list of int): Dimensions of the environment matrix. \n",
    "    Consider adding an additional dimension to the environment for time if rules refer to previous timesteps.\n",
    "\n",
    "    agents_dimensions (list of int): Dimensions of the agents matrix.\n",
    "    Consider to use the first dimension for the number of player and the second dimension for the number of features.\n",
    "\n",
    "    dimensions_descriptions (str): String explaining each dimension of the environment and of the agents (optional)\n",
    "    game_name (str): String with the name of the game (optional)\n",
    "\"\"\"\n",
    "\n",
    "gm = GameModel(\n",
    "default_labels=['free'], additional_labels=['X', 'O'], environment_dimensions=[3, 3], \n",
    "default_agents_labels=['not starter', 'X'], additional_agents_labels=[['starter'], ['O']], agents_dimensions=[2, 2], \n",
    "dimensions_descriptions=\"For the environment we have the 3x3 board and 20 timesteps. For the agents we have 2 players with feature 1 indicating who is playing, waiting and won or lost, and feature 2 indicating their symbol.\",\n",
    "game_name=\"tic-tac-toe\")\n",
    "\n",
    "print(gm)\n",
    "print()\n",
    "gm.print_rules()"
   ]
  },
  {
   "cell_type": "markdown",
   "metadata": {},
   "source": [
    "## Initialize parameters"
   ]
  },
  {
   "cell_type": "code",
   "execution_count": 61,
   "metadata": {},
   "outputs": [
    {
     "name": "stdout",
     "output_type": "stream",
     "text": [
      "Game: tic-tac-toe\n",
      "\n",
      "Number of agents: 2, Number of agent features: 2 \n",
      "Agent features labels: [['not starter', 'starter'], ['X', 'O']])\n",
      "\n",
      "Environment shape: (3, 3), Total number of elements: 9 \n",
      "Labels: ['free', 'X', 'O'])\n",
      "\n",
      "Dimensions Descriptions: For the environment we have the 3x3 board and 20 timesteps. For the agents we have 2 players with feature 1 indicating who is playing, waiting and won or lost, and feature 2 indicating their symbol.\n",
      "\n",
      "Agents: \n",
      "[['not starter' 'X']\n",
      " ['starter' 'O']]\n",
      "\n",
      "Environment:\n",
      "[['free' 'free' 'free']\n",
      " ['free' 'free' 'free']\n",
      " ['free' 'free' 'free']]\n"
     ]
    }
   ],
   "source": [
    "gm.agents[1, 1] = 'O'\n",
    "gm.agents[1, 0] = 'starter'\n",
    "print(gm)"
   ]
  },
  {
   "cell_type": "markdown",
   "metadata": {},
   "source": [
    "## Define the dynamic to end the game"
   ]
  },
  {
   "cell_type": "code",
   "execution_count": 62,
   "metadata": {},
   "outputs": [],
   "source": [
    "def tic_tac_toe_endgame(game):\n",
    "    board = game.environment\n",
    "    # Check rows for winning condition\n",
    "    for row in board:\n",
    "        if row[0] == row[1] == row[2] != 'free':\n",
    "            return True\n",
    "\n",
    "    # Check columns for winning condition\n",
    "    for col in range(3):\n",
    "        if board[0][col] == board[1][col] == board[2][col] != 'free':\n",
    "            return True\n",
    "\n",
    "    # Check diagonals for winning condition\n",
    "    if board[0][0] == board[1][1] == board[2][2] != 'free':\n",
    "        return True\n",
    "    if board[0][2] == board[1][1] == board[2][0] != 'free':\n",
    "        return True\n",
    "\n",
    "    # If no winner, return False\n",
    "    return False\n",
    "\n",
    "gm.set_endgame(tic_tac_toe_endgame)"
   ]
  },
  {
   "cell_type": "markdown",
   "metadata": {},
   "source": [
    "## Define the rules"
   ]
  },
  {
   "cell_type": "code",
   "execution_count": 63,
   "metadata": {},
   "outputs": [],
   "source": [
    "\"\"\"Only the player whose starter can play the first turn:\n",
    "agents[who] = the agent who did the action\n",
    "agent[0] refers to the agent's first feature, which we assigned to the status\n",
    "\"\"\"\n",
    "gm.action_is_violation_if(lambda who, where, what, which_agent_feature, game: not game.started and game.agents[who][0] != 'starter', \"This is not the starting player and this is the first turn.\")"
   ]
  },
  {
   "cell_type": "code",
   "execution_count": 64,
   "metadata": {},
   "outputs": [],
   "source": [
    "\"\"\"Agents need to alternate actions:\n",
    "The last action was done by the same player.\n",
    "\"\"\"\n",
    "gm.action_is_violation_if(lambda who, where, what, which_agent_feature, game: game.started and who == game.actions[-1]['who'], \"Players cannot play two times consecutively\")"
   ]
  },
  {
   "cell_type": "code",
   "execution_count": 65,
   "metadata": {},
   "outputs": [],
   "source": [
    "\"\"\"You can only put a sign if the space is free:\n",
    "\"\"\"\n",
    "gm.action_is_violation_if(lambda who, where, what, which_agent_feature, game: game.environment[where] != 'free', \"The space needs to be free to put a sign on it.\")"
   ]
  },
  {
   "cell_type": "code",
   "execution_count": 66,
   "metadata": {},
   "outputs": [],
   "source": [
    "\"\"\"Agents cannot modify their features or the ones of other agents:\n",
    "\"\"\"\n",
    "gm.action_is_violation_if(lambda who, where, what, which_agent_feature, game: which_agent_feature != [None], \"Agents cannot modify their own features.\")"
   ]
  },
  {
   "cell_type": "code",
   "execution_count": 67,
   "metadata": {},
   "outputs": [],
   "source": [
    "\"\"\"Agents can only put their own sign:\n",
    "agent[1] refers to the agent's symbol.\n",
    "\"\"\"\n",
    "gm.action_is_violation_if(lambda who, where, what, which_agent_feature, game: game.agents[who][1] != what, \"Agents can only put their own sign.\")"
   ]
  },
  {
   "cell_type": "code",
   "execution_count": 68,
   "metadata": {},
   "outputs": [
    {
     "name": "stdout",
     "output_type": "stream",
     "text": [
      "Rules:\n",
      "1: Nothing is allowed if the game is ended.\n",
      "2: This is not the starting player and this is the first turn.\n",
      "3: Players cannot play two times consecutively\n",
      "4: The space needs to be free to put a sign on it.\n",
      "5: Agents cannot modify their own features.\n",
      "6: Agents can only put their own sign.\n"
     ]
    }
   ],
   "source": [
    "gm.print_rules()"
   ]
  },
  {
   "cell_type": "markdown",
   "metadata": {},
   "source": [
    "## Example Actions:"
   ]
  },
  {
   "cell_type": "code",
   "execution_count": 69,
   "metadata": {},
   "outputs": [
    {
     "data": {
      "text/plain": [
       "GameMatrix([['free', 'free', 'free'],\n",
       "            ['free', 'free', 'free'],\n",
       "            ['free', 'free', 'free']], dtype='<U4')"
      ]
     },
     "execution_count": 69,
     "metadata": {},
     "output_type": "execute_result"
    }
   ],
   "source": [
    "gm.environment"
   ]
  },
  {
   "cell_type": "markdown",
   "metadata": {},
   "source": [
    "Action not permitted:"
   ]
  },
  {
   "cell_type": "code",
   "execution_count": 70,
   "metadata": {},
   "outputs": [
    {
     "name": "stdout",
     "output_type": "stream",
     "text": [
      "Broke rule 2: This is not the starting player and this is the first turn.\n",
      "This action is not permitted.\n",
      "\n"
     ]
    },
    {
     "data": {
      "text/plain": [
       "GameMatrix([['free', 'free', 'free'],\n",
       "            ['free', 'free', 'free'],\n",
       "            ['free', 'free', 'free']], dtype='<U4')"
      ]
     },
     "execution_count": 70,
     "metadata": {},
     "output_type": "execute_result"
    }
   ],
   "source": [
    "gm.action_on_environment(0, [0, 0], 'X')\n",
    "gm.environment"
   ]
  },
  {
   "cell_type": "markdown",
   "metadata": {},
   "source": [
    "Action that respects the rules:"
   ]
  },
  {
   "cell_type": "code",
   "execution_count": 71,
   "metadata": {},
   "outputs": [
    {
     "data": {
      "text/plain": [
       "GameMatrix([['O', 'free', 'free'],\n",
       "            ['free', 'free', 'free'],\n",
       "            ['free', 'free', 'free']], dtype='<U4')"
      ]
     },
     "execution_count": 71,
     "metadata": {},
     "output_type": "execute_result"
    }
   ],
   "source": [
    "gm.action_on_environment(1, [0, 0], 'O')\n",
    "gm.environment"
   ]
  },
  {
   "cell_type": "markdown",
   "metadata": {},
   "source": [
    "Other actions that do not respect the rules:"
   ]
  },
  {
   "cell_type": "code",
   "execution_count": 72,
   "metadata": {},
   "outputs": [
    {
     "name": "stdout",
     "output_type": "stream",
     "text": [
      "Broke rule 3: Players cannot play two times consecutively\n",
      "This action is not permitted.\n",
      "\n"
     ]
    },
    {
     "data": {
      "text/plain": [
       "GameMatrix([['O', 'free', 'free'],\n",
       "            ['free', 'free', 'free'],\n",
       "            ['free', 'free', 'free']], dtype='<U4')"
      ]
     },
     "execution_count": 72,
     "metadata": {},
     "output_type": "execute_result"
    }
   ],
   "source": [
    "gm.action_on_environment(1, [1, 0], 'O')\n",
    "gm.environment"
   ]
  },
  {
   "cell_type": "code",
   "execution_count": 73,
   "metadata": {},
   "outputs": [
    {
     "name": "stdout",
     "output_type": "stream",
     "text": [
      "Broke rule 4: The space needs to be free to put a sign on it.\n",
      "This action is not permitted.\n",
      "\n"
     ]
    },
    {
     "data": {
      "text/plain": [
       "GameMatrix([['O', 'free', 'free'],\n",
       "            ['free', 'free', 'free'],\n",
       "            ['free', 'free', 'free']], dtype='<U4')"
      ]
     },
     "execution_count": 73,
     "metadata": {},
     "output_type": "execute_result"
    }
   ],
   "source": [
    "gm.action_on_environment(0, [0, 0], 'X')\n",
    "gm.environment"
   ]
  },
  {
   "cell_type": "code",
   "execution_count": 74,
   "metadata": {},
   "outputs": [
    {
     "name": "stdout",
     "output_type": "stream",
     "text": [
      "Broke rule 5: Agents cannot modify their own features.\n",
      "This action is not permitted.\n"
     ]
    },
    {
     "data": {
      "text/plain": [
       "GameMatrix([['O', 'free', 'free'],\n",
       "            ['free', 'free', 'free'],\n",
       "            ['free', 'free', 'free']], dtype='<U4')"
      ]
     },
     "execution_count": 74,
     "metadata": {},
     "output_type": "execute_result"
    }
   ],
   "source": [
    "gm.action_on_agent(0, 'O', [0,0])\n",
    "gm.environment"
   ]
  },
  {
   "cell_type": "code",
   "execution_count": 75,
   "metadata": {},
   "outputs": [
    {
     "name": "stdout",
     "output_type": "stream",
     "text": [
      "Broke rule 6: Agents can only put their own sign.\n",
      "This action is not permitted.\n",
      "\n"
     ]
    },
    {
     "data": {
      "text/plain": [
       "GameMatrix([['O', 'free', 'free'],\n",
       "            ['free', 'free', 'free'],\n",
       "            ['free', 'free', 'free']], dtype='<U4')"
      ]
     },
     "execution_count": 75,
     "metadata": {},
     "output_type": "execute_result"
    }
   ],
   "source": [
    "gm.action_on_environment(0, [2, 1], 'O')\n",
    "gm.environment"
   ]
  },
  {
   "cell_type": "markdown",
   "metadata": {},
   "source": [
    "## Example of game:"
   ]
  },
  {
   "cell_type": "markdown",
   "metadata": {},
   "source": [
    "It's suggested to make a wrapper definition for actions in the game:"
   ]
  },
  {
   "cell_type": "code",
   "execution_count": 76,
   "metadata": {},
   "outputs": [],
   "source": [
    "def put_sign(player, coordinates):\n",
    "    if player == 0:\n",
    "        sign = 'X'\n",
    "    elif player == 1:\n",
    "        sign = 'O'\n",
    "    else:\n",
    "        raise ValueError(\"Player variable has to be 0 or 1\")\n",
    "\n",
    "    performed = gm.action_on_environment(player, coordinates, sign)\n",
    "\n",
    "    if performed:\n",
    "        print(gm.environment)"
   ]
  },
  {
   "cell_type": "code",
   "execution_count": 77,
   "metadata": {},
   "outputs": [
    {
     "name": "stdout",
     "output_type": "stream",
     "text": [
      "[['O' 'free' 'free']\n",
      " ['free' 'X' 'free']\n",
      " ['free' 'free' 'free']]\n"
     ]
    }
   ],
   "source": [
    "put_sign(0, [1,1])"
   ]
  },
  {
   "cell_type": "code",
   "execution_count": 78,
   "metadata": {},
   "outputs": [
    {
     "name": "stdout",
     "output_type": "stream",
     "text": [
      "Broke rule 3: Players cannot play two times consecutively\n",
      "This action is not permitted.\n",
      "\n"
     ]
    }
   ],
   "source": [
    "put_sign(0, [0,1])"
   ]
  },
  {
   "cell_type": "code",
   "execution_count": 79,
   "metadata": {},
   "outputs": [
    {
     "name": "stdout",
     "output_type": "stream",
     "text": [
      "[['O' 'free' 'free']\n",
      " ['free' 'X' 'free']\n",
      " ['free' 'free' 'O']]\n"
     ]
    }
   ],
   "source": [
    "put_sign(1, [2,2])"
   ]
  },
  {
   "cell_type": "code",
   "execution_count": 80,
   "metadata": {},
   "outputs": [
    {
     "name": "stdout",
     "output_type": "stream",
     "text": [
      "[['O' 'free' 'free']\n",
      " ['free' 'X' 'free']\n",
      " ['X' 'free' 'O']]\n"
     ]
    }
   ],
   "source": [
    "put_sign(0, [2,0])"
   ]
  },
  {
   "cell_type": "code",
   "execution_count": 81,
   "metadata": {},
   "outputs": [
    {
     "name": "stdout",
     "output_type": "stream",
     "text": [
      "[['O' 'free' 'O']\n",
      " ['free' 'X' 'free']\n",
      " ['X' 'free' 'O']]\n"
     ]
    }
   ],
   "source": [
    "put_sign(1, [0,2])"
   ]
  },
  {
   "cell_type": "code",
   "execution_count": 82,
   "metadata": {},
   "outputs": [
    {
     "data": {
      "text/plain": [
       "False"
      ]
     },
     "execution_count": 82,
     "metadata": {},
     "output_type": "execute_result"
    }
   ],
   "source": [
    "gm.ended"
   ]
  },
  {
   "cell_type": "code",
   "execution_count": 83,
   "metadata": {},
   "outputs": [
    {
     "name": "stdout",
     "output_type": "stream",
     "text": [
      "Broke rule 4: The space needs to be free to put a sign on it.\n",
      "This action is not permitted.\n",
      "\n"
     ]
    }
   ],
   "source": [
    "put_sign(0, [0,0])"
   ]
  },
  {
   "cell_type": "code",
   "execution_count": 84,
   "metadata": {},
   "outputs": [
    {
     "name": "stdout",
     "output_type": "stream",
     "text": [
      "[['O' 'X' 'O']\n",
      " ['free' 'X' 'free']\n",
      " ['X' 'free' 'O']]\n"
     ]
    }
   ],
   "source": [
    "put_sign(0, [0,1])"
   ]
  },
  {
   "cell_type": "code",
   "execution_count": 85,
   "metadata": {},
   "outputs": [
    {
     "name": "stdout",
     "output_type": "stream",
     "text": [
      "[['O' 'X' 'O']\n",
      " ['free' 'X' 'O']\n",
      " ['X' 'free' 'O']]\n"
     ]
    }
   ],
   "source": [
    "put_sign(1, [1,2])"
   ]
  },
  {
   "cell_type": "code",
   "execution_count": 86,
   "metadata": {},
   "outputs": [
    {
     "data": {
      "text/plain": [
       "True"
      ]
     },
     "execution_count": 86,
     "metadata": {},
     "output_type": "execute_result"
    }
   ],
   "source": [
    "gm.ended"
   ]
  },
  {
   "cell_type": "code",
   "execution_count": 87,
   "metadata": {},
   "outputs": [
    {
     "name": "stdout",
     "output_type": "stream",
     "text": [
      "Broke rule 1: Nothing is allowed if the game is ended.\n",
      "This action is not permitted.\n",
      "\n"
     ]
    }
   ],
   "source": [
    "put_sign(0, [2,1])"
   ]
  }
 ],
 "metadata": {
  "kernelspec": {
   "display_name": "cloudspace",
   "language": "python",
   "name": "python3"
  },
  "language_info": {
   "codemirror_mode": {
    "name": "ipython",
    "version": 3
   },
   "file_extension": ".py",
   "mimetype": "text/x-python",
   "name": "python",
   "nbconvert_exporter": "python",
   "pygments_lexer": "ipython3",
   "version": "3.10.10"
  }
 },
 "nbformat": 4,
 "nbformat_minor": 2
}
