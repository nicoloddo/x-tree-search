{
 "cells": [
  {
   "cell_type": "code",
   "execution_count": 1,
   "metadata": {},
   "outputs": [],
   "source": [
    "from src.game_model import GameModel"
   ]
  },
  {
   "cell_type": "markdown",
   "metadata": {},
   "source": [
    "## Declare environment and agents:"
   ]
  },
  {
   "cell_type": "code",
   "execution_count": 2,
   "metadata": {},
   "outputs": [
    {
     "name": "stdout",
     "output_type": "stream",
     "text": [
      "\n",
      "        You can add spaces on which to perform actions with the function add_action_space(dimensions, default_labels, additional_labels, dimensions_description).\n",
      "        Examples of that are the environment space (or board) and the agent space, which are by default already there.\n",
      "\n",
      "        You can use the method gm.action_is_violation_if(rule, rule_description) to express rules for the game.\n",
      "\n",
      "        Use help(gm.action_is_violation_if) for help on how to define rules.\n",
      "        The rule: \"Nothing is allowed if the game is ended.\" is defined by default, to delete it use gm.delete_rule(1).\n",
      "        Use gm.print_rules() to see all the rules that have been setted.\n",
      "        \n",
      "        Use gm.set_endgame(callable_function(game)) to define based on what dynamics your game should end.\n",
      "        The callable function should have one only input parameter, which represents the game itself, \n",
      "        which can be used to refer to anything inside its model, this include:\n",
      "                - action_spaces = the action spaces belonging to the game, incuding any added one and their features\n",
      "                - agents = the agents involved in the game and their features\n",
      "                - actions = previous actions performed\n",
      "                - started = if the game has started\n",
      "                - ended = if the game has ended\n",
      "        Example: \n",
      "            def three_elements_in_row(game):\n",
      "                board = game.action_spaces[\"board\"]\n",
      "                # Check rows for winning condition\n",
      "                for row in board:\n",
      "                    if row[0] == row[1] == row[2] != 'free':\n",
      "                        return True\n",
      "                # If no winner, return False\n",
      "                return False\n",
      "        \n",
      "\n",
      "Game: tic-tac-toe\n",
      "\n",
      "Action Spaces:\n",
      "\n",
      "1. agent (actions allowed): \n",
      "(2, 2), Number of elements: 4 \n",
      "Available labels: [['not starter', 'starter'], ['X', 'O']])\n",
      "\n",
      "Dimensions descriptions: 2 players with feature 1 indicating who is starting, and feature 2 indicating their symbol.\n",
      "\n",
      "agent: \n",
      "[['not starter' 'X']\n",
      " ['not starter' 'X']]\n",
      "\n",
      "2. board (actions allowed): \n",
      "(3, 3), Number of elements: 9 \n",
      "Available labels: [['free', 'X', 'O']])\n",
      "\n",
      "Dimensions descriptions: 3x3 board.\n",
      "\n",
      "board: \n",
      "[['free' 'free' 'free']\n",
      " ['free' 'free' 'free']\n",
      " ['free' 'free' 'free']]\n",
      "\n",
      "\n",
      "\n",
      "Rules:\n",
      "\n",
      "general:\n",
      "1: Nothing is allowed if the game is ended.\n",
      "\n",
      "agent:\n",
      "\n",
      "board:\n",
      "\n",
      "\n"
     ]
    }
   ],
   "source": [
    "\"\"\"\n",
    "Initializes the GameModel with a labeled environment.\n",
    "\n",
    "Args:\n",
    "    default_label (list of str): The default labels to assign to each column in the environment.\n",
    "    additional_labels (list of str): Other possible labels that can be assigned to the environment elements.\n",
    "\n",
    "    default_agents_labels (list of str)): The default labels to each row of agent features.\n",
    "    additional_agents_labels (list of list of strings): For each agent feature, specify other possible labels that can be assigned to each.\n",
    "\n",
    "    environment_dimensions (list of int): Dimensions of the environment matrix. \n",
    "    Consider adding an additional dimension to the environment for time if rules refer to previous timesteps.\n",
    "\n",
    "    agents_dimensions (list of int): Dimensions of the agents matrix.\n",
    "    Consider to use the first dimension for the number of player and the second dimension for the number of features.\n",
    "\n",
    "    dimensions_descriptions (str): String explaining each dimension of the environment and of the agents (optional)\n",
    "    game_name (str): String with the name of the game (optional)\n",
    "\"\"\"\n",
    "\n",
    "gm = GameModel( \n",
    "agents_number=2, default_agent_features=['not starter', 'X'], additional_agent_features=[['starter'], ['O']], \n",
    "agent_features_descriptions=\"2 players with feature 1 indicating who is starting, and feature 2 indicating their symbol.\",\n",
    "game_name=\"tic-tac-toe\")\n",
    "gm.add_action_space(\"board\", dimensions=[3, 3], default_labels=['free'], additional_labels=[['X', 'O']], dimensions_descriptions=\"3x3 board.\")\n",
    "\n",
    "print(gm)\n",
    "print()\n",
    "print(gm.printable_rules)"
   ]
  },
  {
   "cell_type": "code",
   "execution_count": 3,
   "metadata": {},
   "outputs": [
    {
     "name": "stdout",
     "output_type": "stream",
     "text": [
      "Action Spaces:\n",
      "\n",
      "1. agent (actions disabled): \n",
      "(2, 2), Number of elements: 4 \n",
      "Available labels: [['not starter', 'starter'], ['X', 'O']])\n",
      "\n",
      "Dimensions descriptions: 2 players with feature 1 indicating who is starting, and feature 2 indicating their symbol.\n",
      "\n",
      "agent: \n",
      "[['not starter' 'X']\n",
      " ['not starter' 'X']]\n",
      "\n",
      "2. board (actions allowed): \n",
      "(3, 3), Number of elements: 9 \n",
      "Available labels: [['free', 'X', 'O']])\n",
      "\n",
      "Dimensions descriptions: 3x3 board.\n",
      "\n",
      "board: \n",
      "[['free' 'free' 'free']\n",
      " ['free' 'free' 'free']\n",
      " ['free' 'free' 'free']]\n",
      "\n",
      "\n"
     ]
    }
   ],
   "source": [
    "# Let's disable actions on the agent feature space.\n",
    "gm.disable_actions(on=\"agent\")\n",
    "print(gm.printable_action_spaces)"
   ]
  },
  {
   "cell_type": "markdown",
   "metadata": {},
   "source": [
    "## Initialize parameters"
   ]
  },
  {
   "cell_type": "code",
   "execution_count": 4,
   "metadata": {},
   "outputs": [
    {
     "name": "stdout",
     "output_type": "stream",
     "text": [
      "[['not starter' 'X']\n",
      " ['starter' 'O']]\n"
     ]
    }
   ],
   "source": [
    "gm.agents[1, 1] = 'O'\n",
    "gm.agents[1, 0] = 'starter'\n",
    "print(gm.agents)"
   ]
  },
  {
   "cell_type": "markdown",
   "metadata": {},
   "source": [
    "## Define the dynamic to end the game"
   ]
  },
  {
   "cell_type": "code",
   "execution_count": 5,
   "metadata": {},
   "outputs": [],
   "source": [
    "def tic_tac_toe_endgame(game):\n",
    "    board = game.action_spaces[\"board\"]\n",
    "    # Check rows for winning condition\n",
    "    for row in board:\n",
    "        if row[0] == row[1] == row[2] != 'free':\n",
    "            return True\n",
    "\n",
    "    # Check columns for winning condition\n",
    "    for col in range(3):\n",
    "        if board[0][col] == board[1][col] == board[2][col] != 'free':\n",
    "            return True\n",
    "\n",
    "    # Check diagonals for winning condition\n",
    "    if board[0][0] == board[1][1] == board[2][2] != 'free':\n",
    "        return True\n",
    "    if board[0][2] == board[1][1] == board[2][0] != 'free':\n",
    "        return True\n",
    "\n",
    "    # If no winner, return False\n",
    "    return False\n",
    "\n",
    "gm.set_endgame(tic_tac_toe_endgame)"
   ]
  },
  {
   "cell_type": "markdown",
   "metadata": {},
   "source": [
    "## Define the rules"
   ]
  },
  {
   "cell_type": "markdown",
   "metadata": {},
   "source": [
    "Define rules by specifying a conditional that is true if the rule is broken. \n",
    "The conditional needs to be a callable function with arguments who, where, what and game.\n",
    "\n",
    "Rules contrain a given action space by limiting the possible actions appliable.\n",
    "\n",
    "Specify the action space that the rule applies to after the callable function (as second argument).\n",
    "If you don't specify anything, the rules are applied to all the action spaces."
   ]
  },
  {
   "cell_type": "code",
   "execution_count": 6,
   "metadata": {},
   "outputs": [],
   "source": [
    "\"\"\"Only the player whose starter can play the first turn:\n",
    "game.agents[who] = the agent who does the action\n",
    "agent[0] refers to the agent's first feature, which we assigned to the status\n",
    "\"\"\"\n",
    "gm.action_is_violation_if(lambda who, where, what, game: not game.started and game.agents[who][0] != 'starter', rule_description=\"This is not the starting player and this is the first turn.\")"
   ]
  },
  {
   "cell_type": "code",
   "execution_count": 7,
   "metadata": {},
   "outputs": [],
   "source": [
    "\"\"\"Agents need to alternate actions:\n",
    "The last action was done by the same player.\n",
    "\"\"\"\n",
    "gm.action_is_violation_if(lambda who, where, what, game: game.started and who == game.actions[-1]['who'], rule_description=\"Players cannot play two times consecutively\")"
   ]
  },
  {
   "cell_type": "code",
   "execution_count": 8,
   "metadata": {},
   "outputs": [],
   "source": [
    "\"\"\"You can only put a sign if the space is free:\n",
    "\"\"\"\n",
    "gm.action_is_violation_if(lambda who, where, what, game: where != 'free', \"board\", rule_description=\"The space needs to be free to put a sign on it.\")"
   ]
  },
  {
   "cell_type": "code",
   "execution_count": 9,
   "metadata": {},
   "outputs": [],
   "source": [
    "\"\"\"Agents can only put their own sign:\n",
    "agent[1] refers to the agent's symbol.\n",
    "\"\"\"\n",
    "gm.action_is_violation_if(lambda who, where, what, game: game.agents[who][1] != what, rule_description=\"Agents can only put their own sign.\")"
   ]
  },
  {
   "cell_type": "code",
   "execution_count": 10,
   "metadata": {},
   "outputs": [
    {
     "name": "stdout",
     "output_type": "stream",
     "text": [
      "Rules:\n",
      "\n",
      "general:\n",
      "1: Nothing is allowed if the game is ended.\n",
      "2: This is not the starting player and this is the first turn.\n",
      "3: Players cannot play two times consecutively\n",
      "4: Agents can only put their own sign.\n",
      "\n",
      "agent:\n",
      "\n",
      "board:\n",
      "1: The space needs to be free to put a sign on it.\n",
      "\n",
      "\n"
     ]
    }
   ],
   "source": [
    "print(gm.printable_rules)"
   ]
  },
  {
   "cell_type": "markdown",
   "metadata": {},
   "source": [
    "## Example Actions:"
   ]
  },
  {
   "cell_type": "code",
   "execution_count": 11,
   "metadata": {},
   "outputs": [],
   "source": [
    "board = gm.action_spaces[\"board\"]"
   ]
  },
  {
   "cell_type": "markdown",
   "metadata": {},
   "source": [
    "Action not permitted:"
   ]
  },
  {
   "cell_type": "code",
   "execution_count": 12,
   "metadata": {},
   "outputs": [
    {
     "name": "stdout",
     "output_type": "stream",
     "text": [
      "Broke general rule 2: This is not the starting player and this is the first turn.\n",
      "This action is not permitted.\n",
      "\n"
     ]
    },
    {
     "data": {
      "text/plain": [
       "ActionSpace([['free', 'free', 'free'],\n",
       "             ['free', 'free', 'free'],\n",
       "             ['free', 'free', 'free']], dtype='<U4')"
      ]
     },
     "execution_count": 12,
     "metadata": {},
     "output_type": "execute_result"
    }
   ],
   "source": [
    "gm.action(\"board\", 0, [0, 0], 'X')\n",
    "board"
   ]
  },
  {
   "cell_type": "markdown",
   "metadata": {},
   "source": [
    "Action that respects the rules:"
   ]
  },
  {
   "cell_type": "code",
   "execution_count": 13,
   "metadata": {},
   "outputs": [
    {
     "data": {
      "text/plain": [
       "[['free', 'X', 'O']]"
      ]
     },
     "execution_count": 13,
     "metadata": {},
     "output_type": "execute_result"
    }
   ],
   "source": [
    "board.available_labels"
   ]
  },
  {
   "cell_type": "code",
   "execution_count": 14,
   "metadata": {},
   "outputs": [
    {
     "data": {
      "text/plain": [
       "ActionSpace([['O', 'free', 'free'],\n",
       "             ['free', 'free', 'free'],\n",
       "             ['free', 'free', 'free']], dtype='<U4')"
      ]
     },
     "execution_count": 14,
     "metadata": {},
     "output_type": "execute_result"
    }
   ],
   "source": [
    "gm.action(\"board\", 1, [0, 0], 'O')\n",
    "board"
   ]
  },
  {
   "cell_type": "markdown",
   "metadata": {},
   "source": [
    "Other actions that do not respect the rules:"
   ]
  },
  {
   "cell_type": "code",
   "execution_count": 15,
   "metadata": {},
   "outputs": [
    {
     "name": "stdout",
     "output_type": "stream",
     "text": [
      "Broke general rule 3: Players cannot play two times consecutively\n",
      "This action is not permitted.\n",
      "\n"
     ]
    },
    {
     "data": {
      "text/plain": [
       "ActionSpace([['O', 'free', 'free'],\n",
       "             ['free', 'free', 'free'],\n",
       "             ['free', 'free', 'free']], dtype='<U4')"
      ]
     },
     "execution_count": 15,
     "metadata": {},
     "output_type": "execute_result"
    }
   ],
   "source": [
    "gm.action(\"board\", 1, [1, 0], 'O')\n",
    "board"
   ]
  },
  {
   "cell_type": "code",
   "execution_count": 16,
   "metadata": {},
   "outputs": [
    {
     "name": "stdout",
     "output_type": "stream",
     "text": [
      "Broke rule 1: The space needs to be free to put a sign on it.\n",
      "This action is not permitted.\n",
      "\n"
     ]
    },
    {
     "data": {
      "text/plain": [
       "ActionSpace([['O', 'free', 'free'],\n",
       "             ['free', 'free', 'free'],\n",
       "             ['free', 'free', 'free']], dtype='<U4')"
      ]
     },
     "execution_count": 16,
     "metadata": {},
     "output_type": "execute_result"
    }
   ],
   "source": [
    "gm.action(\"board\", 0, [0, 0], 'X')\n",
    "board"
   ]
  },
  {
   "cell_type": "code",
   "execution_count": 17,
   "metadata": {},
   "outputs": [
    {
     "name": "stdout",
     "output_type": "stream",
     "text": [
      "Actions are not allowed in this Action Space.\n",
      "This action is not permitted.\n",
      "\n"
     ]
    },
    {
     "data": {
      "text/plain": [
       "ActionSpace([['O', 'free', 'free'],\n",
       "             ['free', 'free', 'free'],\n",
       "             ['free', 'free', 'free']], dtype='<U4')"
      ]
     },
     "execution_count": 17,
     "metadata": {},
     "output_type": "execute_result"
    }
   ],
   "source": [
    "gm.action(\"agent\", 0, 'O', [0,0])\n",
    "board"
   ]
  },
  {
   "cell_type": "code",
   "execution_count": 18,
   "metadata": {},
   "outputs": [
    {
     "name": "stdout",
     "output_type": "stream",
     "text": [
      "Broke general rule 4: Agents can only put their own sign.\n",
      "This action is not permitted.\n",
      "\n"
     ]
    },
    {
     "data": {
      "text/plain": [
       "ActionSpace([['O', 'free', 'free'],\n",
       "             ['free', 'free', 'free'],\n",
       "             ['free', 'free', 'free']], dtype='<U4')"
      ]
     },
     "execution_count": 18,
     "metadata": {},
     "output_type": "execute_result"
    }
   ],
   "source": [
    "gm.action(\"board\", 0, [2, 1], 'O')\n",
    "board"
   ]
  },
  {
   "cell_type": "markdown",
   "metadata": {},
   "source": [
    "## Example of game:"
   ]
  },
  {
   "cell_type": "markdown",
   "metadata": {},
   "source": [
    "It's suggested to make a wrapper definition for actions in the game:"
   ]
  },
  {
   "cell_type": "code",
   "execution_count": 19,
   "metadata": {},
   "outputs": [],
   "source": [
    "def put_sign(player, coordinates):\n",
    "    if player == 0:\n",
    "        sign = 'X'\n",
    "    elif player == 1:\n",
    "        sign = 'O'\n",
    "    else:\n",
    "        raise ValueError(\"Player variable has to be 0 or 1\")\n",
    "\n",
    "    performed = gm.action(\"board\", player, coordinates, sign)\n",
    "\n",
    "    if performed:\n",
    "        print(gm.action_spaces[\"board\"])"
   ]
  },
  {
   "cell_type": "code",
   "execution_count": 20,
   "metadata": {},
   "outputs": [
    {
     "name": "stdout",
     "output_type": "stream",
     "text": [
      "[['O' 'free' 'free']\n",
      " ['free' 'X' 'free']\n",
      " ['free' 'free' 'free']]\n"
     ]
    }
   ],
   "source": [
    "put_sign(0, [1,1])"
   ]
  },
  {
   "cell_type": "code",
   "execution_count": 21,
   "metadata": {},
   "outputs": [
    {
     "name": "stdout",
     "output_type": "stream",
     "text": [
      "Broke general rule 3: Players cannot play two times consecutively\n",
      "This action is not permitted.\n",
      "\n"
     ]
    }
   ],
   "source": [
    "put_sign(0, [0,1])"
   ]
  },
  {
   "cell_type": "code",
   "execution_count": 22,
   "metadata": {},
   "outputs": [
    {
     "name": "stdout",
     "output_type": "stream",
     "text": [
      "[['O' 'free' 'free']\n",
      " ['free' 'X' 'free']\n",
      " ['free' 'free' 'O']]\n"
     ]
    }
   ],
   "source": [
    "put_sign(1, [2,2])"
   ]
  },
  {
   "cell_type": "code",
   "execution_count": 23,
   "metadata": {},
   "outputs": [
    {
     "name": "stdout",
     "output_type": "stream",
     "text": [
      "[['O' 'free' 'free']\n",
      " ['free' 'X' 'free']\n",
      " ['X' 'free' 'O']]\n"
     ]
    }
   ],
   "source": [
    "put_sign(0, [2,0])"
   ]
  },
  {
   "cell_type": "code",
   "execution_count": 24,
   "metadata": {},
   "outputs": [
    {
     "name": "stdout",
     "output_type": "stream",
     "text": [
      "[['O' 'free' 'O']\n",
      " ['free' 'X' 'free']\n",
      " ['X' 'free' 'O']]\n"
     ]
    }
   ],
   "source": [
    "put_sign(1, [0,2])"
   ]
  },
  {
   "cell_type": "code",
   "execution_count": 25,
   "metadata": {},
   "outputs": [
    {
     "data": {
      "text/plain": [
       "False"
      ]
     },
     "execution_count": 25,
     "metadata": {},
     "output_type": "execute_result"
    }
   ],
   "source": [
    "gm.ended"
   ]
  },
  {
   "cell_type": "code",
   "execution_count": 26,
   "metadata": {},
   "outputs": [],
   "source": [
    "previous_board = gm.theoretical_unapply_actions(3)[\"board\"]"
   ]
  },
  {
   "cell_type": "code",
   "execution_count": 27,
   "metadata": {},
   "outputs": [
    {
     "data": {
      "text/plain": [
       "ActionSpace([['O', 'free', 'free'],\n",
       "             ['free', 'X', 'free'],\n",
       "             ['free', 'free', 'O']], dtype='<U4')"
      ]
     },
     "execution_count": 27,
     "metadata": {},
     "output_type": "execute_result"
    }
   ],
   "source": [
    "previous_board"
   ]
  },
  {
   "cell_type": "code",
   "execution_count": 28,
   "metadata": {},
   "outputs": [
    {
     "name": "stdout",
     "output_type": "stream",
     "text": [
      "Broke rule 1: The space needs to be free to put a sign on it.\n",
      "This action is not permitted.\n",
      "\n"
     ]
    }
   ],
   "source": [
    "put_sign(0, [0,0])"
   ]
  },
  {
   "cell_type": "code",
   "execution_count": 29,
   "metadata": {},
   "outputs": [
    {
     "name": "stdout",
     "output_type": "stream",
     "text": [
      "[['O' 'X' 'O']\n",
      " ['free' 'X' 'free']\n",
      " ['X' 'free' 'O']]\n"
     ]
    }
   ],
   "source": [
    "put_sign(0, [0,1])"
   ]
  },
  {
   "cell_type": "code",
   "execution_count": 30,
   "metadata": {},
   "outputs": [
    {
     "name": "stdout",
     "output_type": "stream",
     "text": [
      "[['O' 'X' 'O']\n",
      " ['free' 'X' 'O']\n",
      " ['X' 'free' 'O']]\n"
     ]
    }
   ],
   "source": [
    "put_sign(1, [1,2])"
   ]
  },
  {
   "cell_type": "code",
   "execution_count": 31,
   "metadata": {},
   "outputs": [
    {
     "data": {
      "text/plain": [
       "True"
      ]
     },
     "execution_count": 31,
     "metadata": {},
     "output_type": "execute_result"
    }
   ],
   "source": [
    "gm.ended"
   ]
  },
  {
   "cell_type": "code",
   "execution_count": 32,
   "metadata": {},
   "outputs": [
    {
     "name": "stdout",
     "output_type": "stream",
     "text": [
      "Broke general rule 1: Nothing is allowed if the game is ended.\n",
      "This action is not permitted.\n",
      "\n"
     ]
    }
   ],
   "source": [
    "put_sign(0, [2,1])"
   ]
  }
 ],
 "metadata": {
  "kernelspec": {
   "display_name": "cloudspace",
   "language": "python",
   "name": "python3"
  },
  "language_info": {
   "codemirror_mode": {
    "name": "ipython",
    "version": 3
   },
   "file_extension": ".py",
   "mimetype": "text/x-python",
   "name": "python",
   "nbconvert_exporter": "python",
   "pygments_lexer": "ipython3",
   "version": "3.10.10"
  }
 },
 "nbformat": 4,
 "nbformat_minor": 2
}
