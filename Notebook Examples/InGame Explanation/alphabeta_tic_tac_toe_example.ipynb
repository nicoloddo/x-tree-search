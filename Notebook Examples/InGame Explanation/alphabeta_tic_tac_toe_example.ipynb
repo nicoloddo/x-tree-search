{
 "cells": [
  {
   "cell_type": "code",
   "execution_count": 6,
   "metadata": {},
   "outputs": [],
   "source": [
    "import sys\n",
    "sys.path.append(\"d:\\\\OneDrive - Universiteit Utrecht\\\\Documents\\\\000 - Documenti\\\\PROJECTS\\\\x-tree-search\")"
   ]
  },
  {
   "cell_type": "code",
   "execution_count": 7,
   "metadata": {},
   "outputs": [],
   "source": [
    "from games.tic_tac_toe import TicTacToe, simple_scoring_function\n",
    "from games.game import GameAgent, User\n",
    "from algorithms.minimax import MiniMax\n",
    "from explainers.alphabeta_explainer import AlphaBetaExplainer\n",
    "from src.explainer.explanation_tactics import SkipQuantitativeExplanations"
   ]
  },
  {
   "cell_type": "code",
   "execution_count": 8,
   "metadata": {},
   "outputs": [],
   "source": [
    "explainer = AlphaBetaExplainer()\n",
    "game = TicTacToe(explainer)"
   ]
  },
  {
   "cell_type": "markdown",
   "metadata": {},
   "source": [
    "# Play and Explain"
   ]
  },
  {
   "cell_type": "code",
   "execution_count": 9,
   "metadata": {},
   "outputs": [],
   "source": [
    "opponent = GameAgent(MiniMax(simple_scoring_function, max_depth=6, use_alpha_beta=True), agent_id=0)\n",
    "user = User(agent_id=1, ask_what = False)\n",
    "game.set_players([opponent, user])"
   ]
  },
  {
   "cell_type": "markdown",
   "metadata": {},
   "source": [
    "Simulate few initial moves:"
   ]
  },
  {
   "cell_type": "code",
   "execution_count": 10,
   "metadata": {},
   "outputs": [],
   "source": [
    "game.act({'where' : (0,0), 'who': 1})\n",
    "game.act({'where' : (1,1), 'who': 0})\n",
    "game.act({'where' : (1,0), 'who': 1})"
   ]
  },
  {
   "cell_type": "code",
   "execution_count": 11,
   "metadata": {},
   "outputs": [
    {
     "name": "stdout",
     "output_type": "stream",
     "text": [
      "[['O' ' ' ' ']\n",
      " ['O' 'X' ' ']\n",
      " ['X' ' ' ' ']]\n",
      "\n",
      "Game paused.\n",
      "\n",
      "[['O' ' ' ' ']\n",
      " ['O' 'X' ' ']\n",
      " ['X' ' ' ' ']]\n"
     ]
    }
   ],
   "source": [
    "await game.start_on_jupyter()"
   ]
  },
  {
   "cell_type": "code",
   "execution_count": 12,
   "metadata": {},
   "outputs": [
    {
     "name": "stdout",
     "output_type": "stream",
     "text": [
      "{X in (2, 0), id=0_3} is the best (because\n",
      " \t{X in (2, 0), id=0_3} has possible alternative moves {X in (0, 1), id=0_0}, {X in (0, 2), id=0_1}, {X in (1, 2), id=0_2}, {X in (2, 1), id=0_4}, {X in (2, 2), id=0_5}\n",
      "\tand {X in (2, 0), id=0_3} is better or equal than {X in (0, 1), id=0_0}, {X in (0, 2), id=0_1}, {X in (1, 2), id=0_2}, {X in (2, 1), id=0_4}, {X in (2, 2), id=0_5} (because\n",
      "\t \t\t{X in (2, 0), id=0_3} is opponent player turn\n",
      "\t\t\tand {X in (2, 0), id=0_3} has as next move {O in (0, 2), id=0_3_1}\n",
      "\t\t\tand {O in (0, 2), id=0_3_1} has as next move {X in (0, 1), id=0_3_1_0}\n",
      "\t\t\tand {X in (0, 1), id=0_3_1_0} has as next move {O in (2, 1), id=0_3_1_0_1}\n",
      "\t\t\tand {O in (2, 1), id=0_3_1_0_1} has as next move {X in (1, 2), id=0_3_1_0_1_0}\n",
      "\t\t\tand {X in (1, 2), id=0_3_1_0_1_0} has as next move {O in (2, 2), id=0_3_1_0_1_0_0}\n",
      "\t\t\tand {O in (2, 2), id=0_3_1_0_1_0_0} is final move\n",
      "\t\t\tand {O in (2, 2), id=0_3_1_0_1_0_0} is not fully searched\n",
      "\t\t\tand {X in (0, 1), id=0_0} is opponent player turn\n",
      "\t\t\tand {X in (0, 1), id=0_0} has as next move {O in (2, 0), id=0_0_2}\n",
      "\t\t\tand {O in (2, 0), id=0_0_2} is final move\n",
      "\t\t\tand {X in (0, 2), id=0_1} is opponent player turn\n",
      "\t\t\tand {X in (0, 2), id=0_1} has as next possible move {O in (2, 0), id=0_1_2}\n",
      "\t\t\tand {O in (2, 0), id=0_1_2} is worse than the alternative coming from {X in (2, 0), id=0_3}\n",
      "\t\t\tand (assumption) The opponent can choose to do this move, or something even worse for us.\n",
      "\t\t\tand {X in (1, 2), id=0_2} is opponent player turn\n",
      "\t\t\tand {X in (1, 2), id=0_2} has as next possible move {O in (0, 1), id=0_2_0}\n",
      "\t\t\tand {O in (0, 1), id=0_2_0} is worse than the alternative coming from {X in (2, 0), id=0_3}\n",
      "\t\t\tand (assumption) The opponent can choose to do this move, or something even worse for us.\n",
      "\t\t\tand {X in (2, 1), id=0_4} is opponent player turn\n",
      "\t\t\tand {X in (2, 1), id=0_4} has as next possible move {O in (0, 1), id=0_4_0}\n",
      "\t\t\tand {O in (0, 1), id=0_4_0} is worse than the alternative coming from {X in (2, 0), id=0_3}\n",
      "\t\t\tand (assumption) The opponent can choose to do this move, or something even worse for us.\n",
      "\t\t\tand {X in (2, 2), id=0_5} is opponent player turn\n",
      "\t\t\tand {X in (2, 2), id=0_5} has as next possible move {O in (0, 1), id=0_5_0}\n",
      "\t\t\tand {O in (0, 1), id=0_5_0} is worse than the alternative coming from {X in (2, 0), id=0_3}\n",
      "\t\t\tand (assumption) The opponent can choose to do this move, or something even worse for us.))\n"
     ]
    }
   ],
   "source": [
    "explainer.add_explanation_tactic(SkipQuantitativeExplanations(), to_framework='highlevel')\n",
    "explainer.explain_adjective(opponent.choice, 'the best', explanation_depth=4, with_framework='highlevel')"
   ]
  },
  {
   "cell_type": "code",
   "execution_count": 13,
   "metadata": {},
   "outputs": [
    {
     "name": "stdout",
     "output_type": "stream",
     "text": [
      "{X in (2, 0), id=0_3} is the best (because\n",
      " \t{X in (2, 0), id=0_3} has possible alternative moves {X in (0, 1), id=0_0}, {X in (0, 2), id=0_1}, {X in (1, 2), id=0_2}, {X in (2, 1), id=0_4}, {X in (2, 2), id=0_5}\n",
      "\tand {X in (2, 0), id=0_3} is better or equal than {X in (0, 1), id=0_0}, {X in (0, 2), id=0_1}, {X in (1, 2), id=0_2}, {X in (2, 1), id=0_4}, {X in (2, 2), id=0_5} (because\n",
      "\t \t\t{X in (2, 0), id=0_3} has score 0 (because\n",
      "\t\t\t \t\t\t{X in (2, 0), id=0_3} is opponent player turn\n",
      "\t\t\t\t\t\tand {X in (2, 0), id=0_3} has as next move {O in (0, 2), id=0_3_1}\n",
      "\t\t\t\t\t\tand {O in (0, 2), id=0_3_1} has as next move {X in (0, 1), id=0_3_1_0}\n",
      "\t\t\t\t\t\tand {X in (0, 1), id=0_3_1_0} has as next move {O in (2, 1), id=0_3_1_0_1}\n",
      "\t\t\t\t\t\tand {O in (2, 1), id=0_3_1_0_1} has as next move {X in (1, 2), id=0_3_1_0_1_0}\n",
      "\t\t\t\t\t\tand {X in (1, 2), id=0_3_1_0_1_0} has as next move {O in (2, 2), id=0_3_1_0_1_0_0}\n",
      "\t\t\t\t\t\tand {O in (2, 2), id=0_3_1_0_1_0_0} is final move\n",
      "\t\t\t\t\t\tand {O in (2, 2), id=0_3_1_0_1_0_0} is not fully searched)\n",
      "\t\t\tand {X in (0, 1), id=0_0} has score -100 (because\n",
      "\t\t\t \t\t\t{X in (0, 1), id=0_0} is opponent player turn\n",
      "\t\t\t\t\t\tand {X in (0, 1), id=0_0} has as next move {O in (2, 0), id=0_0_2}\n",
      "\t\t\t\t\t\tand {O in (2, 0), id=0_0_2} is final move)\n",
      "\t\t\tand {X in (0, 2), id=0_1} has score -100 (because\n",
      "\t\t\t \t\t\t{X in (0, 2), id=0_1} is opponent player turn\n",
      "\t\t\t\t\t\tand {X in (0, 2), id=0_1} has as next possible move {O in (2, 0), id=0_1_2}\n",
      "\t\t\t\t\t\tand {O in (2, 0), id=0_1_2} is worse than the alternative coming from {X in (2, 0), id=0_3} (because\n",
      "\t\t\t\t\t\t \t\t\t\t{O in (2, 0), id=0_1_2} has score -100\n",
      "\t\t\t\t\t\t\t\t\t\tand {X in (2, 0), id=0_3} has score 0)\n",
      "\t\t\t\t\t\tand (assumption) The opponent can choose to do this move, or something even worse for us.)\n",
      "\t\t\tand {X in (1, 2), id=0_2} has score -100 (because\n",
      "\t\t\t \t\t\t{X in (1, 2), id=0_2} is opponent player turn\n",
      "\t\t\t\t\t\tand {X in (1, 2), id=0_2} has as next possible move {O in (0, 1), id=0_2_0}\n",
      "\t\t\t\t\t\tand {O in (0, 1), id=0_2_0} is worse than the alternative coming from {X in (2, 0), id=0_3} (because\n",
      "\t\t\t\t\t\t \t\t\t\t{O in (0, 1), id=0_2_0} has score -100\n",
      "\t\t\t\t\t\t\t\t\t\tand {X in (2, 0), id=0_3} has score 0)\n",
      "\t\t\t\t\t\tand (assumption) The opponent can choose to do this move, or something even worse for us.)\n",
      "\t\t\tand {X in (2, 1), id=0_4} has score -100 (because\n",
      "\t\t\t \t\t\t{X in (2, 1), id=0_4} is opponent player turn\n",
      "\t\t\t\t\t\tand {X in (2, 1), id=0_4} has as next possible move {O in (0, 1), id=0_4_0}\n",
      "\t\t\t\t\t\tand {O in (0, 1), id=0_4_0} is worse than the alternative coming from {X in (2, 0), id=0_3} (because\n",
      "\t\t\t\t\t\t \t\t\t\t{O in (0, 1), id=0_4_0} has score -100\n",
      "\t\t\t\t\t\t\t\t\t\tand {X in (2, 0), id=0_3} has score 0)\n",
      "\t\t\t\t\t\tand (assumption) The opponent can choose to do this move, or something even worse for us.)\n",
      "\t\t\tand {X in (2, 2), id=0_5} has score -100 (because\n",
      "\t\t\t \t\t\t{X in (2, 2), id=0_5} is opponent player turn\n",
      "\t\t\t\t\t\tand {X in (2, 2), id=0_5} has as next possible move {O in (0, 1), id=0_5_0}\n",
      "\t\t\t\t\t\tand {O in (0, 1), id=0_5_0} is worse than the alternative coming from {X in (2, 0), id=0_3} (because\n",
      "\t\t\t\t\t\t \t\t\t\t{O in (0, 1), id=0_5_0} has score -100\n",
      "\t\t\t\t\t\t\t\t\t\tand {X in (2, 0), id=0_3} has score 0)\n",
      "\t\t\t\t\t\tand (assumption) The opponent can choose to do this move, or something even worse for us.)))\n"
     ]
    }
   ],
   "source": [
    "explainer.del_explanation_tactic('SkipQuantitativeExplanations', to_framework='highlevel')\n",
    "explainer.explain_adjective(opponent.choice, 'the best', explanation_depth=4, with_framework='highlevel')"
   ]
  }
 ],
 "metadata": {
  "kernelspec": {
   "display_name": "Python 3",
   "language": "python",
   "name": "python3"
  },
  "language_info": {
   "codemirror_mode": {
    "name": "ipython",
    "version": 3
   },
   "file_extension": ".py",
   "mimetype": "text/x-python",
   "name": "python",
   "nbconvert_exporter": "python",
   "pygments_lexer": "ipython3",
   "version": "3.11.9"
  }
 },
 "nbformat": 4,
 "nbformat_minor": 2
}
