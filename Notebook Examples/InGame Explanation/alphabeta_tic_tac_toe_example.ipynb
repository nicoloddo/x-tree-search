{
 "cells": [
  {
   "cell_type": "code",
   "execution_count": 1,
   "metadata": {},
   "outputs": [],
   "source": [
    "from games.tic_tac_toe import TicTacToe, simple_scoring_function, simple_depth_dependant_scoring_function\n",
    "from src.game.agents import AIAgent, User\n",
    "from algorithms.minimax import MiniMax\n",
    "from explainers.alphabeta_explainer import AlphaBetaExplainer\n",
    "from games.tic_tac_toe.interface.gradio_interface import TicTacToeGradioInterface"
   ]
  },
  {
   "cell_type": "code",
   "execution_count": 2,
   "metadata": {},
   "outputs": [],
   "source": [
    "interface_mode = 'gradio'"
   ]
  },
  {
   "cell_type": "code",
   "execution_count": 3,
   "metadata": {},
   "outputs": [],
   "source": [
    "explainer = AlphaBetaExplainer()\n",
    "\n",
    "opponent = AIAgent(agent_id=0, core=MiniMax(simple_depth_dependant_scoring_function, max_depth=6, use_alpha_beta=True))\n",
    "game = TicTacToe(players=[opponent, User(agent_id=1)],\n",
    "                interface_mode=interface_mode, \n",
    "                interface_hyperlink_mode=True)\n",
    "\n",
    "if interface_mode == 'gradio': # We need to start the interface externally\n",
    "    game.explaining_agent = opponent\n",
    "    interface = TicTacToeGradioInterface(game=game, explainer=explainer)"
   ]
  },
  {
   "cell_type": "markdown",
   "metadata": {},
   "source": [
    "Simulate few initial moves:"
   ]
  },
  {
   "cell_type": "code",
   "execution_count": 4,
   "metadata": {},
   "outputs": [],
   "source": [
    "simulate_initial_moves = False\n",
    "if simulate_initial_moves:\n",
    "    game.act({'where' : (0,0), 'who': 1})\n",
    "    game.act({'where' : (1,1), 'who': 0})\n",
    "    game.act({'where' : (1,0), 'who': 1})"
   ]
  },
  {
   "cell_type": "markdown",
   "metadata": {},
   "source": [
    "# Play and Explain"
   ]
  },
  {
   "cell_type": "code",
   "execution_count": 5,
   "metadata": {},
   "outputs": [
    {
     "name": "stdout",
     "output_type": "stream",
     "text": [
      "Running on local URL:  http://127.0.0.1:7860\n",
      "\n",
      "To create a public link, set `share=True` in `launch()`.\n"
     ]
    },
    {
     "data": {
      "text/html": [
       "<div><iframe src=\"http://127.0.0.1:7860/\" width=\"100%\" height=\"500\" allow=\"autoplay; camera; microphone; clipboard-read; clipboard-write;\" frameborder=\"0\" allowfullscreen></iframe></div>"
      ],
      "text/plain": [
       "<IPython.core.display.HTML object>"
      ]
     },
     "metadata": {},
     "output_type": "display_data"
    },
    {
     "name": "stderr",
     "output_type": "stream",
     "text": [
      "d:\\OneDrive - Universiteit Utrecht\\Documents\\000 - Documenti\\PROJECTS\\x-tree-search\\.conda\\Lib\\site-packages\\gradio\\analytics.py:106: UserWarning: IMPORTANT: You are using gradio version 4.44.0, however version 5.0.1 is available, please upgrade. \n",
      "--------\n",
      "  warnings.warn(\n"
     ]
    }
   ],
   "source": [
    "if interface_mode == 'jupyter':\n",
    "    await game.start_game()\n",
    "else:\n",
    "    interface.start()"
   ]
  },
  {
   "cell_type": "code",
   "execution_count": 10,
   "metadata": {},
   "outputs": [],
   "source": [
    "if game.interface_mode == 'jupyter' and opponent.choice is not None:\n",
    "    explanation = explainer.explain(opponent.choice, 'the best') # can also modify explanation_depth=4, or print_depth=True\n",
    "    print(explanation)"
   ]
  },
  {
   "cell_type": "code",
   "execution_count": 7,
   "metadata": {},
   "outputs": [],
   "source": [
    "if game.interface_mode == 'jupyter' and opponent.choice is not None:\n",
    "    explainer.frameworks['highlevel'].get_adjective('score').skip_statement = False\n",
    "    explanation = explainer.explain(opponent.choice, 'the best') # can also modify explanation_depth=4, or print_depth=True\n",
    "    print(explanation)"
   ]
  },
  {
   "cell_type": "markdown",
   "metadata": {},
   "source": [
    "Print tree for debugging reasons:"
   ]
  },
  {
   "cell_type": "code",
   "execution_count": 11,
   "metadata": {},
   "outputs": [],
   "source": [
    "if game.interface_mode == 'jupyter' and opponent.choice is not None:\n",
    "    opponent.core.print_tree()"
   ]
  }
 ],
 "metadata": {
  "kernelspec": {
   "display_name": "Python 3",
   "language": "python",
   "name": "python3"
  },
  "language_info": {
   "codemirror_mode": {
    "name": "ipython",
    "version": 3
   },
   "file_extension": ".py",
   "mimetype": "text/x-python",
   "name": "python",
   "nbconvert_exporter": "python",
   "pygments_lexer": "ipython3",
   "version": "3.11.9"
  }
 },
 "nbformat": 4,
 "nbformat_minor": 2
}
