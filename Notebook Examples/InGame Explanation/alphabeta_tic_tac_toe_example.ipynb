{
 "cells": [
  {
   "cell_type": "code",
   "execution_count": 1,
   "metadata": {},
   "outputs": [],
   "source": [
    "import sys\n",
    "sys.path.append(\"d:\\\\OneDrive - Universiteit Utrecht\\\\Documents\\\\000 - Documenti\\\\PROJECTS\\\\x-tree-search\")"
   ]
  },
  {
   "cell_type": "code",
   "execution_count": 2,
   "metadata": {},
   "outputs": [],
   "source": [
    "from games.tic_tac_toe import TicTacToe, simple_scoring_function\n",
    "from games.game import GameAgent, User\n",
    "from algorithms.minimax import MiniMax\n",
    "from explainers.alphabeta_explainer import AlphaBetaExplainer\n",
    "from src.explainer.explanation_tactics import SkipQuantitativeExplanations"
   ]
  },
  {
   "cell_type": "code",
   "execution_count": 3,
   "metadata": {},
   "outputs": [],
   "source": [
    "explainer = AlphaBetaExplainer()\n",
    "game = TicTacToe()"
   ]
  },
  {
   "cell_type": "code",
   "execution_count": 4,
   "metadata": {},
   "outputs": [],
   "source": [
    "opponent = GameAgent(MiniMax(simple_scoring_function, max_depth=6, use_alpha_beta=True), agent_id=0)\n",
    "user = User(agent_id=1, ask_what = False)\n",
    "game.set_players([opponent, user])"
   ]
  },
  {
   "cell_type": "code",
   "execution_count": 5,
   "metadata": {},
   "outputs": [],
   "source": [
    "user.jupyter_interactive = True"
   ]
  },
  {
   "cell_type": "markdown",
   "metadata": {},
   "source": [
    "Simulate few initial moves:"
   ]
  },
  {
   "cell_type": "code",
   "execution_count": 6,
   "metadata": {},
   "outputs": [],
   "source": [
    "game.act({'where' : (0,0), 'who': 1})\n",
    "game.act({'where' : (1,1), 'who': 0})\n",
    "game.act({'where' : (1,0), 'who': 1})"
   ]
  },
  {
   "cell_type": "code",
   "execution_count": 7,
   "metadata": {},
   "outputs": [
    {
     "data": {
      "text/plain": [
       "True"
      ]
     },
     "execution_count": 7,
     "metadata": {},
     "output_type": "execute_result"
    }
   ],
   "source": [
    "game.gm.started"
   ]
  },
  {
   "cell_type": "markdown",
   "metadata": {},
   "source": [
    "# Play and Explain"
   ]
  },
  {
   "cell_type": "code",
   "execution_count": 8,
   "metadata": {},
   "outputs": [
    {
     "data": {
      "application/vnd.jupyter.widget-view+json": {
       "model_id": "035ac65dbbcf451689b544c01cb99382",
       "version_major": 2,
       "version_minor": 0
      },
      "text/plain": [
       "VBox(children=(GridBox(children=(Button(description='O', layout=Layout(border_bottom='1px solid black', border…"
      ]
     },
     "metadata": {},
     "output_type": "display_data"
    }
   ],
   "source": [
    "await game.start_on_jupyter()"
   ]
  },
  {
   "cell_type": "code",
   "execution_count": 11,
   "metadata": {},
   "outputs": [
    {
     "name": "stdout",
     "output_type": "stream",
     "text": [
      "{X in (2, 1), id=0_1} is the best (because\n",
      " \t{X in (2, 1), id=0_1} has possible alternative moves {X in (1, 2), id=0_0}\n",
      "\tand {X in (2, 1), id=0_1} is better or equal than {X in (1, 2), id=0_0} (because\n",
      "\t \t\t{X in (2, 1), id=0_1} is final move\n",
      "\t\t\tand (assumption) final moves are evaluated only looking at the final position\n",
      "\t\t\tand {X in (1, 2), id=0_0} is opponent player turn\n",
      "\t\t\tand {X in (1, 2), id=0_0} has as next move {O in (2, 1), id=0_0_0}\n",
      "\t\t\tand {O in (2, 1), id=0_0_0} is final move))\n"
     ]
    }
   ],
   "source": [
    "explainer.add_explanation_tactic(SkipQuantitativeExplanations(), to_framework='highlevel')\n",
    "explainer.explain_adjective(opponent.choice, 'the best', explanation_depth=4, with_framework='highlevel')"
   ]
  },
  {
   "cell_type": "code",
   "execution_count": 12,
   "metadata": {},
   "outputs": [
    {
     "name": "stdout",
     "output_type": "stream",
     "text": [
      "{X in (2, 1), id=0_1} is the best (because\n",
      " \t{X in (2, 1), id=0_1} has possible alternative moves {X in (1, 2), id=0_0}\n",
      "\tand {X in (2, 1), id=0_1} is better or equal than {X in (1, 2), id=0_0} (because\n",
      "\t \t\t{X in (2, 1), id=0_1} has score 100 (because\n",
      "\t\t\t \t\t\t{X in (2, 1), id=0_1} is final move\n",
      "\t\t\t\t\t\tand (assumption) final moves are evaluated only looking at the final position)\n",
      "\t\t\tand {X in (1, 2), id=0_0} has score 0 (because\n",
      "\t\t\t \t\t\t{X in (1, 2), id=0_0} is opponent player turn\n",
      "\t\t\t\t\t\tand {X in (1, 2), id=0_0} has as next move {O in (2, 1), id=0_0_0}\n",
      "\t\t\t\t\t\tand {O in (2, 1), id=0_0_0} is final move)))\n"
     ]
    }
   ],
   "source": [
    "explainer.del_explanation_tactic('SkipQuantitativeExplanations', to_framework='highlevel')\n",
    "explainer.explain_adjective(opponent.choice, 'the best', explanation_depth=4, with_framework='highlevel')"
   ]
  }
 ],
 "metadata": {
  "kernelspec": {
   "display_name": "Python 3",
   "language": "python",
   "name": "python3"
  },
  "language_info": {
   "codemirror_mode": {
    "name": "ipython",
    "version": 3
   },
   "file_extension": ".py",
   "mimetype": "text/x-python",
   "name": "python",
   "nbconvert_exporter": "python",
   "pygments_lexer": "ipython3",
   "version": "3.11.9"
  }
 },
 "nbformat": 4,
 "nbformat_minor": 2
}
