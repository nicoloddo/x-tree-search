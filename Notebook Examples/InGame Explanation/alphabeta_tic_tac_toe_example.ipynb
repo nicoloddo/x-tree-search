{
 "cells": [
  {
   "cell_type": "code",
   "execution_count": 11,
   "metadata": {},
   "outputs": [],
   "source": [
    "from games.tic_tac_toe import TicTacToe, simple_scoring_function, simple_depth_dependant_scoring_function\n",
    "from src.game.agents import AIAgent, User\n",
    "from algorithms.minimax import MiniMax\n",
    "from explainers.alphabeta_explainer import AlphaBetaExplainer\n",
    "from games.tic_tac_toe.interface.gradio_interface import TicTacToeGradioInterface"
   ]
  },
  {
   "cell_type": "code",
   "execution_count": 12,
   "metadata": {},
   "outputs": [],
   "source": [
    "interface_mode = 'jupyter'"
   ]
  },
  {
   "cell_type": "code",
   "execution_count": 13,
   "metadata": {},
   "outputs": [],
   "source": [
    "explainer = AlphaBetaExplainer()\n",
    "\n",
    "opponent = AIAgent(agent_id=0, core=MiniMax(simple_depth_dependant_scoring_function, max_depth=6, use_alpha_beta=True))\n",
    "game = TicTacToe(players=[opponent, User(agent_id=1)],\n",
    "                interface_mode=interface_mode, \n",
    "                interface_hyperlink_mode=interface_mode == 'gradio')\n",
    "\n",
    "if interface_mode == 'gradio': # We need to start the interface externally\n",
    "    game.explaining_agent = opponent\n",
    "    interface = TicTacToeGradioInterface(game=game, explainer=explainer)"
   ]
  },
  {
   "cell_type": "markdown",
   "metadata": {},
   "source": [
    "Simulate few initial moves:"
   ]
  },
  {
   "cell_type": "code",
   "execution_count": 14,
   "metadata": {},
   "outputs": [],
   "source": [
    "simulate_initial_moves = False\n",
    "if simulate_initial_moves:\n",
    "    game.act({'where' : (0,0), 'who': 1})\n",
    "    game.act({'where' : (1,1), 'who': 0})\n",
    "    game.act({'where' : (1,0), 'who': 1})"
   ]
  },
  {
   "cell_type": "markdown",
   "metadata": {},
   "source": [
    "# Play and Explain"
   ]
  },
  {
   "cell_type": "code",
   "execution_count": 15,
   "metadata": {},
   "outputs": [
    {
     "data": {
      "application/vnd.jupyter.widget-view+json": {
       "model_id": "aa3c7611e479406e94d541d840ad5d19",
       "version_major": 2,
       "version_minor": 0
      },
      "text/plain": [
       "VBox(children=(GridBox(children=(Button(layout=Layout(border_bottom='1px solid black', border_left='1px solid …"
      ]
     },
     "metadata": {},
     "output_type": "display_data"
    }
   ],
   "source": [
    "if interface_mode == 'jupyter':\n",
    "    await game.start_game()\n",
    "else:\n",
    "    interface.start()"
   ]
  },
  {
   "cell_type": "code",
   "execution_count": 19,
   "metadata": {},
   "outputs": [
    {
     "name": "stdout",
     "output_type": "stream",
     "text": [
      "[[' ' ' ' ' ']\n",
      " [' ' ' ' ' ']\n",
      " [' ' ' ' 'X']] is the context\n",
      "and \n",
      "[[' ' ' ' ' ']\n",
      " [' ' 'O' ' ']\n",
      " [' ' ' ' 'X']] O in (1, 1), id=0_4 is the best for me (in this context) (because\n",
      " \n",
      "\t[[' ' ' ' ' ']\n",
      "\t [' ' 'O' ' ']\n",
      "\t [' ' ' ' 'X']] O in (1, 1), id=0_4 has possible alternative moves \n",
      "\t[['O' ' ' ' ']\n",
      "\t [' ' ' ' ' ']\n",
      "\t [' ' ' ' 'X']] O in (0, 0), id=0_0, \n",
      "\t[[' ' 'O' ' ']\n",
      "\t [' ' ' ' ' ']\n",
      "\t [' ' ' ' 'X']] O in (0, 1), id=0_1, \n",
      "\t[[' ' ' ' 'O']\n",
      "\t [' ' ' ' ' ']\n",
      "\t [' ' ' ' 'X']] O in (0, 2), id=0_2, \n",
      "\t[[' ' ' ' ' ']\n",
      "\t ['O' ' ' ' ']\n",
      "\t [' ' ' ' 'X']] O in (1, 0), id=0_3, \n",
      "\t[[' ' ' ' ' ']\n",
      "\t [' ' ' ' 'O']\n",
      "\t [' ' ' ' 'X']] O in (1, 2), id=0_5, \n",
      "\t[[' ' ' ' ' ']\n",
      "\t [' ' ' ' ' ']\n",
      "\t ['O' ' ' 'X']] O in (2, 0), id=0_6, \n",
      "\t[[' ' ' ' ' ']\n",
      "\t [' ' ' ' ' ']\n",
      "\t [' ' 'O' 'X']] O in (2, 1), id=0_7\n",
      "\tand \n",
      "\t[[' ' ' ' ' ']\n",
      "\t [' ' 'O' ' ']\n",
      "\t [' ' ' ' 'X']] O in (1, 1), id=0_4 is better for me than \n",
      "\t[['O' ' ' ' ']\n",
      "\t [' ' ' ' ' ']\n",
      "\t [' ' ' ' 'X']] O in (0, 0), id=0_0, \n",
      "\t[[' ' 'O' ' ']\n",
      "\t [' ' ' ' ' ']\n",
      "\t [' ' ' ' 'X']] O in (0, 1), id=0_1, \n",
      "\t[[' ' ' ' 'O']\n",
      "\t [' ' ' ' ' ']\n",
      "\t [' ' ' ' 'X']] O in (0, 2), id=0_2, \n",
      "\t[[' ' ' ' ' ']\n",
      "\t ['O' ' ' ' ']\n",
      "\t [' ' ' ' 'X']] O in (1, 0), id=0_3 (because\n",
      "\t \t\t(assumption) We assume the opponent will do their best move and us our best move.\n",
      "\t\t\tand \n",
      "\t\t\t[[' ' ' ' ' ']\n",
      "\t\t\t [' ' 'O' ' ']\n",
      "\t\t\t [' ' ' ' 'X']] O in (1, 1), id=0_4 has as next move \n",
      "\t\t\t[['X' ' ' ' ']\n",
      "\t\t\t [' ' 'O' ' ']\n",
      "\t\t\t [' ' ' ' 'X']] X in (0, 0), id=0_4_0\n",
      "\t\t\tand this has as next move \n",
      "\t\t\t[['X' 'O' ' ']\n",
      "\t\t\t [' ' 'O' ' ']\n",
      "\t\t\t [' ' ' ' 'X']] O in (0, 1), id=0_4_0_0\n",
      "\t\t\tand this has as next move \n",
      "\t\t\t[['X' 'O' ' ']\n",
      "\t\t\t [' ' 'O' ' ']\n",
      "\t\t\t [' ' 'X' 'X']] X in (2, 1), id=0_4_0_0_4\n",
      "\t\t\tand this has as next move \n",
      "\t\t\t[['X' 'O' ' ']\n",
      "\t\t\t [' ' 'O' ' ']\n",
      "\t\t\t ['O' 'X' 'X']] O in (2, 0), id=0_4_0_0_4_3\n",
      "\t\t\tand this has as next move \n",
      "\t\t\t[['X' 'O' 'X']\n",
      "\t\t\t [' ' 'O' ' ']\n",
      "\t\t\t ['O' 'X' 'X']] X in (0, 2), id=0_4_0_0_4_3_0\n",
      "\t\t\tand \n",
      "\t\t\t[['X' 'O' 'X']\n",
      "\t\t\t [' ' 'O' ' ']\n",
      "\t\t\t ['O' 'X' 'X']] X in (0, 2), id=0_4_0_0_4_3_0 is the most forward in the future I looked\n",
      "\t\t\tand (assumption) We assume the opponent will do their best move and us our best move.\n",
      "\t\t\tand \n",
      "\t\t\t[['O' ' ' ' ']\n",
      "\t\t\t [' ' ' ' ' ']\n",
      "\t\t\t [' ' ' ' 'X']] O in (0, 0), id=0_0 has as next move \n",
      "\t\t\t[['O' ' ' 'X']\n",
      "\t\t\t [' ' ' ' ' ']\n",
      "\t\t\t [' ' ' ' 'X']] X in (0, 2), id=0_0_1\n",
      "\t\t\tand this has as next move \n",
      "\t\t\t[['O' ' ' 'X']\n",
      "\t\t\t [' ' ' ' 'O']\n",
      "\t\t\t [' ' ' ' 'X']] O in (1, 2), id=0_0_1_3\n",
      "\t\t\tand this has as next move \n",
      "\t\t\t[['O' ' ' 'X']\n",
      "\t\t\t [' ' ' ' 'O']\n",
      "\t\t\t ['X' ' ' 'X']] X in (2, 0), id=0_0_1_3_3\n",
      "\t\t\tand this has as next move \n",
      "\t\t\t[['O' 'O' 'X']\n",
      "\t\t\t [' ' ' ' 'O']\n",
      "\t\t\t ['X' ' ' 'X']] O in (0, 1), id=0_0_1_3_3_0\n",
      "\t\t\tand this has as next move \n",
      "\t\t\t[['O' 'O' 'X']\n",
      "\t\t\t [' ' 'X' 'O']\n",
      "\t\t\t ['X' ' ' 'X']] X in (1, 1), id=0_0_1_3_3_0_1\n",
      "\t\t\tand \n",
      "\t\t\t[['O' 'O' 'X']\n",
      "\t\t\t [' ' 'X' 'O']\n",
      "\t\t\t ['X' ' ' 'X']] X in (1, 1), id=0_0_1_3_3_0_1 is a loss (because\n",
      "\t\t\t \t\t\t\t(assumption) That's how you lose in this game!)\n",
      "\t\t\tand \n",
      "\t\t\t[[' ' 'O' ' ']\n",
      "\t\t\t [' ' ' ' ' ']\n",
      "\t\t\t [' ' ' ' 'X']] O in (0, 1), id=0_1 has as next possible move \n",
      "\t\t\t[[' ' 'O' 'X']\n",
      "\t\t\t [' ' ' ' ' ']\n",
      "\t\t\t [' ' ' ' 'X']] X in (0, 2), id=0_1_1\n",
      "\t\t\tand \n",
      "\t\t\t[[' ' 'O' ' ']\n",
      "\t\t\t [' ' ' ' ' ']\n",
      "\t\t\t [' ' ' ' 'X']] O in (0, 1), id=0_1, \n",
      "\t\t\t[[' ' ' ' 'O']\n",
      "\t\t\t [' ' ' ' ' ']\n",
      "\t\t\t [' ' ' ' 'X']] O in (0, 2), id=0_2, \n",
      "\t\t\t[[' ' ' ' ' ']\n",
      "\t\t\t ['O' ' ' ' ']\n",
      "\t\t\t [' ' ' ' 'X']] O in (1, 0), id=0_3 are not worth exploring after checking the first possible next move (because\n",
      "\t\t\t \t\t\t\t(assumption) The opponent can choose to do this possible next move, or something even worse for me.\n",
      "\t\t\t\t\t\t\tand \n",
      "\t\t\t\t\t\t\t[[' ' 'O' 'X']\n",
      "\t\t\t\t\t\t\t [' ' ' ' ' ']\n",
      "\t\t\t\t\t\t\t [' ' ' ' 'X']] X in (0, 2), id=0_1_1 is already worse for me than the alternative coming after \n",
      "\t\t\t\t\t\t\t[[' ' ' ' ' ']\n",
      "\t\t\t\t\t\t\t [' ' 'O' ' ']\n",
      "\t\t\t\t\t\t\t [' ' ' ' 'X']] O in (1, 1), id=0_4))\n",
      "\tand \n",
      "\t[[' ' ' ' ' ']\n",
      "\t [' ' 'O' ' ']\n",
      "\t [' ' ' ' 'X']] O in (1, 1), id=0_4 is at least equal to \n",
      "\t[[' ' ' ' ' ']\n",
      "\t [' ' ' ' 'O']\n",
      "\t [' ' ' ' 'X']] O in (1, 2), id=0_5, \n",
      "\t[[' ' ' ' ' ']\n",
      "\t [' ' ' ' ' ']\n",
      "\t ['O' ' ' 'X']] O in (2, 0), id=0_6, \n",
      "\t[[' ' ' ' ' ']\n",
      "\t [' ' ' ' ' ']\n",
      "\t [' ' 'O' 'X']] O in (2, 1), id=0_7 (because\n",
      " \n",
      "\t\t\t[[' ' ' ' ' ']\n",
      "\t\t\t [' ' ' ' 'O']\n",
      "\t\t\t [' ' ' ' 'X']] O in (1, 2), id=0_5, \n",
      "\t\t\t[[' ' ' ' ' ']\n",
      "\t\t\t [' ' ' ' ' ']\n",
      "\t\t\t ['O' ' ' 'X']] O in (2, 0), id=0_6, \n",
      "\t\t\t[[' ' ' ' ' ']\n",
      "\t\t\t [' ' ' ' ' ']\n",
      "\t\t\t [' ' 'O' 'X']] O in (2, 1), id=0_7 have as next possible move \n",
      "\t\t\t[['X' ' ' ' ']\n",
      "\t\t\t [' ' ' ' 'O']\n",
      "\t\t\t [' ' ' ' 'X']] X in (0, 0), id=0_5_0\n",
      "\t\t\tand \n",
      "\t\t\t[[' ' ' ' ' ']\n",
      "\t\t\t [' ' ' ' 'O']\n",
      "\t\t\t [' ' ' ' 'X']] O in (1, 2), id=0_5, \n",
      "\t\t\t[[' ' ' ' ' ']\n",
      "\t\t\t [' ' ' ' ' ']\n",
      "\t\t\t ['O' ' ' 'X']] O in (2, 0), id=0_6, \n",
      "\t\t\t[[' ' ' ' ' ']\n",
      "\t\t\t [' ' ' ' ' ']\n",
      "\t\t\t [' ' 'O' 'X']] O in (2, 1), id=0_7 are not worth exploring after checking the first possible next move (because\n",
      "\t\t\t \t\t\t\t(assumption) The opponent can choose to do this possible next move, or something even worse for me.\n",
      "\t\t\t\t\t\t\tand \n",
      "\t\t\t\t\t\t\t[['X' ' ' ' ']\n",
      "\t\t\t\t\t\t\t [' ' ' ' 'O']\n",
      "\t\t\t\t\t\t\t [' ' ' ' 'X']] X in (0, 0), id=0_5_0 is already equal to the alternative coming after \n",
      "\t\t\t\t\t\t\t[[' ' ' ' ' ']\n",
      "\t\t\t\t\t\t\t [' ' 'O' ' ']\n",
      "\t\t\t\t\t\t\t [' ' ' ' 'X']] O in (1, 1), id=0_4)))\n"
     ]
    }
   ],
   "source": [
    "if game.interface_mode == 'jupyter' and opponent.choice is not None:\n",
    "    explanation = explainer.explain(opponent.choice, 'the best') # can also modify explanation_depth=4, or print_depth=True\n",
    "    print(explanation)"
   ]
  },
  {
   "cell_type": "code",
   "execution_count": 17,
   "metadata": {},
   "outputs": [],
   "source": [
    "if game.interface_mode == 'jupyter' and opponent.choice is not None:\n",
    "    explainer.frameworks['highlevel'].get_adjective('score').skip_statement = False\n",
    "    explanation = explainer.explain(opponent.choice, 'the best') # can also modify explanation_depth=4, or print_depth=True\n",
    "    print(explanation)"
   ]
  },
  {
   "cell_type": "markdown",
   "metadata": {},
   "source": [
    "Print tree for debugging reasons:"
   ]
  },
  {
   "cell_type": "code",
   "execution_count": 18,
   "metadata": {},
   "outputs": [],
   "source": [
    "if game.interface_mode == 'jupyter' and opponent.choice is not None:\n",
    "    opponent.core.print_tree()"
   ]
  }
 ],
 "metadata": {
  "kernelspec": {
   "display_name": "Python 3",
   "language": "python",
   "name": "python3"
  },
  "language_info": {
   "codemirror_mode": {
    "name": "ipython",
    "version": 3
   },
   "file_extension": ".py",
   "mimetype": "text/x-python",
   "name": "python",
   "nbconvert_exporter": "python",
   "pygments_lexer": "ipython3",
   "version": "3.11.9"
  }
 },
 "nbformat": 4,
 "nbformat_minor": 2
}
