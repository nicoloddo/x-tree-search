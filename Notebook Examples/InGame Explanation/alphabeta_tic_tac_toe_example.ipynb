{
 "cells": [
  {
   "cell_type": "code",
   "execution_count": 1,
   "metadata": {},
   "outputs": [],
   "source": [
    "from games.tic_tac_toe import TicTacToe, simple_scoring_function, simple_depth_dependant_scoring_function\n",
    "from src.game.agents import GameAgent, User\n",
    "from algorithms.minimax import MiniMax\n",
    "from explainers.alphabeta_explainer import AlphaBetaExplainer"
   ]
  },
  {
   "cell_type": "code",
   "execution_count": 2,
   "metadata": {},
   "outputs": [],
   "source": [
    "explainer = AlphaBetaExplainer()\n",
    "opponent = GameAgent(agent_id=0, core=MiniMax(simple_depth_dependant_scoring_function, max_depth=6, use_alpha_beta=True))\n",
    "game = TicTacToe(players=[opponent, User(agent_id=1)], \n",
    "                 explainer=explainer, \n",
    "                 interface_mode='gradio', \n",
    "                 interface_hyperlink_mode=True)"
   ]
  },
  {
   "cell_type": "markdown",
   "metadata": {},
   "source": [
    "Simulate few initial moves:"
   ]
  },
  {
   "cell_type": "code",
   "execution_count": 3,
   "metadata": {},
   "outputs": [],
   "source": [
    "simulate_initial_moves = False\n",
    "if simulate_initial_moves:\n",
    "    game.act({'where' : (0,0), 'who': 1})\n",
    "    game.act({'where' : (1,1), 'who': 0})\n",
    "    game.act({'where' : (1,0), 'who': 1})"
   ]
  },
  {
   "cell_type": "markdown",
   "metadata": {},
   "source": [
    "# Play and Explain"
   ]
  },
  {
   "cell_type": "code",
   "execution_count": 4,
   "metadata": {},
   "outputs": [
    {
     "name": "stdout",
     "output_type": "stream",
     "text": [
      "Running on local URL:  http://127.0.0.1:7860\n",
      "\n",
      "To create a public link, set `share=True` in `launch()`.\n"
     ]
    },
    {
     "data": {
      "text/html": [
       "<div><iframe src=\"http://127.0.0.1:7860/\" width=\"100%\" height=\"500\" allow=\"autoplay; camera; microphone; clipboard-read; clipboard-write;\" frameborder=\"0\" allowfullscreen></iframe></div>"
      ],
      "text/plain": [
       "<IPython.core.display.HTML object>"
      ]
     },
     "metadata": {},
     "output_type": "display_data"
    },
    {
     "name": "stderr",
     "output_type": "stream",
     "text": [
      "d:\\OneDrive - Universiteit Utrecht\\Documents\\000 - Documenti\\PROJECTS\\x-tree-search\\.conda\\Lib\\site-packages\\gradio\\analytics.py:106: UserWarning: IMPORTANT: You are using gradio version 4.44.0, however version 5.0.1 is available, please upgrade. \n",
      "--------\n",
      "  warnings.warn(\n",
      "Traceback (most recent call last):\n",
      "  File \"d:\\OneDrive - Universiteit Utrecht\\Documents\\000 - Documenti\\PROJECTS\\x-tree-search\\.conda\\Lib\\site-packages\\gradio\\queueing.py\", line 536, in process_events\n",
      "    response = await route_utils.call_process_api(\n",
      "               ^^^^^^^^^^^^^^^^^^^^^^^^^^^^^^^^^^^\n",
      "  File \"d:\\OneDrive - Universiteit Utrecht\\Documents\\000 - Documenti\\PROJECTS\\x-tree-search\\.conda\\Lib\\site-packages\\gradio\\route_utils.py\", line 322, in call_process_api\n",
      "    output = await app.get_blocks().process_api(\n",
      "             ^^^^^^^^^^^^^^^^^^^^^^^^^^^^^^^^^^^\n",
      "  File \"d:\\OneDrive - Universiteit Utrecht\\Documents\\000 - Documenti\\PROJECTS\\x-tree-search\\.conda\\Lib\\site-packages\\gradio\\blocks.py\", line 1935, in process_api\n",
      "    result = await self.call_function(\n",
      "             ^^^^^^^^^^^^^^^^^^^^^^^^^\n",
      "  File \"d:\\OneDrive - Universiteit Utrecht\\Documents\\000 - Documenti\\PROJECTS\\x-tree-search\\.conda\\Lib\\site-packages\\gradio\\blocks.py\", line 1520, in call_function\n",
      "    prediction = await anyio.to_thread.run_sync(  # type: ignore\n",
      "                 ^^^^^^^^^^^^^^^^^^^^^^^^^^^^^^^^^^^^^^^^^^^^^^^\n",
      "  File \"d:\\OneDrive - Universiteit Utrecht\\Documents\\000 - Documenti\\PROJECTS\\x-tree-search\\.conda\\Lib\\site-packages\\anyio\\to_thread.py\", line 56, in run_sync\n",
      "    return await get_async_backend().run_sync_in_worker_thread(\n",
      "           ^^^^^^^^^^^^^^^^^^^^^^^^^^^^^^^^^^^^^^^^^^^^^^^^^^^^\n",
      "  File \"d:\\OneDrive - Universiteit Utrecht\\Documents\\000 - Documenti\\PROJECTS\\x-tree-search\\.conda\\Lib\\site-packages\\anyio\\_backends\\_asyncio.py\", line 2405, in run_sync_in_worker_thread\n",
      "    return await future\n",
      "           ^^^^^^^^^^^^\n",
      "  File \"d:\\OneDrive - Universiteit Utrecht\\Documents\\000 - Documenti\\PROJECTS\\x-tree-search\\.conda\\Lib\\asyncio\\futures.py\", line 287, in __await__\n",
      "    yield self  # This tells Task to wait for completion.\n",
      "    ^^^^^^^^^^\n",
      "  File \"d:\\OneDrive - Universiteit Utrecht\\Documents\\000 - Documenti\\PROJECTS\\x-tree-search\\.conda\\Lib\\asyncio\\tasks.py\", line 349, in __wakeup\n",
      "    future.result()\n",
      "  File \"d:\\OneDrive - Universiteit Utrecht\\Documents\\000 - Documenti\\PROJECTS\\x-tree-search\\.conda\\Lib\\asyncio\\futures.py\", line 203, in result\n",
      "    raise self._exception.with_traceback(self._exception_tb)\n",
      "  File \"d:\\OneDrive - Universiteit Utrecht\\Documents\\000 - Documenti\\PROJECTS\\x-tree-search\\.conda\\Lib\\site-packages\\anyio\\_backends\\_asyncio.py\", line 914, in run\n",
      "    result = context.run(func, *args)\n",
      "             ^^^^^^^^^^^^^^^^^^^^^^^^\n",
      "  File \"d:\\OneDrive - Universiteit Utrecht\\Documents\\000 - Documenti\\PROJECTS\\x-tree-search\\.conda\\Lib\\site-packages\\gradio\\utils.py\", line 826, in wrapper\n",
      "    response = f(*args, **kwargs)\n",
      "               ^^^^^^^^^^^^^^^^^^\n",
      "  File \"d:\\onedrive - universiteit utrecht\\documents\\000 - documenti\\projects\\x-tree-search\\games\\tic_tac_toe\\interface.py\", line 528, in on_load\n",
      "    update_outputs = self.update(explain_node_id=explain_node_id, explain_adjective=explain_adjective, show_node_id=show_node_id)\n",
      "                     ^^^^^^^^^^^^^^^^^^^^^^^^^^^^^^^^^^^^^^^^^^^^^^^^^^^^^^^^^^^^^^^^^^^^^^^^^^^^^^^^^^^^^^^^^^^^^^^^^^^^^^^^^^^^\n",
      "  File \"d:\\onedrive - universiteit utrecht\\documents\\000 - documenti\\projects\\x-tree-search\\games\\tic_tac_toe\\interface.py\", line 552, in update\n",
      "    ai_explanation, explaining_question = self.explainer_interface.ai_explainer.update_ai_explanation(explain_node_id, adjective)\n",
      "                                          ^^^^^^^^^^^^^^^^^^^^^^^^^^^^^^^^^^^^^^^^^^^^^^^^^^^^^^^^^^^^^^^^^^^^^^^^^^^^^^^^^^^^^^^\n",
      "  File \"d:\\onedrive - universiteit utrecht\\documents\\000 - documenti\\projects\\x-tree-search\\src\\explainer\\interface\\gradio_interface.py\", line 477, in update_ai_explanation\n",
      "    explanation = self.game.explainer.explain(node, adjective, print_context=False, explanation_depth=explanation_depth)\n",
      "                  ^^^^^^^^^^^^^^^^^^^^^^^^^^^^^^^^^^^^^^^^^^^^^^^^^^^^^^^^^^^^^^^^^^^^^^^^^^^^^^^^^^^^^^^^^^^^^^^^^^^^^^\n",
      "  File \"d:\\onedrive - universiteit utrecht\\documents\\000 - documenti\\projects\\x-tree-search\\src\\explainer\\explainer.py\", line 155, in explain\n",
      "    explanation = adjective.explain(node, current_explanation_depth=STARTING_EXPLANATION_DEPTH)\n",
      "                  ^^^^^^^^^^^^^^^^^^^^^^^^^^^^^^^^^^^^^^^^^^^^^^^^^^^^^^^^^^^^^^^^^^^^^^^^^^^^^\n",
      "  File \"d:\\onedrive - universiteit utrecht\\documents\\000 - documenti\\projects\\x-tree-search\\src\\explainer\\adjective.py\", line 213, in explain\n",
      "    evaluation = self.evaluate(node, explanation_tactics=explanation_tactics)\n",
      "                 ^^^^^^^^^^^^^^^^^^^^^^^^^^^^^^^^^^^^^^^^^^^^^^^^^^^^^^^^^^^^\n",
      "  File \"d:\\onedrive - universiteit utrecht\\documents\\000 - documenti\\projects\\x-tree-search\\src\\explainer\\adjective.py\", line 154, in evaluate\n",
      "    evaluation = self._evaluate(*args)\n",
      "                 ^^^^^^^^^^^^^^^^^^^^^\n",
      "  File \"d:\\onedrive - universiteit utrecht\\documents\\000 - documenti\\projects\\x-tree-search\\src\\explainer\\adjective.py\", line 560, in _evaluate\n",
      "    return self.evaluator(node, comparison_adjectives, group)\n",
      "           ^^^^^^^^^^^^^^^^^^^^^^^^^^^^^^^^^^^^^^^^^^^^^^^^^^\n",
      "  File \"d:\\onedrive - universiteit utrecht\\documents\\000 - documenti\\projects\\x-tree-search\\src\\explainer\\adjective.py\", line 580, in <lambda>\n",
      "    evaluator = lambda node, comparison_adjectives, group: all(any(comparison.evaluate(node, other_node) for comparison in comparison_adjectives) for other_node in group)\n",
      "                                                           ^^^^^^^^^^^^^^^^^^^^^^^^^^^^^^^^^^^^^^^^^^^^^^^^^^^^^^^^^^^^^^^^^^^^^^^^^^^^^^^^^^^^^^^^^^^^^^^^^^^^^^^^^^^^^^^\n",
      "  File \"d:\\onedrive - universiteit utrecht\\documents\\000 - documenti\\projects\\x-tree-search\\src\\explainer\\adjective.py\", line 580, in <genexpr>\n",
      "    evaluator = lambda node, comparison_adjectives, group: all(any(comparison.evaluate(node, other_node) for comparison in comparison_adjectives) for other_node in group)\n",
      "                                                               ^^^^^^^^^^^^^^^^^^^^^^^^^^^^^^^^^^^^^^^^^^^^^^^^^^^^^^^^^^^^^^^^^^^^^^^^^^^^^^^^^^\n",
      "  File \"d:\\onedrive - universiteit utrecht\\documents\\000 - documenti\\projects\\x-tree-search\\src\\explainer\\adjective.py\", line 580, in <genexpr>\n",
      "    evaluator = lambda node, comparison_adjectives, group: all(any(comparison.evaluate(node, other_node) for comparison in comparison_adjectives) for other_node in group)\n",
      "                                                                   ^^^^^^^^^^^^^^^^^^^^^^^^^^^^^^^^^^^^^\n",
      "  File \"d:\\onedrive - universiteit utrecht\\documents\\000 - documenti\\projects\\x-tree-search\\src\\explainer\\adjective.py\", line 154, in evaluate\n",
      "    evaluation = self._evaluate(*args)\n",
      "                 ^^^^^^^^^^^^^^^^^^^^^\n",
      "  File \"d:\\onedrive - universiteit utrecht\\documents\\000 - documenti\\projects\\x-tree-search\\src\\explainer\\adjective.py\", line 494, in _evaluate\n",
      "    return all([self.comparison_operator(value1, value2) for value2 in other_values])\n",
      "               ^^^^^^^^^^^^^^^^^^^^^^^^^^^^^^^^^^^^^^^^^^^^^^^^^^^^^^^^^^^^^^^^^^^^^\n",
      "  File \"d:\\onedrive - universiteit utrecht\\documents\\000 - documenti\\projects\\x-tree-search\\src\\explainer\\adjective.py\", line 494, in <listcomp>\n",
      "    return all([self.comparison_operator(value1, value2) for value2 in other_values])\n",
      "                ^^^^^^^^^^^^^^^^^^^^^^^^^^^^^^^^^^^^^^^^\n",
      "  File \"<string>\", line 1, in <lambda>\n",
      "TypeError: '>' not supported between instances of 'NoneType' and 'int'\n",
      "Traceback (most recent call last):\n",
      "  File \"d:\\OneDrive - Universiteit Utrecht\\Documents\\000 - Documenti\\PROJECTS\\x-tree-search\\.conda\\Lib\\site-packages\\gradio\\queueing.py\", line 536, in process_events\n",
      "    response = await route_utils.call_process_api(\n",
      "               ^^^^^^^^^^^^^^^^^^^^^^^^^^^^^^^^^^^\n",
      "  File \"d:\\OneDrive - Universiteit Utrecht\\Documents\\000 - Documenti\\PROJECTS\\x-tree-search\\.conda\\Lib\\site-packages\\gradio\\route_utils.py\", line 322, in call_process_api\n",
      "    output = await app.get_blocks().process_api(\n",
      "             ^^^^^^^^^^^^^^^^^^^^^^^^^^^^^^^^^^^\n",
      "  File \"d:\\OneDrive - Universiteit Utrecht\\Documents\\000 - Documenti\\PROJECTS\\x-tree-search\\.conda\\Lib\\site-packages\\gradio\\blocks.py\", line 1935, in process_api\n",
      "    result = await self.call_function(\n",
      "             ^^^^^^^^^^^^^^^^^^^^^^^^^\n",
      "  File \"d:\\OneDrive - Universiteit Utrecht\\Documents\\000 - Documenti\\PROJECTS\\x-tree-search\\.conda\\Lib\\site-packages\\gradio\\blocks.py\", line 1520, in call_function\n",
      "    prediction = await anyio.to_thread.run_sync(  # type: ignore\n",
      "                 ^^^^^^^^^^^^^^^^^^^^^^^^^^^^^^^^^^^^^^^^^^^^^^^\n",
      "  File \"d:\\OneDrive - Universiteit Utrecht\\Documents\\000 - Documenti\\PROJECTS\\x-tree-search\\.conda\\Lib\\site-packages\\anyio\\to_thread.py\", line 56, in run_sync\n",
      "    return await get_async_backend().run_sync_in_worker_thread(\n",
      "           ^^^^^^^^^^^^^^^^^^^^^^^^^^^^^^^^^^^^^^^^^^^^^^^^^^^^\n",
      "  File \"d:\\OneDrive - Universiteit Utrecht\\Documents\\000 - Documenti\\PROJECTS\\x-tree-search\\.conda\\Lib\\site-packages\\anyio\\_backends\\_asyncio.py\", line 2405, in run_sync_in_worker_thread\n",
      "    return await future\n",
      "           ^^^^^^^^^^^^\n",
      "  File \"d:\\OneDrive - Universiteit Utrecht\\Documents\\000 - Documenti\\PROJECTS\\x-tree-search\\.conda\\Lib\\asyncio\\futures.py\", line 287, in __await__\n",
      "    yield self  # This tells Task to wait for completion.\n",
      "    ^^^^^^^^^^\n",
      "  File \"d:\\OneDrive - Universiteit Utrecht\\Documents\\000 - Documenti\\PROJECTS\\x-tree-search\\.conda\\Lib\\asyncio\\tasks.py\", line 349, in __wakeup\n",
      "    future.result()\n",
      "  File \"d:\\OneDrive - Universiteit Utrecht\\Documents\\000 - Documenti\\PROJECTS\\x-tree-search\\.conda\\Lib\\asyncio\\futures.py\", line 203, in result\n",
      "    raise self._exception.with_traceback(self._exception_tb)\n",
      "  File \"d:\\OneDrive - Universiteit Utrecht\\Documents\\000 - Documenti\\PROJECTS\\x-tree-search\\.conda\\Lib\\site-packages\\anyio\\_backends\\_asyncio.py\", line 914, in run\n",
      "    result = context.run(func, *args)\n",
      "             ^^^^^^^^^^^^^^^^^^^^^^^^\n",
      "  File \"d:\\OneDrive - Universiteit Utrecht\\Documents\\000 - Documenti\\PROJECTS\\x-tree-search\\.conda\\Lib\\site-packages\\gradio\\utils.py\", line 826, in wrapper\n",
      "    response = f(*args, **kwargs)\n",
      "               ^^^^^^^^^^^^^^^^^^\n",
      "  File \"d:\\onedrive - universiteit utrecht\\documents\\000 - documenti\\projects\\x-tree-search\\games\\tic_tac_toe\\interface.py\", line 528, in on_load\n",
      "    update_outputs = self.update(explain_node_id=explain_node_id, explain_adjective=explain_adjective, show_node_id=show_node_id)\n",
      "                     ^^^^^^^^^^^^^^^^^^^^^^^^^^^^^^^^^^^^^^^^^^^^^^^^^^^^^^^^^^^^^^^^^^^^^^^^^^^^^^^^^^^^^^^^^^^^^^^^^^^^^^^^^^^^\n",
      "  File \"d:\\onedrive - universiteit utrecht\\documents\\000 - documenti\\projects\\x-tree-search\\games\\tic_tac_toe\\interface.py\", line 552, in update\n",
      "    ai_explanation, explaining_question = self.explainer_interface.ai_explainer.update_ai_explanation(explain_node_id, adjective)\n",
      "                                          ^^^^^^^^^^^^^^^^^^^^^^^^^^^^^^^^^^^^^^^^^^^^^^^^^^^^^^^^^^^^^^^^^^^^^^^^^^^^^^^^^^^^^^^\n",
      "  File \"d:\\onedrive - universiteit utrecht\\documents\\000 - documenti\\projects\\x-tree-search\\src\\explainer\\interface\\gradio_interface.py\", line 477, in update_ai_explanation\n",
      "    explanation = self.game.explainer.explain(node, adjective, print_context=False, explanation_depth=explanation_depth)\n",
      "                  ^^^^^^^^^^^^^^^^^^^^^^^^^^^^^^^^^^^^^^^^^^^^^^^^^^^^^^^^^^^^^^^^^^^^^^^^^^^^^^^^^^^^^^^^^^^^^^^^^^^^^^\n",
      "  File \"d:\\onedrive - universiteit utrecht\\documents\\000 - documenti\\projects\\x-tree-search\\src\\explainer\\explainer.py\", line 155, in explain\n",
      "    explanation = adjective.explain(node, current_explanation_depth=STARTING_EXPLANATION_DEPTH)\n",
      "                  ^^^^^^^^^^^^^^^^^^^^^^^^^^^^^^^^^^^^^^^^^^^^^^^^^^^^^^^^^^^^^^^^^^^^^^^^^^^^^\n",
      "  File \"d:\\onedrive - universiteit utrecht\\documents\\000 - documenti\\projects\\x-tree-search\\src\\explainer\\adjective.py\", line 213, in explain\n",
      "    evaluation = self.evaluate(node, explanation_tactics=explanation_tactics)\n",
      "                 ^^^^^^^^^^^^^^^^^^^^^^^^^^^^^^^^^^^^^^^^^^^^^^^^^^^^^^^^^^^^\n",
      "  File \"d:\\onedrive - universiteit utrecht\\documents\\000 - documenti\\projects\\x-tree-search\\src\\explainer\\adjective.py\", line 154, in evaluate\n",
      "    evaluation = self._evaluate(*args)\n",
      "                 ^^^^^^^^^^^^^^^^^^^^^\n",
      "  File \"d:\\onedrive - universiteit utrecht\\documents\\000 - documenti\\projects\\x-tree-search\\src\\explainer\\adjective.py\", line 560, in _evaluate\n",
      "    return self.evaluator(node, comparison_adjectives, group)\n",
      "           ^^^^^^^^^^^^^^^^^^^^^^^^^^^^^^^^^^^^^^^^^^^^^^^^^^\n",
      "  File \"d:\\onedrive - universiteit utrecht\\documents\\000 - documenti\\projects\\x-tree-search\\src\\explainer\\adjective.py\", line 580, in <lambda>\n",
      "    evaluator = lambda node, comparison_adjectives, group: all(any(comparison.evaluate(node, other_node) for comparison in comparison_adjectives) for other_node in group)\n",
      "                                                           ^^^^^^^^^^^^^^^^^^^^^^^^^^^^^^^^^^^^^^^^^^^^^^^^^^^^^^^^^^^^^^^^^^^^^^^^^^^^^^^^^^^^^^^^^^^^^^^^^^^^^^^^^^^^^^^\n",
      "  File \"d:\\onedrive - universiteit utrecht\\documents\\000 - documenti\\projects\\x-tree-search\\src\\explainer\\adjective.py\", line 580, in <genexpr>\n",
      "    evaluator = lambda node, comparison_adjectives, group: all(any(comparison.evaluate(node, other_node) for comparison in comparison_adjectives) for other_node in group)\n",
      "                                                               ^^^^^^^^^^^^^^^^^^^^^^^^^^^^^^^^^^^^^^^^^^^^^^^^^^^^^^^^^^^^^^^^^^^^^^^^^^^^^^^^^^\n",
      "  File \"d:\\onedrive - universiteit utrecht\\documents\\000 - documenti\\projects\\x-tree-search\\src\\explainer\\adjective.py\", line 580, in <genexpr>\n",
      "    evaluator = lambda node, comparison_adjectives, group: all(any(comparison.evaluate(node, other_node) for comparison in comparison_adjectives) for other_node in group)\n",
      "                                                                   ^^^^^^^^^^^^^^^^^^^^^^^^^^^^^^^^^^^^^\n",
      "  File \"d:\\onedrive - universiteit utrecht\\documents\\000 - documenti\\projects\\x-tree-search\\src\\explainer\\adjective.py\", line 154, in evaluate\n",
      "    evaluation = self._evaluate(*args)\n",
      "                 ^^^^^^^^^^^^^^^^^^^^^\n",
      "  File \"d:\\onedrive - universiteit utrecht\\documents\\000 - documenti\\projects\\x-tree-search\\src\\explainer\\adjective.py\", line 494, in _evaluate\n",
      "    return all([self.comparison_operator(value1, value2) for value2 in other_values])\n",
      "               ^^^^^^^^^^^^^^^^^^^^^^^^^^^^^^^^^^^^^^^^^^^^^^^^^^^^^^^^^^^^^^^^^^^^^\n",
      "  File \"d:\\onedrive - universiteit utrecht\\documents\\000 - documenti\\projects\\x-tree-search\\src\\explainer\\adjective.py\", line 494, in <listcomp>\n",
      "    return all([self.comparison_operator(value1, value2) for value2 in other_values])\n",
      "                ^^^^^^^^^^^^^^^^^^^^^^^^^^^^^^^^^^^^^^^^\n",
      "  File \"<string>\", line 1, in <lambda>\n",
      "TypeError: '>' not supported between instances of 'NoneType' and 'int'\n"
     ]
    }
   ],
   "source": [
    "await game.start_game(share_gradio=False)"
   ]
  },
  {
   "cell_type": "code",
   "execution_count": 5,
   "metadata": {},
   "outputs": [],
   "source": [
    "if opponent.choice is not None:\n",
    "    explanation = explainer.explain(opponent.choice, 'the best') # can also modify explanation_depth=4, or print_depth=True\n",
    "    print(explanation)"
   ]
  },
  {
   "cell_type": "code",
   "execution_count": 6,
   "metadata": {},
   "outputs": [],
   "source": [
    "if game.interface_mode == 'jupyter' and opponent.choice is not None:\n",
    "    explainer.frameworks['highlevel'].get_adjective('score').skip_statement = False\n",
    "    explanation = explainer.explain(opponent.choice, 'the best') # can also modify explanation_depth=4, or print_depth=True\n",
    "    print(explanation)"
   ]
  },
  {
   "cell_type": "markdown",
   "metadata": {},
   "source": [
    "Print tree for debugging reasons:"
   ]
  },
  {
   "cell_type": "code",
   "execution_count": 7,
   "metadata": {},
   "outputs": [
    {
     "name": "stdout",
     "output_type": "stream",
     "text": [
      "An unexpected error occurred while generating the explanation: '>' not supported between instances of 'NoneType' and 'int'\n",
      "An unexpected error occurred while generating the explanation: '>' not supported between instances of 'NoneType' and 'int'\n"
     ]
    }
   ],
   "source": [
    "if opponent.choice is not None:\n",
    "    opponent.core.print_tree()"
   ]
  }
 ],
 "metadata": {
  "kernelspec": {
   "display_name": "Python 3",
   "language": "python",
   "name": "python3"
  },
  "language_info": {
   "codemirror_mode": {
    "name": "ipython",
    "version": 3
   },
   "file_extension": ".py",
   "mimetype": "text/x-python",
   "name": "python",
   "nbconvert_exporter": "python",
   "pygments_lexer": "ipython3",
   "version": "3.11.9"
  }
 },
 "nbformat": 4,
 "nbformat_minor": 2
}
