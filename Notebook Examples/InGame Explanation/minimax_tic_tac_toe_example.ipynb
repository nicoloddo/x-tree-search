{
 "cells": [
  {
   "cell_type": "code",
   "execution_count": 1,
   "metadata": {},
   "outputs": [],
   "source": [
    "import sys\n",
    "sys.path.append(\"d:\\\\OneDrive - Universiteit Utrecht\\\\Documents\\\\000 - Documenti\\\\PROJECTS\\\\x-tree-search\")"
   ]
  },
  {
   "cell_type": "code",
   "execution_count": 2,
   "metadata": {},
   "outputs": [],
   "source": [
    "from games.tic_tac_toe import TicTacToe\n",
    "from games.game import GameAgent, User\n",
    "from algorithms.minimax import MiniMax\n",
    "from explainers.minimax_explainer import MiniMaxExplainer"
   ]
  },
  {
   "cell_type": "markdown",
   "metadata": {},
   "source": [
    "# Define game"
   ]
  },
  {
   "cell_type": "code",
   "execution_count": 3,
   "metadata": {},
   "outputs": [],
   "source": [
    "game = TicTacToe()"
   ]
  },
  {
   "cell_type": "markdown",
   "metadata": {},
   "source": [
    "# Define tic-tac-toe scoring function for the minimax"
   ]
  },
  {
   "cell_type": "code",
   "execution_count": 4,
   "metadata": {},
   "outputs": [],
   "source": [
    "import numpy as np\n",
    "def scoring_function(node):\n",
    "    \"\"\" Evaluate the Tic Tac Toe board state for the 'X' player's perspective \"\"\"\n",
    "    state = node.state\n",
    "    score = 0\n",
    "    \n",
    "    # Possible lines to check (3 rows, 3 columns, 2 diagonals)\n",
    "    lines = []\n",
    "    # Rows and columns\n",
    "    for i in range(3):\n",
    "        lines.append(state[i, :])  # Row\n",
    "        lines.append(state[:, i])  # Column\n",
    "    # Diagonals\n",
    "    lines.append(np.array([state[i, i] for i in range(3)]))  # Main diagonal\n",
    "    lines.append(np.array([state[i, 2 - i] for i in range(3)]))  # Anti-diagonal\n",
    "\n",
    "    for line in lines:\n",
    "        if np.all(line == \"X\"):\n",
    "            score += 100  # 'X' wins\n",
    "        elif np.all(line == \"O\"):\n",
    "            score -= 100  # 'O' wins\n",
    "        elif np.count_nonzero(line == \"X\") == 2 and np.count_nonzero(line == \"free\") == 1:\n",
    "            score += 10  # 'X' is one move away from winning\n",
    "        elif np.count_nonzero(line == \"O\") == 2 and np.count_nonzero(line == \"free\") == 1:\n",
    "            score -= 10  # 'O' is one move away from winning\n",
    "\n",
    "    return score"
   ]
  },
  {
   "cell_type": "markdown",
   "metadata": {},
   "source": [
    "# Define explainer"
   ]
  },
  {
   "cell_type": "code",
   "execution_count": 5,
   "metadata": {},
   "outputs": [],
   "source": [
    "explainer = MiniMaxExplainer()"
   ]
  },
  {
   "cell_type": "code",
   "execution_count": 6,
   "metadata": {},
   "outputs": [
    {
     "name": "stdout",
     "output_type": "stream",
     "text": [
      "lowlevel\n",
      "highlevel\n"
     ]
    }
   ],
   "source": [
    "explainer.available_frameworks()"
   ]
  },
  {
   "cell_type": "markdown",
   "metadata": {},
   "source": [
    "# Play and Explain"
   ]
  },
  {
   "cell_type": "code",
   "execution_count": 7,
   "metadata": {},
   "outputs": [],
   "source": [
    "opponent = GameAgent(MiniMax(scoring_function, max_depth=6, use_alpha_beta=False), agent_id=0)\n",
    "user = User(agent_id=1, ask_what = False)"
   ]
  },
  {
   "cell_type": "code",
   "execution_count": 8,
   "metadata": {},
   "outputs": [],
   "source": [
    "game.set_players([opponent, user])"
   ]
  },
  {
   "cell_type": "code",
   "execution_count": 9,
   "metadata": {},
   "outputs": [
    {
     "name": "stdout",
     "output_type": "stream",
     "text": [
      "[['O' ' ' ' ']\n",
      " ['O' 'X' ' ']\n",
      " ['X' ' ' ' ']]\n",
      "\n",
      "Game paused.\n",
      "\n",
      "[['O' ' ' ' ']\n",
      " ['O' 'X' ' ']\n",
      " ['X' ' ' ' ']]\n"
     ]
    }
   ],
   "source": [
    "await game.start_on_jupyter()"
   ]
  },
  {
   "cell_type": "code",
   "execution_count": 10,
   "metadata": {},
   "outputs": [
    {
     "name": "stdout",
     "output_type": "stream",
     "text": [
      "{X in (2, 0), id=0_3} is the best (because\n",
      " \t{X in (2, 0), id=0_3} has possible alternative moves {X in (0, 1), id=0_0}, {X in (0, 2), id=0_1}, {X in (1, 2), id=0_2} (only showing relevant 3)\n",
      "\tand {X in (2, 0), id=0_3} is better than {X in (0, 1), id=0_0} (because\n",
      "\t \tit leads to a better position (because\n",
      "\t \t\t{X in (2, 0), id=0_3} is not final move\n",
      "\t\t\tand {X in (2, 0), id=0_3} has next possible move {O in (0, 2), id=0_3_1}\n",
      "\t\t\tand {X in (0, 1), id=0_0} is not final move\n",
      "\t\t\tand {X in (0, 1), id=0_0} has next possible move {O in (2, 0), id=0_0_2}))\n",
      "\tand {X in (2, 0), id=0_3} is better than {X in (0, 2), id=0_1} (because\n",
      "\t \tit leads to a better position (because\n",
      "\t \t\t{X in (2, 0), id=0_3} is not final move\n",
      "\t\t\tand {X in (2, 0), id=0_3} has next possible move {O in (0, 2), id=0_3_1}\n",
      "\t\t\tand {X in (0, 2), id=0_1} is not final move\n",
      "\t\t\tand {X in (0, 2), id=0_1} has next possible move {O in (2, 0), id=0_1_2}))\n",
      "\tand {X in (2, 0), id=0_3} is better than {X in (1, 2), id=0_2} (because\n",
      "\t \tit leads to a better position (because\n",
      "\t \t\t{X in (2, 0), id=0_3} is not final move\n",
      "\t\t\tand {X in (2, 0), id=0_3} has next possible move {O in (0, 2), id=0_3_1}\n",
      "\t\t\tand {X in (1, 2), id=0_2} is not final move\n",
      "\t\t\tand {X in (1, 2), id=0_2} has next possible move {O in (0, 1), id=0_2_0})))\n"
     ]
    }
   ],
   "source": [
    "choice = opponent.core.last_choice\n",
    "explainer.explain_adjective(choice, 'the best', explanation_depth=3, with_framework='highlevel')"
   ]
  },
  {
   "cell_type": "code",
   "execution_count": 11,
   "metadata": {},
   "outputs": [
    {
     "name": "stdout",
     "output_type": "stream",
     "text": [
      "{X in (2, 0), id=0_3} is best ←\n",
      " \t(assumption) By definition a node is \"best\" if it's \"better\" than all \"siblings\"\n",
      "\t∧ {X in (2, 0), id=0_3} has siblings = {X in (0, 1), id=0_0}, {X in (0, 2), id=0_1}, {X in (1, 2), id=0_2}, {X in (2, 1), id=0_4}, {X in (2, 2), id=0_5} ←\n",
      "\t \t\t(assumption) Definition of \"siblings\" is node.parent.children excluding node\n",
      "\t∧ {X in (2, 0), id=0_3} is better than {X in (0, 1), id=0_0} ←\n",
      "\t \t\t(assumption) By definition, node1 is \"better\" than node2 if node1 score >= node2 score\n",
      "\t\t\t∧ {X in (2, 0), id=0_3} has score = 0 ←\n",
      "\t\t\t \t\t\t{X in (2, 0), id=0_3} is ¬(leaf) ←\n",
      "\t\t\t\t\t\t \t\t\t\t(assumption) Definition of \"leaf\" is node.is_leaf\n",
      "\t\t\t\t\t\t∧ (assumption) Internal nodes have scores from children\n",
      "\t\t\t\t\t\t∧ {X in (2, 0), id=0_3} has backpropagating child = {O in (0, 2), id=0_3_1} ←\n",
      "\t\t\t\t\t\t \t\t\t\t{X in (2, 0), id=0_3} is opponent player turn\n",
      "\t\t\t\t\t\t\t\t\t\t∧ (assumption) We assume the opponent will do their best move.\n",
      "\t\t\t\t\t\t\t\t\t\t∧ {O in (0, 2), id=0_3_1} is worst\n",
      "\t\t\t\t\t\t∧ {O in (0, 2), id=0_3_1} has score = 0 ←\n",
      "\t\t\t\t\t\t \t\t\t\t{O in (0, 2), id=0_3_1} is ¬(leaf)\n",
      "\t\t\t\t\t\t\t\t\t\t∧ (assumption) Internal nodes have scores from children\n",
      "\t\t\t\t\t\t\t\t\t\t∧ {O in (0, 2), id=0_3_1} has backpropagating child = {X in (0, 1), id=0_3_1_0}\n",
      "\t\t\t\t\t\t\t\t\t\t∧ {X in (0, 1), id=0_3_1_0} has score = 0\n",
      "\t\t\t∧ {X in (0, 1), id=0_0} has score = -100 ←\n",
      "\t\t\t \t\t\t{X in (0, 1), id=0_0} is ¬(leaf) ←\n",
      "\t\t\t\t\t\t \t\t\t\t(assumption) Definition of \"leaf\" is node.is_leaf\n",
      "\t\t\t\t\t\t∧ (assumption) Internal nodes have scores from children\n",
      "\t\t\t\t\t\t∧ {X in (0, 1), id=0_0} has backpropagating child = {O in (2, 0), id=0_0_2} ←\n",
      "\t\t\t\t\t\t \t\t\t\t{X in (0, 1), id=0_0} is opponent player turn\n",
      "\t\t\t\t\t\t\t\t\t\t∧ (assumption) We assume the opponent will do their best move.\n",
      "\t\t\t\t\t\t\t\t\t\t∧ {O in (2, 0), id=0_0_2} is worst\n",
      "\t\t\t\t\t\t∧ {O in (2, 0), id=0_0_2} has score = -100 ←\n",
      "\t\t\t\t\t\t \t\t\t\t{O in (2, 0), id=0_0_2} is leaf\n",
      "\t\t\t\t\t\t\t\t\t\t∧ (assumption) Leaf nodes have scores from the evaluation function\n",
      "\t∧ {X in (2, 0), id=0_3} is better than {X in (0, 2), id=0_1} ←\n",
      "\t \t\t(assumption) By definition, node1 is \"better\" than node2 if node1 score >= node2 score\n",
      "\t\t\t∧ {X in (2, 0), id=0_3} has score = 0 ←\n",
      "\t\t\t \t\t\t{X in (2, 0), id=0_3} is ¬(leaf) ←\n",
      "\t\t\t\t\t\t \t\t\t\t(assumption) Definition of \"leaf\" is node.is_leaf\n",
      "\t\t\t\t\t\t∧ (assumption) Internal nodes have scores from children\n",
      "\t\t\t\t\t\t∧ {X in (2, 0), id=0_3} has backpropagating child = {O in (0, 2), id=0_3_1} ←\n",
      "\t\t\t\t\t\t \t\t\t\t{X in (2, 0), id=0_3} is opponent player turn\n",
      "\t\t\t\t\t\t\t\t\t\t∧ (assumption) We assume the opponent will do their best move.\n",
      "\t\t\t\t\t\t\t\t\t\t∧ {O in (0, 2), id=0_3_1} is worst\n",
      "\t\t\t\t\t\t∧ {O in (0, 2), id=0_3_1} has score = 0 ←\n",
      "\t\t\t\t\t\t \t\t\t\t{O in (0, 2), id=0_3_1} is ¬(leaf)\n",
      "\t\t\t\t\t\t\t\t\t\t∧ (assumption) Internal nodes have scores from children\n",
      "\t\t\t\t\t\t\t\t\t\t∧ {O in (0, 2), id=0_3_1} has backpropagating child = {X in (0, 1), id=0_3_1_0}\n",
      "\t\t\t\t\t\t\t\t\t\t∧ {X in (0, 1), id=0_3_1_0} has score = 0\n",
      "\t\t\t∧ {X in (0, 2), id=0_1} has score = -100 ←\n",
      "\t\t\t \t\t\t{X in (0, 2), id=0_1} is ¬(leaf) ←\n",
      "\t\t\t\t\t\t \t\t\t\t(assumption) Definition of \"leaf\" is node.is_leaf\n",
      "\t\t\t\t\t\t∧ (assumption) Internal nodes have scores from children\n",
      "\t\t\t\t\t\t∧ {X in (0, 2), id=0_1} has backpropagating child = {O in (2, 0), id=0_1_2} ←\n",
      "\t\t\t\t\t\t \t\t\t\t{X in (0, 2), id=0_1} is opponent player turn\n",
      "\t\t\t\t\t\t\t\t\t\t∧ (assumption) We assume the opponent will do their best move.\n",
      "\t\t\t\t\t\t\t\t\t\t∧ {O in (2, 0), id=0_1_2} is worst\n",
      "\t\t\t\t\t\t∧ {O in (2, 0), id=0_1_2} has score = -100 ←\n",
      "\t\t\t\t\t\t \t\t\t\t{O in (2, 0), id=0_1_2} is leaf\n",
      "\t\t\t\t\t\t\t\t\t\t∧ (assumption) Leaf nodes have scores from the evaluation function\n",
      "\t∧ {X in (2, 0), id=0_3} is better than {X in (1, 2), id=0_2} ←\n",
      "\t \t\t(assumption) By definition, node1 is \"better\" than node2 if node1 score >= node2 score\n",
      "\t\t\t∧ {X in (2, 0), id=0_3} has score = 0 ←\n",
      "\t\t\t \t\t\t{X in (2, 0), id=0_3} is ¬(leaf) ←\n",
      "\t\t\t\t\t\t \t\t\t\t(assumption) Definition of \"leaf\" is node.is_leaf\n",
      "\t\t\t\t\t\t∧ (assumption) Internal nodes have scores from children\n",
      "\t\t\t\t\t\t∧ {X in (2, 0), id=0_3} has backpropagating child = {O in (0, 2), id=0_3_1} ←\n",
      "\t\t\t\t\t\t \t\t\t\t{X in (2, 0), id=0_3} is opponent player turn\n",
      "\t\t\t\t\t\t\t\t\t\t∧ (assumption) We assume the opponent will do their best move.\n",
      "\t\t\t\t\t\t\t\t\t\t∧ {O in (0, 2), id=0_3_1} is worst\n",
      "\t\t\t\t\t\t∧ {O in (0, 2), id=0_3_1} has score = 0 ←\n",
      "\t\t\t\t\t\t \t\t\t\t{O in (0, 2), id=0_3_1} is ¬(leaf)\n",
      "\t\t\t\t\t\t\t\t\t\t∧ (assumption) Internal nodes have scores from children\n",
      "\t\t\t\t\t\t\t\t\t\t∧ {O in (0, 2), id=0_3_1} has backpropagating child = {X in (0, 1), id=0_3_1_0}\n",
      "\t\t\t\t\t\t\t\t\t\t∧ {X in (0, 1), id=0_3_1_0} has score = 0\n",
      "\t\t\t∧ {X in (1, 2), id=0_2} has score = -100 ←\n",
      "\t\t\t \t\t\t{X in (1, 2), id=0_2} is ¬(leaf) ←\n",
      "\t\t\t\t\t\t \t\t\t\t(assumption) Definition of \"leaf\" is node.is_leaf\n",
      "\t\t\t\t\t\t∧ (assumption) Internal nodes have scores from children\n",
      "\t\t\t\t\t\t∧ {X in (1, 2), id=0_2} has backpropagating child = {O in (0, 1), id=0_2_0} ←\n",
      "\t\t\t\t\t\t \t\t\t\t{X in (1, 2), id=0_2} is opponent player turn\n",
      "\t\t\t\t\t\t\t\t\t\t∧ (assumption) We assume the opponent will do their best move.\n",
      "\t\t\t\t\t\t\t\t\t\t∧ {O in (0, 1), id=0_2_0} is worst\n",
      "\t\t\t\t\t\t∧ {O in (0, 1), id=0_2_0} has score = -100 ←\n",
      "\t\t\t\t\t\t \t\t\t\t{O in (0, 1), id=0_2_0} is ¬(leaf)\n",
      "\t\t\t\t\t\t\t\t\t\t∧ (assumption) Internal nodes have scores from children\n",
      "\t\t\t\t\t\t\t\t\t\t∧ {O in (0, 1), id=0_2_0} has backpropagating child = {X in (0, 2), id=0_2_0_0}\n",
      "\t\t\t\t\t\t\t\t\t\t∧ {X in (0, 2), id=0_2_0_0} has score = -100\n",
      "\t∧ {X in (2, 0), id=0_3} is better than {X in (2, 1), id=0_4} ←\n",
      "\t \t\t(assumption) By definition, node1 is \"better\" than node2 if node1 score >= node2 score\n",
      "\t\t\t∧ {X in (2, 0), id=0_3} has score = 0 ←\n",
      "\t\t\t \t\t\t{X in (2, 0), id=0_3} is ¬(leaf) ←\n",
      "\t\t\t\t\t\t \t\t\t\t(assumption) Definition of \"leaf\" is node.is_leaf\n",
      "\t\t\t\t\t\t∧ (assumption) Internal nodes have scores from children\n",
      "\t\t\t\t\t\t∧ {X in (2, 0), id=0_3} has backpropagating child = {O in (0, 2), id=0_3_1} ←\n",
      "\t\t\t\t\t\t \t\t\t\t{X in (2, 0), id=0_3} is opponent player turn\n",
      "\t\t\t\t\t\t\t\t\t\t∧ (assumption) We assume the opponent will do their best move.\n",
      "\t\t\t\t\t\t\t\t\t\t∧ {O in (0, 2), id=0_3_1} is worst\n",
      "\t\t\t\t\t\t∧ {O in (0, 2), id=0_3_1} has score = 0 ←\n",
      "\t\t\t\t\t\t \t\t\t\t{O in (0, 2), id=0_3_1} is ¬(leaf)\n",
      "\t\t\t\t\t\t\t\t\t\t∧ (assumption) Internal nodes have scores from children\n",
      "\t\t\t\t\t\t\t\t\t\t∧ {O in (0, 2), id=0_3_1} has backpropagating child = {X in (0, 1), id=0_3_1_0}\n",
      "\t\t\t\t\t\t\t\t\t\t∧ {X in (0, 1), id=0_3_1_0} has score = 0\n",
      "\t\t\t∧ {X in (2, 1), id=0_4} has score = -100 ←\n",
      "\t\t\t \t\t\t{X in (2, 1), id=0_4} is ¬(leaf) ←\n",
      "\t\t\t\t\t\t \t\t\t\t(assumption) Definition of \"leaf\" is node.is_leaf\n",
      "\t\t\t\t\t\t∧ (assumption) Internal nodes have scores from children\n",
      "\t\t\t\t\t\t∧ {X in (2, 1), id=0_4} has backpropagating child = {O in (0, 1), id=0_4_0} ←\n",
      "\t\t\t\t\t\t \t\t\t\t{X in (2, 1), id=0_4} is opponent player turn\n",
      "\t\t\t\t\t\t\t\t\t\t∧ (assumption) We assume the opponent will do their best move.\n",
      "\t\t\t\t\t\t\t\t\t\t∧ {O in (0, 1), id=0_4_0} is worst\n",
      "\t\t\t\t\t\t∧ {O in (0, 1), id=0_4_0} has score = -100 ←\n",
      "\t\t\t\t\t\t \t\t\t\t{O in (0, 1), id=0_4_0} is ¬(leaf)\n",
      "\t\t\t\t\t\t\t\t\t\t∧ (assumption) Internal nodes have scores from children\n",
      "\t\t\t\t\t\t\t\t\t\t∧ {O in (0, 1), id=0_4_0} has backpropagating child = {X in (0, 2), id=0_4_0_0}\n",
      "\t\t\t\t\t\t\t\t\t\t∧ {X in (0, 2), id=0_4_0_0} has score = -100\n",
      "\t∧ {X in (2, 0), id=0_3} is better than {X in (2, 2), id=0_5} ←\n",
      "\t \t\t(assumption) By definition, node1 is \"better\" than node2 if node1 score >= node2 score\n",
      "\t\t\t∧ {X in (2, 0), id=0_3} has score = 0 ←\n",
      "\t\t\t \t\t\t{X in (2, 0), id=0_3} is ¬(leaf) ←\n",
      "\t\t\t\t\t\t \t\t\t\t(assumption) Definition of \"leaf\" is node.is_leaf\n",
      "\t\t\t\t\t\t∧ (assumption) Internal nodes have scores from children\n",
      "\t\t\t\t\t\t∧ {X in (2, 0), id=0_3} has backpropagating child = {O in (0, 2), id=0_3_1} ←\n",
      "\t\t\t\t\t\t \t\t\t\t{X in (2, 0), id=0_3} is opponent player turn\n",
      "\t\t\t\t\t\t\t\t\t\t∧ (assumption) We assume the opponent will do their best move.\n",
      "\t\t\t\t\t\t\t\t\t\t∧ {O in (0, 2), id=0_3_1} is worst\n",
      "\t\t\t\t\t\t∧ {O in (0, 2), id=0_3_1} has score = 0 ←\n",
      "\t\t\t\t\t\t \t\t\t\t{O in (0, 2), id=0_3_1} is ¬(leaf)\n",
      "\t\t\t\t\t\t\t\t\t\t∧ (assumption) Internal nodes have scores from children\n",
      "\t\t\t\t\t\t\t\t\t\t∧ {O in (0, 2), id=0_3_1} has backpropagating child = {X in (0, 1), id=0_3_1_0}\n",
      "\t\t\t\t\t\t\t\t\t\t∧ {X in (0, 1), id=0_3_1_0} has score = 0\n",
      "\t\t\t∧ {X in (2, 2), id=0_5} has score = -100 ←\n",
      "\t\t\t \t\t\t{X in (2, 2), id=0_5} is ¬(leaf) ←\n",
      "\t\t\t\t\t\t \t\t\t\t(assumption) Definition of \"leaf\" is node.is_leaf\n",
      "\t\t\t\t\t\t∧ (assumption) Internal nodes have scores from children\n",
      "\t\t\t\t\t\t∧ {X in (2, 2), id=0_5} has backpropagating child = {O in (0, 1), id=0_5_0} ←\n",
      "\t\t\t\t\t\t \t\t\t\t{X in (2, 2), id=0_5} is opponent player turn\n",
      "\t\t\t\t\t\t\t\t\t\t∧ (assumption) We assume the opponent will do their best move.\n",
      "\t\t\t\t\t\t\t\t\t\t∧ {O in (0, 1), id=0_5_0} is worst\n",
      "\t\t\t\t\t\t∧ {O in (0, 1), id=0_5_0} has score = -100 ←\n",
      "\t\t\t\t\t\t \t\t\t\t{O in (0, 1), id=0_5_0} is ¬(leaf)\n",
      "\t\t\t\t\t\t\t\t\t\t∧ (assumption) Internal nodes have scores from children\n",
      "\t\t\t\t\t\t\t\t\t\t∧ {O in (0, 1), id=0_5_0} has backpropagating child = {X in (0, 2), id=0_5_0_0}\n",
      "\t\t\t\t\t\t\t\t\t\t∧ {X in (0, 2), id=0_5_0_0} has score = -100\n"
     ]
    }
   ],
   "source": [
    "explainer.explain_adjective(choice, 'best', explanation_depth=4, with_framework='lowlevel')"
   ]
  },
  {
   "cell_type": "code",
   "execution_count": 12,
   "metadata": {},
   "outputs": [],
   "source": [
    "explainer.del_explanation_tactic('OnlyRelevantComparisons', to_framework='highlevel', to_adjective='the best')"
   ]
  },
  {
   "cell_type": "code",
   "execution_count": 13,
   "metadata": {},
   "outputs": [
    {
     "name": "stdout",
     "output_type": "stream",
     "text": [
      "{X in (2, 0), id=0_3} is best ←\n",
      " \t(assumption) By definition a node is \"best\" if it's \"better\" than all \"siblings\"\n",
      "\t∧ {X in (2, 0), id=0_3} has siblings = {X in (0, 1), id=0_0}, {X in (0, 2), id=0_1}, {X in (1, 2), id=0_2}, {X in (2, 1), id=0_4}, {X in (2, 2), id=0_5} ←\n",
      "\t \t\t(assumption) Definition of \"siblings\" is node.parent.children excluding node\n",
      "\t∧ {X in (2, 0), id=0_3} is better than {X in (0, 1), id=0_0} ←\n",
      "\t \t\t(assumption) By definition, node1 is \"better\" than node2 if node1 score >= node2 score\n",
      "\t\t\t∧ {X in (2, 0), id=0_3} has score = 0\n",
      "\t\t\t∧ {X in (0, 1), id=0_0} has score = -100\n",
      "\t∧ {X in (2, 0), id=0_3} is better than {X in (0, 2), id=0_1} ←\n",
      "\t \t\t(assumption) By definition, node1 is \"better\" than node2 if node1 score >= node2 score\n",
      "\t\t\t∧ {X in (2, 0), id=0_3} has score = 0\n",
      "\t\t\t∧ {X in (0, 2), id=0_1} has score = -100\n",
      "\t∧ {X in (2, 0), id=0_3} is better than {X in (1, 2), id=0_2} ←\n",
      "\t \t\t(assumption) By definition, node1 is \"better\" than node2 if node1 score >= node2 score\n",
      "\t\t\t∧ {X in (2, 0), id=0_3} has score = 0\n",
      "\t\t\t∧ {X in (1, 2), id=0_2} has score = -100\n",
      "\t∧ {X in (2, 0), id=0_3} is better than {X in (2, 1), id=0_4} ←\n",
      "\t \t\t(assumption) By definition, node1 is \"better\" than node2 if node1 score >= node2 score\n",
      "\t\t\t∧ {X in (2, 0), id=0_3} has score = 0\n",
      "\t\t\t∧ {X in (2, 1), id=0_4} has score = -100\n",
      "\t∧ {X in (2, 0), id=0_3} is better than {X in (2, 2), id=0_5} ←\n",
      "\t \t\t(assumption) By definition, node1 is \"better\" than node2 if node1 score >= node2 score\n",
      "\t\t\t∧ {X in (2, 0), id=0_3} has score = 0\n",
      "\t\t\t∧ {X in (2, 2), id=0_5} has score = -100\n"
     ]
    }
   ],
   "source": [
    "explainer.explain_adjective(choice, 'best', explanation_depth=2)"
   ]
  }
 ],
 "metadata": {
  "kernelspec": {
   "display_name": "Python 3",
   "language": "python",
   "name": "python3"
  },
  "language_info": {
   "codemirror_mode": {
    "name": "ipython",
    "version": 3
   },
   "file_extension": ".py",
   "mimetype": "text/x-python",
   "name": "python",
   "nbconvert_exporter": "python",
   "pygments_lexer": "ipython3",
   "version": "3.11.9"
  }
 },
 "nbformat": 4,
 "nbformat_minor": 2
}
