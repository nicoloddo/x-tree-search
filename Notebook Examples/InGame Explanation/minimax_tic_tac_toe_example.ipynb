{
 "cells": [
  {
   "cell_type": "code",
   "execution_count": 1,
   "metadata": {},
   "outputs": [],
   "source": [
    "import sys\n",
    "sys.path.append(\"d:\\\\OneDrive - Universiteit Utrecht\\\\Documents\\\\000 - Documenti\\\\PROJECTS\\\\x-tree-search\")"
   ]
  },
  {
   "cell_type": "code",
   "execution_count": 2,
   "metadata": {},
   "outputs": [],
   "source": [
    "from games.tic_tac_toe import TicTacToe\n",
    "from games.game import GameAgent, User\n",
    "from algorithms.minimax import MiniMax\n",
    "from explainers.minimax_explainer import MiniMaxExplainer"
   ]
  },
  {
   "cell_type": "markdown",
   "metadata": {},
   "source": [
    "# Define game"
   ]
  },
  {
   "cell_type": "code",
   "execution_count": 3,
   "metadata": {},
   "outputs": [],
   "source": [
    "game = TicTacToe()"
   ]
  },
  {
   "cell_type": "markdown",
   "metadata": {},
   "source": [
    "# Define tic-tac-toe scoring function for the minimax"
   ]
  },
  {
   "cell_type": "code",
   "execution_count": 4,
   "metadata": {},
   "outputs": [],
   "source": [
    "import numpy as np\n",
    "def scoring_function(node):\n",
    "    \"\"\" Evaluate the Tic Tac Toe board state for the 'X' player's perspective \"\"\"\n",
    "    state = node.state\n",
    "    score = 0\n",
    "    \n",
    "    # Possible lines to check (3 rows, 3 columns, 2 diagonals)\n",
    "    lines = []\n",
    "    # Rows and columns\n",
    "    for i in range(3):\n",
    "        lines.append(state[i, :])  # Row\n",
    "        lines.append(state[:, i])  # Column\n",
    "    # Diagonals\n",
    "    lines.append(np.array([state[i, i] for i in range(3)]))  # Main diagonal\n",
    "    lines.append(np.array([state[i, 2 - i] for i in range(3)]))  # Anti-diagonal\n",
    "\n",
    "    for line in lines:\n",
    "        if np.all(line == \"X\"):\n",
    "            score += 100  # 'X' wins\n",
    "        elif np.all(line == \"O\"):\n",
    "            score -= 100  # 'O' wins\n",
    "        elif np.count_nonzero(line == \"X\") == 2 and np.count_nonzero(line == \"free\") == 1:\n",
    "            score += 10  # 'X' is one move away from winning\n",
    "        elif np.count_nonzero(line == \"O\") == 2 and np.count_nonzero(line == \"free\") == 1:\n",
    "            score -= 10  # 'O' is one move away from winning\n",
    "\n",
    "    return score"
   ]
  },
  {
   "cell_type": "markdown",
   "metadata": {},
   "source": [
    "# Define explainer"
   ]
  },
  {
   "cell_type": "code",
   "execution_count": 5,
   "metadata": {},
   "outputs": [],
   "source": [
    "explainer = MiniMaxExplainer()"
   ]
  },
  {
   "cell_type": "code",
   "execution_count": 6,
   "metadata": {},
   "outputs": [
    {
     "name": "stdout",
     "output_type": "stream",
     "text": [
      "lowlevel\n",
      "highlevel\n"
     ]
    }
   ],
   "source": [
    "explainer.available_frameworks()"
   ]
  },
  {
   "cell_type": "markdown",
   "metadata": {},
   "source": [
    "# Play and Explain"
   ]
  },
  {
   "cell_type": "code",
   "execution_count": 7,
   "metadata": {},
   "outputs": [],
   "source": [
    "opponent = GameAgent(MiniMax(scoring_function, max_depth=6, use_alpha_beta=False), agent_id=0)\n",
    "user = User(agent_id=1, ask_what = False)"
   ]
  },
  {
   "cell_type": "code",
   "execution_count": 8,
   "metadata": {},
   "outputs": [],
   "source": [
    "game.set_players([opponent, user])"
   ]
  },
  {
   "cell_type": "code",
   "execution_count": 9,
   "metadata": {},
   "outputs": [
    {
     "name": "stdout",
     "output_type": "stream",
     "text": [
      "[['O' 'X' ' ']\n",
      " [' ' 'X' ' ']\n",
      " [' ' ' ' 'O']]\n",
      "\n",
      "Game paused.\n",
      "\n",
      "[['O' 'X' ' ']\n",
      " [' ' 'X' ' ']\n",
      " [' ' ' ' 'O']]\n"
     ]
    }
   ],
   "source": [
    "await game.start_on_jupyter()"
   ]
  },
  {
   "cell_type": "code",
   "execution_count": 10,
   "metadata": {},
   "outputs": [
    {
     "name": "stdout",
     "output_type": "stream",
     "text": [
      "{X in (0, 1)} is the best (because\n",
      " \t{X in (0, 1)} has as possible alternative moves {X in (1, 0)}, {X in (1, 2)}, {X in (2, 1)} (only showing relevant 3)\n",
      "\tand {X in (0, 1)} is better than {X in (1, 0)} (because\n",
      "\t \tit leads to a better position (because\n",
      "\t \t\t{X in (0, 1)} is not final move\n",
      "\t\t\tand {X in (0, 1)} has as next possible move {O in (2, 1)} (because\n",
      "\t\t\t \t\t\t\t{X in (0, 1)} is opponent player turn and {O in (2, 1)} is the best the opponent can do)\n",
      "\t\t\tand {X in (1, 0)} is not final move\n",
      "\t\t\tand {X in (1, 0)} has as next possible move {O in (1, 2)} (because\n",
      "\t\t\t \t\t\t\t{X in (1, 0)} is opponent player turn and {O in (1, 2)} is the best the opponent can do)))\n",
      "\tand {X in (0, 1)} is better than {X in (1, 2)} (because\n",
      "\t \tit leads to a better position (because\n",
      "\t \t\t{X in (0, 1)} is not final move\n",
      "\t\t\tand {X in (0, 1)} has as next possible move {O in (2, 1)} (because\n",
      "\t\t\t \t\t\t\t{X in (0, 1)} is opponent player turn and {O in (2, 1)} is the best the opponent can do)\n",
      "\t\t\tand {X in (1, 2)} is not final move\n",
      "\t\t\tand {X in (1, 2)} has as next possible move {O in (1, 0)} (because\n",
      "\t\t\t \t\t\t\t{X in (1, 2)} is opponent player turn and {O in (1, 0)} is the best the opponent can do)))\n",
      "\tand {X in (0, 1)} is better than {X in (2, 1)} (because\n",
      "\t \tit leads to a better position (because\n",
      "\t \t\t{X in (0, 1)} is not final move\n",
      "\t\t\tand {X in (0, 1)} has as next possible move {O in (2, 1)} (because\n",
      "\t\t\t \t\t\t\t{X in (0, 1)} is opponent player turn and {O in (2, 1)} is the best the opponent can do)\n",
      "\t\t\tand {X in (2, 1)} is not final move\n",
      "\t\t\tand {X in (2, 1)} has as next possible move {O in (0, 1)} (because\n",
      "\t\t\t \t\t\t\t{X in (2, 1)} is opponent player turn and {O in (0, 1)} is the best the opponent can do))))\n"
     ]
    }
   ],
   "source": [
    "choice = opponent.core.last_choice\n",
    "explainer.explain_adjective(choice, 'the best', explanation_depth=3, with_framework='highlevel')"
   ]
  },
  {
   "cell_type": "code",
   "execution_count": 11,
   "metadata": {},
   "outputs": [
    {
     "name": "stdout",
     "output_type": "stream",
     "text": [
      "{X in (0, 1)} is best ←\n",
      " \t(assumption) By definition a node is \"best\" if it's \"better\" than all \"siblings\"\n",
      "\t∧ {X in (0, 1)} has siblings = {X in (0, 2)}, {X in (1, 0)}, {X in (1, 2)}, {X in (2, 0)}, {X in (2, 1)} ←\n",
      "\t \t\t(assumption) Definition of \"siblings\" is node.parent.children excluding node\n",
      "\t∧ {X in (0, 1)} is better than {X in (0, 2)} ←\n",
      "\t \t\t(assumption) By definition, node1 is \"better\" than node2 if node1 score >= node2 score\n",
      "\t\t\t∧ {X in (0, 1)} has score = 0 ←\n",
      "\t\t\t \t\t\t{X in (0, 1)} is ¬(leaf)\n",
      "\t\t\t\t\t\t∧ (assumption) Internal nodes have scores from children\n",
      "\t\t\t\t\t\t∧ {X in (0, 1)} has backpropagating child = {O in (2, 1)} ∧ {O in (2, 1)} has score = 0\n",
      "\t\t\t∧ {X in (0, 2)} has score = -100 ←\n",
      "\t\t\t \t\t\t{X in (0, 2)} is ¬(leaf)\n",
      "\t\t\t\t\t\t∧ (assumption) Internal nodes have scores from children\n",
      "\t\t\t\t\t\t∧ {X in (0, 2)} has backpropagating child = {O in (2, 0)} ∧ {O in (2, 0)} has score = -100\n",
      "\t∧ {X in (0, 1)} is better than {X in (1, 0)} ←\n",
      "\t \t\t(assumption) By definition, node1 is \"better\" than node2 if node1 score >= node2 score\n",
      "\t\t\t∧ {X in (0, 1)} has score = 0 ←\n",
      "\t\t\t \t\t\t{X in (0, 1)} is ¬(leaf)\n",
      "\t\t\t\t\t\t∧ (assumption) Internal nodes have scores from children\n",
      "\t\t\t\t\t\t∧ {X in (0, 1)} has backpropagating child = {O in (2, 1)} ∧ {O in (2, 1)} has score = 0\n",
      "\t\t\t∧ {X in (1, 0)} has score = 0 ←\n",
      "\t\t\t \t\t\t{X in (1, 0)} is ¬(leaf)\n",
      "\t\t\t\t\t\t∧ (assumption) Internal nodes have scores from children\n",
      "\t\t\t\t\t\t∧ {X in (1, 0)} has backpropagating child = {O in (1, 2)} ∧ {O in (1, 2)} has score = 0\n",
      "\t∧ {X in (0, 1)} is better than {X in (1, 2)} ←\n",
      "\t \t\t(assumption) By definition, node1 is \"better\" than node2 if node1 score >= node2 score\n",
      "\t\t\t∧ {X in (0, 1)} has score = 0 ←\n",
      "\t\t\t \t\t\t{X in (0, 1)} is ¬(leaf)\n",
      "\t\t\t\t\t\t∧ (assumption) Internal nodes have scores from children\n",
      "\t\t\t\t\t\t∧ {X in (0, 1)} has backpropagating child = {O in (2, 1)} ∧ {O in (2, 1)} has score = 0\n",
      "\t\t\t∧ {X in (1, 2)} has score = 0 ←\n",
      "\t\t\t \t\t\t{X in (1, 2)} is ¬(leaf)\n",
      "\t\t\t\t\t\t∧ (assumption) Internal nodes have scores from children\n",
      "\t\t\t\t\t\t∧ {X in (1, 2)} has backpropagating child = {O in (1, 0)} ∧ {O in (1, 0)} has score = 0\n",
      "\t∧ {X in (0, 1)} is better than {X in (2, 0)} ←\n",
      "\t \t\t(assumption) By definition, node1 is \"better\" than node2 if node1 score >= node2 score\n",
      "\t\t\t∧ {X in (0, 1)} has score = 0 ←\n",
      "\t\t\t \t\t\t{X in (0, 1)} is ¬(leaf)\n",
      "\t\t\t\t\t\t∧ (assumption) Internal nodes have scores from children\n",
      "\t\t\t\t\t\t∧ {X in (0, 1)} has backpropagating child = {O in (2, 1)} ∧ {O in (2, 1)} has score = 0\n",
      "\t\t\t∧ {X in (2, 0)} has score = -100 ←\n",
      "\t\t\t \t\t\t{X in (2, 0)} is ¬(leaf)\n",
      "\t\t\t\t\t\t∧ (assumption) Internal nodes have scores from children\n",
      "\t\t\t\t\t\t∧ {X in (2, 0)} has backpropagating child = {O in (0, 2)} ∧ {O in (0, 2)} has score = -100\n",
      "\t∧ {X in (0, 1)} is better than {X in (2, 1)} ←\n",
      "\t \t\t(assumption) By definition, node1 is \"better\" than node2 if node1 score >= node2 score\n",
      "\t\t\t∧ {X in (0, 1)} has score = 0 ←\n",
      "\t\t\t \t\t\t{X in (0, 1)} is ¬(leaf)\n",
      "\t\t\t\t\t\t∧ (assumption) Internal nodes have scores from children\n",
      "\t\t\t\t\t\t∧ {X in (0, 1)} has backpropagating child = {O in (2, 1)} ∧ {O in (2, 1)} has score = 0\n",
      "\t\t\t∧ {X in (2, 1)} has score = 0 ←\n",
      "\t\t\t \t\t\t{X in (2, 1)} is ¬(leaf)\n",
      "\t\t\t\t\t\t∧ (assumption) Internal nodes have scores from children\n",
      "\t\t\t\t\t\t∧ {X in (2, 1)} has backpropagating child = {O in (0, 1)} ∧ {O in (0, 1)} has score = 0\n"
     ]
    }
   ],
   "source": [
    "explainer.explain_adjective(choice, 'best', explanation_depth=4, with_framework='lowlevel')"
   ]
  },
  {
   "cell_type": "code",
   "execution_count": 12,
   "metadata": {},
   "outputs": [],
   "source": [
    "explainer.del_explanation_tactic('OnlyRelevantComparisons', to_framework='highlevel', to_adjective='the best')"
   ]
  },
  {
   "cell_type": "code",
   "execution_count": 13,
   "metadata": {},
   "outputs": [
    {
     "name": "stdout",
     "output_type": "stream",
     "text": [
      "{X in (0, 1)} is best ←\n",
      " \t(assumption) By definition a node is \"best\" if it's \"better\" than all \"siblings\"\n",
      "\t∧ {X in (0, 1)} has siblings = {X in (0, 2)}, {X in (1, 0)}, {X in (1, 2)}, {X in (2, 0)}, {X in (2, 1)} ←\n",
      "\t \t\t(assumption) Definition of \"siblings\" is node.parent.children excluding node\n",
      "\t∧ {X in (0, 1)} is better than {X in (0, 2)} ←\n",
      "\t \t\t(assumption) By definition, node1 is \"better\" than node2 if node1 score >= node2 score\n",
      "\t\t\t∧ {X in (0, 1)} has score = 0 ←\n",
      "\t\t\t \t\t\t{X in (0, 1)} is ¬(leaf)\n",
      "\t\t\t\t\t\t∧ (assumption) Internal nodes have scores from children\n",
      "\t\t\t\t\t\t∧ {X in (0, 1)} has backpropagating child = {O in (2, 1)} ∧ {O in (2, 1)} has score = 0\n",
      "\t\t\t∧ {X in (0, 2)} has score = -100 ←\n",
      "\t\t\t \t\t\t{X in (0, 2)} is ¬(leaf)\n",
      "\t\t\t\t\t\t∧ (assumption) Internal nodes have scores from children\n",
      "\t\t\t\t\t\t∧ {X in (0, 2)} has backpropagating child = {O in (2, 0)} ∧ {O in (2, 0)} has score = -100\n",
      "\t∧ {X in (0, 1)} is better than {X in (1, 0)} ←\n",
      "\t \t\t(assumption) By definition, node1 is \"better\" than node2 if node1 score >= node2 score\n",
      "\t\t\t∧ {X in (0, 1)} has score = 0 ←\n",
      "\t\t\t \t\t\t{X in (0, 1)} is ¬(leaf)\n",
      "\t\t\t\t\t\t∧ (assumption) Internal nodes have scores from children\n",
      "\t\t\t\t\t\t∧ {X in (0, 1)} has backpropagating child = {O in (2, 1)} ∧ {O in (2, 1)} has score = 0\n",
      "\t\t\t∧ {X in (1, 0)} has score = 0 ←\n",
      "\t\t\t \t\t\t{X in (1, 0)} is ¬(leaf)\n",
      "\t\t\t\t\t\t∧ (assumption) Internal nodes have scores from children\n",
      "\t\t\t\t\t\t∧ {X in (1, 0)} has backpropagating child = {O in (1, 2)} ∧ {O in (1, 2)} has score = 0\n",
      "\t∧ {X in (0, 1)} is better than {X in (1, 2)} ←\n",
      "\t \t\t(assumption) By definition, node1 is \"better\" than node2 if node1 score >= node2 score\n",
      "\t\t\t∧ {X in (0, 1)} has score = 0 ←\n",
      "\t\t\t \t\t\t{X in (0, 1)} is ¬(leaf)\n",
      "\t\t\t\t\t\t∧ (assumption) Internal nodes have scores from children\n",
      "\t\t\t\t\t\t∧ {X in (0, 1)} has backpropagating child = {O in (2, 1)} ∧ {O in (2, 1)} has score = 0\n",
      "\t\t\t∧ {X in (1, 2)} has score = 0 ←\n",
      "\t\t\t \t\t\t{X in (1, 2)} is ¬(leaf)\n",
      "\t\t\t\t\t\t∧ (assumption) Internal nodes have scores from children\n",
      "\t\t\t\t\t\t∧ {X in (1, 2)} has backpropagating child = {O in (1, 0)} ∧ {O in (1, 0)} has score = 0\n",
      "\t∧ {X in (0, 1)} is better than {X in (2, 0)} ←\n",
      "\t \t\t(assumption) By definition, node1 is \"better\" than node2 if node1 score >= node2 score\n",
      "\t\t\t∧ {X in (0, 1)} has score = 0 ←\n",
      "\t\t\t \t\t\t{X in (0, 1)} is ¬(leaf)\n",
      "\t\t\t\t\t\t∧ (assumption) Internal nodes have scores from children\n",
      "\t\t\t\t\t\t∧ {X in (0, 1)} has backpropagating child = {O in (2, 1)} ∧ {O in (2, 1)} has score = 0\n",
      "\t\t\t∧ {X in (2, 0)} has score = -100 ←\n",
      "\t\t\t \t\t\t{X in (2, 0)} is ¬(leaf)\n",
      "\t\t\t\t\t\t∧ (assumption) Internal nodes have scores from children\n",
      "\t\t\t\t\t\t∧ {X in (2, 0)} has backpropagating child = {O in (0, 2)} ∧ {O in (0, 2)} has score = -100\n",
      "\t∧ {X in (0, 1)} is better than {X in (2, 1)} ←\n",
      "\t \t\t(assumption) By definition, node1 is \"better\" than node2 if node1 score >= node2 score\n",
      "\t\t\t∧ {X in (0, 1)} has score = 0 ←\n",
      "\t\t\t \t\t\t{X in (0, 1)} is ¬(leaf)\n",
      "\t\t\t\t\t\t∧ (assumption) Internal nodes have scores from children\n",
      "\t\t\t\t\t\t∧ {X in (0, 1)} has backpropagating child = {O in (2, 1)} ∧ {O in (2, 1)} has score = 0\n",
      "\t\t\t∧ {X in (2, 1)} has score = 0 ←\n",
      "\t\t\t \t\t\t{X in (2, 1)} is ¬(leaf)\n",
      "\t\t\t\t\t\t∧ (assumption) Internal nodes have scores from children\n",
      "\t\t\t\t\t\t∧ {X in (2, 1)} has backpropagating child = {O in (0, 1)} ∧ {O in (0, 1)} has score = 0\n"
     ]
    }
   ],
   "source": [
    "explainer.explain_adjective(choice, 'best', explanation_depth=2)"
   ]
  }
 ],
 "metadata": {
  "kernelspec": {
   "display_name": "Python 3",
   "language": "python",
   "name": "python3"
  },
  "language_info": {
   "codemirror_mode": {
    "name": "ipython",
    "version": 3
   },
   "file_extension": ".py",
   "mimetype": "text/x-python",
   "name": "python",
   "nbconvert_exporter": "python",
   "pygments_lexer": "ipython3",
   "version": "3.11.9"
  }
 },
 "nbformat": 4,
 "nbformat_minor": 2
}
