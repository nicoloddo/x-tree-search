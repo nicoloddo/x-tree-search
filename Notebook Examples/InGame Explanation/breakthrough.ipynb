{
 "cells": [
  {
   "cell_type": "code",
   "execution_count": 1,
   "metadata": {},
   "outputs": [],
   "source": [
    "from games.breakthrough import Breakthrough, simple_depth_dependant_scoring_function\n",
    "from src.game.agents import AIAgent, User\n",
    "from algorithms.minimax import MiniMax\n",
    "from explainers.alphabeta_explainer import AlphaBetaExplainer\n",
    "from games.breakthrough.interface.gradio_interface import BreakthroughGradioInterface"
   ]
  },
  {
   "cell_type": "code",
   "execution_count": 2,
   "metadata": {},
   "outputs": [],
   "source": [
    "interface_mode = 'jupyter'"
   ]
  },
  {
   "cell_type": "code",
   "execution_count": 3,
   "metadata": {},
   "outputs": [],
   "source": [
    "game = Breakthrough(players=[User(agent_id=0), User(agent_id=1)],\n",
    "                    interface_mode='jupyter',\n",
    "                    interface_hyperlink_mode=False)\n",
    "\n",
    "explainer = AlphaBetaExplainer()\n",
    "\n",
    "use_ai_opponent = False\n",
    "if use_ai_opponent:\n",
    "    opponent = AIAgent(agent_id=0, core=MiniMax(simple_depth_dependant_scoring_function, max_depth=6, use_alpha_beta=True))\n",
    "else:\n",
    "    opponent = User(agent_id=0)\n",
    "\n",
    "game = Breakthrough(players=[opponent, User(agent_id=1)],\n",
    "                interface_mode=interface_mode, \n",
    "                interface_hyperlink_mode=interface_mode == 'gradio')\n",
    "\n",
    "if interface_mode == 'gradio': # We need to start the interface externally\n",
    "    game.explaining_agent = opponent\n",
    "    interface = BreakthroughGradioInterface(game=game, explainer=explainer)"
   ]
  },
  {
   "cell_type": "code",
   "execution_count": 4,
   "metadata": {},
   "outputs": [
    {
     "data": {
      "application/vnd.jupyter.widget-view+json": {
       "model_id": "87c372e5edb34a20993a314988a09559",
       "version_major": 2,
       "version_minor": 0
      },
      "text/plain": [
       "VBox(children=(GridBox(children=(Button(layout=Layout(border_bottom='1px solid black', border_left='1px solid …"
      ]
     },
     "metadata": {},
     "output_type": "display_data"
    },
    {
     "name": "stdout",
     "output_type": "stream",
     "text": [
      "This action is not permitted.\n",
      "\n",
      "Broke general rule 4: Players cannot move to a space occupied by their own piece.\n",
      "Broke rule 1: Players cannot move pieces of the other player.\n"
     ]
    }
   ],
   "source": [
    "if interface_mode == 'jupyter':\n",
    "    await game.start_game()\n",
    "else:\n",
    "    interface.start()"
   ]
  },
  {
   "cell_type": "code",
   "execution_count": 5,
   "metadata": {},
   "outputs": [
    {
     "data": {
      "text/plain": [
       "ActionSpace([['(5, 0)', '(0, 0)'],\n",
       "             ['(5, 1)', '(0, 1)'],\n",
       "             ['(5, 2)', '(0, 2)'],\n",
       "             ['(5, 3)', '(0, 3)'],\n",
       "             ['(5, 4)', '(0, 4)'],\n",
       "             ['(5, 5)', '(0, 5)'],\n",
       "             ['(4, 0)', '(1, 0)'],\n",
       "             ['(4, 1)', '(1, 1)'],\n",
       "             ['(4, 2)', '(1, 2)'],\n",
       "             ['(4, 3)', '(1, 3)'],\n",
       "             ['(4, 4)', '(1, 4)'],\n",
       "             ['(4, 5)', '(1, 5)']], dtype='<U8')"
      ]
     },
     "execution_count": 5,
     "metadata": {},
     "output_type": "execute_result"
    }
   ],
   "source": [
    "game.action_spaces[\"pieces\"]\n"
   ]
  }
 ],
 "metadata": {
  "kernelspec": {
   "display_name": "Python 3",
   "language": "python",
   "name": "python3"
  },
  "language_info": {
   "codemirror_mode": {
    "name": "ipython",
    "version": 3
   },
   "file_extension": ".py",
   "mimetype": "text/x-python",
   "name": "python",
   "nbconvert_exporter": "python",
   "pygments_lexer": "ipython3",
   "version": "3.11.9"
  }
 },
 "nbformat": 4,
 "nbformat_minor": 2
}
