{
 "cells": [
  {
   "cell_type": "code",
   "execution_count": 1,
   "metadata": {},
   "outputs": [],
   "source": [
    "from games.breakthrough import Breakthrough, simple_depth_dependant_scoring_function\n",
    "from src.game.agents import AIAgent, User\n",
    "from algorithms.minimax import MiniMax\n",
    "from explainers.alphabeta_explainer import AlphaBetaExplainer"
   ]
  },
  {
   "cell_type": "code",
   "execution_count": 2,
   "metadata": {},
   "outputs": [],
   "source": [
    "interface_mode = 'jupyter'"
   ]
  },
  {
   "cell_type": "code",
   "execution_count": 3,
   "metadata": {},
   "outputs": [],
   "source": [
    "game = Breakthrough(players=[User(agent_id=0), User(agent_id=1)],\n",
    "                    interface_mode='jupyter',\n",
    "                    interface_hyperlink_mode=False)\n",
    "\n",
    "explainer = AlphaBetaExplainer()\n",
    "\n",
    "use_ai_opponent = True\n",
    "if use_ai_opponent:\n",
    "    opponent = AIAgent(agent_id=0, core=MiniMax(simple_depth_dependant_scoring_function, max_depth=4, use_alpha_beta=True))\n",
    "else:\n",
    "    opponent = User(agent_id=0)\n",
    "\n",
    "game = Breakthrough(players=[opponent, User(agent_id=1)],\n",
    "                interface_mode=interface_mode, \n",
    "                interface_hyperlink_mode=interface_mode == 'gradio')\n",
    "\n",
    "if interface_mode == 'gradio': # We need to start the interface externally\n",
    "    game.explaining_agent = opponent\n",
    "    from games.breakthrough.interface.gradio_interface import BreakthroughGradioInterface\n",
    "    interface = BreakthroughGradioInterface(game=game, explainer=explainer)"
   ]
  },
  {
   "cell_type": "code",
   "execution_count": 5,
   "metadata": {},
   "outputs": [
    {
     "data": {
      "application/vnd.jupyter.widget-view+json": {
       "model_id": "2dc101bb5aba49088b211cd65da15602",
       "version_major": 2,
       "version_minor": 0
      },
      "text/plain": [
       "VBox(children=(GridBox(children=(Button(layout=Layout(border_bottom='1px solid black', border_left='1px solid …"
      ]
     },
     "metadata": {},
     "output_type": "display_data"
    }
   ],
   "source": [
    "if interface_mode == 'jupyter':\n",
    "    await game.start_game()\n",
    "else:\n",
    "    interface.start()"
   ]
  },
  {
   "cell_type": "code",
   "execution_count": 6,
   "metadata": {},
   "outputs": [
    {
     "data": {
      "text/plain": [
       "ActionSpace([['(0, 0)', '(5, 0)'],\n",
       "             ['(0, 1)', '(5, 1)'],\n",
       "             ['(0, 2)', '(5, 2)'],\n",
       "             ['(0, 3)', '(5, 3)'],\n",
       "             ['(0, 4)', '(5, 4)'],\n",
       "             ['(0, 5)', '(5, 5)'],\n",
       "             ['(1, 0)', '(4, 0)'],\n",
       "             ['(1, 1)', '(4, 1)'],\n",
       "             ['(1, 2)', '(4, 2)'],\n",
       "             ['(1, 3)', '(4, 3)'],\n",
       "             ['(1, 4)', '(4, 4)'],\n",
       "             ['(1, 5)', '(4, 5)']], dtype='<U8')"
      ]
     },
     "execution_count": 6,
     "metadata": {},
     "output_type": "execute_result"
    }
   ],
   "source": [
    "game.model.action_spaces[\"pieces\"]\n"
   ]
  }
 ],
 "metadata": {
  "kernelspec": {
   "display_name": "Python 3",
   "language": "python",
   "name": "python3"
  },
  "language_info": {
   "codemirror_mode": {
    "name": "ipython",
    "version": 3
   },
   "file_extension": ".py",
   "mimetype": "text/x-python",
   "name": "python",
   "nbconvert_exporter": "python",
   "pygments_lexer": "ipython3",
   "version": "3.11.9"
  }
 },
 "nbformat": 4,
 "nbformat_minor": 2
}
