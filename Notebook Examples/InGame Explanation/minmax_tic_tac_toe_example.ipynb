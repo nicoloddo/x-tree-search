{
 "cells": [
  {
   "cell_type": "code",
   "execution_count": 1,
   "metadata": {},
   "outputs": [],
   "source": [
    "import sys\n",
    "sys.path.append(\"d:\\\\OneDrive - Universiteit Utrecht\\\\Documents\\\\000 - Documenti\\\\PROJECTS\\\\x-tree-search\")"
   ]
  },
  {
   "cell_type": "code",
   "execution_count": 2,
   "metadata": {},
   "outputs": [],
   "source": [
    "from games.tic_tac_toe import TicTacToe\n",
    "from games.game import GameAgent, User\n",
    "from algorithms.minmax import MinMax\n",
    "from explainers.minmax_explainer import MinMaxExplainer"
   ]
  },
  {
   "cell_type": "markdown",
   "metadata": {},
   "source": [
    "# Define game"
   ]
  },
  {
   "cell_type": "code",
   "execution_count": 3,
   "metadata": {},
   "outputs": [],
   "source": [
    "game = TicTacToe()"
   ]
  },
  {
   "cell_type": "markdown",
   "metadata": {},
   "source": [
    "# Define tic-tac-toe scoring function for the minmax"
   ]
  },
  {
   "cell_type": "code",
   "execution_count": 4,
   "metadata": {},
   "outputs": [],
   "source": [
    "import numpy as np\n",
    "def scoring_function(node):\n",
    "    \"\"\" Evaluate the Tic Tac Toe board state for the 'X' player's perspective \"\"\"\n",
    "    state = node.state\n",
    "    score = 0\n",
    "    \n",
    "    # Possible lines to check (3 rows, 3 columns, 2 diagonals)\n",
    "    lines = []\n",
    "    # Rows and columns\n",
    "    for i in range(3):\n",
    "        lines.append(state[i, :])  # Row\n",
    "        lines.append(state[:, i])  # Column\n",
    "    # Diagonals\n",
    "    lines.append(np.array([state[i, i] for i in range(3)]))  # Main diagonal\n",
    "    lines.append(np.array([state[i, 2 - i] for i in range(3)]))  # Anti-diagonal\n",
    "\n",
    "    for line in lines:\n",
    "        if np.all(line == \"X\"):\n",
    "            score += 100  # 'X' wins\n",
    "        elif np.all(line == \"O\"):\n",
    "            score -= 100  # 'O' wins\n",
    "        elif np.count_nonzero(line == \"X\") == 2 and np.count_nonzero(line == \"free\") == 1:\n",
    "            score += 10  # 'X' is one move away from winning\n",
    "        elif np.count_nonzero(line == \"O\") == 2 and np.count_nonzero(line == \"free\") == 1:\n",
    "            score -= 10  # 'O' is one move away from winning\n",
    "\n",
    "    return score"
   ]
  },
  {
   "cell_type": "markdown",
   "metadata": {},
   "source": [
    "# Define explainer"
   ]
  },
  {
   "cell_type": "code",
   "execution_count": 5,
   "metadata": {},
   "outputs": [],
   "source": [
    "explainer = MinMaxExplainer()"
   ]
  },
  {
   "cell_type": "markdown",
   "metadata": {},
   "source": [
    "# Play and Explain"
   ]
  },
  {
   "cell_type": "code",
   "execution_count": 6,
   "metadata": {},
   "outputs": [],
   "source": [
    "opponent = GameAgent(MinMax(scoring_function), agent_id=0)\n",
    "user = User(agent_id=1, ask_what = False)"
   ]
  },
  {
   "cell_type": "code",
   "execution_count": 7,
   "metadata": {},
   "outputs": [],
   "source": [
    "game.set_players([opponent, user])"
   ]
  },
  {
   "cell_type": "code",
   "execution_count": 11,
   "metadata": {},
   "outputs": [
    {
     "name": "stdout",
     "output_type": "stream",
     "text": [
      "[['O' 'X' ' ']\n",
      " [' ' 'X' ' ']\n",
      " [' ' ' ' 'O']]\n",
      "\n",
      "Game paused.\n",
      "\n",
      "[['O' 'X' ' ']\n",
      " [' ' 'X' ' ']\n",
      " [' ' ' ' 'O']]\n"
     ]
    }
   ],
   "source": [
    "await game.start_on_jupyter()"
   ]
  },
  {
   "cell_type": "code",
   "execution_count": 12,
   "metadata": {},
   "outputs": [
    {
     "name": "stdout",
     "output_type": "stream",
     "text": [
      "0_2 is best ←\n",
      " \t(assumption) By definition a node is \"best\" if it's \"better\" than all \"siblings\"\n",
      "\t∧ 0_2 has siblings = 0_0, 0_1, 0_3, 0_4, 0_5 ←\n",
      "\t \t\t(assumption) Definition of \"siblings\" is node.parent.children excluding node\n",
      "\t∧ 0_2 is better than 0_0 ←\n",
      "\t \t\t(assumption) By definition, node1 is \"better\" than node2 if node1 score >= node2 score\n",
      "\t\t\t∧ 0_2 has score = 0 ←\n",
      "\t\t\t \t\t\t0_2 is ¬(leaf)\n",
      "\t\t\t\t\t\t∧ (assumption) Internal nodes have scores from children\n",
      "\t\t\t\t\t\t∧ 0_2 has backpropagating child = 0_2_4\n",
      "\t\t\t∧ 0_0 has score = -100 ←\n",
      "\t\t\t \t\t\t0_0 is ¬(leaf)\n",
      "\t\t\t\t\t\t∧ (assumption) Internal nodes have scores from children\n",
      "\t\t\t\t\t\t∧ 0_0 has backpropagating child = 0_0_1\n",
      "\t∧ 0_2 is better than 0_1 ←\n",
      "\t \t\t(assumption) By definition, node1 is \"better\" than node2 if node1 score >= node2 score\n",
      "\t\t\t∧ 0_2 has score = 0 ←\n",
      "\t\t\t \t\t\t0_2 is ¬(leaf)\n",
      "\t\t\t\t\t\t∧ (assumption) Internal nodes have scores from children\n",
      "\t\t\t\t\t\t∧ 0_2 has backpropagating child = 0_2_4\n",
      "\t\t\t∧ 0_1 has score = -100 ←\n",
      "\t\t\t \t\t\t0_1 is ¬(leaf)\n",
      "\t\t\t\t\t\t∧ (assumption) Internal nodes have scores from children\n",
      "\t\t\t\t\t\t∧ 0_1 has backpropagating child = 0_1_1\n",
      "\t∧ 0_2 is better than 0_3 ←\n",
      "\t \t\t(assumption) By definition, node1 is \"better\" than node2 if node1 score >= node2 score\n",
      "\t\t\t∧ 0_2 has score = 0 ←\n",
      "\t\t\t \t\t\t0_2 is ¬(leaf)\n",
      "\t\t\t\t\t\t∧ (assumption) Internal nodes have scores from children\n",
      "\t\t\t\t\t\t∧ 0_2 has backpropagating child = 0_2_4\n",
      "\t\t\t∧ 0_3 has score = -100 ←\n",
      "\t\t\t \t\t\t0_3 is ¬(leaf)\n",
      "\t\t\t\t\t\t∧ (assumption) Internal nodes have scores from children\n",
      "\t\t\t\t\t\t∧ 0_3 has backpropagating child = 0_3_2\n",
      "\t∧ 0_2 is better than 0_4 ←\n",
      "\t \t\t(assumption) By definition, node1 is \"better\" than node2 if node1 score >= node2 score\n",
      "\t\t\t∧ 0_2 has score = 0 ←\n",
      "\t\t\t \t\t\t0_2 is ¬(leaf)\n",
      "\t\t\t\t\t\t∧ (assumption) Internal nodes have scores from children\n",
      "\t\t\t\t\t\t∧ 0_2 has backpropagating child = 0_2_4\n",
      "\t\t\t∧ 0_4 has score = -100 ←\n",
      "\t\t\t \t\t\t0_4 is ¬(leaf)\n",
      "\t\t\t\t\t\t∧ (assumption) Internal nodes have scores from children\n",
      "\t\t\t\t\t\t∧ 0_4 has backpropagating child = 0_4_2\n",
      "\t∧ 0_2 is better than 0_5 ←\n",
      "\t \t\t(assumption) By definition, node1 is \"better\" than node2 if node1 score >= node2 score\n",
      "\t\t\t∧ 0_2 has score = 0 ←\n",
      "\t\t\t \t\t\t0_2 is ¬(leaf)\n",
      "\t\t\t\t\t\t∧ (assumption) Internal nodes have scores from children\n",
      "\t\t\t\t\t\t∧ 0_2 has backpropagating child = 0_2_4\n",
      "\t\t\t∧ 0_5 has score = -100 ←\n",
      "\t\t\t \t\t\t0_5 is ¬(leaf)\n",
      "\t\t\t\t\t\t∧ (assumption) Internal nodes have scores from children\n",
      "\t\t\t\t\t\t∧ 0_5 has backpropagating child = 0_5_2\n"
     ]
    }
   ],
   "source": [
    "choice = opponent.core.last_choice\n",
    "explainer.explain_adjective(choice, 'best')"
   ]
  }
 ],
 "metadata": {
  "kernelspec": {
   "display_name": "Python 3",
   "language": "python",
   "name": "python3"
  },
  "language_info": {
   "codemirror_mode": {
    "name": "ipython",
    "version": 3
   },
   "file_extension": ".py",
   "mimetype": "text/x-python",
   "name": "python",
   "nbconvert_exporter": "python",
   "pygments_lexer": "ipython3",
   "version": "3.11.9"
  }
 },
 "nbformat": 4,
 "nbformat_minor": 2
}
