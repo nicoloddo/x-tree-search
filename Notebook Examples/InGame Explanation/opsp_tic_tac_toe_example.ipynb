{
 "cells": [
  {
   "cell_type": "code",
   "execution_count": 1,
   "metadata": {},
   "outputs": [],
   "source": [
    "from games.tic_tac_toe import TicTacToeOpSp as TicTacToe, simple_depth_dependant_scoring_function\n",
    "from src.game.agents import AIAgentOpSp as AIAgent, User\n",
    "from algorithms.minimax_openspiel_wrapper import MiniMax\n",
    "from explainers.alphabeta_explainer import AlphaBetaExplainer\n",
    "from games.tic_tac_toe.interface.gradio_interface import TicTacToeGradioInterface"
   ]
  },
  {
   "cell_type": "code",
   "execution_count": 2,
   "metadata": {},
   "outputs": [],
   "source": [
    "interface_mode = 'jupyter'"
   ]
  },
  {
   "cell_type": "code",
   "execution_count": 3,
   "metadata": {},
   "outputs": [],
   "source": [
    "explainer = AlphaBetaExplainer()\n",
    "\n",
    "opponent = AIAgent(agent_id=1, core=MiniMax(simple_depth_dependant_scoring_function, max_depth=6))\n",
    "game = TicTacToe(players=[opponent, User(agent_id=0)],\n",
    "                interface_mode=interface_mode, \n",
    "                interface_hyperlink_mode=interface_mode == 'gradio')\n",
    "\n",
    "if interface_mode == 'gradio': # We need to start the interface externally\n",
    "    game.explaining_agent = opponent\n",
    "    interface = TicTacToeGradioInterface(game=game, explainer=explainer)"
   ]
  },
  {
   "cell_type": "markdown",
   "metadata": {},
   "source": [
    "Simulate few initial moves:"
   ]
  },
  {
   "cell_type": "code",
   "execution_count": 4,
   "metadata": {},
   "outputs": [],
   "source": [
    "simulate_initial_moves = False\n",
    "if simulate_initial_moves:\n",
    "    game.act({'where' : (0,0), 'who': 0})\n",
    "    game.act({'where' : (1,1), 'who': 1})\n",
    "    game.act({'where' : (1,0), 'who': 0})\n"
   ]
  },
  {
   "cell_type": "markdown",
   "metadata": {},
   "source": [
    "# Play and Explain"
   ]
  },
  {
   "cell_type": "code",
   "execution_count": 5,
   "metadata": {},
   "outputs": [
    {
     "data": {
      "application/vnd.jupyter.widget-view+json": {
       "model_id": "f7a2ac89bd61473099041d528c06d1a8",
       "version_major": 2,
       "version_minor": 0
      },
      "text/plain": [
       "VBox(children=(GridBox(children=(Button(layout=Layout(border_bottom='1px solid black', border_left='1px solid …"
      ]
     },
     "metadata": {},
     "output_type": "display_data"
    }
   ],
   "source": [
    "if interface_mode == 'jupyter':\n",
    "    await game.start_game()\n",
    "else:\n",
    "    interface.start()"
   ]
  },
  {
   "cell_type": "code",
   "execution_count": 6,
   "metadata": {},
   "outputs": [],
   "source": [
    "if game.interface_mode == 'jupyter' and opponent.choice is not None:\n",
    "    explanation = explainer.explain(opponent.choice, 'the best') # can also modify explanation_depth=4, or print_depth=True\n",
    "    print(explanation)"
   ]
  },
  {
   "cell_type": "code",
   "execution_count": 7,
   "metadata": {},
   "outputs": [],
   "source": [
    "if game.interface_mode == 'jupyter' and opponent.choice is not None:\n",
    "    explainer.frameworks['highlevel'].get_adjective('score').skip_statement = False\n",
    "    explanation = explainer.explain(opponent.choice, 'the best') # can also modify explanation_depth=4, or print_depth=True\n",
    "    print(explanation)"
   ]
  },
  {
   "cell_type": "markdown",
   "metadata": {},
   "source": [
    "Print tree for debugging reasons:"
   ]
  },
  {
   "cell_type": "code",
   "execution_count": 8,
   "metadata": {},
   "outputs": [],
   "source": [
    "if game.interface_mode == 'jupyter' and opponent.choice is not None:\n",
    "    opponent.core.print_tree()"
   ]
  }
 ],
 "metadata": {
  "kernelspec": {
   "display_name": "Python 3",
   "language": "python",
   "name": "python3"
  },
  "language_info": {
   "codemirror_mode": {
    "name": "ipython",
    "version": 3
   },
   "file_extension": ".py",
   "mimetype": "text/x-python",
   "name": "python",
   "nbconvert_exporter": "python",
   "pygments_lexer": "ipython3",
   "version": "3.11.9"
  }
 },
 "nbformat": 4,
 "nbformat_minor": 2
}
