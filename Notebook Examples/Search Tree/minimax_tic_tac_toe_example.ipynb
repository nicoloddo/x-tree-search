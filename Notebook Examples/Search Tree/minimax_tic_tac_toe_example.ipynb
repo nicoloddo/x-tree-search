{
 "cells": [
  {
   "cell_type": "code",
   "execution_count": 1,
   "metadata": {},
   "outputs": [],
   "source": [
    "import sys\n",
    "sys.path.append(\"d:\\\\OneDrive - Universiteit Utrecht\\\\Documents\\\\000 - Documenti\\\\PROJECTS\\\\x-tree-search\")"
   ]
  },
  {
   "cell_type": "code",
   "execution_count": 2,
   "metadata": {},
   "outputs": [],
   "source": [
    "from algorithms.minimax import MiniMax\n",
    "from games.tic_tac_toe import TicTacToe"
   ]
  },
  {
   "cell_type": "markdown",
   "metadata": {},
   "source": [
    "# Define Game"
   ]
  },
  {
   "cell_type": "code",
   "execution_count": 3,
   "metadata": {},
   "outputs": [],
   "source": [
    "game = TicTacToe()"
   ]
  },
  {
   "cell_type": "markdown",
   "metadata": {},
   "source": [
    "# Define scoring function for the minimax"
   ]
  },
  {
   "cell_type": "code",
   "execution_count": 4,
   "metadata": {},
   "outputs": [],
   "source": [
    "import numpy as np\n",
    "def scoring_function(state):\n",
    "    \"\"\" Evaluate the Tic Tac Toe board state for the 'X' player's perspective \"\"\"\n",
    "    score = 0\n",
    "    \n",
    "    # Possible lines to check (3 rows, 3 columns, 2 diagonals)\n",
    "    lines = []\n",
    "    # Rows and columns\n",
    "    for i in range(3):\n",
    "        lines.append(state[i, :])  # Row\n",
    "        lines.append(state[:, i])  # Column\n",
    "    # Diagonals\n",
    "    lines.append(np.array([state[i, i] for i in range(3)]))  # Main diagonal\n",
    "    lines.append(np.array([state[i, 2 - i] for i in range(3)]))  # Anti-diagonal\n",
    "\n",
    "    for line in lines:\n",
    "        if np.all(line == \"X\"):\n",
    "            score += 100  # 'X' wins\n",
    "        elif np.all(line == \"O\"):\n",
    "            score -= 100  # 'O' wins\n",
    "        elif np.count_nonzero(line == \"X\") == 2 and np.count_nonzero(line == \"free\") == 1:\n",
    "            score += 10  # 'X' is one move away from winning\n",
    "        elif np.count_nonzero(line == \"O\") == 2 and np.count_nonzero(line == \"free\") == 1:\n",
    "            score -= 10  # 'O' is one move away from winning\n",
    "\n",
    "    return score"
   ]
  },
  {
   "cell_type": "code",
   "execution_count": 5,
   "metadata": {},
   "outputs": [],
   "source": [
    "search = MiniMax(game.tree, scoring_function)"
   ]
  },
  {
   "cell_type": "code",
   "execution_count": 6,
   "metadata": {},
   "outputs": [
    {
     "data": {
      "text/plain": [
       "('0_0', 0)"
      ]
     },
     "execution_count": 6,
     "metadata": {},
     "output_type": "execute_result"
    }
   ],
   "source": [
    "search.run(game.tree.root)"
   ]
  }
 ],
 "metadata": {
  "kernelspec": {
   "display_name": "Python 3",
   "language": "python",
   "name": "python3"
  },
  "language_info": {
   "codemirror_mode": {
    "name": "ipython",
    "version": 3
   },
   "file_extension": ".py",
   "mimetype": "text/x-python",
   "name": "python",
   "nbconvert_exporter": "python",
   "pygments_lexer": "ipython3",
   "version": "3.9.13"
  }
 },
 "nbformat": 4,
 "nbformat_minor": 2
}
