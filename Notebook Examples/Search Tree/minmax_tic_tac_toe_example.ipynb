{
 "cells": [
  {
   "cell_type": "code",
   "execution_count": 1,
   "metadata": {},
   "outputs": [],
   "source": [
    "from src.game.game_model import GameModel\n",
    "from src.game.game_tree import GameTree\n",
    "\n",
    "from algorithms.minmax import MinMax"
   ]
  },
  {
   "cell_type": "markdown",
   "metadata": {},
   "source": [
    "# Define tic tac toe game"
   ]
  },
  {
   "cell_type": "code",
   "execution_count": 2,
   "metadata": {},
   "outputs": [
    {
     "name": "stdout",
     "output_type": "stream",
     "text": [
      "\n",
      "        You can add spaces on which to perform actions with the function add_action_space(dimensions, default_labels, additional_labels, dimensions_description).\n",
      "        For example most games need a board. By default there is the agent space, allowing for actions onto the agents features.\n",
      "        You can disable actions on an action space with \n",
      "\n",
      "        You can use the method gm.action_is_violation_if(rule, rule_description) to express rules for the game.\n",
      "\n",
      "        Use help(gm.action_is_violation_if) for help on how to define rules.\n",
      "        The rule: \"Nothing is allowed if the game is ended.\" is defined by default, to delete it use gm.delete_rule(1).\n",
      "        Use gm.print_rules() to see all the rules that have been setted.\n",
      "        \n",
      "        Use gm.set_endgame(callable_function(game)) to define based on what dynamics your game should end.\n",
      "        The callable function should have one only input parameter, which represents the game itself, \n",
      "        which can be used to refer to anything inside its model, this include:\n",
      "                - action_spaces = the action spaces belonging to the game, incuding any added one and their features\n",
      "                - agents = the agents involved in the game and their features\n",
      "                - actions = previous actions performed\n",
      "                - started = if the game has started\n",
      "                - ended = if the game has ended\n",
      "        Example: \n",
      "            def three_elements_in_row(game):\n",
      "                board = game.action_spaces[\"board\"]\n",
      "                # Check rows for winning condition\n",
      "                for row in board:\n",
      "                    if row[0] == row[1] == row[2] != 'free':\n",
      "                        return True\n",
      "                # If no winner, return False\n",
      "                return False\n",
      "        \n",
      "\n"
     ]
    }
   ],
   "source": [
    "gm = GameModel( \n",
    "agents_number=2, default_agent_features=['not starter', 'X'], additional_agent_features=[['starter'], ['O']], \n",
    "agent_features_descriptions=\"2 players with feature 1 indicating who is starting, and feature 2 indicating their symbol.\",\n",
    "game_name=\"tic-tac-toe\")\n",
    "gm.add_action_space(\"board\", dimensions=[3, 3], default_labels=['free'], additional_labels=[['X', 'O']], dimensions_descriptions=\"3x3 board.\")\n",
    "\n",
    "# Disable actions on the agent feature space.\n",
    "gm.disable_actions(on=\"agent\")\n",
    "gm.agents[1, 1] = 'O'\n",
    "gm.agents[1, 0] = 'starter'\n",
    "\n",
    "def tic_tac_toe_endgame(game):\n",
    "    board = game.action_spaces[\"board\"]\n",
    "    # Check rows for winning condition\n",
    "    for row in board:\n",
    "        if row[0] == row[1] == row[2] != 'free':\n",
    "            return True\n",
    "\n",
    "    # Check columns for winning condition\n",
    "    for col in range(3):\n",
    "        if board[0][col] == board[1][col] == board[2][col] != 'free':\n",
    "            return True\n",
    "\n",
    "    # Check diagonals for winning condition\n",
    "    if board[0][0] == board[1][1] == board[2][2] != 'free':\n",
    "        return True\n",
    "    if board[0][2] == board[1][1] == board[2][0] != 'free':\n",
    "        return True\n",
    "\n",
    "    # If no winner, return False\n",
    "    return False\n",
    "\n",
    "gm.set_endgame(tic_tac_toe_endgame)\n",
    "\n",
    "gm.action_is_violation_if(lambda who, where, what, game: not game.started and game.agents[who][0] != 'starter', rule_description=\"This is not the starting player and this is the first turn.\")\n",
    "gm.action_is_violation_if(lambda who, where, what, game: game.started and who == game.actions[-1]['who'], rule_description=\"Players cannot play two times consecutively\")\n",
    "gm.action_is_violation_if(lambda who, where, what, game: where != 'free', \"board\", rule_description=\"The space needs to be free to put a sign on it.\")\n",
    "gm.action_is_violation_if(lambda who, where, what, game: game.agents[who][1] != what, rule_description=\"Agents can only put their own sign.\")"
   ]
  },
  {
   "cell_type": "markdown",
   "metadata": {},
   "source": [
    "## Define the game tree"
   ]
  },
  {
   "cell_type": "code",
   "execution_count": 4,
   "metadata": {},
   "outputs": [],
   "source": [
    "gmt = GameTree(gm, \"board\")"
   ]
  },
  {
   "cell_type": "markdown",
   "metadata": {},
   "source": [
    "# Define the MinMax"
   ]
  },
  {
   "cell_type": "markdown",
   "metadata": {},
   "source": [
    "## Scoring function:"
   ]
  },
  {
   "cell_type": "code",
   "execution_count": 3,
   "metadata": {},
   "outputs": [],
   "source": [
    "import numpy as np\n",
    "def scoring_function(state):\n",
    "    \"\"\" Evaluate the Tic Tac Toe board state for the 'X' player's perspective \"\"\"\n",
    "    score = 0\n",
    "    \n",
    "    # Possible lines to check (3 rows, 3 columns, 2 diagonals)\n",
    "    lines = []\n",
    "    # Rows and columns\n",
    "    for i in range(3):\n",
    "        lines.append(state[i, :])  # Row\n",
    "        lines.append(state[:, i])  # Column\n",
    "    # Diagonals\n",
    "    lines.append(np.array([state[i, i] for i in range(3)]))  # Main diagonal\n",
    "    lines.append(np.array([state[i, 2 - i] for i in range(3)]))  # Anti-diagonal\n",
    "\n",
    "    for line in lines:\n",
    "        if np.all(line == \"X\"):\n",
    "            score += 100  # 'X' wins\n",
    "        elif np.all(line == \"O\"):\n",
    "            score -= 100  # 'O' wins\n",
    "        elif np.count_nonzero(line == \"X\") == 2 and np.count_nonzero(line == \"free\") == 1:\n",
    "            score += 10  # 'X' is one move away from winning\n",
    "        elif np.count_nonzero(line == \"O\") == 2 and np.count_nonzero(line == \"free\") == 1:\n",
    "            score -= 10  # 'O' is one move away from winning\n",
    "\n",
    "    return score"
   ]
  },
  {
   "cell_type": "code",
   "execution_count": 5,
   "metadata": {},
   "outputs": [],
   "source": [
    "search = MinMax(gmt, scoring_function)"
   ]
  },
  {
   "cell_type": "code",
   "execution_count": 6,
   "metadata": {},
   "outputs": [
    {
     "data": {
      "text/plain": [
       "('0_0', 0)"
      ]
     },
     "execution_count": 6,
     "metadata": {},
     "output_type": "execute_result"
    }
   ],
   "source": [
    "search.run(gmt.root.id)"
   ]
  }
 ],
 "metadata": {
  "language_info": {
   "name": "python"
  }
 },
 "nbformat": 4,
 "nbformat_minor": 2
}
