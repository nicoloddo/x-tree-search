{
 "cells": [
  {
   "cell_type": "code",
   "execution_count": 1,
   "metadata": {},
   "outputs": [],
   "source": [
    "from src.game_model import GameModel\n",
    "from src.game_tree import GameTree"
   ]
  },
  {
   "cell_type": "markdown",
   "metadata": {},
   "source": [
    "# Define the Game:"
   ]
  },
  {
   "cell_type": "markdown",
   "metadata": {},
   "source": [
    "## Declare game and board:"
   ]
  },
  {
   "cell_type": "code",
   "execution_count": 2,
   "metadata": {},
   "outputs": [
    {
     "name": "stdout",
     "output_type": "stream",
     "text": [
      "\n",
      "        You can add spaces on which to perform actions with the function add_action_space(dimensions, default_labels, additional_labels, dimensions_description).\n",
      "        For example most games need a board. By default there is the agent space, allowing for actions onto the agents features.\n",
      "        You can disable actions on an action space with \n",
      "\n",
      "        You can use the method gm.action_is_violation_if(rule, rule_description) to express rules for the game.\n",
      "\n",
      "        Use help(gm.action_is_violation_if) for help on how to define rules.\n",
      "        The rule: \"Nothing is allowed if the game is ended.\" is defined by default, to delete it use gm.delete_rule(1).\n",
      "        Use gm.print_rules() to see all the rules that have been setted.\n",
      "        \n",
      "        Use gm.set_endgame(callable_function(game)) to define based on what dynamics your game should end.\n",
      "        The callable function should have one only input parameter, which represents the game itself, \n",
      "        which can be used to refer to anything inside its model, this include:\n",
      "                - action_spaces = the action spaces belonging to the game, incuding any added one and their features\n",
      "                - agents = the agents involved in the game and their features\n",
      "                - actions = previous actions performed\n",
      "                - started = if the game has started\n",
      "                - ended = if the game has ended\n",
      "        Example: \n",
      "            def three_elements_in_row(game):\n",
      "                board = game.action_spaces[\"board\"]\n",
      "                # Check rows for winning condition\n",
      "                for row in board:\n",
      "                    if row[0] == row[1] == row[2] != 'free':\n",
      "                        return True\n",
      "                # If no winner, return False\n",
      "                return False\n",
      "        \n",
      "\n"
     ]
    }
   ],
   "source": [
    "gm = GameModel( \n",
    "agents_number=2, default_agent_features=['not starter', 'X'], additional_agent_features=[['starter'], ['O']], \n",
    "agent_features_descriptions=\"2 players with feature 1 indicating who is starting, and feature 2 indicating their symbol.\",\n",
    "game_name=\"tic-tac-toe\")\n",
    "gm.add_action_space(\"board\", dimensions=[3, 3], default_labels=['free'], additional_labels=[['X', 'O']], dimensions_descriptions=\"3x3 board.\")\n",
    "\n",
    "# Disable actions on the agent feature space.\n",
    "gm.disable_actions(on=\"agent\")\n",
    "gm.agents[1, 1] = 'O'\n",
    "gm.agents[1, 0] = 'starter'"
   ]
  },
  {
   "cell_type": "code",
   "execution_count": 3,
   "metadata": {},
   "outputs": [
    {
     "name": "stdout",
     "output_type": "stream",
     "text": [
      "Game: tic-tac-toe\n",
      "\n",
      "Action Spaces:\n",
      "\n",
      "1. agent (actions disabled): \n",
      "(2, 2), Number of elements: 4 \n",
      "Available labels: [['not starter', 'starter'], ['X', 'O']])\n",
      "\n",
      "Dimensions descriptions: 2 players with feature 1 indicating who is starting, and feature 2 indicating their symbol.\n",
      "\n",
      "agent: \n",
      "[['not starter' 'X']\n",
      " ['starter' 'O']]\n",
      "\n",
      "2. board (actions allowed): \n",
      "(3, 3), Number of elements: 9 \n",
      "Available labels: [['free', 'X', 'O']])\n",
      "\n",
      "Dimensions descriptions: 3x3 board.\n",
      "\n",
      "board: \n",
      "[['free' 'free' 'free']\n",
      " ['free' 'free' 'free']\n",
      " ['free' 'free' 'free']]\n",
      "\n",
      "\n"
     ]
    }
   ],
   "source": [
    "print(gm)"
   ]
  },
  {
   "cell_type": "code",
   "execution_count": 4,
   "metadata": {},
   "outputs": [
    {
     "name": "stdout",
     "output_type": "stream",
     "text": [
      "Rules:\n",
      "\n",
      "general:\n",
      "1: Nothing is allowed if the game is ended.\n",
      "\n",
      "agent:\n",
      "\n",
      "board:\n",
      "\n",
      "\n"
     ]
    }
   ],
   "source": [
    "print(gm.printable_rules)"
   ]
  },
  {
   "cell_type": "markdown",
   "metadata": {},
   "source": [
    "## Declare endgame dynamics"
   ]
  },
  {
   "cell_type": "code",
   "execution_count": 5,
   "metadata": {},
   "outputs": [],
   "source": [
    "def tic_tac_toe_endgame(game):\n",
    "    board = game.action_spaces[\"board\"]\n",
    "    # Check rows for winning condition\n",
    "    for row in board:\n",
    "        if row[0] == row[1] == row[2] != 'free':\n",
    "            return True\n",
    "\n",
    "    # Check columns for winning condition\n",
    "    for col in range(3):\n",
    "        if board[0][col] == board[1][col] == board[2][col] != 'free':\n",
    "            return True\n",
    "\n",
    "    # Check diagonals for winning condition\n",
    "    if board[0][0] == board[1][1] == board[2][2] != 'free':\n",
    "        return True\n",
    "    if board[0][2] == board[1][1] == board[2][0] != 'free':\n",
    "        return True\n",
    "\n",
    "    # If no winner, return False\n",
    "    return False\n",
    "\n",
    "gm.set_endgame(tic_tac_toe_endgame)"
   ]
  },
  {
   "cell_type": "markdown",
   "metadata": {},
   "source": [
    "## Define the rules"
   ]
  },
  {
   "cell_type": "code",
   "execution_count": 6,
   "metadata": {},
   "outputs": [],
   "source": [
    "\"\"\"Only the player whose starter can play the first turn:\n",
    "game.agents[who] = the agent who does the action\n",
    "agent[0] refers to the agent's first feature, which we assigned to the status\n",
    "\"\"\"\n",
    "gm.action_is_violation_if(lambda who, where, what, game: not game.started and game.agents[who][0] != 'starter', rule_description=\"This is not the starting player and this is the first turn.\")"
   ]
  },
  {
   "cell_type": "code",
   "execution_count": 7,
   "metadata": {},
   "outputs": [],
   "source": [
    "\"\"\"Agents need to alternate actions:\n",
    "The last action was done by the same player.\n",
    "\"\"\"\n",
    "gm.action_is_violation_if(lambda who, where, what, game: game.started and who == game.actions[-1]['who'], rule_description=\"Players cannot play two times consecutively\")"
   ]
  },
  {
   "cell_type": "code",
   "execution_count": 8,
   "metadata": {},
   "outputs": [],
   "source": [
    "\"\"\"You can only put a sign if the space is free:\n",
    "\"\"\"\n",
    "gm.action_is_violation_if(lambda who, where, what, game: where != 'free', \"board\", rule_description=\"The space needs to be free to put a sign on it.\")"
   ]
  },
  {
   "cell_type": "code",
   "execution_count": 9,
   "metadata": {},
   "outputs": [],
   "source": [
    "\"\"\"Agents can only put their own sign:\n",
    "agent[1] refers to the agent's symbol.\n",
    "\"\"\"\n",
    "gm.action_is_violation_if(lambda who, where, what, game: game.agents[who][1] != what, rule_description=\"Agents can only put their own sign.\")"
   ]
  },
  {
   "cell_type": "code",
   "execution_count": 10,
   "metadata": {},
   "outputs": [
    {
     "name": "stdout",
     "output_type": "stream",
     "text": [
      "Rules:\n",
      "\n",
      "general:\n",
      "1: Nothing is allowed if the game is ended.\n",
      "2: This is not the starting player and this is the first turn.\n",
      "3: Players cannot play two times consecutively\n",
      "4: Agents can only put their own sign.\n",
      "\n",
      "agent:\n",
      "\n",
      "board:\n",
      "1: The space needs to be free to put a sign on it.\n",
      "\n",
      "\n"
     ]
    }
   ],
   "source": [
    "print(gm.printable_rules)"
   ]
  },
  {
   "cell_type": "markdown",
   "metadata": {},
   "source": [
    "# Define the Game Tree"
   ]
  },
  {
   "cell_type": "markdown",
   "metadata": {},
   "source": [
    "## Define the scoring function"
   ]
  },
  {
   "cell_type": "code",
   "execution_count": 11,
   "metadata": {},
   "outputs": [],
   "source": [
    "import numpy as np\n",
    "def scoring_function(state):\n",
    "    \"\"\" Evaluate the Tic Tac Toe board state for the 'X' player's perspective \"\"\"\n",
    "    score = 0\n",
    "    \n",
    "    # Possible lines to check (3 rows, 3 columns, 2 diagonals)\n",
    "    lines = []\n",
    "    # Rows and columns\n",
    "    for i in range(3):\n",
    "        lines.append(state[i, :])  # Row\n",
    "        lines.append(state[:, i])  # Column\n",
    "    # Diagonals\n",
    "    lines.append(np.array([state[i, i] for i in range(3)]))  # Main diagonal\n",
    "    lines.append(np.array([state[i, 2 - i] for i in range(3)]))  # Anti-diagonal\n",
    "\n",
    "    for line in lines:\n",
    "        if np.all(line == \"X\"):\n",
    "            score += 100  # 'X' wins\n",
    "        elif np.all(line == \"O\"):\n",
    "            score -= 100  # 'O' wins\n",
    "        elif np.count_nonzero(line == \"X\") == 2 and np.count_nonzero(line == \"free\") == 1:\n",
    "            score += 10  # 'X' is one move away from winning\n",
    "        elif np.count_nonzero(line == \"O\") == 2 and np.count_nonzero(line == \"free\") == 1:\n",
    "            score -= 10  # 'O' is one move away from winning\n",
    "\n",
    "    return score"
   ]
  },
  {
   "cell_type": "markdown",
   "metadata": {},
   "source": [
    "## Initialize the tree"
   ]
  },
  {
   "cell_type": "code",
   "execution_count": 12,
   "metadata": {},
   "outputs": [],
   "source": [
    "gmt = GameTree(gm, scoring_function, \"board\")"
   ]
  },
  {
   "cell_type": "code",
   "execution_count": 13,
   "metadata": {},
   "outputs": [
    {
     "name": "stdout",
     "output_type": "stream",
     "text": [
      "Tree\n",
      "\n",
      "Node: 0\n",
      "Children:\n",
      "\n"
     ]
    }
   ],
   "source": [
    "print(gmt)"
   ]
  },
  {
   "cell_type": "code",
   "execution_count": 14,
   "metadata": {},
   "outputs": [],
   "source": [
    "gmt.expand_node('0')"
   ]
  },
  {
   "cell_type": "code",
   "execution_count": 15,
   "metadata": {},
   "outputs": [
    {
     "name": "stdout",
     "output_type": "stream",
     "text": [
      "Tree\n",
      "\n",
      "Node: 0\n",
      "Children:\n",
      "00 with P = 0.1111111119389534 and value V = {'state': ActionSpace([['O', 'free', 'free'],\n",
      "             ['free', 'free', 'free'],\n",
      "             ['free', 'free', 'free']], dtype='<U4'), 'score': 0, 'action': {'who': 1, 'where': (0, 0), 'what': 'O', 'what_before': 'free', 'on': 'theoretical_board'}}\n",
      "01 with P = 0.1111111119389534 and value V = {'state': ActionSpace([['free', 'O', 'free'],\n",
      "             ['free', 'free', 'free'],\n",
      "             ['free', 'free', 'free']], dtype='<U4'), 'score': 0, 'action': {'who': 1, 'where': (0, 1), 'what': 'O', 'what_before': 'free', 'on': 'theoretical_board'}}\n",
      "02 with P = 0.1111111119389534 and value V = {'state': ActionSpace([['free', 'free', 'O'],\n",
      "             ['free', 'free', 'free'],\n",
      "             ['free', 'free', 'free']], dtype='<U4'), 'score': 0, 'action': {'who': 1, 'where': (0, 2), 'what': 'O', 'what_before': 'free', 'on': 'theoretical_board'}}\n",
      "03 with P = 0.1111111119389534 and value V = {'state': ActionSpace([['free', 'free', 'free'],\n",
      "             ['O', 'free', 'free'],\n",
      "             ['free', 'free', 'free']], dtype='<U4'), 'score': 0, 'action': {'who': 1, 'where': (1, 0), 'what': 'O', 'what_before': 'free', 'on': 'theoretical_board'}}\n",
      "04 with P = 0.1111111119389534 and value V = {'state': ActionSpace([['free', 'free', 'free'],\n",
      "             ['free', 'O', 'free'],\n",
      "             ['free', 'free', 'free']], dtype='<U4'), 'score': 0, 'action': {'who': 1, 'where': (1, 1), 'what': 'O', 'what_before': 'free', 'on': 'theoretical_board'}}\n",
      "05 with P = 0.1111111119389534 and value V = {'state': ActionSpace([['free', 'free', 'free'],\n",
      "             ['free', 'free', 'O'],\n",
      "             ['free', 'free', 'free']], dtype='<U4'), 'score': 0, 'action': {'who': 1, 'where': (1, 2), 'what': 'O', 'what_before': 'free', 'on': 'theoretical_board'}}\n",
      "06 with P = 0.1111111119389534 and value V = {'state': ActionSpace([['free', 'free', 'free'],\n",
      "             ['free', 'free', 'free'],\n",
      "             ['O', 'free', 'free']], dtype='<U4'), 'score': 0, 'action': {'who': 1, 'where': (2, 0), 'what': 'O', 'what_before': 'free', 'on': 'theoretical_board'}}\n",
      "07 with P = 0.1111111119389534 and value V = {'state': ActionSpace([['free', 'free', 'free'],\n",
      "             ['free', 'free', 'free'],\n",
      "             ['free', 'O', 'free']], dtype='<U4'), 'score': 0, 'action': {'who': 1, 'where': (2, 1), 'what': 'O', 'what_before': 'free', 'on': 'theoretical_board'}}\n",
      "08 with P = 0.1111111119389534 and value V = {'state': ActionSpace([['free', 'free', 'free'],\n",
      "             ['free', 'free', 'free'],\n",
      "             ['free', 'free', 'O']], dtype='<U4'), 'score': 0, 'action': {'who': 1, 'where': (2, 2), 'what': 'O', 'what_before': 'free', 'on': 'theoretical_board'}}\n",
      "\n",
      "Node: 00\n",
      "Children:\n",
      "\n",
      "Node: 01\n",
      "Children:\n",
      "\n",
      "Node: 02\n",
      "Children:\n",
      "\n",
      "Node: 03\n",
      "Children:\n",
      "\n",
      "Node: 04\n",
      "Children:\n",
      "\n",
      "Node: 05\n",
      "Children:\n",
      "\n",
      "Node: 06\n",
      "Children:\n",
      "\n",
      "Node: 07\n",
      "Children:\n",
      "\n",
      "Node: 08\n",
      "Children:\n",
      "\n"
     ]
    }
   ],
   "source": [
    "print(gmt)"
   ]
  }
 ],
 "metadata": {
  "language_info": {
   "name": "python"
  }
 },
 "nbformat": 4,
 "nbformat_minor": 2
}
