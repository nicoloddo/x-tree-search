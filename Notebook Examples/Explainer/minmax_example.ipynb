{
 "cells": [
  {
   "cell_type": "code",
   "execution_count": 1,
   "metadata": {},
   "outputs": [],
   "source": [
    "from src.explainer.explainer import ArgumentativeExplainer\n",
    "from src.explainer.framework import ArgumentationFramework\n",
    "\n",
    "from src.explainer.adjective import BooleanAdjective, PointerAdjective, QuantitativePointerAdjective, NodesGroupPointerAdjective, ComparisonAdjective, MaxRankAdjective, MinRankAdjective\n",
    "from src.explainer.explanation import Possession, Assumption, If, ConditionalExplanation, CompositeExplanation\n",
    "\n",
    "from src.explainer.explanation_tactics import OnlyRelevantComparisons, SkipQuantitativeExplanations, SkipConditionStatement"
   ]
  },
  {
   "cell_type": "markdown",
   "metadata": {},
   "source": [
    "## We will utilize this example search tree:"
   ]
  },
  {
   "cell_type": "code",
   "execution_count": 2,
   "metadata": {},
   "outputs": [],
   "source": [
    "class MinMaxNode:\n",
    "    def __init__(self, id, *, score=None, maximizing_player_turn=True, children=None, score_child=None):\n",
    "        \n",
    "        self.id = id\n",
    "\n",
    "        if score:\n",
    "            self.score = score\n",
    "        elif score_child:\n",
    "            self.score_child = score_child\n",
    "            self.score = score_child.score\n",
    "        else:\n",
    "            raise ValueError(\"Provide score or score_child.\")\n",
    "\n",
    "        self.children = children or []\n",
    "        self.parent = None\n",
    "        self.maximizing_player_turn = maximizing_player_turn\n",
    "        \n",
    "        self.is_leaf = True\n",
    "        if len(self.children) > 0:\n",
    "            self.is_leaf = False\n",
    "            for child in children:\n",
    "                child.parent=self\n",
    "                child.maximizing_player_turn = not self.maximizing_player_turn\n",
    "    \n",
    "    def __str__(self):\n",
    "        return self.id\n",
    "\n",
    "# Create a simple game tree\n",
    "leaf11 = MinMaxNode('leaf11', score=3)\n",
    "leaf12 = MinMaxNode('leaf12', score=4)\n",
    "leaf21 = MinMaxNode('leaf21', score=8)\n",
    "leaf22 = MinMaxNode('leaf22', score=2)\n",
    "leaf31 = MinMaxNode('leaf21', score=1)\n",
    "leaf32 = MinMaxNode('leaf22', score=1)\n",
    "\n",
    "child1 = MinMaxNode('child1', children=[leaf11, leaf12], score_child=leaf11)\n",
    "#child2 = MinMaxNode('child2', children=[leaf21, leaf22], score_child=leaf22)\n",
    "child2 = MinMaxNode('child2', score = 2)\n",
    "child3 = MinMaxNode('child3', children=[leaf31, leaf32], score_child=leaf31)\n",
    "\n",
    "root = MinMaxNode('root', maximizing_player_turn=True, children=[child1, child2, child3], score_child=child1)"
   ]
  },
  {
   "cell_type": "markdown",
   "metadata": {},
   "source": [
    "## Framework definition"
   ]
  },
  {
   "cell_type": "markdown",
   "metadata": {},
   "source": [
    "### We will make two frameworks: one for Low abstraction Level explanations, and another for High abstraction Level explanations."
   ]
  },
  {
   "cell_type": "markdown",
   "metadata": {},
   "source": [
    "We will design them so that:\n",
    "\n",
    "- The Low abstraction framework can explain more closely how the search tree algorithm works and reasons.\n",
    "- The High abstraction framework can explain moves on a more abstract game concept level."
   ]
  },
  {
   "cell_type": "markdown",
   "metadata": {},
   "source": [
    "### Low Level explanation framework:"
   ]
  },
  {
   "cell_type": "code",
   "execution_count": 3,
   "metadata": {},
   "outputs": [],
   "source": [
    "knowledgebase_ll = ArgumentationFramework(refer_to_nodes_as = 'node')\n",
    "\n",
    "knowledgebase_ll.add_adjectives([\n",
    "    \n",
    "    BooleanAdjective(\"leaf\",\n",
    "        definition = \"node.is_leaf\"),\n",
    "\n",
    "\n",
    "    QuantitativePointerAdjective(\"score\",\n",
    "        definition = \"node.score\",\n",
    "\n",
    "        explanation = ConditionalExplanation(\n",
    "            condition = If(\"leaf\"),\n",
    "            explanation_if_true = Assumption(\"Leaf nodes have scores from the evaluation function\"),\n",
    "            explanation_if_false = CompositeExplanation(\n",
    "                Assumption(\"Internal nodes have scores from children\"),\n",
    "                Possession(\"backpropagating child\"))\n",
    "        )),\n",
    "\n",
    "\n",
    "    BooleanAdjective(\"opponent player turn\",\n",
    "        definition = \"not node.maximizing_player_turn\"),\n",
    "\n",
    "\n",
    "    PointerAdjective(\"backpropagating child\",\n",
    "        definition = \"node.score_child\",\n",
    "\n",
    "        explanation = ConditionalExplanation(\n",
    "            condition = If(\"opponent player turn\"),\n",
    "            explanation_if_true = CompositeExplanation(\n",
    "                Assumption(\"We assume the opponent will do their best move.\"),\n",
    "                Possession(\"backpropagating child\", \"worst\")),\n",
    "            explanation_if_false = CompositeExplanation(\n",
    "                Assumption(\"On our turn we take the maximum rated move.\"),\n",
    "                Possession(\"backpropagating child\", \"best\"))\n",
    "        )),\n",
    "\n",
    "    ComparisonAdjective(\"better\", \"score\", \">\"),\n",
    " \n",
    "    NodesGroupPointerAdjective(\"siblings\",\n",
    "        definition = \"node.parent.children\",\n",
    "        excluding = \"node\"),\n",
    "\n",
    "    MaxRankAdjective(\"best\", \"better\", \"siblings\"),\n",
    "\n",
    "    MinRankAdjective(\"worst\", \"better\", \"siblings\"),\n",
    "])"
   ]
  },
  {
   "cell_type": "markdown",
   "metadata": {},
   "source": [
    "### High Level explanation framework"
   ]
  },
  {
   "cell_type": "code",
   "execution_count": 4,
   "metadata": {},
   "outputs": [],
   "source": [
    "knowledgebase_hl = ArgumentationFramework(refer_to_nodes_as = 'move')\n",
    "\n",
    "knowledgebase_hl.add_adjectives([\n",
    "    \n",
    "    BooleanAdjective(\"final move\",\n",
    "        definition = \"node.is_leaf\"),\n",
    "\n",
    "\n",
    "    QuantitativePointerAdjective(\"score\",\n",
    "        definition = \"node.score\",\n",
    "\n",
    "        explanation = ConditionalExplanation(\n",
    "            condition = If(\"final move\"),\n",
    "            explanation_if_true = Assumption(\"my evaluation of this position\"),\n",
    "            explanation_if_false = CompositeExplanation(\n",
    "                Possession(\"next possible move\"))\n",
    "        )),\n",
    "\n",
    "\n",
    "    BooleanAdjective(\"opponent player turn\",\n",
    "        definition = \"not node.maximizing_player_turn\"),\n",
    "\n",
    "\n",
    "    PointerAdjective(\"next possible move\",\n",
    "        definition = \"node.score_child\",\n",
    "\n",
    "        explanation = ConditionalExplanation(\n",
    "            condition = If(\"opponent player turn\"),\n",
    "            explanation_if_true = CompositeExplanation(\n",
    "                Assumption(\"We assume the opponent will do their best move\"),\n",
    "                Possession(\"next possible move\", \"the best the opponent can do\")),\n",
    "            explanation_if_false = CompositeExplanation(\n",
    "                Assumption(\"On our turn we take the maximum rated move\"),\n",
    "                Possession(\"next possible move\", \"the best\"))\n",
    "        )),\n",
    "\n",
    "    ComparisonAdjective(\"better\", \"score\", \">\"),\n",
    " \n",
    "    NodesGroupPointerAdjective(\"possible alternative moves\",\n",
    "        definition = \"node.parent.children\",\n",
    "        excluding = \"node\"),\n",
    "\n",
    "    MaxRankAdjective(\"the best\", \"better\", \"possible alternative moves\"),\n",
    "\n",
    "    MinRankAdjective(\"the best the opponent can do\", \"better\", \"possible alternative moves\"),\n",
    "])"
   ]
  },
  {
   "cell_type": "markdown",
   "metadata": {},
   "source": [
    "### Notice the differences:"
   ]
  },
  {
   "cell_type": "code",
   "execution_count": 5,
   "metadata": {},
   "outputs": [
    {
     "name": "stdout",
     "output_type": "stream",
     "text": [
      "Propositions:\n",
      "node is leaf\n",
      "node has score = ?\n",
      "node is opponent player turn\n",
      "node has backpropagating child = ?\n",
      "node1 is better than node2\n",
      "node has siblings = ?\n",
      "node is best\n",
      "node is worst\n",
      "\n",
      "\n",
      "Implications:\n",
      "node has leaf = ? ←\n",
      " (assumption) Definition of \"leaf\" is node.is_leaf\n",
      "node has score = ? ←\n",
      " node is leaf ←\n",
      " (assumption) Definition of \"leaf\" is node.is_leaf\n",
      "∧ (assumption) Leaf nodes have scores from the evaluation function\n",
      "|| node is ¬(leaf) ←\n",
      " (assumption) Definition of \"leaf\" is node.is_leaf\n",
      "∧ (assumption) Internal nodes have scores from children\n",
      "∧ node has backpropagating child = ? ←\n",
      " node is opponent player turn ←\n",
      " (assumption) Definition of \"opponent player turn\" is not node.maximizing_player_turn\n",
      "∧ (assumption) We assume the opponent will do their best move.\n",
      "∧ node has worst = ? ←\n",
      " (assumption) By definition a node is \"worst\" if it's not \"better\" than all \"siblings\"\n",
      "∧ Node not better than all nodes in siblings\n",
      "|| node is ¬(opponent player turn) ←\n",
      " (assumption) Definition of \"opponent player turn\" is not node.maximizing_player_turn\n",
      "∧ (assumption) On our turn we take the maximum rated move.\n",
      "∧ node has best = ? ←\n",
      " (assumption) By definition a node is \"best\" if it's \"better\" than all \"siblings\"\n",
      "∧ Node better than all nodes in siblings\n",
      "node has opponent player turn = ? ←\n",
      " (assumption) Definition of \"opponent player turn\" is not node.maximizing_player_turn\n",
      "node has backpropagating child = ? ←\n",
      " node is opponent player turn ←\n",
      " (assumption) Definition of \"opponent player turn\" is not node.maximizing_player_turn\n",
      "∧ (assumption) We assume the opponent will do their best move.\n",
      "∧ node has worst = ? ←\n",
      " (assumption) By definition a node is \"worst\" if it's not \"better\" than all \"siblings\"\n",
      "∧ Node not better than all nodes in siblings\n",
      "|| node is ¬(opponent player turn) ←\n",
      " (assumption) Definition of \"opponent player turn\" is not node.maximizing_player_turn\n",
      "∧ (assumption) On our turn we take the maximum rated move.\n",
      "∧ node has best = ? ←\n",
      " (assumption) By definition a node is \"best\" if it's \"better\" than all \"siblings\"\n",
      "∧ Node better than all nodes in siblings\n",
      "None has better than None = ? ←\n",
      " (assumption) By definition, node1 is \"better\" than node2 if node1 score > node2 score\n",
      "∧ node has score = ? ←\n",
      " node is leaf ←\n",
      " (assumption) Definition of \"leaf\" is node.is_leaf\n",
      "∧ (assumption) Leaf nodes have scores from the evaluation function\n",
      "|| node is ¬(leaf) ←\n",
      " (assumption) Definition of \"leaf\" is node.is_leaf\n",
      "∧ (assumption) Internal nodes have scores from children\n",
      "∧ node has backpropagating child = ? ←\n",
      " node is opponent player turn ←\n",
      " (assumption) Definition of \"opponent player turn\" is not node.maximizing_player_turn\n",
      "∧ (assumption) We assume the opponent will do their best move.\n",
      "∧ node has worst = ? ←\n",
      " (assumption) By definition a node is \"worst\" if it's not \"better\" than all \"siblings\"\n",
      "∧ Node not better than all nodes in siblings\n",
      "|| node is ¬(opponent player turn) ←\n",
      " (assumption) Definition of \"opponent player turn\" is not node.maximizing_player_turn\n",
      "∧ (assumption) On our turn we take the maximum rated move.\n",
      "∧ node has best = ? ←\n",
      " (assumption) By definition a node is \"best\" if it's \"better\" than all \"siblings\"\n",
      "∧ Node better than all nodes in siblings\n",
      "node has siblings = ? ←\n",
      " (assumption) Definition of \"siblings\" is node.parent.children excluding node\n",
      "node has best = ? ←\n",
      " (assumption) By definition a node is \"best\" if it's \"better\" than all \"siblings\"\n",
      "∧ Node better than all nodes in siblings\n",
      "node has worst = ? ←\n",
      " (assumption) By definition a node is \"worst\" if it's not \"better\" than all \"siblings\"\n",
      "∧ Node not better than all nodes in siblings\n"
     ]
    }
   ],
   "source": [
    "print(knowledgebase_ll)"
   ]
  },
  {
   "cell_type": "code",
   "execution_count": 6,
   "metadata": {},
   "outputs": [
    {
     "name": "stdout",
     "output_type": "stream",
     "text": [
      "Propositions:\n",
      "move is final move\n",
      "move has score = ?\n",
      "move is opponent player turn\n",
      "move has next possible move = ?\n",
      "move1 is better than move2\n",
      "move has possible alternative moves = ?\n",
      "move is the best\n",
      "move is the best the opponent can do\n",
      "\n",
      "\n",
      "Implications:\n",
      "move has final move = ? ←\n",
      " (assumption) Definition of \"final move\" is node.is_leaf\n",
      "move has score = ? ←\n",
      " move is final move ←\n",
      " (assumption) Definition of \"final move\" is node.is_leaf\n",
      "∧ (assumption) Given my evaluation of this position\n",
      "|| move is ¬(final move) ←\n",
      " (assumption) Definition of \"final move\" is node.is_leaf\n",
      "∧ move has next possible move = ? ←\n",
      " move is opponent player turn ←\n",
      " (assumption) Definition of \"opponent player turn\" is not node.maximizing_player_turn\n",
      "∧ (assumption) We assume the opponent will do their best move\n",
      "∧ move has the best the opponent can do = ? ←\n",
      " (assumption) By definition a move is \"the best the opponent can do\" if it's not \"better\" than all \"possible alternative moves\"\n",
      "∧ Node not better than all nodes in possible alternative moves\n",
      "|| move is ¬(opponent player turn) ←\n",
      " (assumption) Definition of \"opponent player turn\" is not node.maximizing_player_turn\n",
      "∧ (assumption) On our turn we take the maximum rated move\n",
      "∧ move has the best = ? ←\n",
      " (assumption) By definition a move is \"the best\" if it's \"better\" than all \"possible alternative moves\"\n",
      "∧ Node better than all nodes in possible alternative moves\n",
      "move has opponent player turn = ? ←\n",
      " (assumption) Definition of \"opponent player turn\" is not node.maximizing_player_turn\n",
      "move has next possible move = ? ←\n",
      " move is opponent player turn ←\n",
      " (assumption) Definition of \"opponent player turn\" is not node.maximizing_player_turn\n",
      "∧ (assumption) We assume the opponent will do their best move\n",
      "∧ move has the best the opponent can do = ? ←\n",
      " (assumption) By definition a move is \"the best the opponent can do\" if it's not \"better\" than all \"possible alternative moves\"\n",
      "∧ Node not better than all nodes in possible alternative moves\n",
      "|| move is ¬(opponent player turn) ←\n",
      " (assumption) Definition of \"opponent player turn\" is not node.maximizing_player_turn\n",
      "∧ (assumption) On our turn we take the maximum rated move\n",
      "∧ move has the best = ? ←\n",
      " (assumption) By definition a move is \"the best\" if it's \"better\" than all \"possible alternative moves\"\n",
      "∧ Node better than all nodes in possible alternative moves\n",
      "None has better than None = ? ←\n",
      " (assumption) By definition, move1 is \"better\" than move2 if move1 score > move2 score\n",
      "∧ move has score = ? ←\n",
      " move is final move ←\n",
      " (assumption) Definition of \"final move\" is node.is_leaf\n",
      "∧ (assumption) Given my evaluation of this position\n",
      "|| move is ¬(final move) ←\n",
      " (assumption) Definition of \"final move\" is node.is_leaf\n",
      "∧ move has next possible move = ? ←\n",
      " move is opponent player turn ←\n",
      " (assumption) Definition of \"opponent player turn\" is not node.maximizing_player_turn\n",
      "∧ (assumption) We assume the opponent will do their best move\n",
      "∧ move has the best the opponent can do = ? ←\n",
      " (assumption) By definition a move is \"the best the opponent can do\" if it's not \"better\" than all \"possible alternative moves\"\n",
      "∧ Node not better than all nodes in possible alternative moves\n",
      "|| move is ¬(opponent player turn) ←\n",
      " (assumption) Definition of \"opponent player turn\" is not node.maximizing_player_turn\n",
      "∧ (assumption) On our turn we take the maximum rated move\n",
      "∧ move has the best = ? ←\n",
      " (assumption) By definition a move is \"the best\" if it's \"better\" than all \"possible alternative moves\"\n",
      "∧ Node better than all nodes in possible alternative moves\n",
      "move has possible alternative moves = ? ←\n",
      " (assumption) Definition of \"possible alternative moves\" is node.parent.children excluding node\n",
      "move has the best = ? ←\n",
      " (assumption) By definition a move is \"the best\" if it's \"better\" than all \"possible alternative moves\"\n",
      "∧ Node better than all nodes in possible alternative moves\n",
      "move has the best the opponent can do = ? ←\n",
      " (assumption) By definition a move is \"the best the opponent can do\" if it's not \"better\" than all \"possible alternative moves\"\n",
      "∧ Node not better than all nodes in possible alternative moves\n"
     ]
    }
   ],
   "source": [
    "print(knowledgebase_hl)"
   ]
  },
  {
   "cell_type": "markdown",
   "metadata": {},
   "source": [
    "## We can now add the frameworks to an ArgumentativeExplainer:"
   ]
  },
  {
   "cell_type": "code",
   "execution_count": 7,
   "metadata": {},
   "outputs": [],
   "source": [
    "explainer = ArgumentativeExplainer()\n",
    "explainer.add_framework(\"lowlevel\", knowledgebase_ll)\n",
    "explainer.add_framework(\"highlevel\", knowledgebase_hl)"
   ]
  },
  {
   "cell_type": "markdown",
   "metadata": {},
   "source": [
    "#### Add explanation tactics:"
   ]
  },
  {
   "cell_type": "markdown",
   "metadata": {},
   "source": [
    "Notice that they are applied to specific frameworks and, if necessary, adjectives."
   ]
  },
  {
   "cell_type": "code",
   "execution_count": 8,
   "metadata": {},
   "outputs": [],
   "source": [
    "explainer.add_explanation_tactic(OnlyRelevantComparisons(mode = \"top_1\"), to_adjective=\"the best\", to_framework='highlevel')\n",
    "#explainer.add_explanation_tactic(SkipQuantitativeExplanations(), to_framework='highlevel')\n",
    "explainer.add_explanation_tactic(SkipConditionStatement(), to_framework='highlevel')"
   ]
  },
  {
   "cell_type": "markdown",
   "metadata": {},
   "source": [
    "#### And set the explanations settings:"
   ]
  },
  {
   "cell_type": "code",
   "execution_count": 9,
   "metadata": {},
   "outputs": [],
   "source": [
    "high_abstraction_settings = {\n",
    "            'with_framework': 'highlevel',\n",
    "            'explanation_depth': 4 ,\n",
    "            'print_implicit_assumptions': False,\n",
    "            'assumptions_verbosity': 'if_asked',\n",
    "            'print_mode': 'verbal'\n",
    "        }\n",
    "\n",
    "explainer.configure_settings(high_abstraction_settings)"
   ]
  },
  {
   "cell_type": "markdown",
   "metadata": {},
   "source": [
    "## We can now explain nodes' properties"
   ]
  },
  {
   "cell_type": "code",
   "execution_count": 10,
   "metadata": {},
   "outputs": [
    {
     "name": "stdout",
     "output_type": "stream",
     "text": [
      "child1 is the best (because\n",
      " \tchild1 has as possible alternative moves child2 (only showing relevant 1)\n",
      "\tand child1 is better than child2 (because\n",
      "\t \t\tchild1 has as score 3 (because\n",
      "\t\t\t \t\t\tchild1 has as next possible move leaf11 (because\n",
      "\t\t\t\t\t\t \t\t\t\tleaf11 is the best the opponent can do))\n",
      "\t\t\tand child2 has as score 2))\n"
     ]
    }
   ],
   "source": [
    "explainer.explain_adjective(child1, \"the best\")"
   ]
  },
  {
   "cell_type": "code",
   "execution_count": 11,
   "metadata": {},
   "outputs": [
    {
     "name": "stdout",
     "output_type": "stream",
     "text": [
      "child1 is the best (because\n",
      " \tchild1 has as possible alternative moves child2 (only showing relevant 1)\n",
      "\tand child1 is better than child2 (because\n",
      "\t \t\tchild1 has as score 3 (because\n",
      "\t\t\t \t\t\tchild1 has as next possible move leaf11 (because\n",
      "\t\t\t\t\t\t \t\t\t\tleaf11 is the best the opponent can do (because\n",
      "\t\t\t\t\t\t\t\t\t\t \t\t\t\t\tleaf11 has as possible alternative moves leaf12 (only showing relevant 1) and leaf11 is not better than leaf12)))\n",
      "\t\t\tand child2 has as score 2))\n"
     ]
    }
   ],
   "source": [
    "explainer.explain_adjective(child1, \"the best\", explanation_depth=5)"
   ]
  },
  {
   "cell_type": "code",
   "execution_count": 13,
   "metadata": {},
   "outputs": [
    {
     "name": "stdout",
     "output_type": "stream",
     "text": [
      "child2 has as score 2 (because\n",
      " \t(assumption) Given my evaluation of this position)\n"
     ]
    }
   ],
   "source": [
    "explainer.explain_adjective(child2, \"score\")"
   ]
  },
  {
   "cell_type": "code",
   "execution_count": 12,
   "metadata": {},
   "outputs": [
    {
     "ename": "AttributeError",
     "evalue": "'Proposition' object has no attribute 'consequent'",
     "output_type": "error",
     "traceback": [
      "\u001b[1;31m---------------------------------------------------------------------------\u001b[0m",
      "\u001b[1;31mAttributeError\u001b[0m                            Traceback (most recent call last)",
      "Cell \u001b[1;32mIn[12], line 1\u001b[0m\n\u001b[1;32m----> 1\u001b[0m \u001b[43mexplainer\u001b[49m\u001b[38;5;241;43m.\u001b[39;49m\u001b[43mexplain_adjective\u001b[49m\u001b[43m(\u001b[49m\u001b[43mchild1\u001b[49m\u001b[43m,\u001b[49m\u001b[43m \u001b[49m\u001b[38;5;124;43m\"\u001b[39;49m\u001b[38;5;124;43mthe best\u001b[39;49m\u001b[38;5;124;43m\"\u001b[39;49m\u001b[43m,\u001b[49m\u001b[43m \u001b[49m\u001b[43mexplanation_depth\u001b[49m\u001b[38;5;241;43m=\u001b[39;49m\u001b[38;5;241;43m2\u001b[39;49m\u001b[43m)\u001b[49m\n",
      "File \u001b[1;32md:\\onedrive - universiteit utrecht\\documents\\000 - documenti\\projects\\x-tree-search\\src\\explainer\\explainer.py:94\u001b[0m, in \u001b[0;36mArgumentativeExplainer.explain_adjective\u001b[1;34m(self, node, adjective_name, comparison_node, with_framework, explanation_depth, print_depth)\u001b[0m\n\u001b[0;32m     92\u001b[0m adjective \u001b[38;5;241m=\u001b[39m \u001b[38;5;28mself\u001b[39m\u001b[38;5;241m.\u001b[39mframework\u001b[38;5;241m.\u001b[39mget_adjective(adjective_name)\n\u001b[0;32m     93\u001b[0m \u001b[38;5;28;01mif\u001b[39;00m \u001b[38;5;129;01mnot\u001b[39;00m comparison_node: \u001b[38;5;66;03m# The adjective is not comparative\u001b[39;00m\n\u001b[1;32m---> 94\u001b[0m     explanation \u001b[38;5;241m=\u001b[39m \u001b[43madjective\u001b[49m\u001b[38;5;241;43m.\u001b[39;49m\u001b[43mexplain\u001b[49m\u001b[43m(\u001b[49m\u001b[43mnode\u001b[49m\u001b[43m,\u001b[49m\u001b[43m \u001b[49m\u001b[43mcurrent_explanation_depth\u001b[49m\u001b[43m \u001b[49m\u001b[38;5;241;43m=\u001b[39;49m\u001b[43m \u001b[49m\u001b[43mSTARTING_EXPLANATION_DEPTH\u001b[49m\u001b[43m)\u001b[49m\n\u001b[0;32m     95\u001b[0m \u001b[38;5;28;01melse\u001b[39;00m:\n\u001b[0;32m     96\u001b[0m     explanation \u001b[38;5;241m=\u001b[39m adjective\u001b[38;5;241m.\u001b[39mexplain(node, comparison_node, current_explanation_depth \u001b[38;5;241m=\u001b[39m STARTING_EXPLANATION_DEPTH)\n",
      "File \u001b[1;32md:\\onedrive - universiteit utrecht\\documents\\000 - documenti\\projects\\x-tree-search\\src\\explainer\\adjective.py:152\u001b[0m, in \u001b[0;36mAdjective.explain\u001b[1;34m(self, node, other_node, explanation_tactics, current_explanation_depth)\u001b[0m\n\u001b[0;32m    150\u001b[0m     evaluation \u001b[38;5;241m=\u001b[39m \u001b[38;5;28mself\u001b[39m\u001b[38;5;241m.\u001b[39mevaluate(node, explanation_tactics\u001b[38;5;241m=\u001b[39mexplanation_tactics)\n\u001b[0;32m    151\u001b[0m     consequent \u001b[38;5;241m=\u001b[39m \u001b[38;5;28mself\u001b[39m\u001b[38;5;241m.\u001b[39mproposition(evaluation, node, explanation_tactics\u001b[38;5;241m=\u001b[39mexplanation_tactics)\n\u001b[1;32m--> 152\u001b[0m     antecedent \u001b[38;5;241m=\u001b[39m \u001b[38;5;28;43mself\u001b[39;49m\u001b[38;5;241;43m.\u001b[39;49m\u001b[43mexplanation\u001b[49m\u001b[38;5;241;43m.\u001b[39;49m\u001b[43mexplain\u001b[49m\u001b[43m(\u001b[49m\u001b[43mnode\u001b[49m\u001b[43m,\u001b[49m\u001b[43m \u001b[49m\u001b[43mexplanation_tactics\u001b[49m\u001b[38;5;241;43m=\u001b[39;49m\u001b[43mexplanation_tactics\u001b[49m\u001b[43m,\u001b[49m\u001b[43m \u001b[49m\u001b[43mcurrent_explanation_depth\u001b[49m\u001b[38;5;241;43m=\u001b[39;49m\u001b[43mcurrent_explanation_depth\u001b[49m\u001b[43m)\u001b[49m\n\u001b[0;32m    154\u001b[0m \u001b[38;5;28;01mif\u001b[39;00m antecedent \u001b[38;5;129;01mis\u001b[39;00m \u001b[38;5;129;01mnot\u001b[39;00m \u001b[38;5;28;01mNone\u001b[39;00m: \u001b[38;5;66;03m# If the explanation was given\u001b[39;00m\n\u001b[0;32m    155\u001b[0m     implication \u001b[38;5;241m=\u001b[39m Implies(antecedent, consequent)\n",
      "File \u001b[1;32md:\\onedrive - universiteit utrecht\\documents\\000 - documenti\\projects\\x-tree-search\\src\\explainer\\explanations\\base.py:49\u001b[0m, in \u001b[0;36mExplanation.explain\u001b[1;34m(self, node, other_node, explanation_tactics, current_explanation_depth)\u001b[0m\n\u001b[0;32m     47\u001b[0m     explanation \u001b[38;5;241m=\u001b[39m \u001b[38;5;28mself\u001b[39m\u001b[38;5;241m.\u001b[39m_explain(node, other_node)\n\u001b[0;32m     48\u001b[0m \u001b[38;5;28;01melse\u001b[39;00m:\n\u001b[1;32m---> 49\u001b[0m     explanation \u001b[38;5;241m=\u001b[39m \u001b[38;5;28;43mself\u001b[39;49m\u001b[38;5;241;43m.\u001b[39;49m\u001b[43m_explain\u001b[49m\u001b[43m(\u001b[49m\u001b[43mnode\u001b[49m\u001b[43m)\u001b[49m\n\u001b[0;32m     51\u001b[0m \u001b[38;5;28;01mif\u001b[39;00m explanation \u001b[38;5;129;01mis\u001b[39;00m \u001b[38;5;129;01mnot\u001b[39;00m \u001b[38;5;28;01mNone\u001b[39;00m:\n\u001b[0;32m     52\u001b[0m     \u001b[38;5;66;03m# We assign to this explanation the current explanation depth.\u001b[39;00m\n\u001b[0;32m     53\u001b[0m     explanation\u001b[38;5;241m.\u001b[39mcurrent_explanation_depth \u001b[38;5;241m=\u001b[39m current_explanation_depth\n",
      "File \u001b[1;32md:\\onedrive - universiteit utrecht\\documents\\000 - documenti\\projects\\x-tree-search\\src\\explainer\\explanations\\simple_explanations.py:354\u001b[0m, in \u001b[0;36mCompositeExplanation._explain\u001b[1;34m(self, node, other_node)\u001b[0m\n\u001b[0;32m    352\u001b[0m         \u001b[38;5;28;01melse\u001b[39;00m:\n\u001b[0;32m    353\u001b[0m             to_forward_explanations\u001b[38;5;241m.\u001b[39mappend((exp, node))\n\u001b[1;32m--> 354\u001b[0m explanations \u001b[38;5;241m=\u001b[39m \u001b[38;5;28;43mself\u001b[39;49m\u001b[38;5;241;43m.\u001b[39;49m\u001b[43mforward_multiple_explanations\u001b[49m\u001b[43m(\u001b[49m\u001b[38;5;241;43m*\u001b[39;49m\u001b[43mto_forward_explanations\u001b[49m\u001b[43m,\u001b[49m\u001b[43m \u001b[49m\u001b[43mno_increment\u001b[49m\u001b[43m \u001b[49m\u001b[38;5;241;43m=\u001b[39;49m\u001b[43m \u001b[49m\u001b[38;5;28;43;01mTrue\u001b[39;49;00m\u001b[43m)\u001b[49m\n\u001b[0;32m    355\u001b[0m \u001b[38;5;28;01mreturn\u001b[39;00m And(\u001b[38;5;241m*\u001b[39mexplanations)\n",
      "File \u001b[1;32md:\\onedrive - universiteit utrecht\\documents\\000 - documenti\\projects\\x-tree-search\\src\\explainer\\explanations\\base.py:86\u001b[0m, in \u001b[0;36mExplanation.forward_multiple_explanations\u001b[1;34m(self, no_increment, *forward_explanations)\u001b[0m\n\u001b[0;32m     84\u001b[0m explanations \u001b[38;5;241m=\u001b[39m []\n\u001b[0;32m     85\u001b[0m \u001b[38;5;28;01mfor\u001b[39;00m obj, \u001b[38;5;241m*\u001b[39margs \u001b[38;5;129;01min\u001b[39;00m forward_explanations:            \n\u001b[1;32m---> 86\u001b[0m     explanation \u001b[38;5;241m=\u001b[39m \u001b[43mobj\u001b[49m\u001b[38;5;241;43m.\u001b[39;49m\u001b[43mexplain\u001b[49m\u001b[43m(\u001b[49m\u001b[38;5;241;43m*\u001b[39;49m\u001b[43margs\u001b[49m\u001b[43m,\u001b[49m\u001b[43m \u001b[49m\u001b[43mexplanation_tactics\u001b[49m\u001b[43m \u001b[49m\u001b[38;5;241;43m=\u001b[39;49m\u001b[43m \u001b[49m\u001b[43mexplanation_tactics\u001b[49m\u001b[43m,\u001b[49m\u001b[43m \u001b[49m\u001b[43mcurrent_explanation_depth\u001b[49m\u001b[38;5;241;43m=\u001b[39;49m\u001b[43mforward_explanation_depth\u001b[49m\u001b[43m)\u001b[49m\n\u001b[0;32m     87\u001b[0m     explanations\u001b[38;5;241m.\u001b[39mappend(explanation)\n\u001b[0;32m     89\u001b[0m \u001b[38;5;28;01mreturn\u001b[39;00m explanations\n",
      "File \u001b[1;32md:\\onedrive - universiteit utrecht\\documents\\000 - documenti\\projects\\x-tree-search\\src\\explainer\\explanations\\base.py:49\u001b[0m, in \u001b[0;36mExplanation.explain\u001b[1;34m(self, node, other_node, explanation_tactics, current_explanation_depth)\u001b[0m\n\u001b[0;32m     47\u001b[0m     explanation \u001b[38;5;241m=\u001b[39m \u001b[38;5;28mself\u001b[39m\u001b[38;5;241m.\u001b[39m_explain(node, other_node)\n\u001b[0;32m     48\u001b[0m \u001b[38;5;28;01melse\u001b[39;00m:\n\u001b[1;32m---> 49\u001b[0m     explanation \u001b[38;5;241m=\u001b[39m \u001b[38;5;28;43mself\u001b[39;49m\u001b[38;5;241;43m.\u001b[39;49m\u001b[43m_explain\u001b[49m\u001b[43m(\u001b[49m\u001b[43mnode\u001b[49m\u001b[43m)\u001b[49m\n\u001b[0;32m     51\u001b[0m \u001b[38;5;28;01mif\u001b[39;00m explanation \u001b[38;5;129;01mis\u001b[39;00m \u001b[38;5;129;01mnot\u001b[39;00m \u001b[38;5;28;01mNone\u001b[39;00m:\n\u001b[0;32m     52\u001b[0m     \u001b[38;5;66;03m# We assign to this explanation the current explanation depth.\u001b[39;00m\n\u001b[0;32m     53\u001b[0m     explanation\u001b[38;5;241m.\u001b[39mcurrent_explanation_depth \u001b[38;5;241m=\u001b[39m current_explanation_depth\n",
      "File \u001b[1;32md:\\onedrive - universiteit utrecht\\documents\\000 - documenti\\projects\\x-tree-search\\src\\explainer\\explanations\\simple_explanations.py:308\u001b[0m, in \u001b[0;36mGroupComparison._explain\u001b[1;34m(self, node)\u001b[0m\n\u001b[0;32m    306\u001b[0m to_forward_explanations \u001b[38;5;241m=\u001b[39m [(comparison_adjective, node, other_node) \u001b[38;5;28;01mfor\u001b[39;00m other_node \u001b[38;5;129;01min\u001b[39;00m group]\n\u001b[0;32m    307\u001b[0m to_forward_explanations\u001b[38;5;241m.\u001b[39mappend((group_pointer_adjective, node))\n\u001b[1;32m--> 308\u001b[0m explanations \u001b[38;5;241m=\u001b[39m \u001b[38;5;28;43mself\u001b[39;49m\u001b[38;5;241;43m.\u001b[39;49m\u001b[43mforward_multiple_explanations\u001b[49m\u001b[43m(\u001b[49m\u001b[38;5;241;43m*\u001b[39;49m\u001b[43mto_forward_explanations\u001b[49m\u001b[43m)\u001b[49m\n\u001b[0;32m    309\u001b[0m base_explanation \u001b[38;5;241m=\u001b[39m explanations\u001b[38;5;241m.\u001b[39mpop() \u001b[38;5;66;03m# pop the group_pointer_adjective explanation\u001b[39;00m\n\u001b[0;32m    311\u001b[0m explanation \u001b[38;5;241m=\u001b[39m And(base_explanation, And(\u001b[38;5;241m*\u001b[39mexplanations))\n",
      "File \u001b[1;32md:\\onedrive - universiteit utrecht\\documents\\000 - documenti\\projects\\x-tree-search\\src\\explainer\\explanations\\base.py:86\u001b[0m, in \u001b[0;36mExplanation.forward_multiple_explanations\u001b[1;34m(self, no_increment, *forward_explanations)\u001b[0m\n\u001b[0;32m     84\u001b[0m explanations \u001b[38;5;241m=\u001b[39m []\n\u001b[0;32m     85\u001b[0m \u001b[38;5;28;01mfor\u001b[39;00m obj, \u001b[38;5;241m*\u001b[39margs \u001b[38;5;129;01min\u001b[39;00m forward_explanations:            \n\u001b[1;32m---> 86\u001b[0m     explanation \u001b[38;5;241m=\u001b[39m \u001b[43mobj\u001b[49m\u001b[38;5;241;43m.\u001b[39;49m\u001b[43mexplain\u001b[49m\u001b[43m(\u001b[49m\u001b[38;5;241;43m*\u001b[39;49m\u001b[43margs\u001b[49m\u001b[43m,\u001b[49m\u001b[43m \u001b[49m\u001b[43mexplanation_tactics\u001b[49m\u001b[43m \u001b[49m\u001b[38;5;241;43m=\u001b[39;49m\u001b[43m \u001b[49m\u001b[43mexplanation_tactics\u001b[49m\u001b[43m,\u001b[49m\u001b[43m \u001b[49m\u001b[43mcurrent_explanation_depth\u001b[49m\u001b[38;5;241;43m=\u001b[39;49m\u001b[43mforward_explanation_depth\u001b[49m\u001b[43m)\u001b[49m\n\u001b[0;32m     87\u001b[0m     explanations\u001b[38;5;241m.\u001b[39mappend(explanation)\n\u001b[0;32m     89\u001b[0m \u001b[38;5;28;01mreturn\u001b[39;00m explanations\n",
      "File \u001b[1;32md:\\onedrive - universiteit utrecht\\documents\\000 - documenti\\projects\\x-tree-search\\src\\explainer\\adjective.py:148\u001b[0m, in \u001b[0;36mAdjective.explain\u001b[1;34m(self, node, other_node, explanation_tactics, current_explanation_depth)\u001b[0m\n\u001b[0;32m    146\u001b[0m     evaluation \u001b[38;5;241m=\u001b[39m \u001b[38;5;28mself\u001b[39m\u001b[38;5;241m.\u001b[39mevaluate(node, other_node, explanation_tactics\u001b[38;5;241m=\u001b[39mexplanation_tactics)\n\u001b[0;32m    147\u001b[0m     consequent \u001b[38;5;241m=\u001b[39m \u001b[38;5;28mself\u001b[39m\u001b[38;5;241m.\u001b[39mproposition(evaluation, [node, other_node], explanation_tactics\u001b[38;5;241m=\u001b[39mexplanation_tactics)\n\u001b[1;32m--> 148\u001b[0m     antecedent \u001b[38;5;241m=\u001b[39m \u001b[38;5;28;43mself\u001b[39;49m\u001b[38;5;241;43m.\u001b[39;49m\u001b[43mexplanation\u001b[49m\u001b[38;5;241;43m.\u001b[39;49m\u001b[43mexplain\u001b[49m\u001b[43m(\u001b[49m\u001b[43mnode\u001b[49m\u001b[43m,\u001b[49m\u001b[43m \u001b[49m\u001b[43mother_node\u001b[49m\u001b[43m,\u001b[49m\u001b[43m \u001b[49m\u001b[43mexplanation_tactics\u001b[49m\u001b[38;5;241;43m=\u001b[39;49m\u001b[43mexplanation_tactics\u001b[49m\u001b[43m,\u001b[49m\u001b[43m \u001b[49m\u001b[43mcurrent_explanation_depth\u001b[49m\u001b[38;5;241;43m=\u001b[39;49m\u001b[43mcurrent_explanation_depth\u001b[49m\u001b[43m)\u001b[49m\n\u001b[0;32m    149\u001b[0m \u001b[38;5;28;01melse\u001b[39;00m:\n\u001b[0;32m    150\u001b[0m     evaluation \u001b[38;5;241m=\u001b[39m \u001b[38;5;28mself\u001b[39m\u001b[38;5;241m.\u001b[39mevaluate(node, explanation_tactics\u001b[38;5;241m=\u001b[39mexplanation_tactics)\n",
      "File \u001b[1;32md:\\onedrive - universiteit utrecht\\documents\\000 - documenti\\projects\\x-tree-search\\src\\explainer\\explanations\\base.py:47\u001b[0m, in \u001b[0;36mExplanation.explain\u001b[1;34m(self, node, other_node, explanation_tactics, current_explanation_depth)\u001b[0m\n\u001b[0;32m     44\u001b[0m     \u001b[38;5;28;01mreturn\u001b[39;00m\n\u001b[0;32m     46\u001b[0m \u001b[38;5;28;01mif\u001b[39;00m other_node:\n\u001b[1;32m---> 47\u001b[0m     explanation \u001b[38;5;241m=\u001b[39m \u001b[38;5;28;43mself\u001b[39;49m\u001b[38;5;241;43m.\u001b[39;49m\u001b[43m_explain\u001b[49m\u001b[43m(\u001b[49m\u001b[43mnode\u001b[49m\u001b[43m,\u001b[49m\u001b[43m \u001b[49m\u001b[43mother_node\u001b[49m\u001b[43m)\u001b[49m\n\u001b[0;32m     48\u001b[0m \u001b[38;5;28;01melse\u001b[39;00m:\n\u001b[0;32m     49\u001b[0m     explanation \u001b[38;5;241m=\u001b[39m \u001b[38;5;28mself\u001b[39m\u001b[38;5;241m.\u001b[39m_explain(node)\n",
      "File \u001b[1;32md:\\onedrive - universiteit utrecht\\documents\\000 - documenti\\projects\\x-tree-search\\src\\explainer\\explanations\\simple_explanations.py:354\u001b[0m, in \u001b[0;36mCompositeExplanation._explain\u001b[1;34m(self, node, other_node)\u001b[0m\n\u001b[0;32m    352\u001b[0m         \u001b[38;5;28;01melse\u001b[39;00m:\n\u001b[0;32m    353\u001b[0m             to_forward_explanations\u001b[38;5;241m.\u001b[39mappend((exp, node))\n\u001b[1;32m--> 354\u001b[0m explanations \u001b[38;5;241m=\u001b[39m \u001b[38;5;28;43mself\u001b[39;49m\u001b[38;5;241;43m.\u001b[39;49m\u001b[43mforward_multiple_explanations\u001b[49m\u001b[43m(\u001b[49m\u001b[38;5;241;43m*\u001b[39;49m\u001b[43mto_forward_explanations\u001b[49m\u001b[43m,\u001b[49m\u001b[43m \u001b[49m\u001b[43mno_increment\u001b[49m\u001b[43m \u001b[49m\u001b[38;5;241;43m=\u001b[39;49m\u001b[43m \u001b[49m\u001b[38;5;28;43;01mTrue\u001b[39;49;00m\u001b[43m)\u001b[49m\n\u001b[0;32m    355\u001b[0m \u001b[38;5;28;01mreturn\u001b[39;00m And(\u001b[38;5;241m*\u001b[39mexplanations)\n",
      "File \u001b[1;32md:\\onedrive - universiteit utrecht\\documents\\000 - documenti\\projects\\x-tree-search\\src\\explainer\\explanations\\base.py:86\u001b[0m, in \u001b[0;36mExplanation.forward_multiple_explanations\u001b[1;34m(self, no_increment, *forward_explanations)\u001b[0m\n\u001b[0;32m     84\u001b[0m explanations \u001b[38;5;241m=\u001b[39m []\n\u001b[0;32m     85\u001b[0m \u001b[38;5;28;01mfor\u001b[39;00m obj, \u001b[38;5;241m*\u001b[39margs \u001b[38;5;129;01min\u001b[39;00m forward_explanations:            \n\u001b[1;32m---> 86\u001b[0m     explanation \u001b[38;5;241m=\u001b[39m \u001b[43mobj\u001b[49m\u001b[38;5;241;43m.\u001b[39;49m\u001b[43mexplain\u001b[49m\u001b[43m(\u001b[49m\u001b[38;5;241;43m*\u001b[39;49m\u001b[43margs\u001b[49m\u001b[43m,\u001b[49m\u001b[43m \u001b[49m\u001b[43mexplanation_tactics\u001b[49m\u001b[43m \u001b[49m\u001b[38;5;241;43m=\u001b[39;49m\u001b[43m \u001b[49m\u001b[43mexplanation_tactics\u001b[49m\u001b[43m,\u001b[49m\u001b[43m \u001b[49m\u001b[43mcurrent_explanation_depth\u001b[49m\u001b[38;5;241;43m=\u001b[39;49m\u001b[43mforward_explanation_depth\u001b[49m\u001b[43m)\u001b[49m\n\u001b[0;32m     87\u001b[0m     explanations\u001b[38;5;241m.\u001b[39mappend(explanation)\n\u001b[0;32m     89\u001b[0m \u001b[38;5;28;01mreturn\u001b[39;00m explanations\n",
      "File \u001b[1;32md:\\onedrive - universiteit utrecht\\documents\\000 - documenti\\projects\\x-tree-search\\src\\explainer\\explanations\\base.py:47\u001b[0m, in \u001b[0;36mExplanation.explain\u001b[1;34m(self, node, other_node, explanation_tactics, current_explanation_depth)\u001b[0m\n\u001b[0;32m     44\u001b[0m     \u001b[38;5;28;01mreturn\u001b[39;00m\n\u001b[0;32m     46\u001b[0m \u001b[38;5;28;01mif\u001b[39;00m other_node:\n\u001b[1;32m---> 47\u001b[0m     explanation \u001b[38;5;241m=\u001b[39m \u001b[38;5;28;43mself\u001b[39;49m\u001b[38;5;241;43m.\u001b[39;49m\u001b[43m_explain\u001b[49m\u001b[43m(\u001b[49m\u001b[43mnode\u001b[49m\u001b[43m,\u001b[49m\u001b[43m \u001b[49m\u001b[43mother_node\u001b[49m\u001b[43m)\u001b[49m\n\u001b[0;32m     48\u001b[0m \u001b[38;5;28;01melse\u001b[39;00m:\n\u001b[0;32m     49\u001b[0m     explanation \u001b[38;5;241m=\u001b[39m \u001b[38;5;28mself\u001b[39m\u001b[38;5;241m.\u001b[39m_explain(node)\n",
      "File \u001b[1;32md:\\onedrive - universiteit utrecht\\documents\\000 - documenti\\projects\\x-tree-search\\src\\explainer\\explanations\\simple_explanations.py:255\u001b[0m, in \u001b[0;36mComparisonNodesPropertyPossession._explain\u001b[1;34m(self, node, other_node)\u001b[0m\n\u001b[0;32m    242\u001b[0m \u001b[38;5;250m\u001b[39m\u001b[38;5;124;03m\"\"\"\u001b[39;00m\n\u001b[0;32m    243\u001b[0m \u001b[38;5;124;03mGenerate an explanation for the possession of a property on a node and another node to be compared to.\u001b[39;00m\n\u001b[0;32m    244\u001b[0m \u001b[38;5;124;03m\u001b[39;00m\n\u001b[1;32m   (...)\u001b[0m\n\u001b[0;32m    251\u001b[0m \u001b[38;5;124;03m    A Proposition explaining the possession of the property values for both nodes.\u001b[39;00m\n\u001b[0;32m    252\u001b[0m \u001b[38;5;124;03m\"\"\"\u001b[39;00m\n\u001b[0;32m    253\u001b[0m adjective_for_comparison \u001b[38;5;241m=\u001b[39m \u001b[38;5;28mself\u001b[39m\u001b[38;5;241m.\u001b[39mframework\u001b[38;5;241m.\u001b[39mget_adjective(\u001b[38;5;28mself\u001b[39m\u001b[38;5;241m.\u001b[39madjective_for_comparison_name)\n\u001b[1;32m--> 255\u001b[0m explanations \u001b[38;5;241m=\u001b[39m \u001b[38;5;28;43mself\u001b[39;49m\u001b[38;5;241;43m.\u001b[39;49m\u001b[43mforward_multiple_explanations\u001b[49m\u001b[43m(\u001b[49m\n\u001b[0;32m    256\u001b[0m \u001b[43m            \u001b[49m\u001b[43m(\u001b[49m\u001b[43madjective_for_comparison\u001b[49m\u001b[43m,\u001b[49m\u001b[43m \u001b[49m\u001b[43mnode\u001b[49m\u001b[43m)\u001b[49m\u001b[43m,\u001b[49m\n\u001b[0;32m    257\u001b[0m \u001b[43m            \u001b[49m\u001b[43m(\u001b[49m\u001b[43madjective_for_comparison\u001b[49m\u001b[43m,\u001b[49m\u001b[43m \u001b[49m\u001b[43mother_node\u001b[49m\u001b[43m)\u001b[49m\n\u001b[0;32m    258\u001b[0m \u001b[43m        \u001b[49m\u001b[43m)\u001b[49m\n\u001b[0;32m    260\u001b[0m explanation \u001b[38;5;241m=\u001b[39m And(\u001b[38;5;241m*\u001b[39mexplanations)\n\u001b[0;32m    262\u001b[0m \u001b[38;5;28;01mreturn\u001b[39;00m explanation\n",
      "File \u001b[1;32md:\\onedrive - universiteit utrecht\\documents\\000 - documenti\\projects\\x-tree-search\\src\\explainer\\explanations\\base.py:86\u001b[0m, in \u001b[0;36mExplanation.forward_multiple_explanations\u001b[1;34m(self, no_increment, *forward_explanations)\u001b[0m\n\u001b[0;32m     84\u001b[0m explanations \u001b[38;5;241m=\u001b[39m []\n\u001b[0;32m     85\u001b[0m \u001b[38;5;28;01mfor\u001b[39;00m obj, \u001b[38;5;241m*\u001b[39margs \u001b[38;5;129;01min\u001b[39;00m forward_explanations:            \n\u001b[1;32m---> 86\u001b[0m     explanation \u001b[38;5;241m=\u001b[39m \u001b[43mobj\u001b[49m\u001b[38;5;241;43m.\u001b[39;49m\u001b[43mexplain\u001b[49m\u001b[43m(\u001b[49m\u001b[38;5;241;43m*\u001b[39;49m\u001b[43margs\u001b[49m\u001b[43m,\u001b[49m\u001b[43m \u001b[49m\u001b[43mexplanation_tactics\u001b[49m\u001b[43m \u001b[49m\u001b[38;5;241;43m=\u001b[39;49m\u001b[43m \u001b[49m\u001b[43mexplanation_tactics\u001b[49m\u001b[43m,\u001b[49m\u001b[43m \u001b[49m\u001b[43mcurrent_explanation_depth\u001b[49m\u001b[38;5;241;43m=\u001b[39;49m\u001b[43mforward_explanation_depth\u001b[49m\u001b[43m)\u001b[49m\n\u001b[0;32m     87\u001b[0m     explanations\u001b[38;5;241m.\u001b[39mappend(explanation)\n\u001b[0;32m     89\u001b[0m \u001b[38;5;28;01mreturn\u001b[39;00m explanations\n",
      "File \u001b[1;32md:\\onedrive - universiteit utrecht\\documents\\000 - documenti\\projects\\x-tree-search\\src\\explainer\\adjective.py:164\u001b[0m, in \u001b[0;36mAdjective.explain\u001b[1;34m(self, node, other_node, explanation_tactics, current_explanation_depth)\u001b[0m\n\u001b[0;32m    161\u001b[0m \u001b[38;5;28;01melse\u001b[39;00m:\n\u001b[0;32m    162\u001b[0m     explanation \u001b[38;5;241m=\u001b[39m consequent\n\u001b[1;32m--> 164\u001b[0m explanation \u001b[38;5;241m=\u001b[39m \u001b[43mapply_explanation_tactics\u001b[49m\u001b[43m(\u001b[49m\u001b[38;5;28;43mself\u001b[39;49m\u001b[43m,\u001b[49m\u001b[43m \u001b[49m\u001b[38;5;124;43m\"\u001b[39;49m\u001b[38;5;124;43mexplanation\u001b[39;49m\u001b[38;5;124;43m\"\u001b[39;49m\u001b[43m,\u001b[49m\u001b[43m \u001b[49m\u001b[43mexplanation_tactics\u001b[49m\u001b[43m,\u001b[49m\u001b[43m \u001b[49m\u001b[43mexplanation\u001b[49m\u001b[43m)\u001b[49m\n\u001b[0;32m    165\u001b[0m \u001b[38;5;28;01mreturn\u001b[39;00m explanation\n",
      "File \u001b[1;32md:\\onedrive - universiteit utrecht\\documents\\000 - documenti\\projects\\x-tree-search\\src\\explainer\\common\\utils.py:11\u001b[0m, in \u001b[0;36mapply_explanation_tactics\u001b[1;34m(evaluating_object, scope, explanation_tactics, *args)\u001b[0m\n\u001b[0;32m      8\u001b[0m     explanation_tactics \u001b[38;5;241m=\u001b[39m {}\n\u001b[0;32m     10\u001b[0m \u001b[38;5;28;01mfor\u001b[39;00m tactic \u001b[38;5;129;01min\u001b[39;00m explanation_tactics\u001b[38;5;241m.\u001b[39mvalues():\n\u001b[1;32m---> 11\u001b[0m     result \u001b[38;5;241m=\u001b[39m \u001b[43mtactic\u001b[49m\u001b[38;5;241;43m.\u001b[39;49m\u001b[43mapply\u001b[49m\u001b[43m(\u001b[49m\u001b[43mevaluating_object\u001b[49m\u001b[43m,\u001b[49m\u001b[43m \u001b[49m\u001b[43mscope\u001b[49m\u001b[43m,\u001b[49m\u001b[43m \u001b[49m\u001b[38;5;241;43m*\u001b[39;49m\u001b[43margs\u001b[49m\u001b[43m)\u001b[49m\n\u001b[0;32m     12\u001b[0m     args \u001b[38;5;241m=\u001b[39m result \u001b[38;5;28;01mif\u001b[39;00m \u001b[38;5;28misinstance\u001b[39m(result, \u001b[38;5;28mtuple\u001b[39m) \u001b[38;5;28;01melse\u001b[39;00m (result,)\n\u001b[0;32m     13\u001b[0m \u001b[38;5;28;01mreturn\u001b[39;00m return_arguments(\u001b[38;5;241m*\u001b[39margs)\n",
      "File \u001b[1;32md:\\onedrive - universiteit utrecht\\documents\\000 - documenti\\projects\\x-tree-search\\src\\explainer\\explanation_tactics.py:110\u001b[0m, in \u001b[0;36mTactic.apply\u001b[1;34m(self, calling_adjective, scope, *args)\u001b[0m\n\u001b[0;32m    108\u001b[0m     result \u001b[38;5;241m=\u001b[39m \u001b[38;5;28mself\u001b[39m\u001b[38;5;241m.\u001b[39mapply_on_evaluation(\u001b[38;5;241m*\u001b[39margs)\n\u001b[0;32m    109\u001b[0m \u001b[38;5;28;01melif\u001b[39;00m scope \u001b[38;5;241m==\u001b[39m \u001b[38;5;124m\"\u001b[39m\u001b[38;5;124mexplanation\u001b[39m\u001b[38;5;124m\"\u001b[39m:\n\u001b[1;32m--> 110\u001b[0m     result \u001b[38;5;241m=\u001b[39m \u001b[38;5;28;43mself\u001b[39;49m\u001b[38;5;241;43m.\u001b[39;49m\u001b[43mapply_on_explanation\u001b[49m\u001b[43m(\u001b[49m\u001b[38;5;241;43m*\u001b[39;49m\u001b[43margs\u001b[49m\u001b[43m)\u001b[49m\n\u001b[0;32m    111\u001b[0m \u001b[38;5;28;01melse\u001b[39;00m:\n\u001b[0;32m    112\u001b[0m     \u001b[38;5;28;01mraise\u001b[39;00m \u001b[38;5;167;01mValueError\u001b[39;00m(\u001b[38;5;124mf\u001b[39m\u001b[38;5;124m\"\u001b[39m\u001b[38;5;124mSomething went wrong when selecting the \u001b[39m\u001b[38;5;132;01m{\u001b[39;00m\u001b[38;5;28mself\u001b[39m\u001b[38;5;241m.\u001b[39mname\u001b[38;5;132;01m}\u001b[39;00m\u001b[38;5;124m tactic\u001b[39m\u001b[38;5;124m'\u001b[39m\u001b[38;5;124ms scope.\u001b[39m\u001b[38;5;124m\"\u001b[39m)\n",
      "File \u001b[1;32md:\\onedrive - universiteit utrecht\\documents\\000 - documenti\\projects\\x-tree-search\\src\\explainer\\explanation_tactics.py:273\u001b[0m, in \u001b[0;36mSkipConditionStatement.apply_on_explanation\u001b[1;34m(self, explanation)\u001b[0m\n\u001b[0;32m    270\u001b[0m     antecedent \u001b[38;5;241m=\u001b[39m explanation\n\u001b[0;32m    272\u001b[0m \u001b[38;5;28;01mif\u001b[39;00m \u001b[38;5;28misinstance\u001b[39m(antecedent, Proposition):\n\u001b[1;32m--> 273\u001b[0m     explanation \u001b[38;5;241m=\u001b[39m \u001b[43mexplanation\u001b[49m\u001b[38;5;241;43m.\u001b[39;49m\u001b[43mconsequent\u001b[49m \u001b[38;5;66;03m# The whole antecedent is the condition\u001b[39;00m\n\u001b[0;32m    274\u001b[0m \u001b[38;5;28;01melif\u001b[39;00m \u001b[38;5;28misinstance\u001b[39m(antecedent, And): \n\u001b[0;32m    275\u001b[0m     antecedent\u001b[38;5;241m.\u001b[39mexprs \u001b[38;5;241m=\u001b[39m \u001b[38;5;28mtuple\u001b[39m(antecedent\u001b[38;5;241m.\u001b[39mexprs[\u001b[38;5;241m1\u001b[39m:]) \u001b[38;5;66;03m# The first expression is the condition statement.\u001b[39;00m\n",
      "\u001b[1;31mAttributeError\u001b[0m: 'Proposition' object has no attribute 'consequent'"
     ]
    }
   ],
   "source": [
    "explainer.explain_adjective(child1, \"the best\", explanation_depth=2)"
   ]
  },
  {
   "cell_type": "code",
   "execution_count": null,
   "metadata": {},
   "outputs": [
    {
     "name": "stdout",
     "output_type": "stream",
     "text": [
      "child1 is better than child2 (because\n",
      " \tchild1 has as score 3 (because\n",
      "\t \t\tchild1 has as next possible move leaf11 (because\n",
      "\t\t\t \t\t\tleaf11 is the best the opponent can do (because\n",
      "\t\t\t\t\t\t \t\t\t\tleaf11 has as possible alternative moves leaf12 and leaf11 is not better than leaf12)))\n",
      "\tand child2 has as score 2 (because\n",
      "\t None))\n"
     ]
    }
   ],
   "source": [
    "explainer.explain_adjective(child1, \"better\", child2)"
   ]
  },
  {
   "cell_type": "markdown",
   "metadata": {},
   "source": [
    "### Here you can see the lowlevel framework in action"
   ]
  },
  {
   "cell_type": "code",
   "execution_count": null,
   "metadata": {},
   "outputs": [],
   "source": [
    "low_abstraction_settings = {\n",
    "            'with_framework': 'lowlevel',\n",
    "            'explanation_depth': 3 ,\n",
    "            'print_implicit_assumptions': True,\n",
    "            'assumptions_verbosity': 'verbose',\n",
    "            'print_mode': 'logic'\n",
    "        }\n",
    "\n",
    "explainer.configure_settings(low_abstraction_settings)"
   ]
  },
  {
   "cell_type": "code",
   "execution_count": null,
   "metadata": {},
   "outputs": [
    {
     "name": "stdout",
     "output_type": "stream",
     "text": [
      "child1 is ¬(worst)\n"
     ]
    }
   ],
   "source": [
    "explainer.explain_adjective(child1, \"worst\", explanation_depth = 0)"
   ]
  },
  {
   "cell_type": "code",
   "execution_count": null,
   "metadata": {},
   "outputs": [
    {
     "name": "stdout",
     "output_type": "stream",
     "text": [
      "child1 is ¬(worst) ←\n",
      " \t(assumption) By definition a node is \"worst\" if it's not \"better\" than all \"siblings\"\n",
      "\t∧ child1 has siblings = child2, child3\n",
      "\t∧ child1 is better than child2 ∧ child1 is better than child3\n"
     ]
    }
   ],
   "source": [
    "explainer.explain_adjective(child1, \"worst\", explanation_depth = 1)"
   ]
  },
  {
   "cell_type": "code",
   "execution_count": null,
   "metadata": {},
   "outputs": [
    {
     "name": "stdout",
     "output_type": "stream",
     "text": [
      "child1 is ¬(worst) ←\n",
      " \t(assumption) By definition a node is \"worst\" if it's not \"better\" than all \"siblings\"\n",
      "\t∧ child1 has siblings = child2, child3 ←\n",
      "\t \t\t(assumption) Definition of \"siblings\" is node.parent.children excluding node\n",
      "\t∧ child1 is better than child2 ←\n",
      "\t \t\t(assumption) By definition, node1 is \"better\" than node2 if node1 score > node2 score\n",
      "\t\t\t∧ child1 has score = 3 ←\n",
      "\t\t\t \t\t\tchild1 is ¬(leaf)\n",
      "\t\t\t\t\t\t∧ (assumption) Internal nodes have scores from children\n",
      "\t\t\t\t\t\t∧ child1 has backpropagating child = leaf11\n",
      "\t\t\t∧ child2 has score = 2 ←\n",
      "\t\t\t \t\t\tchild2 is leaf\n",
      "\t\t\t\t\t\t∧ (assumption) Leaf nodes have scores from the evaluation function\n",
      "\t∧ child1 is better than child3 ←\n",
      "\t \t\t(assumption) By definition, node1 is \"better\" than node2 if node1 score > node2 score\n",
      "\t\t\t∧ child1 has score = 3 ←\n",
      "\t\t\t \t\t\tchild1 is ¬(leaf)\n",
      "\t\t\t\t\t\t∧ (assumption) Internal nodes have scores from children\n",
      "\t\t\t\t\t\t∧ child1 has backpropagating child = leaf11\n",
      "\t\t\t∧ child3 has score = 1 ←\n",
      "\t\t\t \t\t\tchild3 is ¬(leaf)\n",
      "\t\t\t\t\t\t∧ (assumption) Internal nodes have scores from children\n",
      "\t\t\t\t\t\t∧ child3 has backpropagating child = leaf21\n"
     ]
    }
   ],
   "source": [
    "explainer.explain_adjective(child1, \"worst\")"
   ]
  },
  {
   "cell_type": "markdown",
   "metadata": {},
   "source": [
    "### You can also print the depth of arguments"
   ]
  },
  {
   "cell_type": "code",
   "execution_count": null,
   "metadata": {},
   "outputs": [
    {
     "name": "stdout",
     "output_type": "stream",
     "text": [
      "child1 is ¬(worst) ←\n",
      " \tDepth 1:\n",
      "\t(assumption) By definition a node is \"worst\" if it's not \"better\" than all \"siblings\"\n",
      "\t∧ child1 has siblings = child2, child3 ←\n",
      "\t \t\tDepth 2:\n",
      "\t\t\t(assumption) Definition of \"siblings\" is node.parent.children excluding node\n",
      "\t∧ child1 is better than child2 ←\n",
      "\t \t\tDepth 2:\n",
      "\t\t\t(assumption) By definition, node1 is \"better\" than node2 if node1 score > node2 score\n",
      "\t\t\t∧ child1 has score = 3 ←\n",
      "\t\t\t \t\t\tDepth 3:\n",
      "\t\t\t\t\t\tchild1 is ¬(leaf)\n",
      "\t\t\t\t\t\t∧ (assumption) Internal nodes have scores from children\n",
      "\t\t\t\t\t\t∧ child1 has backpropagating child = leaf11\n",
      "\t\t\t∧ child2 has score = 2 ←\n",
      "\t\t\t \t\t\tDepth 3:\n",
      "\t\t\t\t\t\tchild2 is leaf\n",
      "\t\t\t\t\t\t∧ (assumption) Leaf nodes have scores from the evaluation function\n",
      "\t∧ child1 is better than child3 ←\n",
      "\t \t\tDepth 2:\n",
      "\t\t\t(assumption) By definition, node1 is \"better\" than node2 if node1 score > node2 score\n",
      "\t\t\t∧ child1 has score = 3 ←\n",
      "\t\t\t \t\t\tDepth 3:\n",
      "\t\t\t\t\t\tchild1 is ¬(leaf)\n",
      "\t\t\t\t\t\t∧ (assumption) Internal nodes have scores from children\n",
      "\t\t\t\t\t\t∧ child1 has backpropagating child = leaf11\n",
      "\t\t\t∧ child3 has score = 1 ←\n",
      "\t\t\t \t\t\tDepth 3:\n",
      "\t\t\t\t\t\tchild3 is ¬(leaf)\n",
      "\t\t\t\t\t\t∧ (assumption) Internal nodes have scores from children\n",
      "\t\t\t\t\t\t∧ child3 has backpropagating child = leaf21\n"
     ]
    }
   ],
   "source": [
    "explainer.explain_adjective(child1, \"worst\", print_depth=True)"
   ]
  },
  {
   "cell_type": "code",
   "execution_count": null,
   "metadata": {},
   "outputs": [
    {
     "name": "stdout",
     "output_type": "stream",
     "text": [
      "child1 is better than child2 ←\n",
      " \t(assumption) By definition, node1 is \"better\" than node2 if node1 score > node2 score\n",
      "\t∧ child1 has score = 3 ←\n",
      "\t \t\tchild1 is ¬(leaf) ←\n",
      "\t\t\t \t\t\t(assumption) Definition of \"leaf\" is node.is_leaf\n",
      "\t\t\t∧ (assumption) Internal nodes have scores from children\n",
      "\t\t\t∧ child1 has backpropagating child = leaf11 ←\n",
      "\t\t\t \t\t\tchild1 is opponent player turn\n",
      "\t\t\t\t\t\t∧ (assumption) We assume the opponent will do their best move.\n",
      "\t\t\t\t\t\t∧ leaf11 is worst\n",
      "\t∧ child2 has score = 2 ←\n",
      "\t \t\tchild2 is leaf ←\n",
      "\t\t\t \t\t\t(assumption) Definition of \"leaf\" is node.is_leaf\n",
      "\t\t\t∧ (assumption) Leaf nodes have scores from the evaluation function\n"
     ]
    }
   ],
   "source": [
    "explainer.explain_adjective(child1, \"better\", child2)"
   ]
  },
  {
   "cell_type": "code",
   "execution_count": null,
   "metadata": {},
   "outputs": [
    {
     "name": "stdout",
     "output_type": "stream",
     "text": [
      "child1 has siblings = child2, child3 ←\n",
      " \t(assumption) Definition of \"siblings\" is node.parent.children excluding node\n"
     ]
    }
   ],
   "source": [
    "explainer.explain_adjective(child1, \"siblings\")"
   ]
  },
  {
   "cell_type": "code",
   "execution_count": null,
   "metadata": {},
   "outputs": [
    {
     "name": "stdout",
     "output_type": "stream",
     "text": [
      "root has backpropagating child = child1 ←\n",
      " \troot is ¬(opponent player turn) ←\n",
      "\t \t\t(assumption) Definition of \"opponent player turn\" is not node.maximizing_player_turn\n",
      "\t∧ (assumption) On our turn we take the maximum rated move.\n",
      "\t∧ child1 is best ←\n",
      "\t \t\t(assumption) By definition a node is \"best\" if it's \"better\" than all \"siblings\"\n",
      "\t\t\t∧ child1 has siblings = child2, child3 ←\n",
      "\t\t\t \t\t\t(assumption) Definition of \"siblings\" is node.parent.children excluding node\n",
      "\t\t\t∧ child1 is better than child2 ←\n",
      "\t\t\t \t\t\t(assumption) By definition, node1 is \"better\" than node2 if node1 score > node2 score\n",
      "\t\t\t\t\t\t∧ child1 has score = 3 ∧ child2 has score = 2\n",
      "\t\t\t∧ child1 is better than child3 ←\n",
      "\t\t\t \t\t\t(assumption) By definition, node1 is \"better\" than node2 if node1 score > node2 score\n",
      "\t\t\t\t\t\t∧ child1 has score = 3 ∧ child3 has score = 1\n"
     ]
    }
   ],
   "source": [
    "explainer.explain_adjective(root, \"backpropagating child\")"
   ]
  },
  {
   "cell_type": "code",
   "execution_count": null,
   "metadata": {},
   "outputs": [
    {
     "name": "stdout",
     "output_type": "stream",
     "text": [
      "root has score = 3 ←\n",
      " \tDepth 1:\n",
      "\troot is ¬(leaf) ←\n",
      "\t \t\tDepth 2:\n",
      "\t\t\t(assumption) Definition of \"leaf\" is node.is_leaf\n",
      "\t∧ (assumption) Internal nodes have scores from children\n",
      "\t∧ root has backpropagating child = child1 ←\n",
      "\t \t\tDepth 2:\n",
      "\t\t\troot is ¬(opponent player turn) ←\n",
      "\t\t\t \t\t\tDepth 3:\n",
      "\t\t\t\t\t\t(assumption) Definition of \"opponent player turn\" is not node.maximizing_player_turn\n",
      "\t\t\t∧ (assumption) On our turn we take the maximum rated move.\n",
      "\t\t\t∧ child1 is best ←\n",
      "\t\t\t \t\t\tDepth 3:\n",
      "\t\t\t\t\t\t(assumption) By definition a node is \"best\" if it's \"better\" than all \"siblings\"\n",
      "\t\t\t\t\t\t∧ child1 has siblings = child2, child3 ←\n",
      "\t\t\t\t\t\t \t\t\t\tDepth 4:\n",
      "\t\t\t\t\t\t\t\t\t\t(assumption) Definition of \"siblings\" is node.parent.children excluding node\n",
      "\t\t\t\t\t\t∧ child1 is better than child2 ←\n",
      "\t\t\t\t\t\t \t\t\t\tDepth 4:\n",
      "\t\t\t\t\t\t\t\t\t\t(assumption) By definition, node1 is \"better\" than node2 if node1 score > node2 score\n",
      "\t\t\t\t\t\t\t\t\t\t∧ child1 has score = 3 ←\n",
      "\t\t\t\t\t\t\t\t\t\t \t\t\t\t\tDepth 5:\n",
      "\t\t\t\t\t\t\t\t\t\t\t\t\t\t\tchild1 is ¬(leaf) ←\n",
      "\t\t\t\t\t\t\t\t\t\t\t\t\t\t\t \t\t\t\t\t\tDepth 6:\n",
      "\t\t\t\t\t\t\t\t\t\t\t\t\t\t\t\t\t\t\t\t\t(assumption) Definition of \"leaf\" is node.is_leaf\n",
      "\t\t\t\t\t\t\t\t\t\t\t\t\t\t\t∧ (assumption) Internal nodes have scores from children\n",
      "\t\t\t\t\t\t\t\t\t\t\t\t\t\t\t∧ child1 has backpropagating child = leaf11 ←\n",
      "\t\t\t\t\t\t\t\t\t\t\t\t\t\t\t \t\t\t\t\t\tDepth 6:\n",
      "\t\t\t\t\t\t\t\t\t\t\t\t\t\t\t\t\t\t\t\t\tchild1 is opponent player turn ←\n",
      "\t\t\t\t\t\t\t\t\t\t\t\t\t\t\t\t\t\t\t\t\t \t\t\t\t\t\t\tDepth 7:\n",
      "\t\t\t\t\t\t\t\t\t\t\t\t\t\t\t\t\t\t\t\t\t\t\t\t\t\t\t\t(assumption) Definition of \"opponent player turn\" is not node.maximizing_player_turn\n",
      "\t\t\t\t\t\t\t\t\t\t\t\t\t\t\t\t\t\t\t\t\t∧ (assumption) We assume the opponent will do their best move.\n",
      "\t\t\t\t\t\t\t\t\t\t\t\t\t\t\t\t\t\t\t\t\t∧ leaf11 is worst ←\n",
      "\t\t\t\t\t\t\t\t\t\t\t\t\t\t\t\t\t\t\t\t\t \t\t\t\t\t\t\tDepth 7:\n",
      "\t\t\t\t\t\t\t\t\t\t\t\t\t\t\t\t\t\t\t\t\t\t\t\t\t\t\t\t(assumption) By definition a node is \"worst\" if it's not \"better\" than all \"siblings\"\n",
      "\t\t\t\t\t\t\t\t\t\t\t\t\t\t\t\t\t\t\t\t\t\t\t\t\t\t\t\t∧ leaf11 has siblings = leaf12 ←\n",
      "\t\t\t\t\t\t\t\t\t\t\t\t\t\t\t\t\t\t\t\t\t\t\t\t\t\t\t\t \t\t\t\t\t\t\t\tDepth 8:\n",
      "\t\t\t\t\t\t\t\t\t\t\t\t\t\t\t\t\t\t\t\t\t\t\t\t\t\t\t\t\t\t\t\t\t\t\t\t(assumption) Definition of \"siblings\" is node.parent.children excluding node\n",
      "\t\t\t\t\t\t\t\t\t\t\t\t\t\t\t\t\t\t\t\t\t\t\t\t\t\t\t\t∧ leaf11 is ¬(better than leaf12) ←\n",
      "\t\t\t\t\t\t\t\t\t\t\t\t\t\t\t\t\t\t\t\t\t\t\t\t\t\t\t\t \t\t\t\t\t\t\t\tDepth 8:\n",
      "\t\t\t\t\t\t\t\t\t\t\t\t\t\t\t\t\t\t\t\t\t\t\t\t\t\t\t\t\t\t\t\t\t\t\t\t(assumption) By definition, node1 is \"better\" than node2 if node1 score > node2 score\n",
      "\t\t\t\t\t\t\t\t\t\t\t\t\t\t\t\t\t\t\t\t\t\t\t\t\t\t\t\t\t\t\t\t\t\t\t\t∧ leaf11 has score = 3 ←\n",
      "\t\t\t\t\t\t\t\t\t\t\t\t\t\t\t\t\t\t\t\t\t\t\t\t\t\t\t\t\t\t\t\t\t\t\t\t \t\t\t\t\t\t\t\t\tDepth 9:\n",
      "\t\t\t\t\t\t\t\t\t\t\t\t\t\t\t\t\t\t\t\t\t\t\t\t\t\t\t\t\t\t\t\t\t\t\t\t\t\t\t\t\t\t\t\t\tleaf11 is leaf ←\n",
      "\t\t\t\t\t\t\t\t\t\t\t\t\t\t\t\t\t\t\t\t\t\t\t\t\t\t\t\t\t\t\t\t\t\t\t\t\t\t\t\t\t\t\t\t\t \t\t\t\t\t\t\t\t\t\tDepth 10:\n",
      "\t\t\t\t\t\t\t\t\t\t\t\t\t\t\t\t\t\t\t\t\t\t\t\t\t\t\t\t\t\t\t\t\t\t\t\t\t\t\t\t\t\t\t\t\t\t\t\t\t\t\t\t\t\t\t(assumption) Definition of \"leaf\" is node.is_leaf\n",
      "\t\t\t\t\t\t\t\t\t\t\t\t\t\t\t\t\t\t\t\t\t\t\t\t\t\t\t\t\t\t\t\t\t\t\t\t\t\t\t\t\t\t\t\t\t∧ (assumption) Leaf nodes have scores from the evaluation function\n",
      "\t\t\t\t\t\t\t\t\t\t\t\t\t\t\t\t\t\t\t\t\t\t\t\t\t\t\t\t\t\t\t\t\t\t\t\t∧ leaf12 has score = 4 ←\n",
      "\t\t\t\t\t\t\t\t\t\t\t\t\t\t\t\t\t\t\t\t\t\t\t\t\t\t\t\t\t\t\t\t\t\t\t\t \t\t\t\t\t\t\t\t\tDepth 9:\n",
      "\t\t\t\t\t\t\t\t\t\t\t\t\t\t\t\t\t\t\t\t\t\t\t\t\t\t\t\t\t\t\t\t\t\t\t\t\t\t\t\t\t\t\t\t\tleaf12 is leaf ←\n",
      "\t\t\t\t\t\t\t\t\t\t\t\t\t\t\t\t\t\t\t\t\t\t\t\t\t\t\t\t\t\t\t\t\t\t\t\t\t\t\t\t\t\t\t\t\t \t\t\t\t\t\t\t\t\t\tDepth 10:\n",
      "\t\t\t\t\t\t\t\t\t\t\t\t\t\t\t\t\t\t\t\t\t\t\t\t\t\t\t\t\t\t\t\t\t\t\t\t\t\t\t\t\t\t\t\t\t\t\t\t\t\t\t\t\t\t\t(assumption) Definition of \"leaf\" is node.is_leaf\n",
      "\t\t\t\t\t\t\t\t\t\t\t\t\t\t\t\t\t\t\t\t\t\t\t\t\t\t\t\t\t\t\t\t\t\t\t\t\t\t\t\t\t\t\t\t\t∧ (assumption) Leaf nodes have scores from the evaluation function\n",
      "\t\t\t\t\t\t\t\t\t\t∧ child2 has score = 2 ←\n",
      "\t\t\t\t\t\t\t\t\t\t \t\t\t\t\tDepth 5:\n",
      "\t\t\t\t\t\t\t\t\t\t\t\t\t\t\tchild2 is leaf ←\n",
      "\t\t\t\t\t\t\t\t\t\t\t\t\t\t\t \t\t\t\t\t\tDepth 6:\n",
      "\t\t\t\t\t\t\t\t\t\t\t\t\t\t\t\t\t\t\t\t\t(assumption) Definition of \"leaf\" is node.is_leaf\n",
      "\t\t\t\t\t\t\t\t\t\t\t\t\t\t\t∧ (assumption) Leaf nodes have scores from the evaluation function\n",
      "\t\t\t\t\t\t∧ child1 is better than child3 ←\n",
      "\t\t\t\t\t\t \t\t\t\tDepth 4:\n",
      "\t\t\t\t\t\t\t\t\t\t(assumption) By definition, node1 is \"better\" than node2 if node1 score > node2 score\n",
      "\t\t\t\t\t\t\t\t\t\t∧ child1 has score = 3 ←\n",
      "\t\t\t\t\t\t\t\t\t\t \t\t\t\t\tDepth 5:\n",
      "\t\t\t\t\t\t\t\t\t\t\t\t\t\t\tchild1 is ¬(leaf) ←\n",
      "\t\t\t\t\t\t\t\t\t\t\t\t\t\t\t \t\t\t\t\t\tDepth 6:\n",
      "\t\t\t\t\t\t\t\t\t\t\t\t\t\t\t\t\t\t\t\t\t(assumption) Definition of \"leaf\" is node.is_leaf\n",
      "\t\t\t\t\t\t\t\t\t\t\t\t\t\t\t∧ (assumption) Internal nodes have scores from children\n",
      "\t\t\t\t\t\t\t\t\t\t\t\t\t\t\t∧ child1 has backpropagating child = leaf11 ←\n",
      "\t\t\t\t\t\t\t\t\t\t\t\t\t\t\t \t\t\t\t\t\tDepth 6:\n",
      "\t\t\t\t\t\t\t\t\t\t\t\t\t\t\t\t\t\t\t\t\tchild1 is opponent player turn ←\n",
      "\t\t\t\t\t\t\t\t\t\t\t\t\t\t\t\t\t\t\t\t\t \t\t\t\t\t\t\tDepth 7:\n",
      "\t\t\t\t\t\t\t\t\t\t\t\t\t\t\t\t\t\t\t\t\t\t\t\t\t\t\t\t(assumption) Definition of \"opponent player turn\" is not node.maximizing_player_turn\n",
      "\t\t\t\t\t\t\t\t\t\t\t\t\t\t\t\t\t\t\t\t\t∧ (assumption) We assume the opponent will do their best move.\n",
      "\t\t\t\t\t\t\t\t\t\t\t\t\t\t\t\t\t\t\t\t\t∧ leaf11 is worst ←\n",
      "\t\t\t\t\t\t\t\t\t\t\t\t\t\t\t\t\t\t\t\t\t \t\t\t\t\t\t\tDepth 7:\n",
      "\t\t\t\t\t\t\t\t\t\t\t\t\t\t\t\t\t\t\t\t\t\t\t\t\t\t\t\t(assumption) By definition a node is \"worst\" if it's not \"better\" than all \"siblings\"\n",
      "\t\t\t\t\t\t\t\t\t\t\t\t\t\t\t\t\t\t\t\t\t\t\t\t\t\t\t\t∧ leaf11 has siblings = leaf12 ←\n",
      "\t\t\t\t\t\t\t\t\t\t\t\t\t\t\t\t\t\t\t\t\t\t\t\t\t\t\t\t \t\t\t\t\t\t\t\tDepth 8:\n",
      "\t\t\t\t\t\t\t\t\t\t\t\t\t\t\t\t\t\t\t\t\t\t\t\t\t\t\t\t\t\t\t\t\t\t\t\t(assumption) Definition of \"siblings\" is node.parent.children excluding node\n",
      "\t\t\t\t\t\t\t\t\t\t\t\t\t\t\t\t\t\t\t\t\t\t\t\t\t\t\t\t∧ leaf11 is ¬(better than leaf12) ←\n",
      "\t\t\t\t\t\t\t\t\t\t\t\t\t\t\t\t\t\t\t\t\t\t\t\t\t\t\t\t \t\t\t\t\t\t\t\tDepth 8:\n",
      "\t\t\t\t\t\t\t\t\t\t\t\t\t\t\t\t\t\t\t\t\t\t\t\t\t\t\t\t\t\t\t\t\t\t\t\t(assumption) By definition, node1 is \"better\" than node2 if node1 score > node2 score\n",
      "\t\t\t\t\t\t\t\t\t\t\t\t\t\t\t\t\t\t\t\t\t\t\t\t\t\t\t\t\t\t\t\t\t\t\t\t∧ leaf11 has score = 3 ←\n",
      "\t\t\t\t\t\t\t\t\t\t\t\t\t\t\t\t\t\t\t\t\t\t\t\t\t\t\t\t\t\t\t\t\t\t\t\t \t\t\t\t\t\t\t\t\tDepth 9:\n",
      "\t\t\t\t\t\t\t\t\t\t\t\t\t\t\t\t\t\t\t\t\t\t\t\t\t\t\t\t\t\t\t\t\t\t\t\t\t\t\t\t\t\t\t\t\tleaf11 is leaf ←\n",
      "\t\t\t\t\t\t\t\t\t\t\t\t\t\t\t\t\t\t\t\t\t\t\t\t\t\t\t\t\t\t\t\t\t\t\t\t\t\t\t\t\t\t\t\t\t \t\t\t\t\t\t\t\t\t\tDepth 10:\n",
      "\t\t\t\t\t\t\t\t\t\t\t\t\t\t\t\t\t\t\t\t\t\t\t\t\t\t\t\t\t\t\t\t\t\t\t\t\t\t\t\t\t\t\t\t\t\t\t\t\t\t\t\t\t\t\t(assumption) Definition of \"leaf\" is node.is_leaf\n",
      "\t\t\t\t\t\t\t\t\t\t\t\t\t\t\t\t\t\t\t\t\t\t\t\t\t\t\t\t\t\t\t\t\t\t\t\t\t\t\t\t\t\t\t\t\t∧ (assumption) Leaf nodes have scores from the evaluation function\n",
      "\t\t\t\t\t\t\t\t\t\t\t\t\t\t\t\t\t\t\t\t\t\t\t\t\t\t\t\t\t\t\t\t\t\t\t\t∧ leaf12 has score = 4 ←\n",
      "\t\t\t\t\t\t\t\t\t\t\t\t\t\t\t\t\t\t\t\t\t\t\t\t\t\t\t\t\t\t\t\t\t\t\t\t \t\t\t\t\t\t\t\t\tDepth 9:\n",
      "\t\t\t\t\t\t\t\t\t\t\t\t\t\t\t\t\t\t\t\t\t\t\t\t\t\t\t\t\t\t\t\t\t\t\t\t\t\t\t\t\t\t\t\t\tleaf12 is leaf ←\n",
      "\t\t\t\t\t\t\t\t\t\t\t\t\t\t\t\t\t\t\t\t\t\t\t\t\t\t\t\t\t\t\t\t\t\t\t\t\t\t\t\t\t\t\t\t\t \t\t\t\t\t\t\t\t\t\tDepth 10:\n",
      "\t\t\t\t\t\t\t\t\t\t\t\t\t\t\t\t\t\t\t\t\t\t\t\t\t\t\t\t\t\t\t\t\t\t\t\t\t\t\t\t\t\t\t\t\t\t\t\t\t\t\t\t\t\t\t(assumption) Definition of \"leaf\" is node.is_leaf\n",
      "\t\t\t\t\t\t\t\t\t\t\t\t\t\t\t\t\t\t\t\t\t\t\t\t\t\t\t\t\t\t\t\t\t\t\t\t\t\t\t\t\t\t\t\t\t∧ (assumption) Leaf nodes have scores from the evaluation function\n",
      "\t\t\t\t\t\t\t\t\t\t∧ child3 has score = 1 ←\n",
      "\t\t\t\t\t\t\t\t\t\t \t\t\t\t\tDepth 5:\n",
      "\t\t\t\t\t\t\t\t\t\t\t\t\t\t\tchild3 is ¬(leaf) ←\n",
      "\t\t\t\t\t\t\t\t\t\t\t\t\t\t\t \t\t\t\t\t\tDepth 6:\n",
      "\t\t\t\t\t\t\t\t\t\t\t\t\t\t\t\t\t\t\t\t\t(assumption) Definition of \"leaf\" is node.is_leaf\n",
      "\t\t\t\t\t\t\t\t\t\t\t\t\t\t\t∧ (assumption) Internal nodes have scores from children\n",
      "\t\t\t\t\t\t\t\t\t\t\t\t\t\t\t∧ child3 has backpropagating child = leaf21 ←\n",
      "\t\t\t\t\t\t\t\t\t\t\t\t\t\t\t \t\t\t\t\t\tDepth 6:\n",
      "\t\t\t\t\t\t\t\t\t\t\t\t\t\t\t\t\t\t\t\t\tchild3 is opponent player turn ←\n",
      "\t\t\t\t\t\t\t\t\t\t\t\t\t\t\t\t\t\t\t\t\t \t\t\t\t\t\t\tDepth 7:\n",
      "\t\t\t\t\t\t\t\t\t\t\t\t\t\t\t\t\t\t\t\t\t\t\t\t\t\t\t\t(assumption) Definition of \"opponent player turn\" is not node.maximizing_player_turn\n",
      "\t\t\t\t\t\t\t\t\t\t\t\t\t\t\t\t\t\t\t\t\t∧ (assumption) We assume the opponent will do their best move.\n",
      "\t\t\t\t\t\t\t\t\t\t\t\t\t\t\t\t\t\t\t\t\t∧ leaf21 is ¬(worst) ←\n",
      "\t\t\t\t\t\t\t\t\t\t\t\t\t\t\t\t\t\t\t\t\t \t\t\t\t\t\t\tDepth 7:\n",
      "\t\t\t\t\t\t\t\t\t\t\t\t\t\t\t\t\t\t\t\t\t\t\t\t\t\t\t\t(assumption) By definition a node is \"worst\" if it's not \"better\" than all \"siblings\"\n",
      "\t\t\t\t\t\t\t\t\t\t\t\t\t\t\t\t\t\t\t\t\t\t\t\t\t\t\t\t∧ leaf21 has siblings = leaf22 ←\n",
      "\t\t\t\t\t\t\t\t\t\t\t\t\t\t\t\t\t\t\t\t\t\t\t\t\t\t\t\t \t\t\t\t\t\t\t\tDepth 8:\n",
      "\t\t\t\t\t\t\t\t\t\t\t\t\t\t\t\t\t\t\t\t\t\t\t\t\t\t\t\t\t\t\t\t\t\t\t\t(assumption) Definition of \"siblings\" is node.parent.children excluding node\n",
      "\t\t\t\t\t\t\t\t\t\t\t\t\t\t\t\t\t\t\t\t\t\t\t\t\t\t\t\t∧ leaf21 is ¬(better than leaf22) ←\n",
      "\t\t\t\t\t\t\t\t\t\t\t\t\t\t\t\t\t\t\t\t\t\t\t\t\t\t\t\t \t\t\t\t\t\t\t\tDepth 8:\n",
      "\t\t\t\t\t\t\t\t\t\t\t\t\t\t\t\t\t\t\t\t\t\t\t\t\t\t\t\t\t\t\t\t\t\t\t\t(assumption) By definition, node1 is \"better\" than node2 if node1 score > node2 score\n",
      "\t\t\t\t\t\t\t\t\t\t\t\t\t\t\t\t\t\t\t\t\t\t\t\t\t\t\t\t\t\t\t\t\t\t\t\t∧ leaf21 has score = 1 ←\n",
      "\t\t\t\t\t\t\t\t\t\t\t\t\t\t\t\t\t\t\t\t\t\t\t\t\t\t\t\t\t\t\t\t\t\t\t\t \t\t\t\t\t\t\t\t\tDepth 9:\n",
      "\t\t\t\t\t\t\t\t\t\t\t\t\t\t\t\t\t\t\t\t\t\t\t\t\t\t\t\t\t\t\t\t\t\t\t\t\t\t\t\t\t\t\t\t\tleaf21 is leaf ←\n",
      "\t\t\t\t\t\t\t\t\t\t\t\t\t\t\t\t\t\t\t\t\t\t\t\t\t\t\t\t\t\t\t\t\t\t\t\t\t\t\t\t\t\t\t\t\t \t\t\t\t\t\t\t\t\t\tDepth 10:\n",
      "\t\t\t\t\t\t\t\t\t\t\t\t\t\t\t\t\t\t\t\t\t\t\t\t\t\t\t\t\t\t\t\t\t\t\t\t\t\t\t\t\t\t\t\t\t\t\t\t\t\t\t\t\t\t\t(assumption) Definition of \"leaf\" is node.is_leaf\n",
      "\t\t\t\t\t\t\t\t\t\t\t\t\t\t\t\t\t\t\t\t\t\t\t\t\t\t\t\t\t\t\t\t\t\t\t\t\t\t\t\t\t\t\t\t\t∧ (assumption) Leaf nodes have scores from the evaluation function\n",
      "\t\t\t\t\t\t\t\t\t\t\t\t\t\t\t\t\t\t\t\t\t\t\t\t\t\t\t\t\t\t\t\t\t\t\t\t∧ leaf22 has score = 1 ←\n",
      "\t\t\t\t\t\t\t\t\t\t\t\t\t\t\t\t\t\t\t\t\t\t\t\t\t\t\t\t\t\t\t\t\t\t\t\t \t\t\t\t\t\t\t\t\tDepth 9:\n",
      "\t\t\t\t\t\t\t\t\t\t\t\t\t\t\t\t\t\t\t\t\t\t\t\t\t\t\t\t\t\t\t\t\t\t\t\t\t\t\t\t\t\t\t\t\tleaf22 is leaf ←\n",
      "\t\t\t\t\t\t\t\t\t\t\t\t\t\t\t\t\t\t\t\t\t\t\t\t\t\t\t\t\t\t\t\t\t\t\t\t\t\t\t\t\t\t\t\t\t \t\t\t\t\t\t\t\t\t\tDepth 10:\n",
      "\t\t\t\t\t\t\t\t\t\t\t\t\t\t\t\t\t\t\t\t\t\t\t\t\t\t\t\t\t\t\t\t\t\t\t\t\t\t\t\t\t\t\t\t\t\t\t\t\t\t\t\t\t\t\t(assumption) Definition of \"leaf\" is node.is_leaf\n",
      "\t\t\t\t\t\t\t\t\t\t\t\t\t\t\t\t\t\t\t\t\t\t\t\t\t\t\t\t\t\t\t\t\t\t\t\t\t\t\t\t\t\t\t\t\t∧ (assumption) Leaf nodes have scores from the evaluation function\n"
     ]
    }
   ],
   "source": [
    "explainer.explain_adjective(root, \"score\", explanation_depth = 15, print_depth=True)"
   ]
  }
 ],
 "metadata": {
  "kernelspec": {
   "display_name": "Python 3 (ipykernel)",
   "language": "python",
   "name": "python3"
  },
  "language_info": {
   "codemirror_mode": {
    "name": "ipython",
    "version": 3
   },
   "file_extension": ".py",
   "mimetype": "text/x-python",
   "name": "python",
   "nbconvert_exporter": "python",
   "pygments_lexer": "ipython3",
   "version": "3.11.9"
  }
 },
 "nbformat": 4,
 "nbformat_minor": 2
}
