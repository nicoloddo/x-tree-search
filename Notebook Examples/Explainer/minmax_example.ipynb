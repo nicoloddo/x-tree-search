{
 "cells": [
  {
   "cell_type": "code",
   "execution_count": 1,
   "metadata": {},
   "outputs": [],
   "source": [
    "from src.explainer.explainer import ArgumentativeExplainer\n",
    "from src.explainer.framework import ArgumentationFramework\n",
    "\n",
    "from src.explainer.adjective import BooleanAdjective, PointerAdjective, QuantitativePointerAdjective, NodesGroupPointerAdjective, ComparisonAdjective, MaxRankAdjective, MinRankAdjective\n",
    "from src.explainer.explanation import Possession, Assumption, If, ConditionalExplanation, CompositeExplanation\n",
    "\n",
    "from src.explainer.explanation_tactics import OnlyRelevantComparisons, SkipQuantitativeExplanations, SubstituteQuantitativeExplanations, SkipConditionStatement"
   ]
  },
  {
   "cell_type": "markdown",
   "metadata": {},
   "source": [
    "## We will utilize this example search tree:"
   ]
  },
  {
   "cell_type": "code",
   "execution_count": 2,
   "metadata": {},
   "outputs": [],
   "source": [
    "class MinMaxNode:\n",
    "    def __init__(self, id, *, score=None, maximizing_player_turn=True, children=None, score_child=None):\n",
    "        \n",
    "        self.id = id\n",
    "\n",
    "        if score:\n",
    "            self.score = score\n",
    "        elif score_child:\n",
    "            self.score_child = score_child\n",
    "            self.score = score_child.score\n",
    "        else:\n",
    "            raise ValueError(\"Provide score or score_child.\")\n",
    "\n",
    "        self.children = children or []\n",
    "        self.parent = None\n",
    "        self.maximizing_player_turn = maximizing_player_turn\n",
    "        \n",
    "        self.is_leaf = True\n",
    "        if len(self.children) > 0:\n",
    "            self.is_leaf = False\n",
    "            for child in children:\n",
    "                child.parent=self\n",
    "                child.maximizing_player_turn = not self.maximizing_player_turn\n",
    "    \n",
    "    def __str__(self):\n",
    "        return self.id\n",
    "\n",
    "# Create a simple game tree\n",
    "leaf11 = MinMaxNode('leaf11', score=3)\n",
    "leaf12 = MinMaxNode('leaf12', score=4)\n",
    "leaf21 = MinMaxNode('leaf21', score=8)\n",
    "leaf22 = MinMaxNode('leaf22', score=2)\n",
    "leaf31 = MinMaxNode('leaf21', score=1)\n",
    "leaf32 = MinMaxNode('leaf22', score=1)\n",
    "\n",
    "child1 = MinMaxNode('child1', children=[leaf11, leaf12], score_child=leaf11)\n",
    "#child2 = MinMaxNode('child2', children=[leaf21, leaf22], score_child=leaf22)\n",
    "child2 = MinMaxNode('child2', score = 2)\n",
    "child3 = MinMaxNode('child3', children=[leaf31, leaf32], score_child=leaf31)\n",
    "\n",
    "root = MinMaxNode('root', maximizing_player_turn=True, children=[child1, child2, child3], score_child=child1)"
   ]
  },
  {
   "cell_type": "markdown",
   "metadata": {},
   "source": [
    "## Framework definition"
   ]
  },
  {
   "cell_type": "markdown",
   "metadata": {},
   "source": [
    "### We will make two frameworks: one for Low abstraction Level explanations, and another for High abstraction Level explanations."
   ]
  },
  {
   "cell_type": "markdown",
   "metadata": {},
   "source": [
    "We will design them so that:\n",
    "\n",
    "- The Low abstraction framework can explain more closely how the search tree algorithm works and reasons.\n",
    "- The High abstraction framework can explain moves on a more abstract game concept level."
   ]
  },
  {
   "cell_type": "markdown",
   "metadata": {},
   "source": [
    "### Low Level explanation framework:"
   ]
  },
  {
   "cell_type": "code",
   "execution_count": 3,
   "metadata": {},
   "outputs": [],
   "source": [
    "knowledgebase_ll = ArgumentationFramework(refer_to_nodes_as = 'node')\n",
    "\n",
    "knowledgebase_ll.add_adjectives([\n",
    "    \n",
    "    BooleanAdjective(\"leaf\",\n",
    "        definition = \"node.is_leaf\"),\n",
    "\n",
    "\n",
    "    QuantitativePointerAdjective(\"score\",\n",
    "        definition = \"node.score\",\n",
    "\n",
    "        explanation = ConditionalExplanation(\n",
    "            condition = If(\"leaf\"),\n",
    "            explanation_if_true = Assumption(\"Leaf nodes have scores from the evaluation function\"),\n",
    "            explanation_if_false = CompositeExplanation(\n",
    "                Assumption(\"Internal nodes have scores from children\"),\n",
    "                Possession(\"backpropagating child\"))\n",
    "        )),\n",
    "\n",
    "\n",
    "    BooleanAdjective(\"opponent player turn\",\n",
    "        definition = \"not node.maximizing_player_turn\"),\n",
    "\n",
    "\n",
    "    PointerAdjective(\"backpropagating child\",\n",
    "        definition = \"node.score_child\",\n",
    "\n",
    "        explanation = ConditionalExplanation(\n",
    "            condition = If(\"opponent player turn\"),\n",
    "            explanation_if_true = CompositeExplanation(\n",
    "                Assumption(\"We assume the opponent will do their best move.\"),\n",
    "                Possession(\"backpropagating child\", \"worst\")),\n",
    "            explanation_if_false = CompositeExplanation(\n",
    "                Assumption(\"On our turn we take the maximum rated move.\"),\n",
    "                Possession(\"backpropagating child\", \"best\"))\n",
    "        )),\n",
    "\n",
    "    ComparisonAdjective(\"better\", \"score\", \">\"),\n",
    " \n",
    "    NodesGroupPointerAdjective(\"siblings\",\n",
    "        definition = \"node.parent.children\",\n",
    "        excluding = \"node\"),\n",
    "\n",
    "    MaxRankAdjective(\"best\", \"better\", \"siblings\"),\n",
    "\n",
    "    MinRankAdjective(\"worst\", \"better\", \"siblings\"),\n",
    "])"
   ]
  },
  {
   "cell_type": "markdown",
   "metadata": {},
   "source": [
    "### High Level explanation framework"
   ]
  },
  {
   "cell_type": "code",
   "execution_count": 4,
   "metadata": {},
   "outputs": [],
   "source": [
    "knowledgebase_hl = ArgumentationFramework(refer_to_nodes_as = 'move')\n",
    "\n",
    "knowledgebase_hl.add_adjectives([\n",
    "    \n",
    "    BooleanAdjective(\"final move\",\n",
    "        definition = \"node.is_leaf\"),\n",
    "\n",
    "\n",
    "    QuantitativePointerAdjective(\"score\",\n",
    "        definition = \"node.score\",\n",
    "\n",
    "        explanation = ConditionalExplanation(\n",
    "            condition = If(\"final move\"),\n",
    "            explanation_if_true = Assumption(\"final moves are evaluated only looking at the final position\", necessary=True),\n",
    "            explanation_if_false = CompositeExplanation(\n",
    "                Possession(\"next possible move\"))\n",
    "        )),\n",
    "    \n",
    "\n",
    "    BooleanAdjective(\"opponent player turn\",\n",
    "        definition = \"not node.maximizing_player_turn\"),\n",
    "\n",
    "\n",
    "    PointerAdjective(\"next possible move\",\n",
    "        definition = \"node.score_child\",\n",
    "\n",
    "        explanation = ConditionalExplanation(\n",
    "            condition = If(\"opponent player turn\"),\n",
    "            explanation_if_true = CompositeExplanation(\n",
    "                Assumption(\"we assume the opponent will do their best move\"),\n",
    "                Possession(\"next possible move\", \"the best the opponent can do\")),\n",
    "            explanation_if_false = CompositeExplanation(\n",
    "                Assumption(\"on our turn we take the maximum rated move\"),\n",
    "                Possession(\"next possible move\", \"the best\"))\n",
    "        )),\n",
    "\n",
    "    ComparisonAdjective(\"better\", \"score\", \">\"),\n",
    " \n",
    "    NodesGroupPointerAdjective(\"possible alternative moves\",\n",
    "        definition = \"node.parent.children\",\n",
    "        excluding = \"node\"),\n",
    "\n",
    "    MaxRankAdjective(\"the best\", \"better\", \"possible alternative moves\"),\n",
    "\n",
    "    MinRankAdjective(\"the best the opponent can do\", \"better\", \"possible alternative moves\"),\n",
    "])"
   ]
  },
  {
   "cell_type": "markdown",
   "metadata": {},
   "source": [
    "### Notice the differences:"
   ]
  },
  {
   "cell_type": "code",
   "execution_count": 5,
   "metadata": {},
   "outputs": [
    {
     "name": "stdout",
     "output_type": "stream",
     "text": [
      "Propositions:\n",
      "node is leaf\n",
      "node has score = ?\n",
      "node is opponent player turn\n",
      "node has backpropagating child = ?\n",
      "node1 is better than node2\n",
      "node has siblings = ?\n",
      "node is best\n",
      "node is worst\n",
      "\n",
      "\n",
      "Implications:\n",
      "node has leaf = ? ←\n",
      " (assumption) Definition of \"leaf\" is node.is_leaf\n",
      "node has score = ? ←\n",
      " node is leaf ←\n",
      " (assumption) Definition of \"leaf\" is node.is_leaf\n",
      "∧ (assumption) Leaf nodes have scores from the evaluation function\n",
      "|| node is ¬(leaf) ←\n",
      " (assumption) Definition of \"leaf\" is node.is_leaf\n",
      "∧ (assumption) Internal nodes have scores from children\n",
      "∧ node has backpropagating child = ? ←\n",
      " node is opponent player turn ←\n",
      " (assumption) Definition of \"opponent player turn\" is not node.maximizing_player_turn\n",
      "∧ (assumption) We assume the opponent will do their best move.\n",
      "∧ node has worst = ? ←\n",
      " (assumption) By definition a node is \"worst\" if it's not \"better\" than all \"siblings\"\n",
      "∧ Node not better than all nodes in siblings\n",
      "|| node is ¬(opponent player turn) ←\n",
      " (assumption) Definition of \"opponent player turn\" is not node.maximizing_player_turn\n",
      "∧ (assumption) On our turn we take the maximum rated move.\n",
      "∧ node has best = ? ←\n",
      " (assumption) By definition a node is \"best\" if it's \"better\" than all \"siblings\"\n",
      "∧ Node better than all nodes in siblings\n",
      "node has opponent player turn = ? ←\n",
      " (assumption) Definition of \"opponent player turn\" is not node.maximizing_player_turn\n",
      "node has backpropagating child = ? ←\n",
      " node is opponent player turn ←\n",
      " (assumption) Definition of \"opponent player turn\" is not node.maximizing_player_turn\n",
      "∧ (assumption) We assume the opponent will do their best move.\n",
      "∧ node has worst = ? ←\n",
      " (assumption) By definition a node is \"worst\" if it's not \"better\" than all \"siblings\"\n",
      "∧ Node not better than all nodes in siblings\n",
      "|| node is ¬(opponent player turn) ←\n",
      " (assumption) Definition of \"opponent player turn\" is not node.maximizing_player_turn\n",
      "∧ (assumption) On our turn we take the maximum rated move.\n",
      "∧ node has best = ? ←\n",
      " (assumption) By definition a node is \"best\" if it's \"better\" than all \"siblings\"\n",
      "∧ Node better than all nodes in siblings\n",
      "None has better than None = ? ←\n",
      " (assumption) By definition, node1 is \"better\" than node2 if node1 score > node2 score\n",
      "∧ node has score = ? ←\n",
      " node is leaf ←\n",
      " (assumption) Definition of \"leaf\" is node.is_leaf\n",
      "∧ (assumption) Leaf nodes have scores from the evaluation function\n",
      "|| node is ¬(leaf) ←\n",
      " (assumption) Definition of \"leaf\" is node.is_leaf\n",
      "∧ (assumption) Internal nodes have scores from children\n",
      "∧ node has backpropagating child = ? ←\n",
      " node is opponent player turn ←\n",
      " (assumption) Definition of \"opponent player turn\" is not node.maximizing_player_turn\n",
      "∧ (assumption) We assume the opponent will do their best move.\n",
      "∧ node has worst = ? ←\n",
      " (assumption) By definition a node is \"worst\" if it's not \"better\" than all \"siblings\"\n",
      "∧ Node not better than all nodes in siblings\n",
      "|| node is ¬(opponent player turn) ←\n",
      " (assumption) Definition of \"opponent player turn\" is not node.maximizing_player_turn\n",
      "∧ (assumption) On our turn we take the maximum rated move.\n",
      "∧ node has best = ? ←\n",
      " (assumption) By definition a node is \"best\" if it's \"better\" than all \"siblings\"\n",
      "∧ Node better than all nodes in siblings\n",
      "node has siblings = ? ←\n",
      " (assumption) Definition of \"siblings\" is node.parent.children excluding node\n",
      "node has best = ? ←\n",
      " (assumption) By definition a node is \"best\" if it's \"better\" than all \"siblings\"\n",
      "∧ Node better than all nodes in siblings\n",
      "node has worst = ? ←\n",
      " (assumption) By definition a node is \"worst\" if it's not \"better\" than all \"siblings\"\n",
      "∧ Node not better than all nodes in siblings\n"
     ]
    }
   ],
   "source": [
    "print(knowledgebase_ll)"
   ]
  },
  {
   "cell_type": "code",
   "execution_count": 6,
   "metadata": {},
   "outputs": [
    {
     "name": "stdout",
     "output_type": "stream",
     "text": [
      "Propositions:\n",
      "move is final move\n",
      "move has score = ?\n",
      "move is opponent player turn\n",
      "move has next possible move = ?\n",
      "move1 is better than move2\n",
      "move has possible alternative moves = ?\n",
      "move is the best\n",
      "move is the best the opponent can do\n",
      "\n",
      "\n",
      "Implications:\n",
      "move has final move = ? ←\n",
      " (assumption) Definition of \"final move\" is node.is_leaf\n",
      "move has score = ? ←\n",
      " move is final move ←\n",
      " (assumption) Definition of \"final move\" is node.is_leaf\n",
      "∧ (assumption) final moves are evaluated only looking at the final position\n",
      "|| move is ¬(final move) ←\n",
      " (assumption) Definition of \"final move\" is node.is_leaf\n",
      "∧ move has next possible move = ? ←\n",
      " move is opponent player turn ←\n",
      " (assumption) Definition of \"opponent player turn\" is not node.maximizing_player_turn\n",
      "∧ (assumption) we assume the opponent will do their best move\n",
      "∧ move has the best the opponent can do = ? ←\n",
      " (assumption) By definition a move is \"the best the opponent can do\" if it's not \"better\" than all \"possible alternative moves\"\n",
      "∧ Node not better than all nodes in possible alternative moves\n",
      "|| move is ¬(opponent player turn) ←\n",
      " (assumption) Definition of \"opponent player turn\" is not node.maximizing_player_turn\n",
      "∧ (assumption) on our turn we take the maximum rated move\n",
      "∧ move has the best = ? ←\n",
      " (assumption) By definition a move is \"the best\" if it's \"better\" than all \"possible alternative moves\"\n",
      "∧ Node better than all nodes in possible alternative moves\n",
      "move has opponent player turn = ? ←\n",
      " (assumption) Definition of \"opponent player turn\" is not node.maximizing_player_turn\n",
      "move has next possible move = ? ←\n",
      " move is opponent player turn ←\n",
      " (assumption) Definition of \"opponent player turn\" is not node.maximizing_player_turn\n",
      "∧ (assumption) we assume the opponent will do their best move\n",
      "∧ move has the best the opponent can do = ? ←\n",
      " (assumption) By definition a move is \"the best the opponent can do\" if it's not \"better\" than all \"possible alternative moves\"\n",
      "∧ Node not better than all nodes in possible alternative moves\n",
      "|| move is ¬(opponent player turn) ←\n",
      " (assumption) Definition of \"opponent player turn\" is not node.maximizing_player_turn\n",
      "∧ (assumption) on our turn we take the maximum rated move\n",
      "∧ move has the best = ? ←\n",
      " (assumption) By definition a move is \"the best\" if it's \"better\" than all \"possible alternative moves\"\n",
      "∧ Node better than all nodes in possible alternative moves\n",
      "None has better than None = ? ←\n",
      " (assumption) By definition, move1 is \"better\" than move2 if move1 score > move2 score\n",
      "∧ move has score = ? ←\n",
      " move is final move ←\n",
      " (assumption) Definition of \"final move\" is node.is_leaf\n",
      "∧ (assumption) final moves are evaluated only looking at the final position\n",
      "|| move is ¬(final move) ←\n",
      " (assumption) Definition of \"final move\" is node.is_leaf\n",
      "∧ move has next possible move = ? ←\n",
      " move is opponent player turn ←\n",
      " (assumption) Definition of \"opponent player turn\" is not node.maximizing_player_turn\n",
      "∧ (assumption) we assume the opponent will do their best move\n",
      "∧ move has the best the opponent can do = ? ←\n",
      " (assumption) By definition a move is \"the best the opponent can do\" if it's not \"better\" than all \"possible alternative moves\"\n",
      "∧ Node not better than all nodes in possible alternative moves\n",
      "|| move is ¬(opponent player turn) ←\n",
      " (assumption) Definition of \"opponent player turn\" is not node.maximizing_player_turn\n",
      "∧ (assumption) on our turn we take the maximum rated move\n",
      "∧ move has the best = ? ←\n",
      " (assumption) By definition a move is \"the best\" if it's \"better\" than all \"possible alternative moves\"\n",
      "∧ Node better than all nodes in possible alternative moves\n",
      "move has possible alternative moves = ? ←\n",
      " (assumption) Definition of \"possible alternative moves\" is node.parent.children excluding node\n",
      "move has the best = ? ←\n",
      " (assumption) By definition a move is \"the best\" if it's \"better\" than all \"possible alternative moves\"\n",
      "∧ Node better than all nodes in possible alternative moves\n",
      "move has the best the opponent can do = ? ←\n",
      " (assumption) By definition a move is \"the best the opponent can do\" if it's not \"better\" than all \"possible alternative moves\"\n",
      "∧ Node not better than all nodes in possible alternative moves\n"
     ]
    }
   ],
   "source": [
    "print(knowledgebase_hl)"
   ]
  },
  {
   "cell_type": "markdown",
   "metadata": {},
   "source": [
    "## We can now add the frameworks to an ArgumentativeExplainer:"
   ]
  },
  {
   "cell_type": "code",
   "execution_count": 7,
   "metadata": {},
   "outputs": [],
   "source": [
    "explainer = ArgumentativeExplainer()\n",
    "explainer.add_framework(\"lowlevel\", knowledgebase_ll)\n",
    "explainer.add_framework(\"highlevel\", knowledgebase_hl)"
   ]
  },
  {
   "cell_type": "markdown",
   "metadata": {},
   "source": [
    "#### Add explanation tactics:"
   ]
  },
  {
   "cell_type": "markdown",
   "metadata": {},
   "source": [
    "Notice that they are applied to specific frameworks and, if necessary, adjectives."
   ]
  },
  {
   "cell_type": "code",
   "execution_count": 8,
   "metadata": {},
   "outputs": [],
   "source": [
    "explainer.add_explanation_tactic(OnlyRelevantComparisons(mode = \"top_1\"), to_adjective=\"the best\", to_framework='highlevel')\n",
    "explainer.add_explanation_tactic(SubstituteQuantitativeExplanations(\"it leads to a better position\"), to_framework='highlevel')\n",
    "explainer.add_explanation_tactic(SkipConditionStatement(except_on_adjectives=['score']), to_framework='highlevel')"
   ]
  },
  {
   "cell_type": "markdown",
   "metadata": {},
   "source": [
    "#### And set the explanations settings:"
   ]
  },
  {
   "cell_type": "code",
   "execution_count": 9,
   "metadata": {},
   "outputs": [],
   "source": [
    "high_abstraction_settings = {\n",
    "            'with_framework': 'highlevel',\n",
    "            'explanation_depth': 4 ,\n",
    "            'print_implicit_assumptions': False,\n",
    "            'assumptions_verbosity': 'if_asked',\n",
    "            'print_mode': 'verbal'\n",
    "        }\n",
    "\n",
    "explainer.configure_settings(high_abstraction_settings)"
   ]
  },
  {
   "cell_type": "markdown",
   "metadata": {},
   "source": [
    "## We can now explain nodes' properties"
   ]
  },
  {
   "cell_type": "code",
   "execution_count": 10,
   "metadata": {},
   "outputs": [
    {
     "name": "stdout",
     "output_type": "stream",
     "text": [
      "The adjective \"the best\" cannot be evaluated on the move root.\n",
      "That is because The adjective \"possible alternative moves\" cannot be evaluated on root.\n"
     ]
    }
   ],
   "source": [
    "explainer.explain_adjective(root, \"the best\", explanation_depth=4)"
   ]
  },
  {
   "cell_type": "code",
   "execution_count": 11,
   "metadata": {},
   "outputs": [
    {
     "name": "stdout",
     "output_type": "stream",
     "text": [
      "child1 is the best (because\n",
      " \tchild1 has as possible alternative moves child2 (only showing relevant 1)\n",
      "\tand child1 is better than child2 (because\n",
      "\t \tit leads to a better position (because\n",
      "\t \t\tchild1 is not final move\n",
      "\t\t\tand child1 has as next possible move leaf11 (because\n",
      "\t\t\t \t\t\t\tleaf11 is the best the opponent can do)\n",
      "\t\t\tand child2 is final move\n",
      "\t\t\tand (assumption) final moves are evaluated only looking at the final position)))\n"
     ]
    }
   ],
   "source": [
    "explainer.explain_adjective(child1, \"the best\")"
   ]
  },
  {
   "cell_type": "code",
   "execution_count": 12,
   "metadata": {},
   "outputs": [
    {
     "name": "stdout",
     "output_type": "stream",
     "text": [
      "child1 is the best (because\n",
      " \tchild1 has as possible alternative moves child2 (only showing relevant 1)\n",
      "\tand child1 is better than child2 (because\n",
      "\t \tit leads to a better position (because\n",
      "\t \t\tchild1 is not final move\n",
      "\t\t\tand child1 has as next possible move leaf11 (because\n",
      "\t\t\t \t\t\t\tleaf11 is the best the opponent can do (because\n",
      "\t\t\t\t\t\t\t \t\t\t\t\tleaf11 has as possible alternative moves leaf12 (only showing relevant 1) and leaf11 is not better than leaf12))\n",
      "\t\t\tand child2 is final move\n",
      "\t\t\tand (assumption) final moves are evaluated only looking at the final position)))\n"
     ]
    }
   ],
   "source": [
    "explainer.explain_adjective(child1, \"the best\", explanation_depth=5)"
   ]
  },
  {
   "cell_type": "code",
   "execution_count": 13,
   "metadata": {},
   "outputs": [
    {
     "name": "stdout",
     "output_type": "stream",
     "text": [
      "child2 is final move\n",
      "and (assumption) final moves are evaluated only looking at the final position\n"
     ]
    }
   ],
   "source": [
    "explainer.explain_adjective(child2, \"score\")"
   ]
  },
  {
   "cell_type": "code",
   "execution_count": 14,
   "metadata": {},
   "outputs": [
    {
     "name": "stdout",
     "output_type": "stream",
     "text": [
      "child1 is the best (because\n",
      " \tchild1 has as possible alternative moves child2 (only showing relevant 1) and child1 is better than child2)\n"
     ]
    }
   ],
   "source": [
    "explainer.explain_adjective(child1, \"the best\", explanation_depth=2)"
   ]
  },
  {
   "cell_type": "code",
   "execution_count": 15,
   "metadata": {},
   "outputs": [
    {
     "name": "stdout",
     "output_type": "stream",
     "text": [
      "child1 is better than child2 (because\n",
      " \tit leads to a better position (because\n",
      " \tchild1 is not final move\n",
      "\tand child1 has as next possible move leaf11 (because\n",
      "\t \t\t\tleaf11 is the best the opponent can do (because\n",
      "\t\t\t\t \t\t\t\tleaf11 has as possible alternative moves leaf12 and leaf11 is not better than leaf12))\n",
      "\tand child2 is final move\n",
      "\tand (assumption) final moves are evaluated only looking at the final position))\n"
     ]
    }
   ],
   "source": [
    "explainer.explain_adjective(child1, \"better\", child2)"
   ]
  },
  {
   "cell_type": "markdown",
   "metadata": {},
   "source": [
    "### Here you can see the lowlevel framework in action"
   ]
  },
  {
   "cell_type": "code",
   "execution_count": 16,
   "metadata": {},
   "outputs": [],
   "source": [
    "low_abstraction_settings = {\n",
    "            'with_framework': 'lowlevel',\n",
    "            'explanation_depth': 3 ,\n",
    "            'print_implicit_assumptions': True,\n",
    "            'assumptions_verbosity': 'verbose',\n",
    "            'print_mode': 'logic'\n",
    "        }\n",
    "\n",
    "explainer.configure_settings(low_abstraction_settings)"
   ]
  },
  {
   "cell_type": "code",
   "execution_count": 17,
   "metadata": {},
   "outputs": [
    {
     "name": "stdout",
     "output_type": "stream",
     "text": [
      "child1 is ¬(worst)\n"
     ]
    }
   ],
   "source": [
    "explainer.explain_adjective(child1, \"worst\", explanation_depth = 0)"
   ]
  },
  {
   "cell_type": "code",
   "execution_count": 18,
   "metadata": {},
   "outputs": [
    {
     "name": "stdout",
     "output_type": "stream",
     "text": [
      "child1 is ¬(worst) ←\n",
      " \t(assumption) By definition a node is \"worst\" if it's not \"better\" than all \"siblings\"\n",
      "\t∧ child1 has siblings = child2, child3\n",
      "\t∧ child1 is better than child2 ∧ child1 is better than child3\n"
     ]
    }
   ],
   "source": [
    "explainer.explain_adjective(child1, \"worst\", explanation_depth = 1)"
   ]
  },
  {
   "cell_type": "code",
   "execution_count": 19,
   "metadata": {},
   "outputs": [
    {
     "name": "stdout",
     "output_type": "stream",
     "text": [
      "child1 is ¬(worst) ←\n",
      " \t(assumption) By definition a node is \"worst\" if it's not \"better\" than all \"siblings\"\n",
      "\t∧ child1 has siblings = child2, child3 ←\n",
      "\t \t\t(assumption) Definition of \"siblings\" is node.parent.children excluding node\n",
      "\t∧ child1 is better than child2 ←\n",
      "\t \t\t(assumption) By definition, node1 is \"better\" than node2 if node1 score > node2 score\n",
      "\t\t\t∧ child1 has score = 3 ←\n",
      "\t\t\t \t\t\tchild1 is ¬(leaf)\n",
      "\t\t\t\t\t\t∧ (assumption) Internal nodes have scores from children\n",
      "\t\t\t\t\t\t∧ child1 has backpropagating child = leaf11\n",
      "\t\t\t∧ child2 has score = 2 ←\n",
      "\t\t\t \t\t\tchild2 is leaf\n",
      "\t\t\t\t\t\t∧ (assumption) Leaf nodes have scores from the evaluation function\n",
      "\t∧ child1 is better than child3 ←\n",
      "\t \t\t(assumption) By definition, node1 is \"better\" than node2 if node1 score > node2 score\n",
      "\t\t\t∧ child1 has score = 3 ←\n",
      "\t\t\t \t\t\tchild1 is ¬(leaf)\n",
      "\t\t\t\t\t\t∧ (assumption) Internal nodes have scores from children\n",
      "\t\t\t\t\t\t∧ child1 has backpropagating child = leaf11\n",
      "\t\t\t∧ child3 has score = 1 ←\n",
      "\t\t\t \t\t\tchild3 is ¬(leaf)\n",
      "\t\t\t\t\t\t∧ (assumption) Internal nodes have scores from children\n",
      "\t\t\t\t\t\t∧ child3 has backpropagating child = leaf21\n"
     ]
    }
   ],
   "source": [
    "explainer.explain_adjective(child1, \"worst\")"
   ]
  },
  {
   "cell_type": "markdown",
   "metadata": {},
   "source": [
    "### You can also print the depth of arguments"
   ]
  },
  {
   "cell_type": "code",
   "execution_count": 20,
   "metadata": {},
   "outputs": [
    {
     "name": "stdout",
     "output_type": "stream",
     "text": [
      "child1 is ¬(worst) ←\n",
      " \tDepth 1:\n",
      "\t(assumption) By definition a node is \"worst\" if it's not \"better\" than all \"siblings\"\n",
      "\t∧ child1 has siblings = child2, child3 ←\n",
      "\t \t\tDepth 2:\n",
      "\t\t\t(assumption) Definition of \"siblings\" is node.parent.children excluding node\n",
      "\t∧ child1 is better than child2 ←\n",
      "\t \t\tDepth 2:\n",
      "\t\t\t(assumption) By definition, node1 is \"better\" than node2 if node1 score > node2 score\n",
      "\t\t\t∧ child1 has score = 3 ←\n",
      "\t\t\t \t\t\tDepth 3:\n",
      "\t\t\t\t\t\tchild1 is ¬(leaf)\n",
      "\t\t\t\t\t\t∧ (assumption) Internal nodes have scores from children\n",
      "\t\t\t\t\t\t∧ child1 has backpropagating child = leaf11\n",
      "\t\t\t∧ child2 has score = 2 ←\n",
      "\t\t\t \t\t\tDepth 3:\n",
      "\t\t\t\t\t\tchild2 is leaf\n",
      "\t\t\t\t\t\t∧ (assumption) Leaf nodes have scores from the evaluation function\n",
      "\t∧ child1 is better than child3 ←\n",
      "\t \t\tDepth 2:\n",
      "\t\t\t(assumption) By definition, node1 is \"better\" than node2 if node1 score > node2 score\n",
      "\t\t\t∧ child1 has score = 3 ←\n",
      "\t\t\t \t\t\tDepth 3:\n",
      "\t\t\t\t\t\tchild1 is ¬(leaf)\n",
      "\t\t\t\t\t\t∧ (assumption) Internal nodes have scores from children\n",
      "\t\t\t\t\t\t∧ child1 has backpropagating child = leaf11\n",
      "\t\t\t∧ child3 has score = 1 ←\n",
      "\t\t\t \t\t\tDepth 3:\n",
      "\t\t\t\t\t\tchild3 is ¬(leaf)\n",
      "\t\t\t\t\t\t∧ (assumption) Internal nodes have scores from children\n",
      "\t\t\t\t\t\t∧ child3 has backpropagating child = leaf21\n"
     ]
    }
   ],
   "source": [
    "explainer.explain_adjective(child1, \"worst\", print_depth=True)"
   ]
  },
  {
   "cell_type": "code",
   "execution_count": 21,
   "metadata": {},
   "outputs": [
    {
     "name": "stdout",
     "output_type": "stream",
     "text": [
      "child1 is better than child2 ←\n",
      " \t(assumption) By definition, node1 is \"better\" than node2 if node1 score > node2 score\n",
      "\t∧ child1 has score = 3 ←\n",
      "\t \t\tchild1 is ¬(leaf) ←\n",
      "\t\t\t \t\t\t(assumption) Definition of \"leaf\" is node.is_leaf\n",
      "\t\t\t∧ (assumption) Internal nodes have scores from children\n",
      "\t\t\t∧ child1 has backpropagating child = leaf11 ←\n",
      "\t\t\t \t\t\tchild1 is opponent player turn\n",
      "\t\t\t\t\t\t∧ (assumption) We assume the opponent will do their best move.\n",
      "\t\t\t\t\t\t∧ leaf11 is worst\n",
      "\t∧ child2 has score = 2 ←\n",
      "\t \t\tchild2 is leaf ←\n",
      "\t\t\t \t\t\t(assumption) Definition of \"leaf\" is node.is_leaf\n",
      "\t\t\t∧ (assumption) Leaf nodes have scores from the evaluation function\n"
     ]
    }
   ],
   "source": [
    "explainer.explain_adjective(child1, \"better\", child2)"
   ]
  },
  {
   "cell_type": "code",
   "execution_count": 22,
   "metadata": {},
   "outputs": [
    {
     "name": "stdout",
     "output_type": "stream",
     "text": [
      "child1 has siblings = child2, child3 ←\n",
      " \t(assumption) Definition of \"siblings\" is node.parent.children excluding node\n"
     ]
    }
   ],
   "source": [
    "explainer.explain_adjective(child1, \"siblings\")"
   ]
  },
  {
   "cell_type": "code",
   "execution_count": 23,
   "metadata": {},
   "outputs": [
    {
     "name": "stdout",
     "output_type": "stream",
     "text": [
      "root has backpropagating child = child1 ←\n",
      " \troot is ¬(opponent player turn) ←\n",
      "\t \t\t(assumption) Definition of \"opponent player turn\" is not node.maximizing_player_turn\n",
      "\t∧ (assumption) On our turn we take the maximum rated move.\n",
      "\t∧ child1 is best ←\n",
      "\t \t\t(assumption) By definition a node is \"best\" if it's \"better\" than all \"siblings\"\n",
      "\t\t\t∧ child1 has siblings = child2, child3 ←\n",
      "\t\t\t \t\t\t(assumption) Definition of \"siblings\" is node.parent.children excluding node\n",
      "\t\t\t∧ child1 is better than child2 ←\n",
      "\t\t\t \t\t\t(assumption) By definition, node1 is \"better\" than node2 if node1 score > node2 score\n",
      "\t\t\t\t\t\t∧ child1 has score = 3 ∧ child2 has score = 2\n",
      "\t\t\t∧ child1 is better than child3 ←\n",
      "\t\t\t \t\t\t(assumption) By definition, node1 is \"better\" than node2 if node1 score > node2 score\n",
      "\t\t\t\t\t\t∧ child1 has score = 3 ∧ child3 has score = 1\n"
     ]
    }
   ],
   "source": [
    "explainer.explain_adjective(root, \"backpropagating child\")"
   ]
  },
  {
   "cell_type": "code",
   "execution_count": 24,
   "metadata": {},
   "outputs": [
    {
     "name": "stdout",
     "output_type": "stream",
     "text": [
      "root has score = 3 ←\n",
      " \tDepth 1:\n",
      "\troot is ¬(leaf)\n",
      "\t∧ (assumption) Internal nodes have scores from children\n",
      "\t∧ root has backpropagating child = child1\n"
     ]
    }
   ],
   "source": [
    "explainer.explain_adjective(root, \"score\", explanation_depth = 1, print_depth=True)"
   ]
  }
 ],
 "metadata": {
  "kernelspec": {
   "display_name": "Python 3 (ipykernel)",
   "language": "python",
   "name": "python3"
  },
  "language_info": {
   "codemirror_mode": {
    "name": "ipython",
    "version": 3
   },
   "file_extension": ".py",
   "mimetype": "text/x-python",
   "name": "python",
   "nbconvert_exporter": "python",
   "pygments_lexer": "ipython3",
   "version": "3.11.9"
  }
 },
 "nbformat": 4,
 "nbformat_minor": 2
}
