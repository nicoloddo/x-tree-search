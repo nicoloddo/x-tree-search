{
 "cells": [
  {
   "cell_type": "code",
   "execution_count": 1,
   "metadata": {},
   "outputs": [],
   "source": [
    "from src.explainer.explainer import ArgumentativeExplainer\n",
    "from src.explainer.framework import ArgumentationFramework\n",
    "\n",
    "from src.explainer.adjective import BooleanAdjective, PointerAdjective, QuantitativePointerAdjective, NodesGroupPointerAdjective, ComparisonAdjective, MaxRankAdjective, MinRankAdjective\n",
    "from src.explainer.explanation import Possession, Assumption, If, ConditionalExplanation, CompositeExplanation\n",
    "\n",
    "from src.explainer.explanation_tactics import OnlyRelevantComparisons, SkipQuantitativeExplanations"
   ]
  },
  {
   "cell_type": "markdown",
   "metadata": {},
   "source": [
    "## We will utilize this example search tree:"
   ]
  },
  {
   "cell_type": "code",
   "execution_count": 2,
   "metadata": {},
   "outputs": [],
   "source": [
    "class MinMaxNode:\n",
    "    def __init__(self, id, *, score=None, maximizing_player_turn=True, children=None, score_child=None):\n",
    "        \n",
    "        self.id = id\n",
    "\n",
    "        if score:\n",
    "            self.score = score\n",
    "        elif score_child:\n",
    "            self.score_child = score_child\n",
    "            self.score = score_child.score\n",
    "        else:\n",
    "            raise ValueError(\"Provide score or score_child.\")\n",
    "\n",
    "        self.children = children or []\n",
    "        self.parent = None\n",
    "        self.maximizing_player_turn = maximizing_player_turn\n",
    "        \n",
    "        self.is_leaf = True\n",
    "        if len(self.children) > 0:\n",
    "            self.is_leaf = False\n",
    "            for child in children:\n",
    "                child.parent=self\n",
    "                child.maximizing_player_turn = not self.maximizing_player_turn\n",
    "    \n",
    "    def __str__(self):\n",
    "        return self.id\n",
    "\n",
    "# Create a simple game tree\n",
    "leaf11 = MinMaxNode('leaf11', score=3)\n",
    "leaf12 = MinMaxNode('leaf12', score=4)\n",
    "leaf21 = MinMaxNode('leaf21', score=8)\n",
    "leaf22 = MinMaxNode('leaf22', score=2)\n",
    "leaf31 = MinMaxNode('leaf21', score=1)\n",
    "leaf32 = MinMaxNode('leaf22', score=1)\n",
    "\n",
    "child1 = MinMaxNode('child1', children=[leaf11, leaf12], score_child=leaf11)\n",
    "child2 = MinMaxNode('child2', children=[leaf21, leaf22], score_child=leaf22)\n",
    "child3 = MinMaxNode('child3', children=[leaf31, leaf32], score_child=leaf31)\n",
    "\n",
    "root = MinMaxNode('root', maximizing_player_turn=True, children=[child1, child2, child3], score_child=child1)"
   ]
  },
  {
   "cell_type": "markdown",
   "metadata": {},
   "source": [
    "## Framework definition"
   ]
  },
  {
   "cell_type": "markdown",
   "metadata": {},
   "source": [
    "### We will make two frameworks: one for Low abstraction Level explanations, and another for High abstraction Level explanations."
   ]
  },
  {
   "cell_type": "markdown",
   "metadata": {},
   "source": [
    "We will design them so that:\n",
    "\n",
    "- The Low abstraction framework can explain more closely how the search tree algorithm works and reasons.\n",
    "- The High abstraction framework can explain moves on a more abstract game concept level."
   ]
  },
  {
   "cell_type": "markdown",
   "metadata": {},
   "source": [
    "### Low Level explanation framework:"
   ]
  },
  {
   "cell_type": "code",
   "execution_count": 3,
   "metadata": {},
   "outputs": [],
   "source": [
    "knowledgebase_ll = ArgumentationFramework(refer_to_nodes_as = 'node')\n",
    "\n",
    "knowledgebase_ll.add_adjectives([\n",
    "    \n",
    "    BooleanAdjective(\"leaf\",\n",
    "        definition = \"node.is_leaf\"),\n",
    "\n",
    "\n",
    "    QuantitativePointerAdjective(\"score\",\n",
    "        definition = \"node.score\",\n",
    "\n",
    "        explanation = ConditionalExplanation(\n",
    "            condition = If(\"leaf\"),\n",
    "            explanation_if_true = Assumption(\"Leaf nodes have scores from the evaluation function\"),\n",
    "            explanation_if_false = CompositeExplanation(\n",
    "                Assumption(\"Internal nodes have scores from children\"),\n",
    "                Possession(\"backpropagating child\"))\n",
    "        )),\n",
    "\n",
    "\n",
    "    BooleanAdjective(\"opponent player turn\",\n",
    "        definition = \"not node.maximizing_player_turn\"),\n",
    "\n",
    "\n",
    "    PointerAdjective(\"backpropagating child\",\n",
    "        definition = \"node.score_child\",\n",
    "        # alternative definition for backtracing child:\n",
    "        # min(node.children, key=lambda child: child.score),\n",
    "\n",
    "        explanation = ConditionalExplanation(\n",
    "            condition = If(\"opponent player turn\"),\n",
    "            explanation_if_true = CompositeExplanation(\n",
    "                Assumption(\"We assume the opponent will do their best move.\"),\n",
    "                Possession(\"backpropagating child\", \"worst\")),\n",
    "            explanation_if_false = CompositeExplanation(\n",
    "                Assumption(\"On our turn we take the maximum rated move.\"),\n",
    "                Possession(\"backpropagating child\", \"best\"))\n",
    "        )),\n",
    "\n",
    "    ComparisonAdjective(\"better\", \"score\", \">\"),\n",
    " \n",
    "    NodesGroupPointerAdjective(\"siblings\",\n",
    "        definition = \"node.parent.children\",\n",
    "        excluding = \"node\"),\n",
    "\n",
    "    MaxRankAdjective(\"best\", \"better\", \"siblings\"),\n",
    "\n",
    "    MinRankAdjective(\"worst\", \"better\", \"siblings\"),\n",
    "])"
   ]
  },
  {
   "cell_type": "markdown",
   "metadata": {},
   "source": [
    "### High Level explanation framework"
   ]
  },
  {
   "cell_type": "code",
   "execution_count": 4,
   "metadata": {},
   "outputs": [],
   "source": [
    "knowledgebase_hl = ArgumentationFramework(refer_to_nodes_as = 'move')\n",
    "\n",
    "knowledgebase_hl.add_adjectives([\n",
    "    \n",
    "    BooleanAdjective(\"final move\",\n",
    "        definition = \"node.is_leaf\"),\n",
    "\n",
    "\n",
    "    QuantitativePointerAdjective(\"score\",\n",
    "        definition = \"node.score\",\n",
    "\n",
    "        explanation = ConditionalExplanation(\n",
    "            condition = If(\"final move\"),\n",
    "            explanation_if_true = Assumption(\"Given my evaluation of this position\"),\n",
    "            explanation_if_false = CompositeExplanation(\n",
    "                Possession(\"next possible move\"))\n",
    "        )),\n",
    "\n",
    "\n",
    "    BooleanAdjective(\"opponent player turn\",\n",
    "        definition = \"not node.maximizing_player_turn\"),\n",
    "\n",
    "\n",
    "    PointerAdjective(\"next possible move\",\n",
    "        definition = \"node.score_child\",\n",
    "        # alternative definition for backtracing child:\n",
    "        # min(node.children, key=lambda child: child.score),\n",
    "\n",
    "        explanation = ConditionalExplanation(\n",
    "            condition = If(\"opponent player turn\"),\n",
    "            explanation_if_true = CompositeExplanation(\n",
    "                Assumption(\"We assume the opponent will do their best move\"),\n",
    "                Possession(\"next possible move\", \"worst for us\")),\n",
    "            explanation_if_false = CompositeExplanation(\n",
    "                Assumption(\"On our turn we take the maximum rated move\"),\n",
    "                Possession(\"next possible move\", \"best\"))\n",
    "        )),\n",
    "\n",
    "    ComparisonAdjective(\"better\", \"score\", \">\"),\n",
    " \n",
    "    NodesGroupPointerAdjective(\"possible moves\",\n",
    "        definition = \"node.parent.children\",\n",
    "        excluding = \"node\"),\n",
    "\n",
    "    MaxRankAdjective(\"best\", \"better\", \"possible moves\"),\n",
    "\n",
    "    MinRankAdjective(\"worst for us\", \"better\", \"possible moves\"),\n",
    "])"
   ]
  },
  {
   "cell_type": "markdown",
   "metadata": {},
   "source": [
    "### Notice the differences:"
   ]
  },
  {
   "cell_type": "code",
   "execution_count": 5,
   "metadata": {},
   "outputs": [
    {
     "name": "stdout",
     "output_type": "stream",
     "text": [
      "Propositions:\n",
      "node is leaf\n",
      "node has score = ?\n",
      "node is opponent player turn\n",
      "node has backpropagating child = ?\n",
      "node1 is better than node2\n",
      "node has siblings = ?\n",
      "node is best\n",
      "node is worst\n",
      "\n",
      "\n",
      "Implications:\n",
      "[node is leaf ←\n",
      " (assumption) Definition of \"leaf\" is node.is_leaf]\n",
      "[node has score = ? ←\n",
      " [node is leaf ←\n",
      " (assumption) Definition of \"leaf\" is node.is_leaf]\n",
      " ∧ (assumption) Leaf nodes have scores from the evaluation function\n",
      " || [¬(node is leaf) ←\n",
      " (assumption) Definition of \"leaf\" is node.is_leaf]\n",
      " ∧ (assumption) Internal nodes have scores from children\n",
      " ∧ [node has backpropagating child = ? ←\n",
      " [node is opponent player turn ←\n",
      " (assumption) Definition of \"opponent player turn\" is not node.maximizing_player_turn]\n",
      " ∧ (assumption) We assume the opponent will do their best move.\n",
      " ∧ [node is worst ←\n",
      " (assumption) By definition a node is \"worst\" if it's ¬(\"better\") than all \"siblings\" ∧ Node ¬(better) than all nodes in siblings]\n",
      " || [¬(node is opponent player turn) ←\n",
      " (assumption) Definition of \"opponent player turn\" is not node.maximizing_player_turn]\n",
      " ∧ (assumption) On our turn we take the maximum rated move.\n",
      " ∧ [node is best ←\n",
      " (assumption) By definition a node is \"best\" if it's \"better\" than all \"siblings\" ∧ Node better than all nodes in siblings]]]\n",
      "[node is opponent player turn ←\n",
      " (assumption) Definition of \"opponent player turn\" is not node.maximizing_player_turn]\n",
      "[node has backpropagating child = ? ←\n",
      " [node is opponent player turn ←\n",
      " (assumption) Definition of \"opponent player turn\" is not node.maximizing_player_turn]\n",
      " ∧ (assumption) We assume the opponent will do their best move.\n",
      " ∧ [node is worst ←\n",
      " (assumption) By definition a node is \"worst\" if it's ¬(\"better\") than all \"siblings\" ∧ Node ¬(better) than all nodes in siblings]\n",
      " || [¬(node is opponent player turn) ←\n",
      " (assumption) Definition of \"opponent player turn\" is not node.maximizing_player_turn]\n",
      " ∧ (assumption) On our turn we take the maximum rated move.\n",
      " ∧ [node is best ←\n",
      " (assumption) By definition a node is \"best\" if it's \"better\" than all \"siblings\" ∧ Node better than all nodes in siblings]]\n",
      "[node1 is better than node1 ←\n",
      " (assumption) By definition, node1 is \"better\" than node2 if node1 score > node2 score\n",
      " ∧ [node has score = ? ←\n",
      " [node is leaf ←\n",
      " (assumption) Definition of \"leaf\" is node.is_leaf]\n",
      " ∧ (assumption) Leaf nodes have scores from the evaluation function\n",
      " || [¬(node is leaf) ←\n",
      " (assumption) Definition of \"leaf\" is node.is_leaf]\n",
      " ∧ (assumption) Internal nodes have scores from children\n",
      " ∧ [node has backpropagating child = ? ←\n",
      " [node is opponent player turn ←\n",
      " (assumption) Definition of \"opponent player turn\" is not node.maximizing_player_turn]\n",
      " ∧ (assumption) We assume the opponent will do their best move.\n",
      " ∧ [node is worst ←\n",
      " (assumption) By definition a node is \"worst\" if it's ¬(\"better\") than all \"siblings\" ∧ Node ¬(better) than all nodes in siblings]\n",
      " || [¬(node is opponent player turn) ←\n",
      " (assumption) Definition of \"opponent player turn\" is not node.maximizing_player_turn]\n",
      " ∧ (assumption) On our turn we take the maximum rated move.\n",
      " ∧ [node is best ←\n",
      " (assumption) By definition a node is \"best\" if it's \"better\" than all \"siblings\" ∧ Node better than all nodes in siblings]]]]\n",
      "[node has siblings = ? ←\n",
      " (assumption) Definition of \"siblings\" is node.parent.children excluding node]\n",
      "[node is best ←\n",
      " (assumption) By definition a node is \"best\" if it's \"better\" than all \"siblings\" ∧ Node better than all nodes in siblings]\n",
      "[node is worst ←\n",
      " (assumption) By definition a node is \"worst\" if it's ¬(\"better\") than all \"siblings\" ∧ Node ¬(better) than all nodes in siblings]\n"
     ]
    }
   ],
   "source": [
    "print(knowledgebase_ll)"
   ]
  },
  {
   "cell_type": "code",
   "execution_count": 6,
   "metadata": {},
   "outputs": [
    {
     "name": "stdout",
     "output_type": "stream",
     "text": [
      "Propositions:\n",
      "node is final move\n",
      "node has score = ?\n",
      "node is opponent player turn\n",
      "node has next possible move = ?\n",
      "node1 is better than node2\n",
      "node has possible moves = ?\n",
      "node is best\n",
      "node is worst for us\n",
      "\n",
      "\n",
      "Implications:\n",
      "[move is final move ←\n",
      " (assumption) Definition of \"final move\" is node.is_leaf]\n",
      "[move has score = ? ←\n",
      " [move is final move ←\n",
      " (assumption) Definition of \"final move\" is node.is_leaf]\n",
      " ∧ (assumption) Given my evaluation of this position\n",
      " || [¬(move is final move) ←\n",
      " (assumption) Definition of \"final move\" is node.is_leaf]\n",
      " ∧ [move has next possible move = ? ←\n",
      " [move is opponent player turn ←\n",
      " (assumption) Definition of \"opponent player turn\" is not node.maximizing_player_turn]\n",
      " ∧ (assumption) We assume the opponent will do their best move\n",
      " ∧ [move is worst for us ←\n",
      " (assumption) By definition a move is \"worst for us\" if it's ¬(\"better\") than all \"possible moves\" ∧ Node ¬(better) than all nodes in possible moves]\n",
      " || [¬(move is opponent player turn) ←\n",
      " (assumption) Definition of \"opponent player turn\" is not node.maximizing_player_turn]\n",
      " ∧ (assumption) On our turn we take the maximum rated move\n",
      " ∧ [move is best ←\n",
      " (assumption) By definition a move is \"best\" if it's \"better\" than all \"possible moves\" ∧ Node better than all nodes in possible moves]]]\n",
      "[move is opponent player turn ←\n",
      " (assumption) Definition of \"opponent player turn\" is not node.maximizing_player_turn]\n",
      "[move has next possible move = ? ←\n",
      " [move is opponent player turn ←\n",
      " (assumption) Definition of \"opponent player turn\" is not node.maximizing_player_turn]\n",
      " ∧ (assumption) We assume the opponent will do their best move\n",
      " ∧ [move is worst for us ←\n",
      " (assumption) By definition a move is \"worst for us\" if it's ¬(\"better\") than all \"possible moves\" ∧ Node ¬(better) than all nodes in possible moves]\n",
      " || [¬(move is opponent player turn) ←\n",
      " (assumption) Definition of \"opponent player turn\" is not node.maximizing_player_turn]\n",
      " ∧ (assumption) On our turn we take the maximum rated move\n",
      " ∧ [move is best ←\n",
      " (assumption) By definition a move is \"best\" if it's \"better\" than all \"possible moves\" ∧ Node better than all nodes in possible moves]]\n",
      "[node1 is better than node1 ←\n",
      " (assumption) By definition, move1 is \"better\" than move2 if move1 score > move2 score\n",
      " ∧ [move has score = ? ←\n",
      " [move is final move ←\n",
      " (assumption) Definition of \"final move\" is node.is_leaf]\n",
      " ∧ (assumption) Given my evaluation of this position\n",
      " || [¬(move is final move) ←\n",
      " (assumption) Definition of \"final move\" is node.is_leaf]\n",
      " ∧ [move has next possible move = ? ←\n",
      " [move is opponent player turn ←\n",
      " (assumption) Definition of \"opponent player turn\" is not node.maximizing_player_turn]\n",
      " ∧ (assumption) We assume the opponent will do their best move\n",
      " ∧ [move is worst for us ←\n",
      " (assumption) By definition a move is \"worst for us\" if it's ¬(\"better\") than all \"possible moves\" ∧ Node ¬(better) than all nodes in possible moves]\n",
      " || [¬(move is opponent player turn) ←\n",
      " (assumption) Definition of \"opponent player turn\" is not node.maximizing_player_turn]\n",
      " ∧ (assumption) On our turn we take the maximum rated move\n",
      " ∧ [move is best ←\n",
      " (assumption) By definition a move is \"best\" if it's \"better\" than all \"possible moves\" ∧ Node better than all nodes in possible moves]]]]\n",
      "[move has possible moves = ? ←\n",
      " (assumption) Definition of \"possible moves\" is node.parent.children excluding node]\n",
      "[move is best ←\n",
      " (assumption) By definition a move is \"best\" if it's \"better\" than all \"possible moves\" ∧ Node better than all nodes in possible moves]\n",
      "[move is worst for us ←\n",
      " (assumption) By definition a move is \"worst for us\" if it's ¬(\"better\") than all \"possible moves\" ∧ Node ¬(better) than all nodes in possible moves]\n"
     ]
    }
   ],
   "source": [
    "print(knowledgebase_hl)"
   ]
  },
  {
   "cell_type": "markdown",
   "metadata": {},
   "source": [
    "## We can now add the frameworks to an ArgumentativeExplainer:"
   ]
  },
  {
   "cell_type": "code",
   "execution_count": 7,
   "metadata": {},
   "outputs": [],
   "source": [
    "explainer = ArgumentativeExplainer()\n",
    "explainer.add_framework(\"lowlevel\", knowledgebase_ll)\n",
    "explainer.add_framework(\"highlevel\", knowledgebase_hl)"
   ]
  },
  {
   "cell_type": "markdown",
   "metadata": {},
   "source": [
    "#### Add explanation tactics:"
   ]
  },
  {
   "cell_type": "markdown",
   "metadata": {},
   "source": [
    "Notice that they are applied to specific frameworks and, if necessary, adjectives."
   ]
  },
  {
   "cell_type": "code",
   "execution_count": 8,
   "metadata": {},
   "outputs": [],
   "source": [
    "explainer.add_explanation_tactic(OnlyRelevantComparisons(mode = \"top_1\"), to_adjective=\"best\", to_framework='highlevel')\n",
    "\n",
    "explainer.add_explanation_tactic(SkipQuantitativeExplanations(), to_framework='highlevel')"
   ]
  },
  {
   "cell_type": "markdown",
   "metadata": {},
   "source": [
    "#### And set the explanations settings:"
   ]
  },
  {
   "cell_type": "code",
   "execution_count": 9,
   "metadata": {},
   "outputs": [],
   "source": [
    "settings = {\n",
    "            'with_framework': 'highlevel',\n",
    "            'explanation_depth': 4 ,\n",
    "            'assumptions_verbosity': 'if_asked'\n",
    "        }\n",
    "\n",
    "explainer.configure_settings(settings)"
   ]
  },
  {
   "cell_type": "markdown",
   "metadata": {},
   "source": [
    "## We can now explain nodes' properties"
   ]
  },
  {
   "cell_type": "code",
   "execution_count": 10,
   "metadata": {},
   "outputs": [
    {
     "name": "stdout",
     "output_type": "stream",
     "text": [
      "[child1 is best ←\n",
      " \t(assumption) By definition a move is \"best\" if it's \"better\" than all \"possible moves\"\n",
      "\t ∧ child1 has possible moves = child2 (only showing relevant 1)\n",
      "\t ∧ [child1 is better than child2 ←\n",
      "\t \t\t¬(child1 is final move)\n",
      "\t\t\t ∧ [child1 has next possible move = leaf11 ←\n",
      "\t\t\t \t\t\t\tchild1 is opponent player turn\n",
      "\t\t\t\t\t\t\t ∧ leaf11 is worst for us]\n",
      "\t\t\t ∧ ¬(child2 is final move)\n",
      "\t\t\t ∧ [child2 has next possible move = leaf22 ←\n",
      "\t\t\t \t\t\t\tchild2 is opponent player turn\n",
      "\t\t\t\t\t\t\t ∧ leaf22 is worst for us]]]\n"
     ]
    }
   ],
   "source": [
    "explainer.explain_adjective(child1, \"best\")"
   ]
  },
  {
   "cell_type": "code",
   "execution_count": 11,
   "metadata": {},
   "outputs": [
    {
     "name": "stdout",
     "output_type": "stream",
     "text": [
      "[child1 is best ←\n",
      " \t(assumption) By definition a move is \"best\" if it's \"better\" than all \"possible moves\"\n",
      "\t ∧ child1 has possible moves = child2 (only showing relevant 1)\n",
      "\t ∧ [child1 is better than child2 ←\n",
      "\t \t\t¬(child1 is final move)\n",
      "\t\t\t ∧ [child1 has next possible move = leaf11 ←\n",
      "\t\t\t \t\t\t\tchild1 is opponent player turn\n",
      "\t\t\t\t\t\t\t ∧ [leaf11 is worst for us ←\n",
      "\t\t\t\t\t\t\t \t\t\t\t\tleaf11 has possible moves = leaf12 (only showing relevant 1)\n",
      "\t\t\t\t\t\t\t\t\t\t\t\t ∧ ¬(leaf11 is better than leaf12)]]\n",
      "\t\t\t ∧ ¬(child2 is final move)\n",
      "\t\t\t ∧ [child2 has next possible move = leaf22 ←\n",
      "\t\t\t \t\t\t\tchild2 is opponent player turn\n",
      "\t\t\t\t\t\t\t ∧ [leaf22 is worst for us ←\n",
      "\t\t\t\t\t\t\t \t\t\t\t\tleaf22 has possible moves = leaf21 (only showing relevant 1)\n",
      "\t\t\t\t\t\t\t\t\t\t\t\t ∧ ¬(leaf22 is better than leaf21)]]]]\n"
     ]
    }
   ],
   "source": [
    "explainer.explain_adjective(child1, \"best\", explanation_depth=5)"
   ]
  },
  {
   "cell_type": "code",
   "execution_count": 12,
   "metadata": {},
   "outputs": [
    {
     "name": "stdout",
     "output_type": "stream",
     "text": [
      "[child1 is best ←\n",
      " \t(assumption) By definition a move is \"best\" if it's \"better\" than all \"possible moves\"\n",
      "\t ∧ child1 has possible moves = child2 (only showing relevant 1)\n",
      "\t ∧ child1 is better than child2]\n"
     ]
    }
   ],
   "source": [
    "explainer.explain_adjective(child1, \"best\", explanation_depth=2)"
   ]
  },
  {
   "cell_type": "code",
   "execution_count": 13,
   "metadata": {},
   "outputs": [
    {
     "name": "stdout",
     "output_type": "stream",
     "text": [
      "[child1 is better than child2 ←\n",
      " \t(assumption) By definition, move1 is \"better\" than move2 if move1 score > move2 score\n",
      "\t ∧ ¬(child1 is final move)\n",
      "\t ∧ [child1 has next possible move = leaf11 ←\n",
      "\t \t\t\tchild1 is opponent player turn\n",
      "\t\t\t\t ∧ [leaf11 is worst for us ←\n",
      "\t\t\t\t \t\t\t\tleaf11 has possible moves = leaf12\n",
      "\t\t\t\t\t\t\t\t ∧ ¬(leaf11 is better than leaf12)]]\n",
      "\t ∧ ¬(child2 is final move)\n",
      "\t ∧ [child2 has next possible move = leaf22 ←\n",
      "\t \t\t\tchild2 is opponent player turn\n",
      "\t\t\t\t ∧ [leaf22 is worst for us ←\n",
      "\t\t\t\t \t\t\t\tleaf22 has possible moves = leaf21\n",
      "\t\t\t\t\t\t\t\t ∧ ¬(leaf22 is better than leaf21)]]]\n"
     ]
    }
   ],
   "source": [
    "explainer.explain_adjective(child1, \"better\", child2)"
   ]
  },
  {
   "cell_type": "markdown",
   "metadata": {},
   "source": [
    "### Here you can see the lowlevel framework in action"
   ]
  },
  {
   "cell_type": "code",
   "execution_count": 14,
   "metadata": {},
   "outputs": [],
   "source": [
    "settings = {\n",
    "            'with_framework': 'lowlevel',\n",
    "            'explanation_depth': 2 ,\n",
    "            'assumptions_verbosity' : 'if_asked'\n",
    "        }\n",
    "\n",
    "explainer.configure_settings(settings)"
   ]
  },
  {
   "cell_type": "code",
   "execution_count": 15,
   "metadata": {},
   "outputs": [
    {
     "name": "stdout",
     "output_type": "stream",
     "text": [
      "¬(child1 is worst)\n"
     ]
    }
   ],
   "source": [
    "explainer.explain_adjective(child1, \"worst\", explanation_depth = 0)"
   ]
  },
  {
   "cell_type": "code",
   "execution_count": 16,
   "metadata": {},
   "outputs": [
    {
     "name": "stdout",
     "output_type": "stream",
     "text": [
      "[¬(child1 is worst) ←\n",
      " \t(assumption) By definition a node is \"worst\" if it's ¬(\"better\") than all \"siblings\"\n",
      "\t ∧ child1 has siblings = child2, child3\n",
      "\t ∧ child1 is better than child2 ∧ child1 is better than child3]\n"
     ]
    }
   ],
   "source": [
    "explainer.explain_adjective(child1, \"worst\", explanation_depth = 1)"
   ]
  },
  {
   "cell_type": "code",
   "execution_count": 17,
   "metadata": {},
   "outputs": [
    {
     "name": "stdout",
     "output_type": "stream",
     "text": [
      "[¬(child1 is worst) ←\n",
      " \t(assumption) By definition a node is \"worst\" if it's ¬(\"better\") than all \"siblings\"\n",
      "\t ∧ child1 has siblings = child2, child3\n",
      "\t ∧ [child1 is better than child2 ←\n",
      "\t \t\tchild1 has score = 3 ∧ child2 has score = 2]\n",
      "\t ∧ [child1 is better than child3 ←\n",
      "\t \t\tchild1 has score = 3 ∧ child3 has score = 1]]\n"
     ]
    }
   ],
   "source": [
    "explainer.explain_adjective(child1, \"worst\")"
   ]
  },
  {
   "cell_type": "markdown",
   "metadata": {},
   "source": [
    "### You can also print the depth of arguments"
   ]
  },
  {
   "cell_type": "code",
   "execution_count": 18,
   "metadata": {},
   "outputs": [
    {
     "name": "stdout",
     "output_type": "stream",
     "text": [
      "[¬(child1 is worst) ←\n",
      " \tDepth 1:\n",
      "\t(assumption) By definition a node is \"worst\" if it's ¬(\"better\") than all \"siblings\"\n",
      "\t ∧ child1 has siblings = child2, child3\n",
      "\t ∧ [child1 is better than child2 ←\n",
      "\t \t\tDepth 2:\n",
      "\t\t\t[child1 has score = 3 ←\n",
      "\t\t\t \t\t\tDepth 3:\n",
      "\t\t\t\t\t\t¬(child1 is leaf)\n",
      "\t\t\t\t\t\t ∧ child1 has backpropagating child = leaf11]\n",
      "\t\t\t ∧ [child2 has score = 2 ←\n",
      "\t\t\t \t\t\tDepth 3:\n",
      "\t\t\t\t\t\t¬(child2 is leaf)\n",
      "\t\t\t\t\t\t ∧ child2 has backpropagating child = leaf22]]\n",
      "\t ∧ [child1 is better than child3 ←\n",
      "\t \t\tDepth 2:\n",
      "\t\t\t[child1 has score = 3 ←\n",
      "\t\t\t \t\t\tDepth 3:\n",
      "\t\t\t\t\t\t¬(child1 is leaf)\n",
      "\t\t\t\t\t\t ∧ child1 has backpropagating child = leaf11]\n",
      "\t\t\t ∧ [child3 has score = 1 ←\n",
      "\t\t\t \t\t\tDepth 3:\n",
      "\t\t\t\t\t\t¬(child3 is leaf)\n",
      "\t\t\t\t\t\t ∧ child3 has backpropagating child = leaf21]]]\n"
     ]
    }
   ],
   "source": [
    "explainer.explain_adjective(child1, \"worst\", explanation_depth = 3, print_depth=True)"
   ]
  },
  {
   "cell_type": "code",
   "execution_count": 19,
   "metadata": {},
   "outputs": [],
   "source": [
    "settings = {\n",
    "            'explanation_depth': 2\n",
    "        }\n",
    "\n",
    "explainer.configure_settings(settings)"
   ]
  },
  {
   "cell_type": "code",
   "execution_count": 20,
   "metadata": {},
   "outputs": [
    {
     "name": "stdout",
     "output_type": "stream",
     "text": [
      "[child1 is better than child2 ←\n",
      " \t(assumption) By definition, node1 is \"better\" than node2 if node1 score > node2 score\n",
      "\t ∧ [child1 has score = 3 ←\n",
      "\t \t\t¬(child1 is leaf)\n",
      "\t\t\t ∧ child1 has backpropagating child = leaf11]\n",
      "\t ∧ [child2 has score = 2 ←\n",
      "\t \t\t¬(child2 is leaf)\n",
      "\t\t\t ∧ child2 has backpropagating child = leaf22]]\n"
     ]
    }
   ],
   "source": [
    "explainer.explain_adjective(child1, \"better\", child2)"
   ]
  },
  {
   "cell_type": "code",
   "execution_count": 21,
   "metadata": {},
   "outputs": [
    {
     "name": "stdout",
     "output_type": "stream",
     "text": [
      "[child1 has siblings = child2, child3 ←\n",
      " \t(assumption) Definition of \"siblings\" is node.parent.children excluding node]\n"
     ]
    }
   ],
   "source": [
    "explainer.explain_adjective(child1, \"siblings\")"
   ]
  },
  {
   "cell_type": "code",
   "execution_count": 22,
   "metadata": {},
   "outputs": [
    {
     "name": "stdout",
     "output_type": "stream",
     "text": [
      "[child1 is best ←\n",
      " \t(assumption) By definition a node is \"best\" if it's \"better\" than all \"siblings\"\n",
      "\t ∧ child1 has siblings = child2, child3\n",
      "\t ∧ [child1 is better than child2 ←\n",
      "\t \t\tchild1 has score = 3 ∧ child2 has score = 2]\n",
      "\t ∧ [child1 is better than child3 ←\n",
      "\t \t\tchild1 has score = 3 ∧ child3 has score = 1]]\n"
     ]
    }
   ],
   "source": [
    "explainer.explain_adjective(child1, \"best\")"
   ]
  },
  {
   "cell_type": "code",
   "execution_count": 23,
   "metadata": {},
   "outputs": [
    {
     "name": "stdout",
     "output_type": "stream",
     "text": [
      "[root has backpropagating child = child1 ←\n",
      " \t¬(root is opponent player turn)\n",
      "\t ∧ (assumption) On our turn we take the maximum rated move.\n",
      "\t ∧ [child1 is best ←\n",
      "\t \t\tchild1 has siblings = child2, child3\n",
      "\t\t\t ∧ child1 is better than child2 ∧ child1 is better than child3]]\n"
     ]
    }
   ],
   "source": [
    "explainer.explain_adjective(root, \"backpropagating child\")"
   ]
  },
  {
   "cell_type": "code",
   "execution_count": 24,
   "metadata": {},
   "outputs": [
    {
     "name": "stdout",
     "output_type": "stream",
     "text": [
      "[child1 is best ←\n",
      " \tDepth 1:\n",
      "\t(assumption) By definition a node is \"best\" if it's \"better\" than all \"siblings\"\n",
      "\t ∧ child1 has siblings = child2, child3\n",
      "\t ∧ [child1 is better than child2 ←\n",
      "\t \t\tDepth 2:\n",
      "\t\t\t[child1 has score = 3 ←\n",
      "\t\t\t \t\t\tDepth 3:\n",
      "\t\t\t\t\t\t¬(child1 is leaf)\n",
      "\t\t\t\t\t\t ∧ [child1 has backpropagating child = leaf11 ←\n",
      "\t\t\t\t\t\t \t\t\t\tDepth 4:\n",
      "\t\t\t\t\t\t\t\t\t\tchild1 is opponent player turn\n",
      "\t\t\t\t\t\t\t\t\t\t ∧ [leaf11 is worst ←\n",
      "\t\t\t\t\t\t\t\t\t\t \t\t\t\t\tDepth 5:\n",
      "\t\t\t\t\t\t\t\t\t\t\t\t\t\t\tleaf11 has siblings = leaf12\n",
      "\t\t\t\t\t\t\t\t\t\t\t\t\t\t\t ∧ [¬(leaf11 is better than leaf12) ←\n",
      "\t\t\t\t\t\t\t\t\t\t\t\t\t\t\t \t\t\t\t\t\tDepth 6:\n",
      "\t\t\t\t\t\t\t\t\t\t\t\t\t\t\t\t\t\t\t\t\tleaf11 has score = 3 ∧ leaf12 has score = 4]]]]\n",
      "\t\t\t ∧ [child2 has score = 2 ←\n",
      "\t\t\t \t\t\tDepth 3:\n",
      "\t\t\t\t\t\t¬(child2 is leaf)\n",
      "\t\t\t\t\t\t ∧ [child2 has backpropagating child = leaf22 ←\n",
      "\t\t\t\t\t\t \t\t\t\tDepth 4:\n",
      "\t\t\t\t\t\t\t\t\t\tchild2 is opponent player turn\n",
      "\t\t\t\t\t\t\t\t\t\t ∧ [leaf22 is worst ←\n",
      "\t\t\t\t\t\t\t\t\t\t \t\t\t\t\tDepth 5:\n",
      "\t\t\t\t\t\t\t\t\t\t\t\t\t\t\tleaf22 has siblings = leaf21\n",
      "\t\t\t\t\t\t\t\t\t\t\t\t\t\t\t ∧ [¬(leaf22 is better than leaf21) ←\n",
      "\t\t\t\t\t\t\t\t\t\t\t\t\t\t\t \t\t\t\t\t\tDepth 6:\n",
      "\t\t\t\t\t\t\t\t\t\t\t\t\t\t\t\t\t\t\t\t\tleaf22 has score = 2 ∧ leaf21 has score = 8]]]]]\n",
      "\t ∧ [child1 is better than child3 ←\n",
      "\t \t\tDepth 2:\n",
      "\t\t\t[child1 has score = 3 ←\n",
      "\t\t\t \t\t\tDepth 3:\n",
      "\t\t\t\t\t\t¬(child1 is leaf)\n",
      "\t\t\t\t\t\t ∧ [child1 has backpropagating child = leaf11 ←\n",
      "\t\t\t\t\t\t \t\t\t\tDepth 4:\n",
      "\t\t\t\t\t\t\t\t\t\tchild1 is opponent player turn\n",
      "\t\t\t\t\t\t\t\t\t\t ∧ [leaf11 is worst ←\n",
      "\t\t\t\t\t\t\t\t\t\t \t\t\t\t\tDepth 5:\n",
      "\t\t\t\t\t\t\t\t\t\t\t\t\t\t\tleaf11 has siblings = leaf12\n",
      "\t\t\t\t\t\t\t\t\t\t\t\t\t\t\t ∧ [¬(leaf11 is better than leaf12) ←\n",
      "\t\t\t\t\t\t\t\t\t\t\t\t\t\t\t \t\t\t\t\t\tDepth 6:\n",
      "\t\t\t\t\t\t\t\t\t\t\t\t\t\t\t\t\t\t\t\t\tleaf11 has score = 3 ∧ leaf12 has score = 4]]]]\n",
      "\t\t\t ∧ [child3 has score = 1 ←\n",
      "\t\t\t \t\t\tDepth 3:\n",
      "\t\t\t\t\t\t¬(child3 is leaf)\n",
      "\t\t\t\t\t\t ∧ [child3 has backpropagating child = leaf21 ←\n",
      "\t\t\t\t\t\t \t\t\t\tDepth 4:\n",
      "\t\t\t\t\t\t\t\t\t\tchild3 is opponent player turn\n",
      "\t\t\t\t\t\t\t\t\t\t ∧ [¬(leaf21 is worst) ←\n",
      "\t\t\t\t\t\t\t\t\t\t \t\t\t\t\tDepth 5:\n",
      "\t\t\t\t\t\t\t\t\t\t\t\t\t\t\tleaf21 has siblings = leaf22\n",
      "\t\t\t\t\t\t\t\t\t\t\t\t\t\t\t ∧ [¬(leaf21 is better than leaf22) ←\n",
      "\t\t\t\t\t\t\t\t\t\t\t\t\t\t\t \t\t\t\t\t\tDepth 6:\n",
      "\t\t\t\t\t\t\t\t\t\t\t\t\t\t\t\t\t\t\t\t\tleaf21 has score = 1 ∧ leaf22 has score = 1]]]]]]\n"
     ]
    }
   ],
   "source": [
    "explainer.explain_adjective(child1, \"best\", explanation_depth=6, print_depth=True)"
   ]
  },
  {
   "cell_type": "code",
   "execution_count": 25,
   "metadata": {},
   "outputs": [
    {
     "name": "stdout",
     "output_type": "stream",
     "text": [
      "[root has score = 3 ←\n",
      " \tDepth 1:\n",
      "\t¬(root is leaf)\n",
      "\t ∧ (assumption) Internal nodes have scores from children\n",
      "\t ∧ [root has backpropagating child = child1 ←\n",
      "\t \t\tDepth 2:\n",
      "\t\t\t¬(root is opponent player turn)\n",
      "\t\t\t ∧ [child1 is best ←\n",
      "\t\t\t \t\t\tDepth 3:\n",
      "\t\t\t\t\t\tchild1 has siblings = child2, child3\n",
      "\t\t\t\t\t\t ∧ [child1 is better than child2 ←\n",
      "\t\t\t\t\t\t \t\t\t\tDepth 4:\n",
      "\t\t\t\t\t\t\t\t\t\t[child1 has score = 3 ←\n",
      "\t\t\t\t\t\t\t\t\t\t \t\t\t\t\tDepth 5:\n",
      "\t\t\t\t\t\t\t\t\t\t\t\t\t\t\t¬(child1 is leaf)\n",
      "\t\t\t\t\t\t\t\t\t\t\t\t\t\t\t ∧ [child1 has backpropagating child = leaf11 ←\n",
      "\t\t\t\t\t\t\t\t\t\t\t\t\t\t\t \t\t\t\t\t\tDepth 6:\n",
      "\t\t\t\t\t\t\t\t\t\t\t\t\t\t\t\t\t\t\t\t\tchild1 is opponent player turn\n",
      "\t\t\t\t\t\t\t\t\t\t\t\t\t\t\t\t\t\t\t\t\t ∧ [leaf11 is worst ←\n",
      "\t\t\t\t\t\t\t\t\t\t\t\t\t\t\t\t\t\t\t\t\t \t\t\t\t\t\t\tDepth 7:\n",
      "\t\t\t\t\t\t\t\t\t\t\t\t\t\t\t\t\t\t\t\t\t\t\t\t\t\t\t\tleaf11 has siblings = leaf12\n",
      "\t\t\t\t\t\t\t\t\t\t\t\t\t\t\t\t\t\t\t\t\t\t\t\t\t\t\t\t ∧ [¬(leaf11 is better than leaf12) ←\n",
      "\t\t\t\t\t\t\t\t\t\t\t\t\t\t\t\t\t\t\t\t\t\t\t\t\t\t\t\t \t\t\t\t\t\t\t\tDepth 8:\n",
      "\t\t\t\t\t\t\t\t\t\t\t\t\t\t\t\t\t\t\t\t\t\t\t\t\t\t\t\t\t\t\t\t\t\t\t\t[leaf11 has score = 3 ←\n",
      "\t\t\t\t\t\t\t\t\t\t\t\t\t\t\t\t\t\t\t\t\t\t\t\t\t\t\t\t\t\t\t\t\t\t\t\t \t\t\t\t\t\t\t\t\tDepth 9:\n",
      "\t\t\t\t\t\t\t\t\t\t\t\t\t\t\t\t\t\t\t\t\t\t\t\t\t\t\t\t\t\t\t\t\t\t\t\t\t\t\t\t\t\t\t\t\tleaf11 is leaf]\n",
      "\t\t\t\t\t\t\t\t\t\t\t\t\t\t\t\t\t\t\t\t\t\t\t\t\t\t\t\t\t\t\t\t\t\t\t\t ∧ [leaf12 has score = 4 ←\n",
      "\t\t\t\t\t\t\t\t\t\t\t\t\t\t\t\t\t\t\t\t\t\t\t\t\t\t\t\t\t\t\t\t\t\t\t\t \t\t\t\t\t\t\t\t\tDepth 9:\n",
      "\t\t\t\t\t\t\t\t\t\t\t\t\t\t\t\t\t\t\t\t\t\t\t\t\t\t\t\t\t\t\t\t\t\t\t\t\t\t\t\t\t\t\t\t\tleaf12 is leaf]]]]]\n",
      "\t\t\t\t\t\t\t\t\t\t ∧ [child2 has score = 2 ←\n",
      "\t\t\t\t\t\t\t\t\t\t \t\t\t\t\tDepth 5:\n",
      "\t\t\t\t\t\t\t\t\t\t\t\t\t\t\t¬(child2 is leaf)\n",
      "\t\t\t\t\t\t\t\t\t\t\t\t\t\t\t ∧ [child2 has backpropagating child = leaf22 ←\n",
      "\t\t\t\t\t\t\t\t\t\t\t\t\t\t\t \t\t\t\t\t\tDepth 6:\n",
      "\t\t\t\t\t\t\t\t\t\t\t\t\t\t\t\t\t\t\t\t\tchild2 is opponent player turn\n",
      "\t\t\t\t\t\t\t\t\t\t\t\t\t\t\t\t\t\t\t\t\t ∧ [leaf22 is worst ←\n",
      "\t\t\t\t\t\t\t\t\t\t\t\t\t\t\t\t\t\t\t\t\t \t\t\t\t\t\t\tDepth 7:\n",
      "\t\t\t\t\t\t\t\t\t\t\t\t\t\t\t\t\t\t\t\t\t\t\t\t\t\t\t\tleaf22 has siblings = leaf21\n",
      "\t\t\t\t\t\t\t\t\t\t\t\t\t\t\t\t\t\t\t\t\t\t\t\t\t\t\t\t ∧ [¬(leaf22 is better than leaf21) ←\n",
      "\t\t\t\t\t\t\t\t\t\t\t\t\t\t\t\t\t\t\t\t\t\t\t\t\t\t\t\t \t\t\t\t\t\t\t\tDepth 8:\n",
      "\t\t\t\t\t\t\t\t\t\t\t\t\t\t\t\t\t\t\t\t\t\t\t\t\t\t\t\t\t\t\t\t\t\t\t\t[leaf22 has score = 2 ←\n",
      "\t\t\t\t\t\t\t\t\t\t\t\t\t\t\t\t\t\t\t\t\t\t\t\t\t\t\t\t\t\t\t\t\t\t\t\t \t\t\t\t\t\t\t\t\tDepth 9:\n",
      "\t\t\t\t\t\t\t\t\t\t\t\t\t\t\t\t\t\t\t\t\t\t\t\t\t\t\t\t\t\t\t\t\t\t\t\t\t\t\t\t\t\t\t\t\tleaf22 is leaf]\n",
      "\t\t\t\t\t\t\t\t\t\t\t\t\t\t\t\t\t\t\t\t\t\t\t\t\t\t\t\t\t\t\t\t\t\t\t\t ∧ [leaf21 has score = 8 ←\n",
      "\t\t\t\t\t\t\t\t\t\t\t\t\t\t\t\t\t\t\t\t\t\t\t\t\t\t\t\t\t\t\t\t\t\t\t\t \t\t\t\t\t\t\t\t\tDepth 9:\n",
      "\t\t\t\t\t\t\t\t\t\t\t\t\t\t\t\t\t\t\t\t\t\t\t\t\t\t\t\t\t\t\t\t\t\t\t\t\t\t\t\t\t\t\t\t\tleaf21 is leaf]]]]]]\n",
      "\t\t\t\t\t\t ∧ [child1 is better than child3 ←\n",
      "\t\t\t\t\t\t \t\t\t\tDepth 4:\n",
      "\t\t\t\t\t\t\t\t\t\t[child1 has score = 3 ←\n",
      "\t\t\t\t\t\t\t\t\t\t \t\t\t\t\tDepth 5:\n",
      "\t\t\t\t\t\t\t\t\t\t\t\t\t\t\t¬(child1 is leaf)\n",
      "\t\t\t\t\t\t\t\t\t\t\t\t\t\t\t ∧ [child1 has backpropagating child = leaf11 ←\n",
      "\t\t\t\t\t\t\t\t\t\t\t\t\t\t\t \t\t\t\t\t\tDepth 6:\n",
      "\t\t\t\t\t\t\t\t\t\t\t\t\t\t\t\t\t\t\t\t\tchild1 is opponent player turn\n",
      "\t\t\t\t\t\t\t\t\t\t\t\t\t\t\t\t\t\t\t\t\t ∧ [leaf11 is worst ←\n",
      "\t\t\t\t\t\t\t\t\t\t\t\t\t\t\t\t\t\t\t\t\t \t\t\t\t\t\t\tDepth 7:\n",
      "\t\t\t\t\t\t\t\t\t\t\t\t\t\t\t\t\t\t\t\t\t\t\t\t\t\t\t\tleaf11 has siblings = leaf12\n",
      "\t\t\t\t\t\t\t\t\t\t\t\t\t\t\t\t\t\t\t\t\t\t\t\t\t\t\t\t ∧ [¬(leaf11 is better than leaf12) ←\n",
      "\t\t\t\t\t\t\t\t\t\t\t\t\t\t\t\t\t\t\t\t\t\t\t\t\t\t\t\t \t\t\t\t\t\t\t\tDepth 8:\n",
      "\t\t\t\t\t\t\t\t\t\t\t\t\t\t\t\t\t\t\t\t\t\t\t\t\t\t\t\t\t\t\t\t\t\t\t\t[leaf11 has score = 3 ←\n",
      "\t\t\t\t\t\t\t\t\t\t\t\t\t\t\t\t\t\t\t\t\t\t\t\t\t\t\t\t\t\t\t\t\t\t\t\t \t\t\t\t\t\t\t\t\tDepth 9:\n",
      "\t\t\t\t\t\t\t\t\t\t\t\t\t\t\t\t\t\t\t\t\t\t\t\t\t\t\t\t\t\t\t\t\t\t\t\t\t\t\t\t\t\t\t\t\tleaf11 is leaf]\n",
      "\t\t\t\t\t\t\t\t\t\t\t\t\t\t\t\t\t\t\t\t\t\t\t\t\t\t\t\t\t\t\t\t\t\t\t\t ∧ [leaf12 has score = 4 ←\n",
      "\t\t\t\t\t\t\t\t\t\t\t\t\t\t\t\t\t\t\t\t\t\t\t\t\t\t\t\t\t\t\t\t\t\t\t\t \t\t\t\t\t\t\t\t\tDepth 9:\n",
      "\t\t\t\t\t\t\t\t\t\t\t\t\t\t\t\t\t\t\t\t\t\t\t\t\t\t\t\t\t\t\t\t\t\t\t\t\t\t\t\t\t\t\t\t\tleaf12 is leaf]]]]]\n",
      "\t\t\t\t\t\t\t\t\t\t ∧ [child3 has score = 1 ←\n",
      "\t\t\t\t\t\t\t\t\t\t \t\t\t\t\tDepth 5:\n",
      "\t\t\t\t\t\t\t\t\t\t\t\t\t\t\t¬(child3 is leaf)\n",
      "\t\t\t\t\t\t\t\t\t\t\t\t\t\t\t ∧ [child3 has backpropagating child = leaf21 ←\n",
      "\t\t\t\t\t\t\t\t\t\t\t\t\t\t\t \t\t\t\t\t\tDepth 6:\n",
      "\t\t\t\t\t\t\t\t\t\t\t\t\t\t\t\t\t\t\t\t\tchild3 is opponent player turn\n",
      "\t\t\t\t\t\t\t\t\t\t\t\t\t\t\t\t\t\t\t\t\t ∧ [¬(leaf21 is worst) ←\n",
      "\t\t\t\t\t\t\t\t\t\t\t\t\t\t\t\t\t\t\t\t\t \t\t\t\t\t\t\tDepth 7:\n",
      "\t\t\t\t\t\t\t\t\t\t\t\t\t\t\t\t\t\t\t\t\t\t\t\t\t\t\t\tleaf21 has siblings = leaf22\n",
      "\t\t\t\t\t\t\t\t\t\t\t\t\t\t\t\t\t\t\t\t\t\t\t\t\t\t\t\t ∧ [¬(leaf21 is better than leaf22) ←\n",
      "\t\t\t\t\t\t\t\t\t\t\t\t\t\t\t\t\t\t\t\t\t\t\t\t\t\t\t\t \t\t\t\t\t\t\t\tDepth 8:\n",
      "\t\t\t\t\t\t\t\t\t\t\t\t\t\t\t\t\t\t\t\t\t\t\t\t\t\t\t\t\t\t\t\t\t\t\t\t[leaf21 has score = 1 ←\n",
      "\t\t\t\t\t\t\t\t\t\t\t\t\t\t\t\t\t\t\t\t\t\t\t\t\t\t\t\t\t\t\t\t\t\t\t\t \t\t\t\t\t\t\t\t\tDepth 9:\n",
      "\t\t\t\t\t\t\t\t\t\t\t\t\t\t\t\t\t\t\t\t\t\t\t\t\t\t\t\t\t\t\t\t\t\t\t\t\t\t\t\t\t\t\t\t\tleaf21 is leaf]\n",
      "\t\t\t\t\t\t\t\t\t\t\t\t\t\t\t\t\t\t\t\t\t\t\t\t\t\t\t\t\t\t\t\t\t\t\t\t ∧ [leaf22 has score = 1 ←\n",
      "\t\t\t\t\t\t\t\t\t\t\t\t\t\t\t\t\t\t\t\t\t\t\t\t\t\t\t\t\t\t\t\t\t\t\t\t \t\t\t\t\t\t\t\t\tDepth 9:\n",
      "\t\t\t\t\t\t\t\t\t\t\t\t\t\t\t\t\t\t\t\t\t\t\t\t\t\t\t\t\t\t\t\t\t\t\t\t\t\t\t\t\t\t\t\t\tleaf22 is leaf]]]]]]]]]\n"
     ]
    }
   ],
   "source": [
    "explainer.explain_adjective(root, \"score\", explanation_depth = 15, print_depth=True)"
   ]
  }
 ],
 "metadata": {
  "kernelspec": {
   "display_name": "Python 3 (ipykernel)",
   "language": "python",
   "name": "python3"
  },
  "language_info": {
   "codemirror_mode": {
    "name": "ipython",
    "version": 3
   },
   "file_extension": ".py",
   "mimetype": "text/x-python",
   "name": "python",
   "nbconvert_exporter": "python",
   "pygments_lexer": "ipython3",
   "version": "3.11.9"
  }
 },
 "nbformat": 4,
 "nbformat_minor": 2
}
