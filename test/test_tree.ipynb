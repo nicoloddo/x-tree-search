{
 "cells": [
  {
   "cell_type": "code",
   "execution_count": 1,
   "metadata": {},
   "outputs": [],
   "source": [
    "from src.structures.tree import Tree"
   ]
  },
  {
   "cell_type": "code",
   "execution_count": 2,
   "metadata": {},
   "outputs": [
    {
     "name": "stdout",
     "output_type": "stream",
     "text": [
      "Tree\n",
      "\n",
      "Node: 0\n",
      "Children:\n",
      "\n"
     ]
    }
   ],
   "source": [
    "t = Tree()\n",
    "print(t)"
   ]
  },
  {
   "cell_type": "code",
   "execution_count": 3,
   "metadata": {},
   "outputs": [
    {
     "name": "stdout",
     "output_type": "stream",
     "text": [
      "Tree\n",
      "\n",
      "Node: 0\n",
      "Children:\n",
      "00 with P = 0.25 and value V = 4\n",
      "01 with P = 0.25 and value V = 2\n",
      "02 with P = 0.25 and value V = 5\n",
      "03 with P = 0.25 and value V = 6\n",
      "\n",
      "Node: 00\n",
      "Children:\n",
      "\n",
      "Node: 01\n",
      "Children:\n",
      "\n",
      "Node: 02\n",
      "Children:\n",
      "\n",
      "Node: 03\n",
      "Children:\n",
      "\n"
     ]
    }
   ],
   "source": [
    "t.set_children('0', [4, 2, 5, 6])\n",
    "print(t)"
   ]
  },
  {
   "cell_type": "code",
   "execution_count": 4,
   "metadata": {},
   "outputs": [
    {
     "data": {
      "text/plain": [
       "{'0': <src.structures.tree.Tree.TreeNode at 0x7f6d07b69e40>,\n",
       " '00': <src.structures.tree.Tree.TreeNode at 0x7f6d07b69ea0>,\n",
       " '01': <src.structures.tree.Tree.TreeNode at 0x7f6d07b6a740>,\n",
       " '02': <src.structures.tree.Tree.TreeNode at 0x7f6d07b69db0>,\n",
       " '03': <src.structures.tree.Tree.TreeNode at 0x7f6d07b69c30>}"
      ]
     },
     "execution_count": 4,
     "metadata": {},
     "output_type": "execute_result"
    }
   ],
   "source": [
    "t.nodes"
   ]
  },
  {
   "cell_type": "code",
   "execution_count": 5,
   "metadata": {},
   "outputs": [
    {
     "data": {
      "text/plain": [
       "<src.structures.tree.Tree.TreeNode at 0x7f6d07b6a740>"
      ]
     },
     "execution_count": 5,
     "metadata": {},
     "output_type": "execute_result"
    }
   ],
   "source": [
    "t.get_node('01')"
   ]
  },
  {
   "cell_type": "code",
   "execution_count": 6,
   "metadata": {},
   "outputs": [
    {
     "data": {
      "text/plain": [
       "[]"
      ]
     },
     "execution_count": 6,
     "metadata": {},
     "output_type": "execute_result"
    }
   ],
   "source": [
    "t.get_node('01').children"
   ]
  },
  {
   "cell_type": "code",
   "execution_count": 7,
   "metadata": {},
   "outputs": [
    {
     "data": {
      "text/plain": [
       "True"
      ]
     },
     "execution_count": 7,
     "metadata": {},
     "output_type": "execute_result"
    }
   ],
   "source": [
    "t.get_node('01').is_leaf"
   ]
  },
  {
   "cell_type": "code",
   "execution_count": 8,
   "metadata": {},
   "outputs": [
    {
     "data": {
      "text/plain": [
       "False"
      ]
     },
     "execution_count": 8,
     "metadata": {},
     "output_type": "execute_result"
    }
   ],
   "source": [
    "t.get_node('0').is_leaf"
   ]
  }
 ],
 "metadata": {
  "language_info": {
   "name": "python"
  }
 },
 "nbformat": 4,
 "nbformat_minor": 2
}
