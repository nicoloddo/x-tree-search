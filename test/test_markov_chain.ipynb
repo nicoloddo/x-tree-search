{
 "cells": [
  {
   "cell_type": "code",
   "execution_count": 1,
   "metadata": {},
   "outputs": [],
   "source": [
    "from src.markov_chain import MarkovChain"
   ]
  },
  {
   "cell_type": "markdown",
   "metadata": {},
   "source": [
    "## Test add_transition"
   ]
  },
  {
   "cell_type": "code",
   "execution_count": 2,
   "metadata": {},
   "outputs": [],
   "source": [
    "# Now you can use MarkovChain and MarkovNode in your script\n",
    "mc1 = MarkovChain()\n",
    "mc1.add_transition(\"A\", \"B\", 0.1)\n",
    "mc1.add_transition(\"A\", \"C\", 0.9)"
   ]
  },
  {
   "cell_type": "code",
   "execution_count": 3,
   "metadata": {},
   "outputs": [
    {
     "name": "stdout",
     "output_type": "stream",
     "text": [
      "Markov Chain States and Probabilities\n",
      "\n",
      "State: A\n",
      "Connections:\n",
      "A -> B with P = 0.10000000149011612\n",
      "A -> C with P = 0.8999999761581421\n",
      "\n",
      "State: B\n",
      "Connections:\n",
      "\n",
      "State: C\n",
      "Connections:\n",
      "\n"
     ]
    }
   ],
   "source": [
    "print(mc1)"
   ]
  },
  {
   "cell_type": "markdown",
   "metadata": {},
   "source": [
    "## Test from_dict"
   ]
  },
  {
   "cell_type": "code",
   "execution_count": 4,
   "metadata": {},
   "outputs": [
    {
     "name": "stdout",
     "output_type": "stream",
     "text": [
      "Markov Chain States and Probabilities\n",
      "\n",
      "State: A\n",
      "Connections:\n",
      "A -> B with P = 0.10000000149011612\n",
      "A -> C with P = 0.8999999761581421\n",
      "\n",
      "State: B\n",
      "Connections:\n",
      "B -> A with P = 0.30000001192092896\n",
      "B -> C with P = 0.699999988079071\n",
      "\n",
      "State: C\n",
      "Connections:\n",
      "C -> A with P = 1.0\n",
      "\n"
     ]
    }
   ],
   "source": [
    "input_dict = {\n",
    "    'A': [('B', 0.1), ('C', 0.9)],\n",
    "    'B': [('A', 0.3), ('C', 0.7)],\n",
    "    'C': [('A', 1.0)]\n",
    "}\n",
    "\n",
    "mc2 = MarkovChain.from_dict(input_dict)\n",
    "print(mc2)"
   ]
  },
  {
   "cell_type": "markdown",
   "metadata": {},
   "source": [
    "## Test to_dict"
   ]
  },
  {
   "cell_type": "code",
   "execution_count": 5,
   "metadata": {},
   "outputs": [
    {
     "name": "stdout",
     "output_type": "stream",
     "text": [
      "{'A': [('B', 0.10000000149011612), ('C', 0.8999999761581421)], 'B': [('A', 0.30000001192092896), ('C', 0.699999988079071)], 'C': [('A', 1.0)]}\n"
     ]
    }
   ],
   "source": [
    "output_dict = mc2.to_dict()\n",
    "print(output_dict)"
   ]
  }
 ],
 "metadata": {
  "kernelspec": {
   "display_name": "cloudspace",
   "language": "python",
   "name": "python3"
  },
  "language_info": {
   "codemirror_mode": {
    "name": "ipython",
    "version": 3
   },
   "file_extension": ".py",
   "mimetype": "text/x-python",
   "name": "python",
   "nbconvert_exporter": "python",
   "pygments_lexer": "ipython3",
   "version": "3.10.10"
  }
 },
 "nbformat": 4,
 "nbformat_minor": 2
}
