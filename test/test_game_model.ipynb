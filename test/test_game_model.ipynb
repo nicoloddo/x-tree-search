{
 "cells": [
  {
   "cell_type": "code",
   "execution_count": 1,
   "metadata": {},
   "outputs": [],
   "source": [
    "from src.game.game_model import GameModel"
   ]
  },
  {
   "cell_type": "markdown",
   "metadata": {},
   "source": [
    "## Test initialization"
   ]
  },
  {
   "cell_type": "code",
   "execution_count": 2,
   "metadata": {},
   "outputs": [
    {
     "name": "stdout",
     "output_type": "stream",
     "text": [
      "\n",
      "        You can add spaces on which to perform actions with the function add_action_space(dimensions, default_labels, additional_labels, dimensions_description).\n",
      "        For example most games need a board. By default there is the agent space, allowing for actions onto the agents features.\n",
      "        You can disable actions on an action space with \n",
      "\n",
      "        You can use the method gm.action_is_violation_if(rule, rule_description) to express rules for the game.\n",
      "\n",
      "        Use help(gm.action_is_violation_if) for help on how to define rules.\n",
      "        The rule: \"Nothing is allowed if the game is ended.\" is defined by default, to delete it use gm.delete_rule(1).\n",
      "        Use gm.print_rules() to see all the rules that have been setted.\n",
      "        \n",
      "        Use gm.set_endgame(callable_function(game)) to define based on what dynamics your game should end.\n",
      "        The callable function should have one only input parameter, which represents the game itself, \n",
      "        which can be used to refer to anything inside its model, this include:\n",
      "                - action_spaces = the action spaces belonging to the game, incuding any added one and their features\n",
      "                - agents = the agents involved in the game and their features\n",
      "                - actions = previous actions performed\n",
      "                - started = if the game has started\n",
      "                - ended = if the game has ended\n",
      "        Example: \n",
      "            def three_elements_in_row(game):\n",
      "                board = game.action_spaces[\"board\"]\n",
      "                # Check rows for winning condition\n",
      "                for row in board:\n",
      "                    if row[0] == row[1] == row[2] != 'free':\n",
      "                        return True\n",
      "                # If no winner, return False\n",
      "                return False\n",
      "        \n",
      "\n",
      "Game: \n",
      "\n",
      "Action Spaces:\n",
      "\n",
      "1. agent (actions allowed): \n",
      "(2, 1), Number of elements: 2 \n",
      "Available labels: [['starts', 'not_starts']])\n",
      "\n",
      "Dimensions descriptions: No description was given.\n",
      "\n",
      "agent: \n",
      "[['starts']\n",
      " ['starts']]\n",
      "\n",
      "2. board (actions allowed): \n",
      "(3, 3), Number of elements: 9 \n",
      "Available labels: [['free', 'occupied']])\n",
      "\n",
      "Dimensions descriptions: No description was given.\n",
      "\n",
      "board: \n",
      "[['free' 'free' 'free']\n",
      " ['free' 'free' 'free']\n",
      " ['free' 'free' 'free']]\n",
      "\n",
      "\n"
     ]
    }
   ],
   "source": [
    "# Example Usage:\n",
    "gm =  GameModel(2, ['starts'], ['not_starts'])\n",
    "gm.add_action_space(\"board\", [3,3], ['free'], ['occupied'])\n",
    "print(gm)"
   ]
  },
  {
   "cell_type": "markdown",
   "metadata": {},
   "source": [
    "## Test tic-tac-toe environment definition"
   ]
  },
  {
   "cell_type": "code",
   "execution_count": 3,
   "metadata": {},
   "outputs": [
    {
     "name": "stdout",
     "output_type": "stream",
     "text": [
      "\n",
      "        You can add spaces on which to perform actions with the function add_action_space(dimensions, default_labels, additional_labels, dimensions_description).\n",
      "        For example most games need a board. By default there is the agent space, allowing for actions onto the agents features.\n",
      "        You can disable actions on an action space with \n",
      "\n",
      "        You can use the method gm.action_is_violation_if(rule, rule_description) to express rules for the game.\n",
      "\n",
      "        Use help(gm.action_is_violation_if) for help on how to define rules.\n",
      "        The rule: \"Nothing is allowed if the game is ended.\" is defined by default, to delete it use gm.delete_rule(1).\n",
      "        Use gm.print_rules() to see all the rules that have been setted.\n",
      "        \n",
      "        Use gm.set_endgame(callable_function(game)) to define based on what dynamics your game should end.\n",
      "        The callable function should have one only input parameter, which represents the game itself, \n",
      "        which can be used to refer to anything inside its model, this include:\n",
      "                - action_spaces = the action spaces belonging to the game, incuding any added one and their features\n",
      "                - agents = the agents involved in the game and their features\n",
      "                - actions = previous actions performed\n",
      "                - started = if the game has started\n",
      "                - ended = if the game has ended\n",
      "        Example: \n",
      "            def three_elements_in_row(game):\n",
      "                board = game.action_spaces[\"board\"]\n",
      "                # Check rows for winning condition\n",
      "                for row in board:\n",
      "                    if row[0] == row[1] == row[2] != 'free':\n",
      "                        return True\n",
      "                # If no winner, return False\n",
      "                return False\n",
      "        \n",
      "\n",
      "Game: tic-tac-toe\n",
      "\n",
      "Action Spaces:\n",
      "\n",
      "1. agent (actions allowed): \n",
      "(2, 2), Number of elements: 4 \n",
      "Available labels: [['not starter', 'starter', 'winner', 'loser'], ['X', 'X', 'O']])\n",
      "\n",
      "Dimensions descriptions: 2 players with feature 1 indicating who is playing, waiting and won or lost, and feature 2 indicating their symbol.\n",
      "\n",
      "agent: \n",
      "[['not starter' 'X']\n",
      " ['not starter' 'X']]\n",
      "\n",
      "2. board (actions allowed): \n",
      "(3, 3), Number of elements: 9 \n",
      "Available labels: [['free', 'X', 'O']])\n",
      "\n",
      "Dimensions descriptions: 3x3 board.\n",
      "\n",
      "board: \n",
      "[['free' 'free' 'free']\n",
      " ['free' 'free' 'free']\n",
      " ['free' 'free' 'free']]\n",
      "\n",
      "\n"
     ]
    }
   ],
   "source": [
    "gm = GameModel( \n",
    "agents_number=2, default_agent_features=['not starter', 'X'], additional_agent_features=[['starter', 'winner', 'loser'], ['X', 'O']], \n",
    "agent_features_descriptions=\"2 players with feature 1 indicating who is playing, waiting and won or lost, and feature 2 indicating their symbol.\",\n",
    "game_name=\"tic-tac-toe\")\n",
    "gm.add_action_space(\"board\", dimensions=[3, 3], default_labels=['free'], additional_labels=[['X', 'O']], dimensions_descriptions=\"3x3 board.\")\n",
    "print(gm)"
   ]
  },
  {
   "cell_type": "code",
   "execution_count": 4,
   "metadata": {},
   "outputs": [
    {
     "name": "stdout",
     "output_type": "stream",
     "text": [
      "Game: tic-tac-toe\n",
      "\n",
      "Action Spaces:\n",
      "\n",
      "1. agent (actions allowed): \n",
      "(2, 2), Number of elements: 4 \n",
      "Available labels: [['not starter', 'starter', 'winner', 'loser'], ['X', 'X', 'O']])\n",
      "\n",
      "Dimensions descriptions: 2 players with feature 1 indicating who is playing, waiting and won or lost, and feature 2 indicating their symbol.\n",
      "\n",
      "agent: \n",
      "[['not starter' 'X']\n",
      " ['not starter' 'X']]\n",
      "\n",
      "2. board (actions allowed): \n",
      "(3, 3), Number of elements: 9 \n",
      "Available labels: [['free', 'X', 'O']])\n",
      "\n",
      "Dimensions descriptions: 3x3 board.\n",
      "\n",
      "board: \n",
      "[['X' 'free' 'free']\n",
      " ['free' 'free' 'free']\n",
      " ['free' 'free' 'free']]\n",
      "\n",
      "\n"
     ]
    }
   ],
   "source": [
    "board = gm.action_spaces[\"board\"]\n",
    "board[0,0] = 'X'\n",
    "print(gm)"
   ]
  }
 ],
 "metadata": {
  "kernelspec": {
   "display_name": "cloudspace",
   "language": "python",
   "name": "python3"
  },
  "language_info": {
   "codemirror_mode": {
    "name": "ipython",
    "version": 3
   },
   "file_extension": ".py",
   "mimetype": "text/x-python",
   "name": "python",
   "nbconvert_exporter": "python",
   "pygments_lexer": "ipython3",
   "version": "3.10.10"
  }
 },
 "nbformat": 4,
 "nbformat_minor": 2
}
