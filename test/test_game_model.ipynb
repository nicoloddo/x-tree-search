{
 "cells": [
  {
   "cell_type": "code",
   "execution_count": 11,
   "metadata": {},
   "outputs": [],
   "source": [
    "from src.game_model import GameModel"
   ]
  },
  {
   "cell_type": "markdown",
   "metadata": {},
   "source": [
    "## Test initialization"
   ]
  },
  {
   "cell_type": "code",
   "execution_count": 12,
   "metadata": {},
   "outputs": [
    {
     "name": "stdout",
     "output_type": "stream",
     "text": [
      "\n",
      "        You can use the method gm.action_is_violation_if(rule, rule_description) to express rules for the game.\n",
      "\n",
      "        Use help(gm.action_is_violation_if) for help on how to define rules.\n",
      "        The rule: \"Nothing is allowed if the game is ended.\" is defined by default, to delete it use gm.delete_rule(1).\n",
      "        Use gm.print_rules() to see all the rules that have been setted.\n",
      "        \n",
      "        Use gm.set_endgame(callable_function(game)) to define based on what dynamics your game should end.\n",
      "        The callable function should have one only input parameter, which represents the game itself, \n",
      "        which can be used to refer to anything inside its model, this include:\n",
      "                - environment = the environment or board (e.g. game.environment)\n",
      "                - agents = the agents involved in the game\n",
      "                - actions = previous actions performed\n",
      "                - started = if the game has started\n",
      "                - ended = if the game has ended\n",
      "        Example: \n",
      "            def three_elements_in_row(game):\n",
      "                board = game.environment\n",
      "                # Check rows for winning condition\n",
      "                for row in board:\n",
      "                    if row[0] == row[1] == row[2] != 'free':\n",
      "                        return True\n",
      "                # If no winner, return False\n",
      "                return False\n",
      "        \n",
      "\n",
      "Game: \n",
      "\n",
      "Number of agents: 2, Number of agent features: 2 \n",
      "Agent features labels: [['starts', 'not_starts']])\n",
      "\n",
      "Environment shape: (3, 3), Total number of elements: 9 \n",
      "Labels: ['free', 'occupied'])\n",
      "\n",
      "Dimensions Descriptions: No description was given.\n",
      "\n",
      "Agents: \n",
      "[['starts' 'starts']\n",
      " ['starts' 'starts']]\n",
      "\n",
      "Environment:\n",
      "[['free' 'free' 'free']\n",
      " ['free' 'free' 'free']\n",
      " ['free' 'free' 'free']]\n"
     ]
    }
   ],
   "source": [
    "# Example Usage:\n",
    "gm =  GameModel(['free'], ['occupied'], [3, 3], ['starts'], ['not_starts'], [2,2])\n",
    "print(gm)"
   ]
  },
  {
   "cell_type": "markdown",
   "metadata": {},
   "source": [
    "## Test print too big environment"
   ]
  },
  {
   "cell_type": "code",
   "execution_count": 13,
   "metadata": {},
   "outputs": [
    {
     "name": "stdout",
     "output_type": "stream",
     "text": [
      "\n",
      "        You can use the method gm.action_is_violation_if(rule, rule_description) to express rules for the game.\n",
      "\n",
      "        Use help(gm.action_is_violation_if) for help on how to define rules.\n",
      "        The rule: \"Nothing is allowed if the game is ended.\" is defined by default, to delete it use gm.delete_rule(1).\n",
      "        Use gm.print_rules() to see all the rules that have been setted.\n",
      "        \n",
      "        Use gm.set_endgame(callable_function(game)) to define based on what dynamics your game should end.\n",
      "        The callable function should have one only input parameter, which represents the game itself, \n",
      "        which can be used to refer to anything inside its model, this include:\n",
      "                - environment = the environment or board (e.g. game.environment)\n",
      "                - agents = the agents involved in the game\n",
      "                - actions = previous actions performed\n",
      "                - started = if the game has started\n",
      "                - ended = if the game has ended\n",
      "        Example: \n",
      "            def three_elements_in_row(game):\n",
      "                board = game.environment\n",
      "                # Check rows for winning condition\n",
      "                for row in board:\n",
      "                    if row[0] == row[1] == row[2] != 'free':\n",
      "                        return True\n",
      "                # If no winner, return False\n",
      "                return False\n",
      "        \n",
      "\n",
      "Game: \n",
      "\n",
      "Number of agents: 2, Number of agent features: 2 \n",
      "Agent features labels: [['starts', 'does not start']])\n",
      "\n",
      "Environment shape: (30, 3), Total number of elements: 90 \n",
      "Labels: ['free', 'occupied'])\n",
      "\n",
      "Dimensions Descriptions: No description was given.\n",
      "\n",
      "Agents: \n",
      "[['starts' 'starts']\n",
      " ['starts' 'starts']]\n",
      "\n",
      "Environment too big to print (greater than 30 elements)\n"
     ]
    }
   ],
   "source": [
    "# Example Usage:\n",
    "gm = GameModel(['free'], ['occupied'], [30, 3], ['starts'], ['does not start'], [2,2])\n",
    "print(gm)"
   ]
  },
  {
   "cell_type": "markdown",
   "metadata": {},
   "source": [
    "## Test printing 3D environment"
   ]
  },
  {
   "cell_type": "code",
   "execution_count": 14,
   "metadata": {},
   "outputs": [
    {
     "name": "stdout",
     "output_type": "stream",
     "text": [
      "\n",
      "        You can use the method gm.action_is_violation_if(rule, rule_description) to express rules for the game.\n",
      "\n",
      "        Use help(gm.action_is_violation_if) for help on how to define rules.\n",
      "        The rule: \"Nothing is allowed if the game is ended.\" is defined by default, to delete it use gm.delete_rule(1).\n",
      "        Use gm.print_rules() to see all the rules that have been setted.\n",
      "        \n",
      "        Use gm.set_endgame(callable_function(game)) to define based on what dynamics your game should end.\n",
      "        The callable function should have one only input parameter, which represents the game itself, \n",
      "        which can be used to refer to anything inside its model, this include:\n",
      "                - environment = the environment or board (e.g. game.environment)\n",
      "                - agents = the agents involved in the game\n",
      "                - actions = previous actions performed\n",
      "                - started = if the game has started\n",
      "                - ended = if the game has ended\n",
      "        Example: \n",
      "            def three_elements_in_row(game):\n",
      "                board = game.environment\n",
      "                # Check rows for winning condition\n",
      "                for row in board:\n",
      "                    if row[0] == row[1] == row[2] != 'free':\n",
      "                        return True\n",
      "                # If no winner, return False\n",
      "                return False\n",
      "        \n",
      "\n",
      "Game: \n",
      "\n",
      "Number of agents: 2, Number of agent features: 2 \n",
      "Agent features labels: [['starts', 'does not start']])\n",
      "\n",
      "Environment shape: (20, 3, 3), Total number of elements: 180 \n",
      "Labels: ['free', 'occupied'])\n",
      "\n",
      "Dimensions Descriptions: No description was given.\n",
      "\n",
      "Agents: \n",
      "[['starts' 'starts']\n",
      " ['starts' 'starts']]\n",
      "\n",
      "Environment:\n",
      "[['free' 'free' 'free']\n",
      " ['free' 'free' 'free']\n",
      " ['free' 'free' 'free']]\n"
     ]
    }
   ],
   "source": [
    "# Example Usage:\n",
    "gm = GameModel(['free'], ['occupied'], [20, 3, 3], ['starts'], ['does not start'], [2,2])\n",
    "print(gm)"
   ]
  },
  {
   "cell_type": "markdown",
   "metadata": {},
   "source": [
    "## Test tic-tac-toe environment definition"
   ]
  },
  {
   "cell_type": "code",
   "execution_count": 15,
   "metadata": {},
   "outputs": [
    {
     "name": "stdout",
     "output_type": "stream",
     "text": [
      "\n",
      "        You can use the method gm.action_is_violation_if(rule, rule_description) to express rules for the game.\n",
      "\n",
      "        Use help(gm.action_is_violation_if) for help on how to define rules.\n",
      "        The rule: \"Nothing is allowed if the game is ended.\" is defined by default, to delete it use gm.delete_rule(1).\n",
      "        Use gm.print_rules() to see all the rules that have been setted.\n",
      "        \n",
      "        Use gm.set_endgame(callable_function(game)) to define based on what dynamics your game should end.\n",
      "        The callable function should have one only input parameter, which represents the game itself, \n",
      "        which can be used to refer to anything inside its model, this include:\n",
      "                - environment = the environment or board (e.g. game.environment)\n",
      "                - agents = the agents involved in the game\n",
      "                - actions = previous actions performed\n",
      "                - started = if the game has started\n",
      "                - ended = if the game has ended\n",
      "        Example: \n",
      "            def three_elements_in_row(game):\n",
      "                board = game.environment\n",
      "                # Check rows for winning condition\n",
      "                for row in board:\n",
      "                    if row[0] == row[1] == row[2] != 'free':\n",
      "                        return True\n",
      "                # If no winner, return False\n",
      "                return False\n",
      "        \n",
      "\n",
      "Game: tic-tac-toe\n",
      "\n",
      "Number of agents: 2, Number of agent features: 2 \n",
      "Agent features labels: [['not starter', 'starter', 'winner', 'loser'], ['X', 'X', 'O']])\n",
      "\n",
      "Environment shape: (3, 3), Total number of elements: 9 \n",
      "Labels: ['free', 'X', 'O'])\n",
      "\n",
      "Dimensions Descriptions: For the environment we have the 3x3 board and 20 timesteps. For the agents we have 2 players with feature 1 indicating who is playing, waiting and won or lost, and feature 2 indicating their symbol.\n",
      "\n",
      "Agents: \n",
      "[['not starter' 'X']\n",
      " ['not starter' 'X']]\n",
      "\n",
      "Environment:\n",
      "[['free' 'free' 'free']\n",
      " ['free' 'free' 'free']\n",
      " ['free' 'free' 'free']]\n"
     ]
    }
   ],
   "source": [
    "gm = GameModel(\n",
    "default_labels=['free'], additional_labels=['X', 'O'], environment_dimensions=[3, 3], \n",
    "default_agents_labels=['not starter', 'X'], additional_agents_labels=[['starter', 'winner', 'loser'], ['X', 'O']], agents_dimensions=[2, 2], \n",
    "dimensions_descriptions=\"For the environment we have the 3x3 board and 20 timesteps. For the agents we have 2 players with feature 1 indicating who is playing, waiting and won or lost, and feature 2 indicating their symbol.\",\n",
    "game_name=\"tic-tac-toe\")\n",
    "print(gm)"
   ]
  },
  {
   "cell_type": "code",
   "execution_count": 16,
   "metadata": {},
   "outputs": [
    {
     "name": "stdout",
     "output_type": "stream",
     "text": [
      "Game: tic-tac-toe\n",
      "\n",
      "Number of agents: 2, Number of agent features: 2 \n",
      "Agent features labels: [['not starter', 'starter', 'winner', 'loser'], ['X', 'X', 'O']])\n",
      "\n",
      "Environment shape: (3, 3), Total number of elements: 9 \n",
      "Labels: ['free', 'X', 'O'])\n",
      "\n",
      "Dimensions Descriptions: For the environment we have the 3x3 board and 20 timesteps. For the agents we have 2 players with feature 1 indicating who is playing, waiting and won or lost, and feature 2 indicating their symbol.\n",
      "\n",
      "Agents: \n",
      "[['not starter' 'X']\n",
      " ['not starter' 'X']]\n",
      "\n",
      "Environment:\n",
      "[['X' 'free' 'free']\n",
      " ['free' 'free' 'free']\n",
      " ['free' 'free' 'free']]\n"
     ]
    }
   ],
   "source": [
    "gm.environment[0,0] = 'X'\n",
    "print(gm)"
   ]
  }
 ],
 "metadata": {
  "kernelspec": {
   "display_name": "cloudspace",
   "language": "python",
   "name": "python3"
  },
  "language_info": {
   "codemirror_mode": {
    "name": "ipython",
    "version": 3
   },
   "file_extension": ".py",
   "mimetype": "text/x-python",
   "name": "python",
   "nbconvert_exporter": "python",
   "pygments_lexer": "ipython3",
   "version": "3.10.10"
  }
 },
 "nbformat": 4,
 "nbformat_minor": 2
}
