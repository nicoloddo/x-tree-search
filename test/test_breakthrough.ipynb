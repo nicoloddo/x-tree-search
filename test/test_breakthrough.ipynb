{
 "cells": [
  {
   "cell_type": "code",
   "execution_count": 1,
   "metadata": {},
   "outputs": [],
   "source": [
    "from games.breakthrough.breakthrough import Breakthrough\n",
    "from src.game.agents import User\n",
    "\n",
    "game = Breakthrough(players=[User(agent_id=0), User(agent_id=1)],\n",
    "                    interface_mode='jupyter',\n",
    "                    interface_hyperlink_mode=False)"
   ]
  },
  {
   "cell_type": "code",
   "execution_count": 2,
   "metadata": {},
   "outputs": [
    {
     "data": {
      "application/vnd.jupyter.widget-view+json": {
       "model_id": "1f238a289bab47138496fe7261b268de",
       "version_major": 2,
       "version_minor": 0
      },
      "text/plain": [
       "VBox(children=(GridBox(children=(Button(layout=Layout(border_bottom='1px solid black', border_left='1px solid …"
      ]
     },
     "metadata": {},
     "output_type": "display_data"
    },
    {
     "name": "stdout",
     "output_type": "stream",
     "text": [
      "This action is not permitted.\n",
      "\n",
      "Broke rule 2: Players cannot move to a space occupied by an enemy piece, unless it's a diagonal movement.\n",
      "This action is not permitted.\n",
      "\n",
      "Broke rule 1: Players cannot move pieces of the other player.\n",
      "Broke rule 4: Pieces cannot move to a space behind it.\n",
      "This action is not permitted.\n",
      "\n",
      "Broke rule 2: Players cannot move to a space occupied by an enemy piece, unless it's a diagonal movement.\n",
      "This action is not permitted.\n",
      "\n",
      "Broke rule 1: Players cannot move pieces of the other player.\n",
      "This action is not permitted.\n",
      "\n",
      "Broke rule 4: Pieces cannot move to a space behind it.\n",
      "This action is not permitted.\n",
      "\n",
      "Broke rule 5: A piece cannot move horizontally.\n",
      "This action is not permitted.\n",
      "\n",
      "Broke rule 2: Players cannot move to a space occupied by an enemy piece, unless it's a diagonal movement.\n",
      "Broke rule 5: A piece cannot move horizontally.\n"
     ]
    }
   ],
   "source": [
    "await game.start_game()"
   ]
  },
  {
   "cell_type": "code",
   "execution_count": 3,
   "metadata": {},
   "outputs": [],
   "source": [
    "#game.act({'who': 1, 'where': (3, 0), 'what': (3, 1), 'action_space': \"pieces\"})"
   ]
  }
 ],
 "metadata": {
  "kernelspec": {
   "display_name": "Python 3",
   "language": "python",
   "name": "python3"
  },
  "language_info": {
   "codemirror_mode": {
    "name": "ipython",
    "version": 3
   },
   "file_extension": ".py",
   "mimetype": "text/x-python",
   "name": "python",
   "nbconvert_exporter": "python",
   "pygments_lexer": "ipython3",
   "version": "3.11.9"
  }
 },
 "nbformat": 4,
 "nbformat_minor": 2
}
