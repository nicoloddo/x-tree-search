{
 "cells": [
  {
   "cell_type": "code",
   "execution_count": 42,
   "metadata": {},
   "outputs": [],
   "source": [
    "from src.explainer.explainer import ArgumentativeExplainer\n",
    "from src.explainer.framework import ArgumentationFramework, ArgumentationSettings\n",
    "\n",
    "from src.explainer.adjective import BooleanAdjective, PointerAdjective, ComparisonAdjective, MaxRankAdjective, MinRankAdjective\n",
    "from src.explainer.explanation import Possession, Assumption, PossessionCondition, ConditionalExplanation, CompositeExplanation"
   ]
  },
  {
   "cell_type": "code",
   "execution_count": 43,
   "metadata": {},
   "outputs": [],
   "source": [
    "# Example usage:\n",
    "class MinMaxNode:\n",
    "    def __init__(self, id, *, score=None, maximizing_player_turn=True, children=None, score_child=None):\n",
    "        \n",
    "        self.id = id\n",
    "\n",
    "        if score:\n",
    "            self.score = score\n",
    "        elif score_child:\n",
    "            self.score_child = score_child\n",
    "            self.score = score_child.score\n",
    "        else:\n",
    "            raise ValueError(\"Provide score or score_child.\")\n",
    "\n",
    "        self.children = children or []\n",
    "        self.parent = None\n",
    "        self.maximizing_player_turn = maximizing_player_turn\n",
    "        \n",
    "        self.is_leaf = True\n",
    "        if len(self.children) > 0:\n",
    "            self.is_leaf = False\n",
    "            for child in children:\n",
    "                child.parent=self\n",
    "                child.maximizing_player_turn = not self.maximizing_player_turn\n",
    "    \n",
    "    def __str__(self):\n",
    "        return self.id\n",
    "\n",
    "# Create a simple game tree\n",
    "leaf11 = MinMaxNode('leaf11', score=3)\n",
    "leaf12 = MinMaxNode('leaf12', score=4)\n",
    "leaf21 = MinMaxNode('leaf21', score=8)\n",
    "leaf22 = MinMaxNode('leaf22', score=2)\n",
    "child1 = MinMaxNode('child1', children=[leaf11, leaf12], score_child=leaf11)\n",
    "child2 = MinMaxNode('child2', children=[leaf21, leaf22], score_child=leaf22)\n",
    "root = MinMaxNode('root', maximizing_player_turn=True, children=[child1, child2], score_child=child1)"
   ]
  },
  {
   "cell_type": "code",
   "execution_count": 44,
   "metadata": {},
   "outputs": [],
   "source": [
    "knowledgebase = ArgumentationFramework()\n",
    "\n",
    "knowledgebase.add_adjective( \n",
    "    BooleanAdjective(\"leaf\",\n",
    "        definition = \"node.is_leaf\")\n",
    ")\n",
    "\n",
    "knowledgebase.add_adjective( \n",
    "    PointerAdjective(\"score\",\n",
    "        definition = \"node.score\",\n",
    "\n",
    "        explanation = ConditionalExplanation(\n",
    "            condition = PossessionCondition(\"leaf\"),\n",
    "            true_explanation = Assumption(\"Leaf nodes have scores from the evaluation function\"),\n",
    "            false_explanation = CompositeExplanation(\n",
    "                Assumption(\"Internal nodes have scores from children\"),\n",
    "                Possession(\"backtracing child\"))\n",
    "        ))\n",
    ")\n",
    "\n",
    "knowledgebase.add_adjective(\n",
    "    BooleanAdjective(\"opponent player turn\",\n",
    "        definition = \"not node.maximizing_player_turn\")\n",
    ")\n",
    "\n",
    "knowledgebase.add_adjective( \n",
    "    PointerAdjective(\"backtracing child\",\n",
    "        definition = \"node.score_child\",\n",
    "        # alternative definition for backtracing child:\n",
    "        # min(node.children, key=lambda child: child.score),\n",
    "\n",
    "        explanation = ConditionalExplanation(\n",
    "            condition = PossessionCondition(\"opponent player turn\"),\n",
    "            true_explanation = CompositeExplanation(\n",
    "                Assumption(\"We assume the opponent will do their best move.\"),\n",
    "                Possession(\"backtracing child\", \"worst\")),\n",
    "            false_explanation = CompositeExplanation(\n",
    "                Assumption(\"On our turn we take the maximum rated move.\"),\n",
    "                Possession(\"backtracing child\", \"best\"))\n",
    "        ))\n",
    ")\n",
    "\n",
    "knowledgebase.add_adjective(\n",
    "    ComparisonAdjective(\"better\", \"score\", \">\")\n",
    ")\n",
    "\n",
    "knowledgebase.add_adjective( \n",
    "    PointerAdjective(\"siblings\",\n",
    "        definition = \"[sibling for sibling in node.parent.children if sibling is not node]\")\n",
    ")\n",
    "\n",
    "knowledgebase.add_adjective(\n",
    "    MaxRankAdjective(\"best\", \"better\", \"siblings\")\n",
    ")\n",
    "knowledgebase.add_adjective(\n",
    "    MinRankAdjective(\"worst\", \"better\", \"siblings\")\n",
    ")"
   ]
  },
  {
   "cell_type": "code",
   "execution_count": 45,
   "metadata": {},
   "outputs": [
    {
     "name": "stdout",
     "output_type": "stream",
     "text": [
      "Propositions:\n",
      "node is leaf\n",
      "node has score = ?\n",
      "node is opponent player turn\n",
      "node has backtracing child = ?\n",
      "node1 is better than node2\n",
      "node has siblings = ?\n",
      "node is best\n",
      "node is worst\n",
      "\n",
      "\n",
      "Implications:\n",
      "[(assumption) Definition of \"leaf\" is node.is_leaf → node is leaf]\n",
      "\n",
      "[[(assumption) Definition of \"leaf\" is node.is_leaf → node is leaf]\n",
      " ∧ (assumption) Leaf nodes have scores from the evaluation function\n",
      " ∨ [(assumption) Definition of \"leaf\" is node.is_leaf → ¬(node is leaf)]\n",
      " ∧ (assumption) Internal nodes have scores from children ∧ [[(assumption) Definition of \"opponent player turn\" is not node.maximizing_player_turn → node is opponent player turn]\n",
      " ∧ (assumption) We assume the opponent will do their best move. ∧ [(assumption) By definition a node is \"worst\" if it's ¬(\"better\") compared to all nodes among \"siblings\" ∧ Node ¬(better) than all nodes in siblings → node is worst]\n",
      "\n",
      " ∨ [(assumption) Definition of \"opponent player turn\" is not node.maximizing_player_turn → ¬(node is opponent player turn)]\n",
      " ∧ (assumption) On our turn we take the maximum rated move. ∧ [(assumption) By definition a node is \"best\" if it's \"better\" compared to all nodes among \"siblings\" ∧ Node better than all nodes in siblings → node is best]\n",
      " → node has backtracing child = True]\n",
      " → node has score = ?]\n",
      "\n",
      "[(assumption) Definition of \"opponent player turn\" is not node.maximizing_player_turn → node is opponent player turn]\n",
      "\n",
      "[[(assumption) Definition of \"opponent player turn\" is not node.maximizing_player_turn → node is opponent player turn]\n",
      " ∧ (assumption) We assume the opponent will do their best move. ∧ [(assumption) By definition a node is \"worst\" if it's ¬(\"better\") compared to all nodes among \"siblings\" ∧ Node ¬(better) than all nodes in siblings → node is worst]\n",
      "\n",
      " ∨ [(assumption) Definition of \"opponent player turn\" is not node.maximizing_player_turn → ¬(node is opponent player turn)]\n",
      " ∧ (assumption) On our turn we take the maximum rated move. ∧ [(assumption) By definition a node is \"best\" if it's \"better\" compared to all nodes among \"siblings\" ∧ Node better than all nodes in siblings → node is best]\n",
      " → node has backtracing child = ?]\n",
      "\n",
      "[(assumption) By definition, node1 is \"better\" than node2 if node1 score > node2 score → node1 is better than node1]\n",
      "\n",
      "[(assumption) Definition of \"siblings\" is [sibling for sibling in node.parent.children if sibling is not node] → node has siblings = ?]\n",
      "\n",
      "[(assumption) By definition a node is \"best\" if it's \"better\" compared to all nodes among \"siblings\" ∧ Node better than all nodes in siblings → node is best]\n",
      "\n",
      "[(assumption) By definition a node is \"worst\" if it's ¬(\"better\") compared to all nodes among \"siblings\" ∧ Node ¬(better) than all nodes in siblings → node is worst]\n",
      "\n"
     ]
    }
   ],
   "source": [
    "print(knowledgebase)"
   ]
  },
  {
   "cell_type": "code",
   "execution_count": 46,
   "metadata": {},
   "outputs": [],
   "source": [
    "explainer = ArgumentativeExplainer(knowledgebase)\n",
    "\n",
    "explainer.set_tree_search_motivation(lambda root: root.children, \"best\")"
   ]
  },
  {
   "cell_type": "code",
   "execution_count": 47,
   "metadata": {},
   "outputs": [],
   "source": [
    "settings = {\n",
    "            'explanation_depth': 3 ,\n",
    "            'assumptions_verbosity': 'no',\n",
    "            'repeat_expl_each_node': True\n",
    "        }\n",
    "\n",
    "knowledgebase.configure_settings(settings)"
   ]
  },
  {
   "cell_type": "code",
   "execution_count": 48,
   "metadata": {},
   "outputs": [
    {
     "name": "stdout",
     "output_type": "stream",
     "text": [
      "[[[¬(child1 is leaf) ∧ [child1 is opponent player turn ∧ [[[leaf11 is leaf → leaf11 has score = 3]\n",
      " ∧ [leaf12 is leaf → leaf12 has score = 4]\n",
      " → ¬(leaf11 is better than leaf12)]\n",
      " → leaf11 is worst]\n",
      " → child1 has backtracing child = leaf11]\n",
      " → child1 has score = 3]\n",
      " ∧ [¬(child2 is leaf) ∧ [child2 is opponent player turn ∧ [[[leaf22 is leaf → leaf22 has score = 2]\n",
      " ∧ [leaf21 is leaf → leaf21 has score = 8]\n",
      " → ¬(leaf22 is better than leaf21)]\n",
      " → leaf22 is worst]\n",
      " → child2 has backtracing child = leaf22]\n",
      " → child2 has score = 2]\n",
      " → child1 is better than child2]\n",
      " → child1 is best]\n",
      "\n"
     ]
    }
   ],
   "source": [
    "# Generate explanations\n",
    "print(explainer.explain_adjective(child1, \"best\"))"
   ]
  },
  {
   "cell_type": "code",
   "execution_count": 49,
   "metadata": {},
   "outputs": [
    {
     "name": "stdout",
     "output_type": "stream",
     "text": [
      "[[[¬(child1 is leaf) ∧ [child1 is opponent player turn ∧ [[[leaf11 is leaf → leaf11 has score = 3]\n",
      " ∧ [leaf12 is leaf → leaf12 has score = 4]\n",
      " → ¬(leaf11 is better than leaf12)]\n",
      " → leaf11 is worst]\n",
      " → child1 has backtracing child = leaf11]\n",
      " → child1 has score = 3]\n",
      " ∧ [¬(child2 is leaf) ∧ [child2 is opponent player turn ∧ [[[leaf22 is leaf → leaf22 has score = 2]\n",
      " ∧ [leaf21 is leaf → leaf21 has score = 8]\n",
      " → ¬(leaf22 is better than leaf21)]\n",
      " → leaf22 is worst]\n",
      " → child2 has backtracing child = leaf22]\n",
      " → child2 has score = 2]\n",
      " → child1 is better than child2]\n",
      " → child1 is best]\n",
      "\n"
     ]
    }
   ],
   "source": [
    "print(explainer.explain_adjective(child1, \"best\"))"
   ]
  },
  {
   "cell_type": "code",
   "execution_count": 50,
   "metadata": {},
   "outputs": [],
   "source": [
    "knowledgebase.settings.explanation_depth = 1"
   ]
  },
  {
   "cell_type": "code",
   "execution_count": 51,
   "metadata": {},
   "outputs": [
    {
     "name": "stdout",
     "output_type": "stream",
     "text": [
      "child1 is best\n"
     ]
    }
   ],
   "source": [
    "print(explainer.explain_adjective(child1, \"best\"))"
   ]
  },
  {
   "cell_type": "code",
   "execution_count": 52,
   "metadata": {},
   "outputs": [],
   "source": [
    "knowledgebase.settings.explanation_depth = 3"
   ]
  },
  {
   "cell_type": "code",
   "execution_count": 53,
   "metadata": {},
   "outputs": [
    {
     "name": "stdout",
     "output_type": "stream",
     "text": [
      "[[[¬(child1 is leaf) ∧ [child1 is opponent player turn ∧ [[[leaf11 is leaf → leaf11 has score = 3]\n",
      " ∧ [leaf12 is leaf → leaf12 has score = 4]\n",
      " → ¬(leaf11 is better than leaf12)]\n",
      " → leaf11 is worst]\n",
      " → child1 has backtracing child = leaf11]\n",
      " → child1 has score = 3]\n",
      " ∧ [¬(child2 is leaf) ∧ [child2 is opponent player turn ∧ [[[leaf22 is leaf → leaf22 has score = 2]\n",
      " ∧ [leaf21 is leaf → leaf21 has score = 8]\n",
      " → ¬(leaf22 is better than leaf21)]\n",
      " → leaf22 is worst]\n",
      " → child2 has backtracing child = leaf22]\n",
      " → child2 has score = 2]\n",
      " → child1 is better than child2]\n",
      " → ¬(child1 is worst)]\n",
      "\n"
     ]
    }
   ],
   "source": [
    "print(explainer.explain_adjective(child1, \"worst\"))"
   ]
  },
  {
   "cell_type": "code",
   "execution_count": 54,
   "metadata": {},
   "outputs": [
    {
     "name": "stdout",
     "output_type": "stream",
     "text": [
      "[[[leaf11 is leaf → leaf11 has score = 3]\n",
      " ∧ [leaf12 is leaf → leaf12 has score = 4]\n",
      " → ¬(leaf11 is better than leaf12)]\n",
      " → leaf11 is worst]\n",
      "\n"
     ]
    }
   ],
   "source": [
    "print(explainer.explain_adjective(leaf11, \"worst\"))"
   ]
  },
  {
   "cell_type": "code",
   "execution_count": 55,
   "metadata": {},
   "outputs": [
    {
     "name": "stdout",
     "output_type": "stream",
     "text": [
      "[[[¬(child2 is leaf) ∧ [child2 is opponent player turn ∧ [[[leaf22 is leaf → leaf22 has score = 2]\n",
      " ∧ [leaf21 is leaf → leaf21 has score = 8]\n",
      " → ¬(leaf22 is better than leaf21)]\n",
      " → leaf22 is worst]\n",
      " → child2 has backtracing child = leaf22]\n",
      " → child2 has score = 2]\n",
      " ∧ [¬(child1 is leaf) ∧ [child1 is opponent player turn ∧ [[[leaf11 is leaf → leaf11 has score = 3]\n",
      " ∧ [leaf12 is leaf → leaf12 has score = 4]\n",
      " → ¬(leaf11 is better than leaf12)]\n",
      " → leaf11 is worst]\n",
      " → child1 has backtracing child = leaf11]\n",
      " → child1 has score = 3]\n",
      " → ¬(child2 is better than child1)]\n",
      " → ¬(child2 is best)]\n",
      "\n"
     ]
    }
   ],
   "source": [
    "print(explainer.explain_adjective(child2, \"best\"))"
   ]
  },
  {
   "cell_type": "code",
   "execution_count": 56,
   "metadata": {},
   "outputs": [
    {
     "name": "stdout",
     "output_type": "stream",
     "text": [
      "[¬(root is opponent player turn) ∧ [[[¬(child1 is leaf) ∧ [child1 is opponent player turn ∧ [[[leaf11 is leaf → leaf11 has score = 3]\n",
      " ∧ [leaf12 is leaf → leaf12 has score = 4]\n",
      " → ¬(leaf11 is better than leaf12)]\n",
      " → leaf11 is worst]\n",
      " → child1 has backtracing child = leaf11]\n",
      " → child1 has score = 3]\n",
      " ∧ [¬(child2 is leaf) ∧ [child2 is opponent player turn ∧ [[[leaf22 is leaf → leaf22 has score = 2]\n",
      " ∧ [leaf21 is leaf → leaf21 has score = 8]\n",
      " → ¬(leaf22 is better than leaf21)]\n",
      " → leaf22 is worst]\n",
      " → child2 has backtracing child = leaf22]\n",
      " → child2 has score = 2]\n",
      " → child1 is better than child2]\n",
      " → child1 is best]\n",
      " → root has backtracing child = child1]\n",
      "\n"
     ]
    }
   ],
   "source": [
    "print(explainer.explain_adjective(root, \"backtracing child\"))"
   ]
  },
  {
   "cell_type": "code",
   "execution_count": 57,
   "metadata": {},
   "outputs": [
    {
     "name": "stdout",
     "output_type": "stream",
     "text": [
      "[¬(root is leaf) ∧ [¬(root is opponent player turn) ∧ [[[¬(child1 is leaf) ∧ [child1 is opponent player turn ∧ [[[leaf11 is leaf → leaf11 has score = 3]\n",
      " ∧ [leaf12 is leaf → leaf12 has score = 4]\n",
      " → ¬(leaf11 is better than leaf12)]\n",
      " → leaf11 is worst]\n",
      " → child1 has backtracing child = leaf11]\n",
      " → child1 has score = 3]\n",
      " ∧ [¬(child2 is leaf) ∧ [child2 is opponent player turn ∧ [[[leaf22 is leaf → leaf22 has score = 2]\n",
      " ∧ [leaf21 is leaf → leaf21 has score = 8]\n",
      " → ¬(leaf22 is better than leaf21)]\n",
      " → leaf22 is worst]\n",
      " → child2 has backtracing child = leaf22]\n",
      " → child2 has score = 2]\n",
      " → child1 is better than child2]\n",
      " → child1 is best]\n",
      " → root has backtracing child = child1]\n",
      " → root has score = 3]\n",
      "\n"
     ]
    }
   ],
   "source": [
    "print(explainer.explain_adjective(root, \"score\"))"
   ]
  },
  {
   "cell_type": "markdown",
   "metadata": {},
   "source": [
    "Track down that Not before the \"Considering your definition of leaf\""
   ]
  },
  {
   "cell_type": "code",
   "execution_count": 58,
   "metadata": {},
   "outputs": [
    {
     "name": "stdout",
     "output_type": "stream",
     "text": [
      "None\n"
     ]
    }
   ],
   "source": [
    "print(explainer.query_explanation(root, \"Why is child 1 maxoptimal?\"))"
   ]
  }
 ],
 "metadata": {
  "language_info": {
   "name": "python"
  }
 },
 "nbformat": 4,
 "nbformat_minor": 2
}
