{
 "cells": [
  {
   "cell_type": "code",
   "execution_count": 58,
   "metadata": {},
   "outputs": [],
   "source": [
    "from src.explainer.explainer import ArgumentativeExplainer\n",
    "from src.explainer.framework import ArgumentationFramework\n",
    "\n",
    "from src.explainer.adjective import BooleanAdjective, PointerAdjective, ComparisonAdjective, MaxRankAdjective, MinRankAdjective\n",
    "from src.explainer.explanation import Possession, Assumption, PossessionCondition, ConditionalExplanation, CompositeExplanation"
   ]
  },
  {
   "cell_type": "markdown",
   "metadata": {},
   "source": [
    "## Example search tree:"
   ]
  },
  {
   "cell_type": "code",
   "execution_count": 59,
   "metadata": {},
   "outputs": [],
   "source": [
    "# Example usage:\n",
    "class MinMaxNode:\n",
    "    def __init__(self, id, *, score=None, maximizing_player_turn=True, children=None, score_child=None):\n",
    "        \n",
    "        self.id = id\n",
    "\n",
    "        if score:\n",
    "            self.score = score\n",
    "        elif score_child:\n",
    "            self.score_child = score_child\n",
    "            self.score = score_child.score\n",
    "        else:\n",
    "            raise ValueError(\"Provide score or score_child.\")\n",
    "\n",
    "        self.children = children or []\n",
    "        self.parent = None\n",
    "        self.maximizing_player_turn = maximizing_player_turn\n",
    "        \n",
    "        self.is_leaf = True\n",
    "        if len(self.children) > 0:\n",
    "            self.is_leaf = False\n",
    "            for child in children:\n",
    "                child.parent=self\n",
    "                child.maximizing_player_turn = not self.maximizing_player_turn\n",
    "    \n",
    "    def __str__(self):\n",
    "        return self.id\n",
    "\n",
    "# Create a simple game tree\n",
    "leaf11 = MinMaxNode('leaf11', score=3)\n",
    "leaf12 = MinMaxNode('leaf12', score=4)\n",
    "leaf21 = MinMaxNode('leaf21', score=8)\n",
    "leaf22 = MinMaxNode('leaf22', score=2)\n",
    "leaf31 = MinMaxNode('leaf21', score=1)\n",
    "leaf32 = MinMaxNode('leaf22', score=1)\n",
    "\n",
    "child1 = MinMaxNode('child1', children=[leaf11, leaf12], score_child=leaf11)\n",
    "child2 = MinMaxNode('child2', children=[leaf21, leaf22], score_child=leaf22)\n",
    "child3 = MinMaxNode('child3', children=[leaf31, leaf32], score_child=leaf31)\n",
    "\n",
    "root = MinMaxNode('root', maximizing_player_turn=True, children=[child1, child2, child3], score_child=child1)"
   ]
  },
  {
   "cell_type": "markdown",
   "metadata": {},
   "source": [
    "## Framework definition"
   ]
  },
  {
   "cell_type": "code",
   "execution_count": 60,
   "metadata": {},
   "outputs": [
    {
     "data": {
      "text/plain": [
       "<src.explainer.adjective.MinRankAdjective at 0x7efd581b6260>"
      ]
     },
     "execution_count": 60,
     "metadata": {},
     "output_type": "execute_result"
    }
   ],
   "source": [
    "BooleanAdjective(\"leaf\",\n",
    "        definition = \"node.is_leaf\")\n",
    "\n",
    "BooleanAdjective(\"opponent player turn\",\n",
    "        definition = \"not node.maximizing_player_turn\")\n",
    "\n",
    "PointerAdjective(\"score\",\n",
    "        definition = \"node.score\",\n",
    "\n",
    "        explanation = ConditionalExplanation(\n",
    "            condition = PossessionCondition(\"leaf\"),\n",
    "\n",
    "            true_explanation = Assumption(\"Leaf nodes have scores from the evaluation function\"),\n",
    "\n",
    "            false_explanation = CompositeExplanation(\n",
    "                Assumption(\"Internal nodes have scores from children\"),\n",
    "                Possession(\"backtracing child\"))\n",
    "        ))\n",
    "\n",
    "PointerAdjective(\"backtracing child\",\n",
    "        definition = \"node.score_child\",\n",
    "\n",
    "        explanation = ConditionalExplanation(\n",
    "            condition = PossessionCondition(\"opponent player turn\"),\n",
    "\n",
    "            true_explanation = CompositeExplanation(\n",
    "                Assumption(\"We assume the opponent will do their best move.\"),\n",
    "                Possession(\"backtracing child\", \"worst\")),\n",
    "\n",
    "            false_explanation = CompositeExplanation(\n",
    "                Assumption(\"On our turn we take the maximum rated move.\"),\n",
    "                Possession(\"backtracing child\", \"best\"))\n",
    "        ))\n",
    "\n",
    "ComparisonAdjective(\"better\", \"score\", \">\")\n",
    "PointerAdjective(\"siblings\", definition = \"node.parent.children\")\n",
    "\n",
    "MaxRankAdjective(\"best\", \"better\", \"siblings\")\n",
    "MinRankAdjective(\"worst\", \"better\", \"siblings\") # worst= not better than any sibling"
   ]
  },
  {
   "cell_type": "code",
   "execution_count": 61,
   "metadata": {},
   "outputs": [],
   "source": [
    "knowledgebase = ArgumentationFramework()\n",
    "\n",
    "knowledgebase.add_adjective( \n",
    "    BooleanAdjective(\"leaf\",\n",
    "        definition = \"node.is_leaf\")\n",
    ")\n",
    "\n",
    "knowledgebase.add_adjective( \n",
    "    PointerAdjective(\"score\",\n",
    "        definition = \"node.score\",\n",
    "\n",
    "        explanation = ConditionalExplanation(\n",
    "            condition = PossessionCondition(\"leaf\"),\n",
    "            true_explanation = Assumption(\"Leaf nodes have scores from the evaluation function\"),\n",
    "            false_explanation = CompositeExplanation(\n",
    "                Assumption(\"Internal nodes have scores from children\"),\n",
    "                Possession(\"backtracing child\"))\n",
    "        ))\n",
    ")\n",
    "\n",
    "knowledgebase.add_adjective(\n",
    "    BooleanAdjective(\"opponent player turn\",\n",
    "        definition = \"not node.maximizing_player_turn\")\n",
    ")\n",
    "\n",
    "knowledgebase.add_adjective( \n",
    "    PointerAdjective(\"backtracing child\",\n",
    "        definition = \"node.score_child\",\n",
    "        # alternative definition for backtracing child:\n",
    "        # min(node.children, key=lambda child: child.score),\n",
    "\n",
    "        explanation = ConditionalExplanation(\n",
    "            condition = PossessionCondition(\"opponent player turn\"),\n",
    "            true_explanation = CompositeExplanation(\n",
    "                Assumption(\"We assume the opponent will do their best move.\"),\n",
    "                Possession(\"backtracing child\", \"worst\")),\n",
    "            false_explanation = CompositeExplanation(\n",
    "                Assumption(\"On our turn we take the maximum rated move.\"),\n",
    "                Possession(\"backtracing child\", \"best\"))\n",
    "        ))\n",
    ")\n",
    "\n",
    "knowledgebase.add_adjective(\n",
    "    ComparisonAdjective(\"better\", \"score\", \">\")\n",
    ")\n",
    "\n",
    "knowledgebase.add_adjective( \n",
    "    PointerAdjective(\"siblings\",\n",
    "        definition = \"[sibling for sibling in node.parent.children if sibling is not node]\")\n",
    ")\n",
    "\n",
    "knowledgebase.add_adjective(\n",
    "    MaxRankAdjective(\"best\", \"better\", \"siblings\")\n",
    ")\n",
    "knowledgebase.add_adjective(\n",
    "    MinRankAdjective(\"worst\", \"better\", \"siblings\")\n",
    ")"
   ]
  },
  {
   "cell_type": "code",
   "execution_count": 62,
   "metadata": {},
   "outputs": [
    {
     "name": "stdout",
     "output_type": "stream",
     "text": [
      "Propositions:\n",
      "node is leaf\n",
      "node has score = ?\n",
      "node is opponent player turn\n",
      "node has backtracing child = ?\n",
      "node1 is better than node2\n",
      "node has siblings = ?\n",
      "node is best\n",
      "node is worst\n",
      "\n",
      "\n",
      "Implications:\n",
      "[(assumption) Definition of \"leaf\" is \"node.is_leaf\" → node is leaf]\n",
      "\n",
      "[[(assumption) Definition of \"leaf\" is \"node.is_leaf\" → node is leaf]\n",
      " ∧ (assumption) Leaf nodes have scores from the evaluation function\n",
      " ∨ [(assumption) Definition of \"leaf\" is \"node.is_leaf\" → ¬(node is leaf)]\n",
      " ∧ (assumption) Internal nodes have scores from children ∧ [[(assumption) Definition of \"opponent player turn\" is \"not node.maximizing_player_turn\" → node is opponent player turn]\n",
      " ∧ (assumption) We assume the opponent will do their best move. ∧ [(assumption) By definition a node is \"worst\" if it's ¬(\"better\") compared to all nodes among \"siblings\" ∧ Node ¬(better) than all nodes in siblings → node is worst]\n",
      "\n",
      " ∨ [(assumption) Definition of \"opponent player turn\" is \"not node.maximizing_player_turn\" → ¬(node is opponent player turn)]\n",
      " ∧ (assumption) On our turn we take the maximum rated move. ∧ [(assumption) By definition a node is \"best\" if it's \"better\" compared to all nodes among \"siblings\" ∧ Node better than all nodes in siblings → node is best]\n",
      " → node has backtracing child = True]\n",
      " → node has score = ?]\n",
      "\n",
      "[(assumption) Definition of \"opponent player turn\" is \"not node.maximizing_player_turn\" → node is opponent player turn]\n",
      "\n",
      "[[(assumption) Definition of \"opponent player turn\" is \"not node.maximizing_player_turn\" → node is opponent player turn]\n",
      " ∧ (assumption) We assume the opponent will do their best move. ∧ [(assumption) By definition a node is \"worst\" if it's ¬(\"better\") compared to all nodes among \"siblings\" ∧ Node ¬(better) than all nodes in siblings → node is worst]\n",
      "\n",
      " ∨ [(assumption) Definition of \"opponent player turn\" is \"not node.maximizing_player_turn\" → ¬(node is opponent player turn)]\n",
      " ∧ (assumption) On our turn we take the maximum rated move. ∧ [(assumption) By definition a node is \"best\" if it's \"better\" compared to all nodes among \"siblings\" ∧ Node better than all nodes in siblings → node is best]\n",
      " → node has backtracing child = ?]\n",
      "\n",
      "[(assumption) By definition, node1 is \"better\" than node2 if node1 score > node2 score → node1 is better than node1]\n",
      "\n",
      "[(assumption) Definition of \"siblings\" is \"[sibling for sibling in node.parent.children if sibling is not node]\" → node has siblings = ?]\n",
      "\n",
      "[(assumption) By definition a node is \"best\" if it's \"better\" compared to all nodes among \"siblings\" ∧ Node better than all nodes in siblings → node is best]\n",
      "\n",
      "[(assumption) By definition a node is \"worst\" if it's ¬(\"better\") compared to all nodes among \"siblings\" ∧ Node ¬(better) than all nodes in siblings → node is worst]\n",
      "\n"
     ]
    }
   ],
   "source": [
    "print(knowledgebase)"
   ]
  },
  {
   "cell_type": "code",
   "execution_count": 63,
   "metadata": {},
   "outputs": [],
   "source": [
    "explainer = ArgumentativeExplainer(knowledgebase)\n",
    "\n",
    "explainer.set_tree_search_motivation(lambda root: root.children, \"best\")"
   ]
  },
  {
   "cell_type": "markdown",
   "metadata": {},
   "source": [
    "## Set your settings"
   ]
  },
  {
   "cell_type": "code",
   "execution_count": 64,
   "metadata": {},
   "outputs": [],
   "source": [
    "settings = {\n",
    "            'explanation_depth': 3 ,\n",
    "            'assumptions_verbosity': 'verbose',\n",
    "            'repeat_explanations': False\n",
    "        }\n",
    "\n",
    "knowledgebase.configure_settings(settings)"
   ]
  },
  {
   "cell_type": "markdown",
   "metadata": {},
   "source": [
    "## You can now explain nodes' properties"
   ]
  },
  {
   "cell_type": "code",
   "execution_count": 65,
   "metadata": {},
   "outputs": [
    {
     "name": "stdout",
     "output_type": "stream",
     "text": [
      "[(assumption) By definition a node is \"best\" if it's \"better\" compared to all nodes among \"siblings\" ∧ [[[(assumption) Definition of \"leaf\" is \"node.is_leaf\" → ¬(child1 is leaf)]\n",
      " ∧ (assumption) Internal nodes have scores from children ∧ [[(assumption) Definition of \"opponent player turn\" is \"not node.maximizing_player_turn\" → child1 is opponent player turn]\n",
      " ∧ (assumption) We assume the opponent will do their best move. ∧ [(assumption) By definition a node is \"worst\" if it's ¬(\"better\") compared to all nodes among \"siblings\" ∧ [[leaf11 is leaf ∧ (assumption) Leaf nodes have scores from the evaluation function → leaf11 has score = 3]\n",
      " ∧ [leaf12 is leaf ∧ (assumption) Leaf nodes have scores from the evaluation function → leaf12 has score = 4]\n",
      " → [(assumption) By definition, node1 is \"better\" than node2 if node1 score > node2 score → ¬(leaf11 is better than leaf12)]\n",
      "]\n",
      " → leaf11 is worst]\n",
      " → child1 has backtracing child = leaf11]\n",
      " → child1 has score = 3]\n",
      " ∧ [¬(child2 is leaf) ∧ (assumption) Internal nodes have scores from children ∧ [child2 is opponent player turn ∧ (assumption) We assume the opponent will do their best move. ∧ leaf22 is worst → child2 has backtracing child = leaf22]\n",
      " → child2 has score = 2]\n",
      " → child1 is better than child2]\n",
      " ∧ [[¬(child1 is leaf) ∧ (assumption) Internal nodes have scores from children ∧ [child1 is opponent player turn ∧ (assumption) We assume the opponent will do their best move. ∧ leaf11 is worst → child1 has backtracing child = leaf11]\n",
      " → child1 has score = 3]\n",
      " ∧ [¬(child3 is leaf) ∧ (assumption) Internal nodes have scores from children ∧ [child3 is opponent player turn ∧ (assumption) We assume the opponent will do their best move. ∧ ¬(leaf21 is worst) → child3 has backtracing child = leaf21]\n",
      " → child3 has score = 1]\n",
      " → child1 is better than child3]\n",
      " → child1 is best]\n",
      "\n"
     ]
    }
   ],
   "source": [
    "print(explainer.explain_adjective(child1, \"best\"))"
   ]
  },
  {
   "cell_type": "code",
   "execution_count": 66,
   "metadata": {},
   "outputs": [],
   "source": [
    "knowledgebase.settings.repeat_explanations = True"
   ]
  },
  {
   "cell_type": "code",
   "execution_count": 67,
   "metadata": {},
   "outputs": [
    {
     "name": "stdout",
     "output_type": "stream",
     "text": [
      "[(assumption) By definition a node is \"best\" if it's \"better\" compared to all nodes among \"siblings\" ∧ [[[(assumption) Definition of \"leaf\" is \"node.is_leaf\" → ¬(child1 is leaf)]\n",
      " ∧ (assumption) Internal nodes have scores from children ∧ [[(assumption) Definition of \"opponent player turn\" is \"not node.maximizing_player_turn\" → child1 is opponent player turn]\n",
      " ∧ (assumption) We assume the opponent will do their best move. ∧ [(assumption) By definition a node is \"worst\" if it's ¬(\"better\") compared to all nodes among \"siblings\" ∧ [[[(assumption) Definition of \"leaf\" is \"node.is_leaf\" → leaf11 is leaf]\n",
      " ∧ (assumption) Leaf nodes have scores from the evaluation function → leaf11 has score = 3]\n",
      " ∧ [[(assumption) Definition of \"leaf\" is \"node.is_leaf\" → leaf12 is leaf]\n",
      " ∧ (assumption) Leaf nodes have scores from the evaluation function → leaf12 has score = 4]\n",
      " → [(assumption) By definition, node1 is \"better\" than node2 if node1 score > node2 score → ¬(leaf11 is better than leaf12)]\n",
      "]\n",
      " → leaf11 is worst]\n",
      " → child1 has backtracing child = leaf11]\n",
      " → child1 has score = 3]\n",
      " ∧ [[(assumption) Definition of \"leaf\" is \"node.is_leaf\" → ¬(child2 is leaf)]\n",
      " ∧ (assumption) Internal nodes have scores from children ∧ [[(assumption) Definition of \"opponent player turn\" is \"not node.maximizing_player_turn\" → child2 is opponent player turn]\n",
      " ∧ (assumption) We assume the opponent will do their best move. ∧ [(assumption) By definition a node is \"worst\" if it's ¬(\"better\") compared to all nodes among \"siblings\" ∧ [[[(assumption) Definition of \"leaf\" is \"node.is_leaf\" → leaf22 is leaf]\n",
      " ∧ (assumption) Leaf nodes have scores from the evaluation function → leaf22 has score = 2]\n",
      " ∧ [[(assumption) Definition of \"leaf\" is \"node.is_leaf\" → leaf21 is leaf]\n",
      " ∧ (assumption) Leaf nodes have scores from the evaluation function → leaf21 has score = 8]\n",
      " → [(assumption) By definition, node1 is \"better\" than node2 if node1 score > node2 score → ¬(leaf22 is better than leaf21)]\n",
      "]\n",
      " → leaf22 is worst]\n",
      " → child2 has backtracing child = leaf22]\n",
      " → child2 has score = 2]\n",
      " → [(assumption) By definition, node1 is \"better\" than node2 if node1 score > node2 score → child1 is better than child2]\n",
      "]\n",
      " ∧ [[[(assumption) Definition of \"leaf\" is \"node.is_leaf\" → ¬(child1 is leaf)]\n",
      " ∧ (assumption) Internal nodes have scores from children ∧ [[(assumption) Definition of \"opponent player turn\" is \"not node.maximizing_player_turn\" → child1 is opponent player turn]\n",
      " ∧ (assumption) We assume the opponent will do their best move. ∧ [(assumption) By definition a node is \"worst\" if it's ¬(\"better\") compared to all nodes among \"siblings\" ∧ [[[(assumption) Definition of \"leaf\" is \"node.is_leaf\" → leaf11 is leaf]\n",
      " ∧ (assumption) Leaf nodes have scores from the evaluation function → leaf11 has score = 3]\n",
      " ∧ [[(assumption) Definition of \"leaf\" is \"node.is_leaf\" → leaf12 is leaf]\n",
      " ∧ (assumption) Leaf nodes have scores from the evaluation function → leaf12 has score = 4]\n",
      " → [(assumption) By definition, node1 is \"better\" than node2 if node1 score > node2 score → ¬(leaf11 is better than leaf12)]\n",
      "]\n",
      " → leaf11 is worst]\n",
      " → child1 has backtracing child = leaf11]\n",
      " → child1 has score = 3]\n",
      " ∧ [[(assumption) Definition of \"leaf\" is \"node.is_leaf\" → ¬(child3 is leaf)]\n",
      " ∧ (assumption) Internal nodes have scores from children ∧ [[(assumption) Definition of \"opponent player turn\" is \"not node.maximizing_player_turn\" → child3 is opponent player turn]\n",
      " ∧ (assumption) We assume the opponent will do their best move. ∧ [(assumption) By definition a node is \"worst\" if it's ¬(\"better\") compared to all nodes among \"siblings\" ∧ [[[(assumption) Definition of \"leaf\" is \"node.is_leaf\" → leaf21 is leaf]\n",
      " ∧ (assumption) Leaf nodes have scores from the evaluation function → leaf21 has score = 1]\n",
      " ∧ [[(assumption) Definition of \"leaf\" is \"node.is_leaf\" → leaf22 is leaf]\n",
      " ∧ (assumption) Leaf nodes have scores from the evaluation function → leaf22 has score = 1]\n",
      " → [(assumption) By definition, node1 is \"better\" than node2 if node1 score > node2 score → ¬(leaf21 is better than leaf22)]\n",
      "]\n",
      " → ¬(leaf21 is worst)]\n",
      " → child3 has backtracing child = leaf21]\n",
      " → child3 has score = 1]\n",
      " → [(assumption) By definition, node1 is \"better\" than node2 if node1 score > node2 score → child1 is better than child3]\n",
      "]\n",
      " → child1 is best]\n",
      "\n"
     ]
    }
   ],
   "source": [
    "print(explainer.explain_adjective(child1, \"best\"))"
   ]
  },
  {
   "cell_type": "code",
   "execution_count": 68,
   "metadata": {},
   "outputs": [],
   "source": [
    "knowledgebase.settings.explanation_depth = 1"
   ]
  },
  {
   "cell_type": "code",
   "execution_count": 69,
   "metadata": {},
   "outputs": [
    {
     "name": "stdout",
     "output_type": "stream",
     "text": [
      "child1 is best\n"
     ]
    }
   ],
   "source": [
    "print(explainer.explain_adjective(child1, \"best\"))"
   ]
  },
  {
   "cell_type": "code",
   "execution_count": 70,
   "metadata": {},
   "outputs": [],
   "source": [
    "knowledgebase.settings.explanation_depth = 3\n",
    "knowledgebase.settings.repeat_explanations = False"
   ]
  },
  {
   "cell_type": "code",
   "execution_count": 71,
   "metadata": {},
   "outputs": [
    {
     "name": "stdout",
     "output_type": "stream",
     "text": [
      "[(assumption) By definition a node is \"worst\" if it's ¬(\"better\") compared to all nodes among \"siblings\" ∧ [[[(assumption) Definition of \"leaf\" is \"node.is_leaf\" → ¬(child1 is leaf)]\n",
      " ∧ (assumption) Internal nodes have scores from children ∧ [[(assumption) Definition of \"opponent player turn\" is \"not node.maximizing_player_turn\" → child1 is opponent player turn]\n",
      " ∧ (assumption) We assume the opponent will do their best move. ∧ leaf11 is worst → child1 has backtracing child = leaf11]\n",
      " → child1 has score = 3]\n",
      " ∧ [¬(child2 is leaf) ∧ (assumption) Internal nodes have scores from children ∧ [child2 is opponent player turn ∧ (assumption) We assume the opponent will do their best move. ∧ leaf22 is worst → child2 has backtracing child = leaf22]\n",
      " → child2 has score = 2]\n",
      " → [(assumption) By definition, node1 is \"better\" than node2 if node1 score > node2 score → child1 is better than child2]\n",
      "]\n",
      " ∧ [[¬(child1 is leaf) ∧ (assumption) Internal nodes have scores from children ∧ [child1 is opponent player turn ∧ (assumption) We assume the opponent will do their best move. ∧ leaf11 is worst → child1 has backtracing child = leaf11]\n",
      " → child1 has score = 3]\n",
      " ∧ [¬(child3 is leaf) ∧ (assumption) Internal nodes have scores from children ∧ [child3 is opponent player turn ∧ (assumption) We assume the opponent will do their best move. ∧ ¬(leaf21 is worst) → child3 has backtracing child = leaf21]\n",
      " → child3 has score = 1]\n",
      " → child1 is better than child3]\n",
      " → ¬(child1 is worst)]\n",
      "\n"
     ]
    }
   ],
   "source": [
    "print(explainer.explain_adjective(child1, \"worst\"))"
   ]
  },
  {
   "cell_type": "code",
   "execution_count": 72,
   "metadata": {},
   "outputs": [
    {
     "name": "stdout",
     "output_type": "stream",
     "text": [
      "[(assumption) By definition a node is \"worst\" if it's ¬(\"better\") compared to all nodes among \"siblings\" ∧ [[[(assumption) Definition of \"leaf\" is \"node.is_leaf\" → leaf11 is leaf]\n",
      " ∧ (assumption) Leaf nodes have scores from the evaluation function → leaf11 has score = 3]\n",
      " ∧ [leaf12 is leaf ∧ (assumption) Leaf nodes have scores from the evaluation function → leaf12 has score = 4]\n",
      " → [(assumption) By definition, node1 is \"better\" than node2 if node1 score > node2 score → ¬(leaf11 is better than leaf12)]\n",
      "]\n",
      " → leaf11 is worst]\n",
      "\n"
     ]
    }
   ],
   "source": [
    "print(explainer.explain_adjective(leaf11, \"worst\"))"
   ]
  },
  {
   "cell_type": "code",
   "execution_count": 73,
   "metadata": {},
   "outputs": [
    {
     "name": "stdout",
     "output_type": "stream",
     "text": [
      "[(assumption) By definition a node is \"best\" if it's \"better\" compared to all nodes among \"siblings\" ∧ [[[(assumption) Definition of \"leaf\" is \"node.is_leaf\" → ¬(child2 is leaf)]\n",
      " ∧ (assumption) Internal nodes have scores from children ∧ [[(assumption) Definition of \"opponent player turn\" is \"not node.maximizing_player_turn\" → child2 is opponent player turn]\n",
      " ∧ (assumption) We assume the opponent will do their best move. ∧ [(assumption) By definition a node is \"worst\" if it's ¬(\"better\") compared to all nodes among \"siblings\" ∧ [[leaf22 is leaf ∧ (assumption) Leaf nodes have scores from the evaluation function → leaf22 has score = 2]\n",
      " ∧ [leaf21 is leaf ∧ (assumption) Leaf nodes have scores from the evaluation function → leaf21 has score = 8]\n",
      " → [(assumption) By definition, node1 is \"better\" than node2 if node1 score > node2 score → ¬(leaf22 is better than leaf21)]\n",
      "]\n",
      " → leaf22 is worst]\n",
      " → child2 has backtracing child = leaf22]\n",
      " → child2 has score = 2]\n",
      " ∧ [¬(child1 is leaf) ∧ (assumption) Internal nodes have scores from children ∧ [child1 is opponent player turn ∧ (assumption) We assume the opponent will do their best move. ∧ leaf11 is worst → child1 has backtracing child = leaf11]\n",
      " → child1 has score = 3]\n",
      " → ¬(child2 is better than child1)]\n",
      " ∧ [[¬(child2 is leaf) ∧ (assumption) Internal nodes have scores from children ∧ [child2 is opponent player turn ∧ (assumption) We assume the opponent will do their best move. ∧ leaf22 is worst → child2 has backtracing child = leaf22]\n",
      " → child2 has score = 2]\n",
      " ∧ [¬(child3 is leaf) ∧ (assumption) Internal nodes have scores from children ∧ [child3 is opponent player turn ∧ (assumption) We assume the opponent will do their best move. ∧ ¬(leaf21 is worst) → child3 has backtracing child = leaf21]\n",
      " → child3 has score = 1]\n",
      " → child2 is better than child3]\n",
      " → ¬(child2 is best)]\n",
      "\n"
     ]
    }
   ],
   "source": [
    "print(explainer.explain_adjective(child2, \"best\"))"
   ]
  },
  {
   "cell_type": "code",
   "execution_count": 74,
   "metadata": {},
   "outputs": [
    {
     "name": "stdout",
     "output_type": "stream",
     "text": [
      "[[(assumption) Definition of \"opponent player turn\" is \"not node.maximizing_player_turn\" → ¬(root is opponent player turn)]\n",
      " ∧ (assumption) On our turn we take the maximum rated move. ∧ [(assumption) By definition a node is \"best\" if it's \"better\" compared to all nodes among \"siblings\" ∧ [[[(assumption) Definition of \"leaf\" is \"node.is_leaf\" → ¬(child1 is leaf)]\n",
      " ∧ (assumption) Internal nodes have scores from children ∧ [child1 is opponent player turn ∧ (assumption) We assume the opponent will do their best move. ∧ [(assumption) By definition a node is \"worst\" if it's ¬(\"better\") compared to all nodes among \"siblings\" ∧ [[leaf11 is leaf ∧ (assumption) Leaf nodes have scores from the evaluation function → leaf11 has score = 3]\n",
      " ∧ [leaf12 is leaf ∧ (assumption) Leaf nodes have scores from the evaluation function → leaf12 has score = 4]\n",
      " → [(assumption) By definition, node1 is \"better\" than node2 if node1 score > node2 score → ¬(leaf11 is better than leaf12)]\n",
      "]\n",
      " → leaf11 is worst]\n",
      " → child1 has backtracing child = leaf11]\n",
      " → child1 has score = 3]\n",
      " ∧ [¬(child2 is leaf) ∧ (assumption) Internal nodes have scores from children ∧ [child2 is opponent player turn ∧ (assumption) We assume the opponent will do their best move. ∧ leaf22 is worst → child2 has backtracing child = leaf22]\n",
      " → child2 has score = 2]\n",
      " → child1 is better than child2]\n",
      " ∧ [[¬(child1 is leaf) ∧ (assumption) Internal nodes have scores from children ∧ [child1 is opponent player turn ∧ (assumption) We assume the opponent will do their best move. ∧ leaf11 is worst → child1 has backtracing child = leaf11]\n",
      " → child1 has score = 3]\n",
      " ∧ [¬(child3 is leaf) ∧ (assumption) Internal nodes have scores from children ∧ [child3 is opponent player turn ∧ (assumption) We assume the opponent will do their best move. ∧ ¬(leaf21 is worst) → child3 has backtracing child = leaf21]\n",
      " → child3 has score = 1]\n",
      " → child1 is better than child3]\n",
      " → child1 is best]\n",
      " → root has backtracing child = child1]\n",
      "\n"
     ]
    }
   ],
   "source": [
    "print(explainer.explain_adjective(root, \"backtracing child\"))"
   ]
  },
  {
   "cell_type": "code",
   "execution_count": 75,
   "metadata": {},
   "outputs": [
    {
     "name": "stdout",
     "output_type": "stream",
     "text": [
      "[[(assumption) Definition of \"leaf\" is \"node.is_leaf\" → ¬(root is leaf)]\n",
      " ∧ (assumption) Internal nodes have scores from children ∧ [[(assumption) Definition of \"opponent player turn\" is \"not node.maximizing_player_turn\" → ¬(root is opponent player turn)]\n",
      " ∧ (assumption) On our turn we take the maximum rated move. ∧ [(assumption) By definition a node is \"best\" if it's \"better\" compared to all nodes among \"siblings\" ∧ [[¬(child1 is leaf) ∧ (assumption) Internal nodes have scores from children ∧ [child1 is opponent player turn ∧ (assumption) We assume the opponent will do their best move. ∧ [(assumption) By definition a node is \"worst\" if it's ¬(\"better\") compared to all nodes among \"siblings\" ∧ [[leaf11 is leaf ∧ (assumption) Leaf nodes have scores from the evaluation function → leaf11 has score = 3]\n",
      " ∧ [leaf12 is leaf ∧ (assumption) Leaf nodes have scores from the evaluation function → leaf12 has score = 4]\n",
      " → [(assumption) By definition, node1 is \"better\" than node2 if node1 score > node2 score → ¬(leaf11 is better than leaf12)]\n",
      "]\n",
      " → leaf11 is worst]\n",
      " → child1 has backtracing child = leaf11]\n",
      " → child1 has score = 3]\n",
      " ∧ [¬(child2 is leaf) ∧ (assumption) Internal nodes have scores from children ∧ [child2 is opponent player turn ∧ (assumption) We assume the opponent will do their best move. ∧ leaf22 is worst → child2 has backtracing child = leaf22]\n",
      " → child2 has score = 2]\n",
      " → child1 is better than child2]\n",
      " ∧ [[¬(child1 is leaf) ∧ (assumption) Internal nodes have scores from children ∧ [child1 is opponent player turn ∧ (assumption) We assume the opponent will do their best move. ∧ leaf11 is worst → child1 has backtracing child = leaf11]\n",
      " → child1 has score = 3]\n",
      " ∧ [¬(child3 is leaf) ∧ (assumption) Internal nodes have scores from children ∧ [child3 is opponent player turn ∧ (assumption) We assume the opponent will do their best move. ∧ ¬(leaf21 is worst) → child3 has backtracing child = leaf21]\n",
      " → child3 has score = 1]\n",
      " → child1 is better than child3]\n",
      " → child1 is best]\n",
      " → root has backtracing child = child1]\n",
      " → root has score = 3]\n",
      "\n"
     ]
    }
   ],
   "source": [
    "print(explainer.explain_adjective(root, \"score\"))"
   ]
  },
  {
   "cell_type": "markdown",
   "metadata": {},
   "source": [
    "Track down that Not before the \"Considering your definition of leaf\""
   ]
  },
  {
   "cell_type": "code",
   "execution_count": 76,
   "metadata": {},
   "outputs": [
    {
     "name": "stdout",
     "output_type": "stream",
     "text": [
      "None\n"
     ]
    }
   ],
   "source": [
    "print(explainer.query_explanation(root, \"Why is child 1 maxoptimal?\"))"
   ]
  }
 ],
 "metadata": {
  "kernelspec": {
   "display_name": "Python 3 (ipykernel)",
   "language": "python",
   "name": "python3"
  },
  "language_info": {
   "codemirror_mode": {
    "name": "ipython",
    "version": 3
   },
   "file_extension": ".py",
   "mimetype": "text/x-python",
   "name": "python",
   "nbconvert_exporter": "python",
   "pygments_lexer": "ipython3",
   "version": "3.9.13"
  }
 },
 "nbformat": 4,
 "nbformat_minor": 2
}
