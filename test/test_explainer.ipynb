{
 "cells": [
  {
   "cell_type": "code",
   "execution_count": 1,
   "metadata": {},
   "outputs": [],
   "source": [
    "from src.explainer.explainer import ArgumentativeExplainer\n",
    "from src.explainer.framework import ArgumentationFramework\n",
    "\n",
    "from src.explainer.adjective import BooleanAdjective, PointerAdjective, NodesGroupPointerAdjective, ComparisonAdjective, MaxRankAdjective, MinRankAdjective\n",
    "from src.explainer.explanation import Possession, Assumption, If, ConditionalExplanation, CompositeExplanation"
   ]
  },
  {
   "cell_type": "markdown",
   "metadata": {},
   "source": [
    "## Example search tree:"
   ]
  },
  {
   "cell_type": "code",
   "execution_count": 2,
   "metadata": {},
   "outputs": [],
   "source": [
    "class MinMaxNode:\n",
    "    def __init__(self, id, *, score=None, maximizing_player_turn=True, children=None, score_child=None):\n",
    "        \n",
    "        self.id = id\n",
    "\n",
    "        if score:\n",
    "            self.score = score\n",
    "        elif score_child:\n",
    "            self.score_child = score_child\n",
    "            self.score = score_child.score\n",
    "        else:\n",
    "            raise ValueError(\"Provide score or score_child.\")\n",
    "\n",
    "        self.children = children or []\n",
    "        self.parent = None\n",
    "        self.maximizing_player_turn = maximizing_player_turn\n",
    "        \n",
    "        self.is_leaf = True\n",
    "        if len(self.children) > 0:\n",
    "            self.is_leaf = False\n",
    "            for child in children:\n",
    "                child.parent=self\n",
    "                child.maximizing_player_turn = not self.maximizing_player_turn\n",
    "    \n",
    "    def __str__(self):\n",
    "        return self.id\n",
    "\n",
    "# Create a simple game tree\n",
    "leaf11 = MinMaxNode('leaf11', score=3)\n",
    "leaf12 = MinMaxNode('leaf12', score=4)\n",
    "leaf21 = MinMaxNode('leaf21', score=8)\n",
    "leaf22 = MinMaxNode('leaf22', score=2)\n",
    "leaf31 = MinMaxNode('leaf21', score=1)\n",
    "leaf32 = MinMaxNode('leaf22', score=1)\n",
    "\n",
    "child1 = MinMaxNode('child1', children=[leaf11, leaf12], score_child=leaf11)\n",
    "child2 = MinMaxNode('child2', children=[leaf21, leaf22], score_child=leaf22)\n",
    "child3 = MinMaxNode('child3', children=[leaf31, leaf32], score_child=leaf31)\n",
    "\n",
    "root = MinMaxNode('root', maximizing_player_turn=True, children=[child1, child2, child3], score_child=child1)"
   ]
  },
  {
   "cell_type": "markdown",
   "metadata": {},
   "source": [
    "## Framework definition"
   ]
  },
  {
   "cell_type": "code",
   "execution_count": 3,
   "metadata": {},
   "outputs": [],
   "source": [
    "knowledgebase = ArgumentationFramework()\n",
    "\n",
    "knowledgebase.add_adjectives([\n",
    "    \n",
    "    BooleanAdjective(\"leaf\",\n",
    "        definition = \"node.is_leaf\"),\n",
    "\n",
    "\n",
    "    PointerAdjective(\"score\",\n",
    "        definition = \"node.score\",\n",
    "\n",
    "        explanation = ConditionalExplanation(\n",
    "            condition = If(\"leaf\"),\n",
    "            explanation_if_true = Assumption(\"Leaf nodes have scores from the evaluation function\"),\n",
    "            explanation_if_false = CompositeExplanation(\n",
    "                Assumption(\"Internal nodes have scores from children\"),\n",
    "                Possession(\"backtracing child\"))\n",
    "        )),\n",
    "\n",
    "\n",
    "    BooleanAdjective(\"opponent player turn\",\n",
    "        definition = \"not node.maximizing_player_turn\"),\n",
    "\n",
    "\n",
    "    PointerAdjective(\"backtracing child\",\n",
    "        definition = \"node.score_child\",\n",
    "        # alternative definition for backtracing child:\n",
    "        # min(node.children, key=lambda child: child.score),\n",
    "\n",
    "        explanation = ConditionalExplanation(\n",
    "            condition = If(\"opponent player turn\"),\n",
    "            explanation_if_true = CompositeExplanation(\n",
    "                Assumption(\"We assume the opponent will do their best move.\"),\n",
    "                Possession(\"backtracing child\", \"worst\")),\n",
    "            explanation_if_false = CompositeExplanation(\n",
    "                Assumption(\"On our turn we take the maximum rated move.\"),\n",
    "                Possession(\"backtracing child\", \"best\"))\n",
    "        )),\n",
    "\n",
    "    ComparisonAdjective(\"better\", \"score\", \">\"),\n",
    " \n",
    "    NodesGroupPointerAdjective(\"siblings\",\n",
    "        definition = \"node.parent.children\",\n",
    "        excluding = \"node\"),\n",
    "\n",
    "    MaxRankAdjective(\"best\", \"better\", \"siblings\"),\n",
    "\n",
    "    MinRankAdjective(\"worst\", \"better\", \"siblings\"),\n",
    "])"
   ]
  },
  {
   "cell_type": "code",
   "execution_count": 4,
   "metadata": {},
   "outputs": [
    {
     "name": "stdout",
     "output_type": "stream",
     "text": [
      "Propositions:\n",
      "node is leaf\n",
      "node has score = ?\n",
      "node is opponent player turn\n",
      "node has backtracing child = ?\n",
      "node1 is better than node2\n",
      "node has siblings = ?\n",
      "node is best\n",
      "node is worst\n",
      "\n",
      "\n",
      "Implications:\n",
      "[node is leaf ← (assumption) Definition of \"leaf\" is \"node.is_leaf\"]\n",
      "[node has score = ? ← [node is leaf ← (assumption) Definition of \"leaf\" is \"node.is_leaf\"]\n",
      " ∧ (assumption) Leaf nodes have scores from the evaluation function\n",
      " || [¬(node is leaf) ← (assumption) Definition of \"leaf\" is \"node.is_leaf\"]\n",
      " ∧ (assumption) Internal nodes have scores from children\n",
      " ∧ [node has backtracing child = ? ← [node is opponent player turn ← (assumption) Definition of \"opponent player turn\" is \"not node.maximizing_player_turn\"]\n",
      " ∧ (assumption) We assume the opponent will do their best move.\n",
      " ∧ [node is worst ← (assumption) By definition a node is \"worst\" if it's ¬(\"better\") compared to all nodes among \"siblings\" ∧ Node ¬(better) than all nodes in siblings]\n",
      " || [¬(node is opponent player turn) ← (assumption) Definition of \"opponent player turn\" is \"not node.maximizing_player_turn\"]\n",
      " ∧ (assumption) On our turn we take the maximum rated move.\n",
      " ∧ [node is best ← (assumption) By definition a node is \"best\" if it's \"better\" compared to all nodes among \"siblings\" ∧ Node better than all nodes in siblings]]]\n",
      "[node is opponent player turn ← (assumption) Definition of \"opponent player turn\" is \"not node.maximizing_player_turn\"]\n",
      "[node has backtracing child = ? ← [node is opponent player turn ← (assumption) Definition of \"opponent player turn\" is \"not node.maximizing_player_turn\"]\n",
      " ∧ (assumption) We assume the opponent will do their best move.\n",
      " ∧ [node is worst ← (assumption) By definition a node is \"worst\" if it's ¬(\"better\") compared to all nodes among \"siblings\" ∧ Node ¬(better) than all nodes in siblings]\n",
      " || [¬(node is opponent player turn) ← (assumption) Definition of \"opponent player turn\" is \"not node.maximizing_player_turn\"]\n",
      " ∧ (assumption) On our turn we take the maximum rated move.\n",
      " ∧ [node is best ← (assumption) By definition a node is \"best\" if it's \"better\" compared to all nodes among \"siblings\" ∧ Node better than all nodes in siblings]]\n",
      "[node1 is better than node1 ← (assumption) By definition, node1 is \"better\" than node2 if node1 score > node2 score\n",
      " ∧ [node has score = ? ← [node is leaf ← (assumption) Definition of \"leaf\" is \"node.is_leaf\"]\n",
      " ∧ (assumption) Leaf nodes have scores from the evaluation function\n",
      " || [¬(node is leaf) ← (assumption) Definition of \"leaf\" is \"node.is_leaf\"]\n",
      " ∧ (assumption) Internal nodes have scores from children\n",
      " ∧ [node has backtracing child = ? ← [node is opponent player turn ← (assumption) Definition of \"opponent player turn\" is \"not node.maximizing_player_turn\"]\n",
      " ∧ (assumption) We assume the opponent will do their best move.\n",
      " ∧ [node is worst ← (assumption) By definition a node is \"worst\" if it's ¬(\"better\") compared to all nodes among \"siblings\" ∧ Node ¬(better) than all nodes in siblings]\n",
      " || [¬(node is opponent player turn) ← (assumption) Definition of \"opponent player turn\" is \"not node.maximizing_player_turn\"]\n",
      " ∧ (assumption) On our turn we take the maximum rated move.\n",
      " ∧ [node is best ← (assumption) By definition a node is \"best\" if it's \"better\" compared to all nodes among \"siblings\" ∧ Node better than all nodes in siblings]]]]\n",
      "[node has siblings = ? ← (assumption) Definition of \"siblings\" is \"node.parent.children excluding node\"]\n",
      "[node is best ← (assumption) By definition a node is \"best\" if it's \"better\" compared to all nodes among \"siblings\" ∧ Node better than all nodes in siblings]\n",
      "[node is worst ← (assumption) By definition a node is \"worst\" if it's ¬(\"better\") compared to all nodes among \"siblings\" ∧ Node ¬(better) than all nodes in siblings]\n"
     ]
    }
   ],
   "source": [
    "print(knowledgebase)"
   ]
  },
  {
   "cell_type": "code",
   "execution_count": 5,
   "metadata": {},
   "outputs": [],
   "source": [
    "explainer = ArgumentativeExplainer(knowledgebase)"
   ]
  },
  {
   "cell_type": "markdown",
   "metadata": {},
   "source": [
    "## Set your explanations settings"
   ]
  },
  {
   "cell_type": "code",
   "execution_count": 6,
   "metadata": {},
   "outputs": [],
   "source": [
    "explainer.set_tree_search_motivation(lambda root: root.children, \"best\")"
   ]
  },
  {
   "cell_type": "code",
   "execution_count": 7,
   "metadata": {},
   "outputs": [],
   "source": [
    "settings = {\n",
    "            'explanation_depth': 5 ,\n",
    "            'assumptions_verbosity': 'verbose'\n",
    "        }\n",
    "\n",
    "explainer.configure_settings(settings)"
   ]
  },
  {
   "cell_type": "markdown",
   "metadata": {},
   "source": [
    "## You can now explain nodes' properties"
   ]
  },
  {
   "cell_type": "code",
   "execution_count": 8,
   "metadata": {},
   "outputs": [
    {
     "name": "stdout",
     "output_type": "stream",
     "text": [
      "[child1 is best ← (assumption) By definition a node is \"best\" if it's \"better\" compared to all nodes among \"siblings\"\n",
      " ∧ [child1 has siblings = child2, child3 ← (assumption) Definition of \"siblings\" is \"node.parent.children excluding node\"]\n",
      " ∧ [child1 is better than child2 ← (assumption) By definition, node1 is \"better\" than node2 if node1 score > node2 score\n",
      " ∧ child1 has score = 3 ∧ child2 has score = 2]\n",
      " ∧ [child1 is better than child3 ← (assumption) By definition, node1 is \"better\" than node2 if node1 score > node2 score\n",
      " ∧ child1 has score = 3 ∧ child3 has score = 1]]\n"
     ]
    }
   ],
   "source": [
    "explainer.explain_adjective(child1, \"best\")"
   ]
  },
  {
   "cell_type": "code",
   "execution_count": 9,
   "metadata": {},
   "outputs": [],
   "source": [
    "settings = {\n",
    "            'explanation_depth': 2 ,\n",
    "            'assumptions_verbosity': 'verbose'\n",
    "        }\n",
    "\n",
    "explainer.configure_settings(settings)"
   ]
  },
  {
   "cell_type": "code",
   "execution_count": 10,
   "metadata": {},
   "outputs": [
    {
     "name": "stdout",
     "output_type": "stream",
     "text": [
      "[¬(child1 is worst) ← (assumption) By definition a node is \"worst\" if it's ¬(\"better\") compared to all nodes among \"siblings\"\n",
      " ∧ [child1 has siblings = child2, child3 ← (assumption) Definition of \"siblings\" is \"node.parent.children excluding node\"]\n",
      " ∧ child1 is better than child2 ∧ child1 is better than child3]\n"
     ]
    }
   ],
   "source": [
    "explainer.explain_adjective(child1, \"worst\", explanation_depth = 3)"
   ]
  },
  {
   "cell_type": "code",
   "execution_count": 11,
   "metadata": {},
   "outputs": [
    {
     "name": "stdout",
     "output_type": "stream",
     "text": [
      "[leaf11 is worst ← (assumption) By definition a node is \"worst\" if it's ¬(\"better\") compared to all nodes among \"siblings\"\n",
      " ∧ leaf11 has siblings = leaf12\n",
      " ∧ ¬(leaf11 is better than leaf12)]\n"
     ]
    }
   ],
   "source": [
    "explainer.explain_adjective(leaf11, \"worst\")"
   ]
  },
  {
   "cell_type": "code",
   "execution_count": 12,
   "metadata": {},
   "outputs": [
    {
     "name": "stdout",
     "output_type": "stream",
     "text": [
      "[child1 is better than child2 ← (assumption) By definition, node1 is \"better\" than node2 if node1 score > node2 score\n",
      " ∧ child1 has score = 3 ∧ child2 has score = 2]\n"
     ]
    }
   ],
   "source": [
    "explainer.explain_adjective(child1, \"better\", child2)"
   ]
  },
  {
   "cell_type": "code",
   "execution_count": 13,
   "metadata": {},
   "outputs": [
    {
     "name": "stdout",
     "output_type": "stream",
     "text": [
      "[child1 has siblings = child2, child3 ← (assumption) Definition of \"siblings\" is \"node.parent.children excluding node\"]\n"
     ]
    }
   ],
   "source": [
    "explainer.explain_adjective(child1, \"siblings\")"
   ]
  },
  {
   "cell_type": "code",
   "execution_count": 14,
   "metadata": {},
   "outputs": [
    {
     "name": "stdout",
     "output_type": "stream",
     "text": [
      "[child1 is best ← (assumption) By definition a node is \"best\" if it's \"better\" compared to all nodes among \"siblings\"\n",
      " ∧ child1 has siblings = child2, child3\n",
      " ∧ child1 is better than child2 ∧ child1 is better than child3]\n"
     ]
    }
   ],
   "source": [
    "explainer.explain_adjective(child1, \"best\")"
   ]
  },
  {
   "cell_type": "code",
   "execution_count": 15,
   "metadata": {},
   "outputs": [
    {
     "name": "stdout",
     "output_type": "stream",
     "text": [
      "[root has backtracing child = child1 ← ¬(root is opponent player turn)]\n"
     ]
    }
   ],
   "source": [
    "explainer.explain_adjective(root, \"backtracing child\")"
   ]
  },
  {
   "cell_type": "code",
   "execution_count": 16,
   "metadata": {},
   "outputs": [
    {
     "name": "stdout",
     "output_type": "stream",
     "text": [
      "\n",
      "[child1 is best ←\n",
      "!Depth 1: (assumption) By definition a node is \"best\" if it's \"better\" compared to all nodes among \"siblings\"\n",
      " ∧ \n",
      "[child1 has siblings = child2, child3 ←\n",
      "!Depth 3: (assumption) Definition of \"siblings\" is \"node.parent.children excluding node\"]\n",
      " ∧ \n",
      "[child1 is better than child2 ←\n",
      "!Depth 13: (assumption) By definition, node1 is \"better\" than node2 if node1 score > node2 score\n",
      " ∧ \n",
      "[child1 has score = 3 ←\n",
      "!Depth 15: \n",
      "[¬(child1 is leaf) ←\n",
      "!Depth 7: (assumption) Definition of \"leaf\" is \"node.is_leaf\"]\n",
      " ∧ (assumption) Internal nodes have scores from children\n",
      " ∧ \n",
      "[child1 has backtracing child = leaf11 ←\n",
      "!Depth 8: \n",
      "[child1 is opponent player turn ←\n",
      "!Depth 10: (assumption) Definition of \"opponent player turn\" is \"not node.maximizing_player_turn\"]\n",
      " ∧ (assumption) We assume the opponent will do their best move.\n",
      " ∧ \n",
      "[leaf11 is worst ←\n",
      "!Depth 11: (assumption) By definition a node is \"worst\" if it's ¬(\"better\") compared to all nodes among \"siblings\"\n",
      " ∧ \n",
      "[leaf11 has siblings = leaf12 ←\n",
      "!Depth 13: (assumption) Definition of \"siblings\" is \"node.parent.children excluding node\"]\n",
      " ∧ \n",
      "[¬(leaf11 is better than leaf12) ←\n",
      "!Depth 13: (assumption) By definition, node1 is \"better\" than node2 if node1 score > node2 score\n",
      " ∧ leaf11 has score = 3 ∧ leaf12 has score = 4]]]]\n",
      " ∧ child2 has score = 2]\n",
      " ∧ \n",
      "[child1 is better than child3 ←\n",
      "!Depth 13: (assumption) By definition, node1 is \"better\" than node2 if node1 score > node2 score\n",
      " ∧ \n",
      "[child1 has score = 3 ←\n",
      "!Depth 15: \n",
      "[¬(child1 is leaf) ←\n",
      "!Depth 7: (assumption) Definition of \"leaf\" is \"node.is_leaf\"]\n",
      " ∧ (assumption) Internal nodes have scores from children\n",
      " ∧ \n",
      "[child1 has backtracing child = leaf11 ←\n",
      "!Depth 8: \n",
      "[child1 is opponent player turn ←\n",
      "!Depth 10: (assumption) Definition of \"opponent player turn\" is \"not node.maximizing_player_turn\"]\n",
      " ∧ (assumption) We assume the opponent will do their best move.\n",
      " ∧ \n",
      "[leaf11 is worst ←\n",
      "!Depth 11: (assumption) By definition a node is \"worst\" if it's ¬(\"better\") compared to all nodes among \"siblings\"\n",
      " ∧ \n",
      "[leaf11 has siblings = leaf12 ←\n",
      "!Depth 13: (assumption) Definition of \"siblings\" is \"node.parent.children excluding node\"]\n",
      " ∧ \n",
      "[¬(leaf11 is better than leaf12) ←\n",
      "!Depth 13: (assumption) By definition, node1 is \"better\" than node2 if node1 score > node2 score\n",
      " ∧ leaf11 has score = 3 ∧ leaf12 has score = 4]]]]\n",
      " ∧ child3 has score = 1]]\n"
     ]
    }
   ],
   "source": [
    "explainer.explain_adjective(child1, \"best\", explanation_depth=15, print_depth=True)"
   ]
  },
  {
   "cell_type": "code",
   "execution_count": 17,
   "metadata": {},
   "outputs": [
    {
     "name": "stdout",
     "output_type": "stream",
     "text": [
      "[root has score = 3 ← [¬(root is leaf) ← (assumption) Definition of \"leaf\" is \"node.is_leaf\"]\n",
      " ∧ (assumption) Internal nodes have scores from children\n",
      " ∧ [root has backtracing child = child1 ← [¬(root is opponent player turn) ← (assumption) Definition of \"opponent player turn\" is \"not node.maximizing_player_turn\"]\n",
      " ∧ (assumption) On our turn we take the maximum rated move.\n",
      " ∧ [child1 is best ← (assumption) By definition a node is \"best\" if it's \"better\" compared to all nodes among \"siblings\"\n",
      " ∧ [child1 has siblings = child2, child3 ← (assumption) Definition of \"siblings\" is \"node.parent.children excluding node\"]\n",
      " ∧ [child1 is better than child2 ← (assumption) By definition, node1 is \"better\" than node2 if node1 score > node2 score\n",
      " ∧ [child1 has score = 3 ← [¬(child1 is leaf) ← (assumption) Definition of \"leaf\" is \"node.is_leaf\"]\n",
      " ∧ (assumption) Internal nodes have scores from children\n",
      " ∧ [child1 has backtracing child = leaf11 ← child1 is opponent player turn]]\n",
      " ∧ [child2 has score = 2 ← [¬(child2 is leaf) ← (assumption) Definition of \"leaf\" is \"node.is_leaf\"]\n",
      " ∧ (assumption) Internal nodes have scores from children\n",
      " ∧ [child2 has backtracing child = leaf22 ← child2 is opponent player turn]]]\n",
      " ∧ [child1 is better than child3 ← (assumption) By definition, node1 is \"better\" than node2 if node1 score > node2 score\n",
      " ∧ [child1 has score = 3 ← [¬(child1 is leaf) ← (assumption) Definition of \"leaf\" is \"node.is_leaf\"]\n",
      " ∧ (assumption) Internal nodes have scores from children\n",
      " ∧ [child1 has backtracing child = leaf11 ← child1 is opponent player turn]]\n",
      " ∧ [child3 has score = 1 ← [¬(child3 is leaf) ← (assumption) Definition of \"leaf\" is \"node.is_leaf\"]\n",
      " ∧ (assumption) Internal nodes have scores from children\n",
      " ∧ [child3 has backtracing child = leaf21 ← child3 is opponent player turn]]]]]]\n"
     ]
    }
   ],
   "source": [
    "explainer.explain_adjective(root, \"score\", explanation_depth = 15)"
   ]
  },
  {
   "cell_type": "markdown",
   "metadata": {},
   "source": [
    "Track down that Not before the \"Considering your definition of leaf\""
   ]
  },
  {
   "cell_type": "code",
   "execution_count": 18,
   "metadata": {},
   "outputs": [],
   "source": [
    "explainer.query_explanation(root, \"Why is child 1 maxoptimal?\")"
   ]
  }
 ],
 "metadata": {
  "kernelspec": {
   "display_name": "Python 3 (ipykernel)",
   "language": "python",
   "name": "python3"
  },
  "language_info": {
   "codemirror_mode": {
    "name": "ipython",
    "version": 3
   },
   "file_extension": ".py",
   "mimetype": "text/x-python",
   "name": "python",
   "nbconvert_exporter": "python",
   "pygments_lexer": "ipython3",
   "version": "3.11.9"
  }
 },
 "nbformat": 4,
 "nbformat_minor": 2
}
