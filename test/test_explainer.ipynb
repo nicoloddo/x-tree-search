{
 "cells": [
  {
   "cell_type": "code",
   "execution_count": 16,
   "metadata": {},
   "outputs": [],
   "source": [
    "from src.explainer.explainer import ArgumentativeExplainer\n",
    "from src.explainer.framework import ArgumentationFramework\n",
    "\n",
    "from src.explainer.adjective import BooleanAdjective, PointerAdjective, ComparisonAdjective, MaxRankAdjective, MinRankAdjective\n",
    "from src.explainer.explanation import Possession, Assumption, PossessionCondition, ConditionalExplanation, CompositeExplanation"
   ]
  },
  {
   "cell_type": "code",
   "execution_count": 17,
   "metadata": {},
   "outputs": [],
   "source": [
    "# Example usage:\n",
    "class MinMaxNode:\n",
    "    def __init__(self, id, *, score=None, maximizing_player_turn=True, children=None, score_child=None):\n",
    "        \n",
    "        self.id = id\n",
    "\n",
    "        if score:\n",
    "            self.score = score\n",
    "        elif score_child:\n",
    "            self.score_child = score_child\n",
    "            self.score = score_child.score\n",
    "        else:\n",
    "            raise ValueError(\"Provide score or score_child.\")\n",
    "\n",
    "        self.children = children or []\n",
    "        self.parent = None\n",
    "        self.maximizing_player_turn = maximizing_player_turn\n",
    "        \n",
    "        self.is_leaf = True\n",
    "        if len(self.children) > 0:\n",
    "            self.is_leaf = False\n",
    "            for child in children:\n",
    "                child.parent=self\n",
    "                child.maximizing_player_turn = not self.maximizing_player_turn\n",
    "    \n",
    "    def __str__(self):\n",
    "        return self.id\n",
    "\n",
    "# Create a simple game tree\n",
    "leaf11 = MinMaxNode('leaf11', score=3)\n",
    "leaf12 = MinMaxNode('leaf12', score=4)\n",
    "leaf21 = MinMaxNode('leaf21', score=8)\n",
    "leaf22 = MinMaxNode('leaf22', score=2)\n",
    "child1 = MinMaxNode('child1', children=[leaf11, leaf12], score_child=leaf11)\n",
    "child2 = MinMaxNode('child2', children=[leaf21, leaf22], score_child=leaf22)\n",
    "root = MinMaxNode('root', maximizing_player_turn=True, children=[child1, child2], score_child=child1)"
   ]
  },
  {
   "cell_type": "code",
   "execution_count": 18,
   "metadata": {},
   "outputs": [],
   "source": [
    "knowledgebase = ArgumentationFramework()\n",
    "\n",
    "knowledgebase.add_adjective( \n",
    "    BooleanAdjective(\"leaf\")\n",
    ")\n",
    "\n",
    "knowledgebase.add_adjective( \n",
    "    PointerAdjective(\"score\",\n",
    "\n",
    "    explanation = ConditionalExplanation(\n",
    "        condition = PossessionCondition(\"leaf\"),\n",
    "        true_explanation = Assumption(\"Leaf nodes have scores from the evaluation function\"),\n",
    "        false_explanation = CompositeExplanation(\n",
    "            Assumption(\"Internal nodes have scores from children\"),\n",
    "            Possession(\"backtracing child\"))\n",
    "    ))\n",
    ")\n",
    "\n",
    "knowledgebase.add_adjective(\n",
    "    BooleanAdjective(\"opponent player turn\")\n",
    ")\n",
    "\n",
    "knowledgebase.add_adjective( \n",
    "    PointerAdjective(\"backtracing child\",\n",
    "\n",
    "    explanation = ConditionalExplanation(\n",
    "        condition = PossessionCondition(\"opponent player turn\"),\n",
    "        true_explanation = CompositeExplanation(\n",
    "            Assumption(\"We assume the opponent will do their best move.\"),\n",
    "            Possession(\"backtracing child\", \"worst\")),\n",
    "        false_explanation = CompositeExplanation(\n",
    "            Assumption(\"On our turn we take the maximum rated move.\"),\n",
    "            Possession(\"backtracing child\", \"best\"))\n",
    "    ))\n",
    ")\n",
    "\n",
    "knowledgebase.add_adjective(\n",
    "    ComparisonAdjective(\"better\", \"score\", \">\")\n",
    ")\n",
    "\n",
    "knowledgebase.add_adjective( \n",
    "    PointerAdjective(\"siblings\")\n",
    ")\n",
    "\n",
    "knowledgebase.add_adjective(\n",
    "    MaxRankAdjective(\"best\", \"better\", \"siblings\")\n",
    ")\n",
    "knowledgebase.add_adjective(\n",
    "    MinRankAdjective(\"worst\", \"better\", \"siblings\")\n",
    ")"
   ]
  },
  {
   "cell_type": "code",
   "execution_count": 19,
   "metadata": {},
   "outputs": [],
   "source": [
    "#print(knowledgebase)"
   ]
  },
  {
   "cell_type": "code",
   "execution_count": 20,
   "metadata": {},
   "outputs": [],
   "source": [
    "explainer = ArgumentativeExplainer(knowledgebase)\n",
    "explainer.set_getter(\"siblings\", lambda node: [sibling for sibling in node.parent.children if sibling is not node])\n",
    "explainer.set_getter(\"leaf\", lambda node: node.is_leaf)\n",
    "explainer.set_getter(\"backtracing child\", lambda node: node.score_child)\n",
    "explainer.set_getter(\"score\", lambda node: node.score)\n",
    "explainer.set_getter(\"opponent player turn\", lambda node: not node.maximizing_player_turn)\n",
    "# alternative getter for backtracing child:\n",
    "# lambda node: min(node.children, key=lambda child: child.score),\n",
    "\n",
    "explainer.set_tree_search_motivation(lambda root: root.children, \"best\")"
   ]
  },
  {
   "cell_type": "markdown",
   "metadata": {},
   "source": [
    "Try"
   ]
  },
  {
   "cell_type": "code",
   "execution_count": 21,
   "metadata": {},
   "outputs": [
    {
     "name": "stdout",
     "output_type": "stream",
     "text": [
      "[(assumption) By definition a node is best if it's better compared to all nodes among siblings\n",
      " ∧ [[(assumption) By definition of leaf → ¬(child1 is leaf)]\n",
      " ∧ (assumption) Internal nodes have scores from children\n",
      " ∧ [[(assumption) By definition of opponent player turn → child1 is opponent player turn]\n",
      " ∧ (assumption) We assume the opponent will do their best move.\n",
      " ∧ [(assumption) By definition a node is worst if it's better compared to all nodes among siblings\n",
      " ∧ [[(assumption) By definition of leaf → leaf11 is leaf]\n",
      " ∧ (assumption) Leaf nodes have scores from the evaluation function → leaf11 has score = 3]\n",
      " ∧ [[(assumption) By definition of leaf → leaf12 is leaf]\n",
      " ∧ (assumption) Leaf nodes have scores from the evaluation function → leaf12 has score = 4]\n",
      " ∧ [(assumption) By definition, node1 is \"better\" than node2 if node1 score > node2 score → ¬(leaf11 is better than leaf12)] → leaf11 is worst] → child1 has backtracing child = leaf11] → child1 has score = 3]\n",
      " ∧ [[(assumption) By definition of leaf → ¬(child2 is leaf)]\n",
      " ∧ (assumption) Internal nodes have scores from children\n",
      " ∧ [[(assumption) By definition of opponent player turn → child2 is opponent player turn]\n",
      " ∧ (assumption) We assume the opponent will do their best move.\n",
      " ∧ [(assumption) By definition a node is worst if it's better compared to all nodes among siblings\n",
      " ∧ [[(assumption) By definition of leaf → leaf22 is leaf]\n",
      " ∧ (assumption) Leaf nodes have scores from the evaluation function → leaf22 has score = 2]\n",
      " ∧ [[(assumption) By definition of leaf → leaf21 is leaf]\n",
      " ∧ (assumption) Leaf nodes have scores from the evaluation function → leaf21 has score = 8]\n",
      " ∧ [(assumption) By definition, node1 is \"better\" than node2 if node1 score > node2 score → ¬(leaf22 is better than leaf21)] → leaf22 is worst] → child2 has backtracing child = leaf22] → child2 has score = 2]\n",
      " ∧ [(assumption) By definition, node1 is \"better\" than node2 if node1 score > node2 score → child1 is better than child2] → child1 is best]\n"
     ]
    }
   ],
   "source": [
    "# Generate explanations\n",
    "print(explainer.explain_adjective(child1, \"best\"))\n"
   ]
  },
  {
   "cell_type": "code",
   "execution_count": 22,
   "metadata": {},
   "outputs": [
    {
     "name": "stdout",
     "output_type": "stream",
     "text": [
      "[(assumption) By definition a node is worst if it's better compared to all nodes among siblings\n",
      " ∧ [[(assumption) By definition of leaf → ¬(child1 is leaf)]\n",
      " ∧ (assumption) Internal nodes have scores from children\n",
      " ∧ [[(assumption) By definition of opponent player turn → child1 is opponent player turn]\n",
      " ∧ (assumption) We assume the opponent will do their best move.\n",
      " ∧ [(assumption) By definition a node is worst if it's better compared to all nodes among siblings\n",
      " ∧ [[(assumption) By definition of leaf → leaf11 is leaf]\n",
      " ∧ (assumption) Leaf nodes have scores from the evaluation function → leaf11 has score = 3]\n",
      " ∧ [[(assumption) By definition of leaf → leaf12 is leaf]\n",
      " ∧ (assumption) Leaf nodes have scores from the evaluation function → leaf12 has score = 4]\n",
      " ∧ [(assumption) By definition, node1 is \"better\" than node2 if node1 score > node2 score → ¬(leaf11 is better than leaf12)] → leaf11 is worst] → child1 has backtracing child = leaf11] → child1 has score = 3]\n",
      " ∧ [[(assumption) By definition of leaf → ¬(child2 is leaf)]\n",
      " ∧ (assumption) Internal nodes have scores from children\n",
      " ∧ [[(assumption) By definition of opponent player turn → child2 is opponent player turn]\n",
      " ∧ (assumption) We assume the opponent will do their best move.\n",
      " ∧ [(assumption) By definition a node is worst if it's better compared to all nodes among siblings\n",
      " ∧ [[(assumption) By definition of leaf → leaf22 is leaf]\n",
      " ∧ (assumption) Leaf nodes have scores from the evaluation function → leaf22 has score = 2]\n",
      " ∧ [[(assumption) By definition of leaf → leaf21 is leaf]\n",
      " ∧ (assumption) Leaf nodes have scores from the evaluation function → leaf21 has score = 8]\n",
      " ∧ [(assumption) By definition, node1 is \"better\" than node2 if node1 score > node2 score → ¬(leaf22 is better than leaf21)] → leaf22 is worst] → child2 has backtracing child = leaf22] → child2 has score = 2]\n",
      " ∧ [(assumption) By definition, node1 is \"better\" than node2 if node1 score > node2 score → child1 is better than child2] → ¬(child1 is worst)]\n"
     ]
    }
   ],
   "source": [
    "print(explainer.explain_adjective(child1, \"worst\"))"
   ]
  },
  {
   "cell_type": "code",
   "execution_count": 23,
   "metadata": {},
   "outputs": [
    {
     "name": "stdout",
     "output_type": "stream",
     "text": [
      "[(assumption) By definition a node is best if it's better compared to all nodes among siblings\n",
      " ∧ [[(assumption) By definition of leaf → ¬(child2 is leaf)]\n",
      " ∧ (assumption) Internal nodes have scores from children\n",
      " ∧ [[(assumption) By definition of opponent player turn → child2 is opponent player turn]\n",
      " ∧ (assumption) We assume the opponent will do their best move.\n",
      " ∧ [(assumption) By definition a node is worst if it's better compared to all nodes among siblings\n",
      " ∧ [[(assumption) By definition of leaf → leaf22 is leaf]\n",
      " ∧ (assumption) Leaf nodes have scores from the evaluation function → leaf22 has score = 2]\n",
      " ∧ [[(assumption) By definition of leaf → leaf21 is leaf]\n",
      " ∧ (assumption) Leaf nodes have scores from the evaluation function → leaf21 has score = 8]\n",
      " ∧ [(assumption) By definition, node1 is \"better\" than node2 if node1 score > node2 score → ¬(leaf22 is better than leaf21)] → leaf22 is worst] → child2 has backtracing child = leaf22] → child2 has score = 2]\n",
      " ∧ [[(assumption) By definition of leaf → ¬(child1 is leaf)]\n",
      " ∧ (assumption) Internal nodes have scores from children\n",
      " ∧ [[(assumption) By definition of opponent player turn → child1 is opponent player turn]\n",
      " ∧ (assumption) We assume the opponent will do their best move.\n",
      " ∧ [(assumption) By definition a node is worst if it's better compared to all nodes among siblings\n",
      " ∧ [[(assumption) By definition of leaf → leaf11 is leaf]\n",
      " ∧ (assumption) Leaf nodes have scores from the evaluation function → leaf11 has score = 3]\n",
      " ∧ [[(assumption) By definition of leaf → leaf12 is leaf]\n",
      " ∧ (assumption) Leaf nodes have scores from the evaluation function → leaf12 has score = 4]\n",
      " ∧ [(assumption) By definition, node1 is \"better\" than node2 if node1 score > node2 score → ¬(leaf11 is better than leaf12)] → leaf11 is worst] → child1 has backtracing child = leaf11] → child1 has score = 3]\n",
      " ∧ [(assumption) By definition, node1 is \"better\" than node2 if node1 score > node2 score → ¬(child2 is better than child1)] → ¬(child2 is best)]\n"
     ]
    }
   ],
   "source": [
    "print(explainer.explain_adjective(child2, \"best\"))"
   ]
  },
  {
   "cell_type": "code",
   "execution_count": 24,
   "metadata": {},
   "outputs": [
    {
     "name": "stdout",
     "output_type": "stream",
     "text": [
      "[[(assumption) By definition of opponent player turn → ¬(root is opponent player turn)]\n",
      " ∧ (assumption) On our turn we take the maximum rated move.\n",
      " ∧ [(assumption) By definition a node is best if it's better compared to all nodes among siblings\n",
      " ∧ [[(assumption) By definition of leaf → ¬(child1 is leaf)]\n",
      " ∧ (assumption) Internal nodes have scores from children\n",
      " ∧ [[(assumption) By definition of opponent player turn → child1 is opponent player turn]\n",
      " ∧ (assumption) We assume the opponent will do their best move.\n",
      " ∧ [(assumption) By definition a node is worst if it's better compared to all nodes among siblings\n",
      " ∧ [[(assumption) By definition of leaf → leaf11 is leaf]\n",
      " ∧ (assumption) Leaf nodes have scores from the evaluation function → leaf11 has score = 3]\n",
      " ∧ [[(assumption) By definition of leaf → leaf12 is leaf]\n",
      " ∧ (assumption) Leaf nodes have scores from the evaluation function → leaf12 has score = 4]\n",
      " ∧ [(assumption) By definition, node1 is \"better\" than node2 if node1 score > node2 score → ¬(leaf11 is better than leaf12)] → leaf11 is worst] → child1 has backtracing child = leaf11] → child1 has score = 3]\n",
      " ∧ [[(assumption) By definition of leaf → ¬(child2 is leaf)]\n",
      " ∧ (assumption) Internal nodes have scores from children\n",
      " ∧ [[(assumption) By definition of opponent player turn → child2 is opponent player turn]\n",
      " ∧ (assumption) We assume the opponent will do their best move.\n",
      " ∧ [(assumption) By definition a node is worst if it's better compared to all nodes among siblings\n",
      " ∧ [[(assumption) By definition of leaf → leaf22 is leaf]\n",
      " ∧ (assumption) Leaf nodes have scores from the evaluation function → leaf22 has score = 2]\n",
      " ∧ [[(assumption) By definition of leaf → leaf21 is leaf]\n",
      " ∧ (assumption) Leaf nodes have scores from the evaluation function → leaf21 has score = 8]\n",
      " ∧ [(assumption) By definition, node1 is \"better\" than node2 if node1 score > node2 score → ¬(leaf22 is better than leaf21)] → leaf22 is worst] → child2 has backtracing child = leaf22] → child2 has score = 2]\n",
      " ∧ [(assumption) By definition, node1 is \"better\" than node2 if node1 score > node2 score → child1 is better than child2] → child1 is best] → root has backtracing child = child1]\n"
     ]
    }
   ],
   "source": [
    "print(explainer.explain_adjective(root, \"backtracing child\"))"
   ]
  },
  {
   "cell_type": "code",
   "execution_count": 25,
   "metadata": {},
   "outputs": [
    {
     "name": "stdout",
     "output_type": "stream",
     "text": [
      "[[(assumption) By definition of leaf → ¬(root is leaf)]\n",
      " ∧ (assumption) Internal nodes have scores from children\n",
      " ∧ [[(assumption) By definition of opponent player turn → ¬(root is opponent player turn)]\n",
      " ∧ (assumption) On our turn we take the maximum rated move.\n",
      " ∧ [(assumption) By definition a node is best if it's better compared to all nodes among siblings\n",
      " ∧ [[(assumption) By definition of leaf → ¬(child1 is leaf)]\n",
      " ∧ (assumption) Internal nodes have scores from children\n",
      " ∧ [[(assumption) By definition of opponent player turn → child1 is opponent player turn]\n",
      " ∧ (assumption) We assume the opponent will do their best move.\n",
      " ∧ [(assumption) By definition a node is worst if it's better compared to all nodes among siblings\n",
      " ∧ [[(assumption) By definition of leaf → leaf11 is leaf]\n",
      " ∧ (assumption) Leaf nodes have scores from the evaluation function → leaf11 has score = 3]\n",
      " ∧ [[(assumption) By definition of leaf → leaf12 is leaf]\n",
      " ∧ (assumption) Leaf nodes have scores from the evaluation function → leaf12 has score = 4]\n",
      " ∧ [(assumption) By definition, node1 is \"better\" than node2 if node1 score > node2 score → ¬(leaf11 is better than leaf12)] → leaf11 is worst] → child1 has backtracing child = leaf11] → child1 has score = 3]\n",
      " ∧ [[(assumption) By definition of leaf → ¬(child2 is leaf)]\n",
      " ∧ (assumption) Internal nodes have scores from children\n",
      " ∧ [[(assumption) By definition of opponent player turn → child2 is opponent player turn]\n",
      " ∧ (assumption) We assume the opponent will do their best move.\n",
      " ∧ [(assumption) By definition a node is worst if it's better compared to all nodes among siblings\n",
      " ∧ [[(assumption) By definition of leaf → leaf22 is leaf]\n",
      " ∧ (assumption) Leaf nodes have scores from the evaluation function → leaf22 has score = 2]\n",
      " ∧ [[(assumption) By definition of leaf → leaf21 is leaf]\n",
      " ∧ (assumption) Leaf nodes have scores from the evaluation function → leaf21 has score = 8]\n",
      " ∧ [(assumption) By definition, node1 is \"better\" than node2 if node1 score > node2 score → ¬(leaf22 is better than leaf21)] → leaf22 is worst] → child2 has backtracing child = leaf22] → child2 has score = 2]\n",
      " ∧ [(assumption) By definition, node1 is \"better\" than node2 if node1 score > node2 score → child1 is better than child2] → child1 is best] → root has backtracing child = child1] → root has score = 3]\n"
     ]
    }
   ],
   "source": [
    "print(explainer.explain_adjective(root, \"score\"))"
   ]
  },
  {
   "cell_type": "markdown",
   "metadata": {},
   "source": [
    "Track down that Not before the \"Considering your definition of leaf\""
   ]
  },
  {
   "cell_type": "code",
   "execution_count": 26,
   "metadata": {},
   "outputs": [
    {
     "name": "stdout",
     "output_type": "stream",
     "text": [
      "None\n"
     ]
    }
   ],
   "source": [
    "print(explainer.query_explanation(root, \"Why is child 1 maxoptimal?\"))"
   ]
  }
 ],
 "metadata": {
  "language_info": {
   "name": "python"
  }
 },
 "nbformat": 4,
 "nbformat_minor": 2
}
