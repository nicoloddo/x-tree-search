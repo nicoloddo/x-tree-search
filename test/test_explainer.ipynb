{
 "cells": [
  {
   "cell_type": "code",
   "execution_count": 1,
   "metadata": {},
   "outputs": [],
   "source": [
    "from src.explainer.explainer import ArgumentativeExplainer\n",
    "from src.explainer.framework import ArgumentationFramework\n",
    "\n",
    "from src.explainer.adjective import StaticAdjective, PointerAdjective, RankingAdjective\n",
    "from src.explainer.explanation import AdjectiveExplanation, AssumptionExplanation, ConditionalExplanation, CompositeExplanation, ForwardExplanation\n",
    "from src.explainer.condition import Condition"
   ]
  },
  {
   "cell_type": "code",
   "execution_count": 2,
   "metadata": {},
   "outputs": [],
   "source": [
    "# Example usage:\n",
    "class MinMaxNode:\n",
    "    def __init__(self, id, *, score=None, is_leaf, children=None, score_child=None):\n",
    "        \n",
    "        self.id = id\n",
    "\n",
    "        if score:\n",
    "            self.score = score\n",
    "        elif score_child:\n",
    "            self.score_child = score_child\n",
    "            self.score = score_child.score\n",
    "        else:\n",
    "            raise ValueError(\"Provide score or score_child.\")\n",
    "\n",
    "        self.is_leaf = is_leaf\n",
    "        self.children = children or []\n",
    "        self.parent = None\n",
    "        \n",
    "        \n",
    "        if len(self.children) > 0:\n",
    "            for child in children:\n",
    "                child.parent=self\n",
    "    \n",
    "    def __str__(self):\n",
    "        return self.id\n",
    "\n",
    "# Create a simple game tree\n",
    "leaf1 = MinMaxNode('child1', score=3, is_leaf=True)\n",
    "leaf2 = MinMaxNode('child2', score=5, is_leaf=True)\n",
    "root = MinMaxNode('root', is_leaf=False, children=[leaf1, leaf2], score_child=leaf1)"
   ]
  },
  {
   "cell_type": "code",
   "execution_count": 3,
   "metadata": {},
   "outputs": [],
   "source": [
    "framework = ArgumentationFramework()\n",
    "\n",
    "framework.add_adjective(StaticAdjective(\"leaf\", lambda node: node.is_leaf))\n",
    "\n",
    "framework.add_adjective(\n",
    "    PointerAdjective(\"score\", \n",
    "    getter = lambda node: node.score,\n",
    "\n",
    "    explanation = ConditionalExplanation(\n",
    "        condition = Condition(\"leaf\"),\n",
    "        true_explanation = AssumptionExplanation(\"Leaf nodes have scores from the evaluation function\"),\n",
    "        false_explanation = CompositeExplanation(\n",
    "            AssumptionExplanation(\"Internal nodes have scores from children\"),\n",
    "            ForwardExplanation(\"backtracing child\")\n",
    "))))\n",
    "\n",
    "framework.add_adjective(\n",
    "    PointerAdjective(\"backtracing child\",\n",
    "    #getter = lambda node: min(node.children, key=lambda child: child.score),\n",
    "    getter = lambda node: node.score_child,\n",
    "\n",
    "    explanation = ConditionalExplanation(\n",
    "        condition = Condition(\"minoptimal\", \"backtracing child\"),\n",
    "        true_explanation = CompositeExplanation(\n",
    "            AssumptionExplanation(\"We assume the opponent will do their best move.\"),\n",
    "            AdjectiveExplanation(\"backtracing child\", \"minoptimal\")),\n",
    "        false_explanation = AdjectiveExplanation(\"backtracing child\", \"maxoptimal\")\n",
    "    )\n",
    "))\n",
    "\n",
    "framework.add_adjective(RankingAdjective(\"better\", \"score\", \">\"))\n",
    "\n",
    "# Renaming automatically created adjectives\n",
    "framework.rename_adjective(\"max_better\", \"maxoptimal\")\n",
    "framework.rename_adjective(\"min_better\", \"minoptimal\")\n",
    "\n",
    "# Setting tree search motivation\n",
    "framework.set_tree_search_motivation(\"maxoptimal\")\n"
   ]
  },
  {
   "cell_type": "code",
   "execution_count": 4,
   "metadata": {},
   "outputs": [],
   "source": [
    "explainer = ArgumentativeExplainer(framework)"
   ]
  },
  {
   "cell_type": "markdown",
   "metadata": {},
   "source": [
    "Try"
   ]
  },
  {
   "cell_type": "code",
   "execution_count": 5,
   "metadata": {},
   "outputs": [
    {
     "name": "stdout",
     "output_type": "stream",
     "text": [
      "((A node is max-ranked in a RankingAdjective if the Ranking Condition is TRUE when compared to all its siblings.\n",
      " ∧ ((¬(child1.score > child2.score) → child1 not better than child2))) → child1 is not maxoptimal)\n"
     ]
    }
   ],
   "source": [
    "# Generate explanations\n",
    "print(explainer.explain_adjective(root.children[0], \"maxoptimal\"))\n"
   ]
  },
  {
   "cell_type": "code",
   "execution_count": 6,
   "metadata": {},
   "outputs": [
    {
     "name": "stdout",
     "output_type": "stream",
     "text": [
      "((A node is min-ranked in a RankingAdjective if the Ranking Condition is FALSE when compared to all its siblings.\n",
      " ∧ ((¬(child1.score > child2.score) → child1 not better than child2))) → child1 is minoptimal)\n"
     ]
    }
   ],
   "source": [
    "print(explainer.explain_adjective(root.children[0], \"minoptimal\"))"
   ]
  },
  {
   "cell_type": "code",
   "execution_count": 7,
   "metadata": {},
   "outputs": [
    {
     "name": "stdout",
     "output_type": "stream",
     "text": [
      "((A node is max-ranked in a RankingAdjective if the Ranking Condition is TRUE when compared to all its siblings.\n",
      " ∧ ((child2.score > child1.score → child2 better than child1))) → child2 is maxoptimal)\n"
     ]
    }
   ],
   "source": [
    "print(explainer.explain_adjective(root.children[1], \"maxoptimal\"))"
   ]
  },
  {
   "cell_type": "code",
   "execution_count": 8,
   "metadata": {},
   "outputs": [
    {
     "name": "stdout",
     "output_type": "stream",
     "text": [
      "((((A node is min-ranked in a RankingAdjective if the Ranking Condition is FALSE when compared to all its siblings.\n",
      " ∧ ((¬(child1.score > child2.score) → child1 not better than child2))) → child1 is minoptimal)\n",
      " ∧ (We assume the opponent will do their best move.\n",
      " ∧ ((A node is min-ranked in a RankingAdjective if the Ranking Condition is FALSE when compared to all its siblings.\n",
      " ∧ ((¬(child1.score > child2.score) → child1 not better than child2))) → child1 is minoptimal))) → root has backtracing child = child1)\n"
     ]
    }
   ],
   "source": [
    "print(explainer.explain_adjective(root, \"backtracing child\"))"
   ]
  },
  {
   "cell_type": "code",
   "execution_count": 9,
   "metadata": {},
   "outputs": [
    {
     "name": "stdout",
     "output_type": "stream",
     "text": [
      "((¬((Considering your definition of leaf → root is not leaf))\n",
      " ∧ (Internal nodes have scores from children\n",
      " ∧ ((((A node is min-ranked in a RankingAdjective if the Ranking Condition is FALSE when compared to all its siblings.\n",
      " ∧ ((¬(child1.score > child2.score) → child1 not better than child2))) → child1 is minoptimal)\n",
      " ∧ (We assume the opponent will do their best move.\n",
      " ∧ ((A node is min-ranked in a RankingAdjective if the Ranking Condition is FALSE when compared to all its siblings.\n",
      " ∧ ((¬(child1.score > child2.score) → child1 not better than child2))) → child1 is minoptimal))) → root has backtracing child = child1))) → root has score = 3)\n"
     ]
    }
   ],
   "source": [
    "print(explainer.explain_adjective(root, \"score\"))"
   ]
  },
  {
   "cell_type": "markdown",
   "metadata": {},
   "source": [
    "Track down that not before the \"Considering your definition of leaf\""
   ]
  },
  {
   "cell_type": "code",
   "execution_count": 10,
   "metadata": {},
   "outputs": [
    {
     "name": "stdout",
     "output_type": "stream",
     "text": [
      "None\n"
     ]
    }
   ],
   "source": [
    "print(explainer.query_explanation(root, \"Why is child 1 maxoptimal?\"))"
   ]
  }
 ],
 "metadata": {
  "language_info": {
   "name": "python"
  }
 },
 "nbformat": 4,
 "nbformat_minor": 2
}
