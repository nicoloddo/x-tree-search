{
 "cells": [
  {
   "cell_type": "code",
   "execution_count": 1,
   "metadata": {},
   "outputs": [],
   "source": [
    "from src.explainer.explainer import ArgumentativeExplainer\n",
    "from src.explainer.framework import ArgumentationFramework\n",
    "\n",
    "from src.explainer.adjective import BooleanAdjective, PointerAdjective, NodesGroupPointerAdjective, ComparisonAdjective, MaxRankAdjective, MinRankAdjective\n",
    "from src.explainer.explanation import Possession, Assumption, If, ConditionalExplanation, CompositeExplanation"
   ]
  },
  {
   "cell_type": "markdown",
   "metadata": {},
   "source": [
    "## Example search tree:"
   ]
  },
  {
   "cell_type": "code",
   "execution_count": 2,
   "metadata": {},
   "outputs": [],
   "source": [
    "# Example usage:\n",
    "class MinMaxNode:\n",
    "    def __init__(self, id, *, score=None, maximizing_player_turn=True, children=None, score_child=None):\n",
    "        \n",
    "        self.id = id\n",
    "\n",
    "        if score:\n",
    "            self.score = score\n",
    "        elif score_child:\n",
    "            self.score_child = score_child\n",
    "            self.score = score_child.score\n",
    "        else:\n",
    "            raise ValueError(\"Provide score or score_child.\")\n",
    "\n",
    "        self.children = children or []\n",
    "        self.parent = None\n",
    "        self.maximizing_player_turn = maximizing_player_turn\n",
    "        \n",
    "        self.is_leaf = True\n",
    "        if len(self.children) > 0:\n",
    "            self.is_leaf = False\n",
    "            for child in children:\n",
    "                child.parent=self\n",
    "                child.maximizing_player_turn = not self.maximizing_player_turn\n",
    "    \n",
    "    def __str__(self):\n",
    "        return self.id\n",
    "\n",
    "# Create a simple game tree\n",
    "leaf11 = MinMaxNode('leaf11', score=3)\n",
    "leaf12 = MinMaxNode('leaf12', score=4)\n",
    "leaf21 = MinMaxNode('leaf21', score=8)\n",
    "leaf22 = MinMaxNode('leaf22', score=2)\n",
    "leaf31 = MinMaxNode('leaf21', score=1)\n",
    "leaf32 = MinMaxNode('leaf22', score=1)\n",
    "\n",
    "child1 = MinMaxNode('child1', children=[leaf11, leaf12], score_child=leaf11)\n",
    "child2 = MinMaxNode('child2', children=[leaf21, leaf22], score_child=leaf22)\n",
    "child3 = MinMaxNode('child3', children=[leaf31, leaf32], score_child=leaf31)\n",
    "\n",
    "root = MinMaxNode('root', maximizing_player_turn=True, children=[child1, child2, child3], score_child=child1)"
   ]
  },
  {
   "cell_type": "markdown",
   "metadata": {},
   "source": [
    "## Framework definition"
   ]
  },
  {
   "cell_type": "code",
   "execution_count": 3,
   "metadata": {},
   "outputs": [
    {
     "data": {
      "text/plain": [
       "<src.explainer.adjective.MinRankAdjective at 0x235372e5d50>"
      ]
     },
     "execution_count": 3,
     "metadata": {},
     "output_type": "execute_result"
    }
   ],
   "source": [
    "BooleanAdjective(\"leaf\",\n",
    "        definition = \"node.is_leaf\")\n",
    "\n",
    "BooleanAdjective(\"opponent player turn\",\n",
    "        definition = \"not node.maximizing_player_turn\")\n",
    "\n",
    "PointerAdjective(\"score\",\n",
    "        definition = \"node.score\",\n",
    "\n",
    "        explanation = ConditionalExplanation(\n",
    "            condition = If(\"leaf\"),\n",
    "\n",
    "            explanation_if_true = Assumption(\"Leaf nodes have scores from the evaluation function\"),\n",
    "\n",
    "            explanation_if_false = CompositeExplanation(\n",
    "                Assumption(\"Internal nodes have scores from children\"),\n",
    "                Possession(\"backtracing child\"))\n",
    "        ))\n",
    "\n",
    "PointerAdjective(\"backtracing child\",\n",
    "        definition = \"node.score_child\",\n",
    "\n",
    "        explanation = ConditionalExplanation(\n",
    "            condition = If(\"opponent player turn\"),\n",
    "\n",
    "            explanation_if_true = CompositeExplanation(\n",
    "                Assumption(\"We assume the opponent will do their best move.\"),\n",
    "                Possession(\"backtracing child\", \"worst\")),\n",
    "\n",
    "            explanation_if_false = CompositeExplanation(\n",
    "                Assumption(\"On our turn we take the maximum rated move.\"),\n",
    "                Possession(\"backtracing child\", \"best\"))\n",
    "        ))\n",
    "\n",
    "ComparisonAdjective(\"better\", \"score\", \">\")\n",
    "PointerAdjective(\"siblings\", definition = \"node.parent.children\")\n",
    "\n",
    "MaxRankAdjective(\"best\", \"better\", \"siblings\")\n",
    "MinRankAdjective(\"worst\", \"better\", \"siblings\") # worst= not better than any sibling"
   ]
  },
  {
   "cell_type": "code",
   "execution_count": 4,
   "metadata": {},
   "outputs": [],
   "source": [
    "knowledgebase = ArgumentationFramework()\n",
    "\n",
    "knowledgebase.add_adjectives([\n",
    "    BooleanAdjective(\"leaf\",\n",
    "        definition = \"node.is_leaf\"),\n",
    "\n",
    "\n",
    "    PointerAdjective(\"score\",\n",
    "        definition = \"node.score\",\n",
    "\n",
    "        explanation = ConditionalExplanation(\n",
    "            condition = If(\"leaf\"),\n",
    "            explanation_if_true = Assumption(\"Leaf nodes have scores from the evaluation function\"),\n",
    "            explanation_if_false = CompositeExplanation(\n",
    "                Assumption(\"Internal nodes have scores from children\"),\n",
    "                Possession(\"backtracing child\"))\n",
    "        )),\n",
    "\n",
    "\n",
    "    BooleanAdjective(\"opponent player turn\",\n",
    "        definition = \"not node.maximizing_player_turn\"),\n",
    "\n",
    "\n",
    "    PointerAdjective(\"backtracing child\",\n",
    "        definition = \"node.score_child\",\n",
    "        # alternative definition for backtracing child:\n",
    "        # min(node.children, key=lambda child: child.score),\n",
    "\n",
    "        explanation = ConditionalExplanation(\n",
    "            condition = If(\"opponent player turn\"),\n",
    "            explanation_if_true = CompositeExplanation(\n",
    "                Assumption(\"We assume the opponent will do their best move.\"),\n",
    "                Possession(\"backtracing child\", \"worst\")),\n",
    "            explanation_if_false = CompositeExplanation(\n",
    "                Assumption(\"On our turn we take the maximum rated move.\"),\n",
    "                Possession(\"backtracing child\", \"best\"))\n",
    "        )),\n",
    "\n",
    "    ComparisonAdjective(\"better\", \"score\", \">\"),\n",
    " \n",
    "    NodesGroupPointerAdjective(\"siblings\",\n",
    "        definition = \"node.parent.children\",\n",
    "        excluding = \"node\"),\n",
    "\n",
    "    MaxRankAdjective(\"best\", \"better\", \"siblings\"),\n",
    "\n",
    "    MinRankAdjective(\"worst\", \"better\", \"siblings\"),\n",
    "])"
   ]
  },
  {
   "cell_type": "code",
   "execution_count": 5,
   "metadata": {},
   "outputs": [
    {
     "name": "stdout",
     "output_type": "stream",
     "text": [
      "Propositions:\n",
      "node is leaf\n",
      "node has score = ?\n",
      "node is opponent player turn\n",
      "node has backtracing child = ?\n",
      "node1 is better than node2\n",
      "node has siblings = ?\n",
      "node is best\n",
      "node is worst\n",
      "\n",
      "\n",
      "Implications:\n",
      "[(assumption) Definition of \"leaf\" is \"node.is_leaf\" → node is leaf]\n",
      "\n",
      "[[(assumption) Definition of \"leaf\" is \"node.is_leaf\" → node is leaf]\n",
      " ∧ (assumption) Leaf nodes have scores from the evaluation function\n",
      " ∨ [(assumption) Definition of \"leaf\" is \"node.is_leaf\" → ¬(node is leaf)]\n",
      " ∧ (assumption) Internal nodes have scores from children ∧ [[(assumption) Definition of \"opponent player turn\" is \"not node.maximizing_player_turn\" → node is opponent player turn]\n",
      " ∧ (assumption) We assume the opponent will do their best move. ∧ [(assumption) By definition a node is \"worst\" if it's ¬(\"better\") compared to all nodes among \"siblings\" ∧ Node ¬(better) than all nodes in siblings → node is worst]\n",
      "\n",
      " ∨ [(assumption) Definition of \"opponent player turn\" is \"not node.maximizing_player_turn\" → ¬(node is opponent player turn)]\n",
      " ∧ (assumption) On our turn we take the maximum rated move. ∧ [(assumption) By definition a node is \"best\" if it's \"better\" compared to all nodes among \"siblings\" ∧ Node better than all nodes in siblings → node is best]\n",
      " → node has backtracing child = ?]\n",
      " → node has score = ?]\n",
      "\n",
      "[(assumption) Definition of \"opponent player turn\" is \"not node.maximizing_player_turn\" → node is opponent player turn]\n",
      "\n",
      "[[(assumption) Definition of \"opponent player turn\" is \"not node.maximizing_player_turn\" → node is opponent player turn]\n",
      " ∧ (assumption) We assume the opponent will do their best move. ∧ [(assumption) By definition a node is \"worst\" if it's ¬(\"better\") compared to all nodes among \"siblings\" ∧ Node ¬(better) than all nodes in siblings → node is worst]\n",
      "\n",
      " ∨ [(assumption) Definition of \"opponent player turn\" is \"not node.maximizing_player_turn\" → ¬(node is opponent player turn)]\n",
      " ∧ (assumption) On our turn we take the maximum rated move. ∧ [(assumption) By definition a node is \"best\" if it's \"better\" compared to all nodes among \"siblings\" ∧ Node better than all nodes in siblings → node is best]\n",
      " → node has backtracing child = ?]\n",
      "\n",
      "[(assumption) By definition, node1 is \"better\" than node2 if node1 score > node2 score ∧ [[(assumption) Definition of \"leaf\" is \"node.is_leaf\" → node is leaf]\n",
      " ∧ (assumption) Leaf nodes have scores from the evaluation function\n",
      " ∨ [(assumption) Definition of \"leaf\" is \"node.is_leaf\" → ¬(node is leaf)]\n",
      " ∧ (assumption) Internal nodes have scores from children ∧ [[(assumption) Definition of \"opponent player turn\" is \"not node.maximizing_player_turn\" → node is opponent player turn]\n",
      " ∧ (assumption) We assume the opponent will do their best move. ∧ [(assumption) By definition a node is \"worst\" if it's ¬(\"better\") compared to all nodes among \"siblings\" ∧ Node ¬(better) than all nodes in siblings → node is worst]\n",
      "\n",
      " ∨ [(assumption) Definition of \"opponent player turn\" is \"not node.maximizing_player_turn\" → ¬(node is opponent player turn)]\n",
      " ∧ (assumption) On our turn we take the maximum rated move. ∧ [(assumption) By definition a node is \"best\" if it's \"better\" compared to all nodes among \"siblings\" ∧ Node better than all nodes in siblings → node is best]\n",
      " → node has backtracing child = ?]\n",
      " → node has score = ?]\n",
      " → node1 is better than node1]\n",
      "\n",
      "[(assumption) Definition of \"siblings\" is \"node.parent.children excluding node\" → node has siblings = ?]\n",
      "\n",
      "[(assumption) By definition a node is \"best\" if it's \"better\" compared to all nodes among \"siblings\" ∧ Node better than all nodes in siblings → node is best]\n",
      "\n",
      "[(assumption) By definition a node is \"worst\" if it's ¬(\"better\") compared to all nodes among \"siblings\" ∧ Node ¬(better) than all nodes in siblings → node is worst]\n",
      "\n"
     ]
    }
   ],
   "source": [
    "print(knowledgebase)"
   ]
  },
  {
   "cell_type": "code",
   "execution_count": 6,
   "metadata": {},
   "outputs": [],
   "source": [
    "explainer = ArgumentativeExplainer(knowledgebase)\n",
    "\n",
    "explainer.set_tree_search_motivation(lambda root: root.children, \"best\")"
   ]
  },
  {
   "cell_type": "markdown",
   "metadata": {},
   "source": [
    "## Set your settings"
   ]
  },
  {
   "cell_type": "code",
   "execution_count": 7,
   "metadata": {},
   "outputs": [],
   "source": [
    "settings = {\n",
    "            'explanation_depth': 3 ,\n",
    "            'assumptions_verbosity': 'verbose',\n",
    "            'repeat_explanations': False\n",
    "        }\n",
    "\n",
    "knowledgebase.configure_settings(settings)"
   ]
  },
  {
   "cell_type": "markdown",
   "metadata": {},
   "source": [
    "## You can now explain nodes' properties"
   ]
  },
  {
   "cell_type": "code",
   "execution_count": 25,
   "metadata": {},
   "outputs": [
    {
     "name": "stdout",
     "output_type": "stream",
     "text": [
      "[(assumption) By definition a node is \"best\" if it's \"better\" compared to all nodes among \"siblings\" ∧ [(assumption) Definition of \"siblings\" is \"node.parent.children excluding node\" → child1 has siblings = ['child2', 'child3']]\n",
      " ∧ [(assumption) By definition, node1 is \"better\" than node2 if node1 score > node2 score ∧ [[(assumption) Definition of \"leaf\" is \"node.is_leaf\" → ¬(child1 is leaf)]\n",
      " ∧ (assumption) Internal nodes have scores from children ∧ [[(assumption) Definition of \"opponent player turn\" is \"not node.maximizing_player_turn\" → child1 is opponent player turn]\n",
      " ∧ (assumption) We assume the opponent will do their best move. ∧ [(assumption) By definition a node is \"worst\" if it's ¬(\"better\") compared to all nodes among \"siblings\" ∧ [(assumption) Definition of \"siblings\" is \"node.parent.children excluding node\" → leaf11 has siblings = ['leaf12']]\n",
      " ∧ [(assumption) By definition, node1 is \"better\" than node2 if node1 score > node2 score ∧ [[(assumption) Definition of \"leaf\" is \"node.is_leaf\" → leaf11 is leaf]\n",
      " ∧ (assumption) Leaf nodes have scores from the evaluation function → leaf11 has score = 3]\n",
      " ∧ [[(assumption) Definition of \"leaf\" is \"node.is_leaf\" → leaf12 is leaf]\n",
      " ∧ (assumption) Leaf nodes have scores from the evaluation function → leaf12 has score = 4]\n",
      " → ¬(leaf11 is better than leaf12)]\n",
      " → leaf11 is worst]\n",
      " → child1 has backtracing child = leaf11]\n",
      " → child1 has score = 3]\n",
      " ∧ [[(assumption) Definition of \"leaf\" is \"node.is_leaf\" → ¬(child2 is leaf)]\n",
      " ∧ (assumption) Internal nodes have scores from children ∧ [[(assumption) Definition of \"opponent player turn\" is \"not node.maximizing_player_turn\" → child2 is opponent player turn]\n",
      " ∧ (assumption) We assume the opponent will do their best move. ∧ [(assumption) By definition a node is \"worst\" if it's ¬(\"better\") compared to all nodes among \"siblings\" ∧ [(assumption) Definition of \"siblings\" is \"node.parent.children excluding node\" → leaf22 has siblings = ['leaf21']]\n",
      " ∧ [(assumption) By definition, node1 is \"better\" than node2 if node1 score > node2 score ∧ [[(assumption) Definition of \"leaf\" is \"node.is_leaf\" → leaf22 is leaf]\n",
      " ∧ (assumption) Leaf nodes have scores from the evaluation function → leaf22 has score = 2]\n",
      " ∧ [[(assumption) Definition of \"leaf\" is \"node.is_leaf\" → leaf21 is leaf]\n",
      " ∧ (assumption) Leaf nodes have scores from the evaluation function → leaf21 has score = 8]\n",
      " → ¬(leaf22 is better than leaf21)]\n",
      " → leaf22 is worst]\n",
      " → child2 has backtracing child = leaf22]\n",
      " → child2 has score = 2]\n",
      " → child1 is better than child2]\n",
      " ∧ [(assumption) By definition, node1 is \"better\" than node2 if node1 score > node2 score ∧ [[(assumption) Definition of \"leaf\" is \"node.is_leaf\" → ¬(child1 is leaf)]\n",
      " ∧ (assumption) Internal nodes have scores from children ∧ [[(assumption) Definition of \"opponent player turn\" is \"not node.maximizing_player_turn\" → child1 is opponent player turn]\n",
      " ∧ (assumption) We assume the opponent will do their best move. ∧ [(assumption) By definition a node is \"worst\" if it's ¬(\"better\") compared to all nodes among \"siblings\" ∧ [(assumption) Definition of \"siblings\" is \"node.parent.children excluding node\" → leaf11 has siblings = ['leaf12']]\n",
      " ∧ [(assumption) By definition, node1 is \"better\" than node2 if node1 score > node2 score ∧ [[(assumption) Definition of \"leaf\" is \"node.is_leaf\" → leaf11 is leaf]\n",
      " ∧ (assumption) Leaf nodes have scores from the evaluation function → leaf11 has score = 3]\n",
      " ∧ [[(assumption) Definition of \"leaf\" is \"node.is_leaf\" → leaf12 is leaf]\n",
      " ∧ (assumption) Leaf nodes have scores from the evaluation function → leaf12 has score = 4]\n",
      " → ¬(leaf11 is better than leaf12)]\n",
      " → leaf11 is worst]\n",
      " → child1 has backtracing child = leaf11]\n",
      " → child1 has score = 3]\n",
      " ∧ [[(assumption) Definition of \"leaf\" is \"node.is_leaf\" → ¬(child3 is leaf)]\n",
      " ∧ (assumption) Internal nodes have scores from children ∧ [[(assumption) Definition of \"opponent player turn\" is \"not node.maximizing_player_turn\" → child3 is opponent player turn]\n",
      " ∧ (assumption) We assume the opponent will do their best move. ∧ [(assumption) By definition a node is \"worst\" if it's ¬(\"better\") compared to all nodes among \"siblings\" ∧ [(assumption) Definition of \"siblings\" is \"node.parent.children excluding node\" → leaf21 has siblings = ['leaf22']]\n",
      " ∧ [(assumption) By definition, node1 is \"better\" than node2 if node1 score > node2 score ∧ [[(assumption) Definition of \"leaf\" is \"node.is_leaf\" → leaf21 is leaf]\n",
      " ∧ (assumption) Leaf nodes have scores from the evaluation function → leaf21 has score = 1]\n",
      " ∧ [[(assumption) Definition of \"leaf\" is \"node.is_leaf\" → leaf22 is leaf]\n",
      " ∧ (assumption) Leaf nodes have scores from the evaluation function → leaf22 has score = 1]\n",
      " → ¬(leaf21 is better than leaf22)]\n",
      " → ¬(leaf21 is worst)]\n",
      " → child3 has backtracing child = leaf21]\n",
      " → child3 has score = 1]\n",
      " → child1 is better than child3]\n",
      " → child1 is best]\n",
      "\n"
     ]
    }
   ],
   "source": [
    "print(explainer.explain_adjective(child1, \"best\"))"
   ]
  },
  {
   "cell_type": "code",
   "execution_count": 9,
   "metadata": {},
   "outputs": [],
   "source": [
    "settings = {\n",
    "            'explanation_depth': 2 ,\n",
    "            'assumptions_verbosity': 'verbose',\n",
    "            'repeat_explanations': True\n",
    "        }\n",
    "\n",
    "knowledgebase.configure_settings(settings)"
   ]
  },
  {
   "cell_type": "code",
   "execution_count": 10,
   "metadata": {},
   "outputs": [
    {
     "name": "stdout",
     "output_type": "stream",
     "text": [
      "[(assumption) By definition, node1 is \"better\" than node2 if node1 score > node2 score ∧ [[(assumption) Definition of \"leaf\" is \"node.is_leaf\" → ¬(child1 is leaf)]\n",
      " ∧ (assumption) Internal nodes have scores from children ∧ [[(assumption) Definition of \"opponent player turn\" is \"not node.maximizing_player_turn\" → child1 is opponent player turn]\n",
      " ∧ (assumption) We assume the opponent will do their best move. ∧ [(assumption) By definition a node is \"worst\" if it's ¬(\"better\") compared to all nodes among \"siblings\" ∧ [(assumption) Definition of \"siblings\" is \"node.parent.children excluding node\" → leaf11 has siblings = ['leaf12']]\n",
      " ∧ [(assumption) By definition, node1 is \"better\" than node2 if node1 score > node2 score ∧ [[(assumption) Definition of \"leaf\" is \"node.is_leaf\" → leaf11 is leaf]\n",
      " ∧ (assumption) Leaf nodes have scores from the evaluation function → leaf11 has score = 3]\n",
      " ∧ [[(assumption) Definition of \"leaf\" is \"node.is_leaf\" → leaf12 is leaf]\n",
      " ∧ (assumption) Leaf nodes have scores from the evaluation function → leaf12 has score = 4]\n",
      " → ¬(leaf11 is better than leaf12)]\n",
      " → leaf11 is worst]\n",
      " → child1 has backtracing child = leaf11]\n",
      " → child1 has score = 3]\n",
      " ∧ [[(assumption) Definition of \"leaf\" is \"node.is_leaf\" → ¬(child2 is leaf)]\n",
      " ∧ (assumption) Internal nodes have scores from children ∧ [[(assumption) Definition of \"opponent player turn\" is \"not node.maximizing_player_turn\" → child2 is opponent player turn]\n",
      " ∧ (assumption) We assume the opponent will do their best move. ∧ [(assumption) By definition a node is \"worst\" if it's ¬(\"better\") compared to all nodes among \"siblings\" ∧ [(assumption) Definition of \"siblings\" is \"node.parent.children excluding node\" → leaf22 has siblings = ['leaf21']]\n",
      " ∧ [(assumption) By definition, node1 is \"better\" than node2 if node1 score > node2 score ∧ [[(assumption) Definition of \"leaf\" is \"node.is_leaf\" → leaf22 is leaf]\n",
      " ∧ (assumption) Leaf nodes have scores from the evaluation function → leaf22 has score = 2]\n",
      " ∧ [[(assumption) Definition of \"leaf\" is \"node.is_leaf\" → leaf21 is leaf]\n",
      " ∧ (assumption) Leaf nodes have scores from the evaluation function → leaf21 has score = 8]\n",
      " → ¬(leaf22 is better than leaf21)]\n",
      " → leaf22 is worst]\n",
      " → child2 has backtracing child = leaf22]\n",
      " → child2 has score = 2]\n",
      " → child1 is better than child2]\n",
      "\n"
     ]
    }
   ],
   "source": [
    "print(explainer.explain_adjective(child1, \"better\", child2))"
   ]
  },
  {
   "cell_type": "code",
   "execution_count": 11,
   "metadata": {},
   "outputs": [
    {
     "name": "stdout",
     "output_type": "stream",
     "text": [
      "[(assumption) Definition of \"siblings\" is \"node.parent.children excluding node\" → child1 has siblings = ['child2', 'child3']]\n",
      "\n"
     ]
    }
   ],
   "source": [
    "print(explainer.explain_adjective(child1, \"siblings\"))"
   ]
  },
  {
   "cell_type": "code",
   "execution_count": 12,
   "metadata": {},
   "outputs": [],
   "source": [
    "knowledgebase.settings.repeat_explanations = True"
   ]
  },
  {
   "cell_type": "code",
   "execution_count": 13,
   "metadata": {},
   "outputs": [
    {
     "name": "stdout",
     "output_type": "stream",
     "text": [
      "[(assumption) By definition a node is \"best\" if it's \"better\" compared to all nodes among \"siblings\" ∧ [(assumption) Definition of \"siblings\" is \"node.parent.children excluding node\" → child1 has siblings = ['child2', 'child3']]\n",
      " ∧ [(assumption) By definition, node1 is \"better\" than node2 if node1 score > node2 score ∧ [[(assumption) Definition of \"leaf\" is \"node.is_leaf\" → ¬(child1 is leaf)]\n",
      " ∧ (assumption) Internal nodes have scores from children ∧ [[(assumption) Definition of \"opponent player turn\" is \"not node.maximizing_player_turn\" → child1 is opponent player turn]\n",
      " ∧ (assumption) We assume the opponent will do their best move. ∧ [(assumption) By definition a node is \"worst\" if it's ¬(\"better\") compared to all nodes among \"siblings\" ∧ [(assumption) Definition of \"siblings\" is \"node.parent.children excluding node\" → leaf11 has siblings = ['leaf12']]\n",
      " ∧ [(assumption) By definition, node1 is \"better\" than node2 if node1 score > node2 score ∧ [[(assumption) Definition of \"leaf\" is \"node.is_leaf\" → leaf11 is leaf]\n",
      " ∧ (assumption) Leaf nodes have scores from the evaluation function → leaf11 has score = 3]\n",
      " ∧ [[(assumption) Definition of \"leaf\" is \"node.is_leaf\" → leaf12 is leaf]\n",
      " ∧ (assumption) Leaf nodes have scores from the evaluation function → leaf12 has score = 4]\n",
      " → ¬(leaf11 is better than leaf12)]\n",
      " → leaf11 is worst]\n",
      " → child1 has backtracing child = leaf11]\n",
      " → child1 has score = 3]\n",
      " ∧ [[(assumption) Definition of \"leaf\" is \"node.is_leaf\" → ¬(child2 is leaf)]\n",
      " ∧ (assumption) Internal nodes have scores from children ∧ [[(assumption) Definition of \"opponent player turn\" is \"not node.maximizing_player_turn\" → child2 is opponent player turn]\n",
      " ∧ (assumption) We assume the opponent will do their best move. ∧ [(assumption) By definition a node is \"worst\" if it's ¬(\"better\") compared to all nodes among \"siblings\" ∧ [(assumption) Definition of \"siblings\" is \"node.parent.children excluding node\" → leaf22 has siblings = ['leaf21']]\n",
      " ∧ [(assumption) By definition, node1 is \"better\" than node2 if node1 score > node2 score ∧ [[(assumption) Definition of \"leaf\" is \"node.is_leaf\" → leaf22 is leaf]\n",
      " ∧ (assumption) Leaf nodes have scores from the evaluation function → leaf22 has score = 2]\n",
      " ∧ [[(assumption) Definition of \"leaf\" is \"node.is_leaf\" → leaf21 is leaf]\n",
      " ∧ (assumption) Leaf nodes have scores from the evaluation function → leaf21 has score = 8]\n",
      " → ¬(leaf22 is better than leaf21)]\n",
      " → leaf22 is worst]\n",
      " → child2 has backtracing child = leaf22]\n",
      " → child2 has score = 2]\n",
      " → child1 is better than child2]\n",
      " ∧ [(assumption) By definition, node1 is \"better\" than node2 if node1 score > node2 score ∧ [[(assumption) Definition of \"leaf\" is \"node.is_leaf\" → ¬(child1 is leaf)]\n",
      " ∧ (assumption) Internal nodes have scores from children ∧ [[(assumption) Definition of \"opponent player turn\" is \"not node.maximizing_player_turn\" → child1 is opponent player turn]\n",
      " ∧ (assumption) We assume the opponent will do their best move. ∧ [(assumption) By definition a node is \"worst\" if it's ¬(\"better\") compared to all nodes among \"siblings\" ∧ [(assumption) Definition of \"siblings\" is \"node.parent.children excluding node\" → leaf11 has siblings = ['leaf12']]\n",
      " ∧ [(assumption) By definition, node1 is \"better\" than node2 if node1 score > node2 score ∧ [[(assumption) Definition of \"leaf\" is \"node.is_leaf\" → leaf11 is leaf]\n",
      " ∧ (assumption) Leaf nodes have scores from the evaluation function → leaf11 has score = 3]\n",
      " ∧ [[(assumption) Definition of \"leaf\" is \"node.is_leaf\" → leaf12 is leaf]\n",
      " ∧ (assumption) Leaf nodes have scores from the evaluation function → leaf12 has score = 4]\n",
      " → ¬(leaf11 is better than leaf12)]\n",
      " → leaf11 is worst]\n",
      " → child1 has backtracing child = leaf11]\n",
      " → child1 has score = 3]\n",
      " ∧ [[(assumption) Definition of \"leaf\" is \"node.is_leaf\" → ¬(child3 is leaf)]\n",
      " ∧ (assumption) Internal nodes have scores from children ∧ [[(assumption) Definition of \"opponent player turn\" is \"not node.maximizing_player_turn\" → child3 is opponent player turn]\n",
      " ∧ (assumption) We assume the opponent will do their best move. ∧ [(assumption) By definition a node is \"worst\" if it's ¬(\"better\") compared to all nodes among \"siblings\" ∧ [(assumption) Definition of \"siblings\" is \"node.parent.children excluding node\" → leaf21 has siblings = ['leaf22']]\n",
      " ∧ [(assumption) By definition, node1 is \"better\" than node2 if node1 score > node2 score ∧ [[(assumption) Definition of \"leaf\" is \"node.is_leaf\" → leaf21 is leaf]\n",
      " ∧ (assumption) Leaf nodes have scores from the evaluation function → leaf21 has score = 1]\n",
      " ∧ [[(assumption) Definition of \"leaf\" is \"node.is_leaf\" → leaf22 is leaf]\n",
      " ∧ (assumption) Leaf nodes have scores from the evaluation function → leaf22 has score = 1]\n",
      " → ¬(leaf21 is better than leaf22)]\n",
      " → ¬(leaf21 is worst)]\n",
      " → child3 has backtracing child = leaf21]\n",
      " → child3 has score = 1]\n",
      " → child1 is better than child3]\n",
      " → child1 is best]\n",
      "\n"
     ]
    }
   ],
   "source": [
    "print(explainer.explain_adjective(child1, \"best\"))"
   ]
  },
  {
   "cell_type": "code",
   "execution_count": 14,
   "metadata": {},
   "outputs": [],
   "source": [
    "knowledgebase.settings.explanation_depth = 1"
   ]
  },
  {
   "cell_type": "code",
   "execution_count": 15,
   "metadata": {},
   "outputs": [
    {
     "name": "stdout",
     "output_type": "stream",
     "text": [
      "[(assumption) By definition a node is \"best\" if it's \"better\" compared to all nodes among \"siblings\" ∧ [(assumption) Definition of \"siblings\" is \"node.parent.children excluding node\" → child1 has siblings = ['child2', 'child3']]\n",
      " ∧ [(assumption) By definition, node1 is \"better\" than node2 if node1 score > node2 score ∧ [[(assumption) Definition of \"leaf\" is \"node.is_leaf\" → ¬(child1 is leaf)]\n",
      " ∧ (assumption) Internal nodes have scores from children ∧ [[(assumption) Definition of \"opponent player turn\" is \"not node.maximizing_player_turn\" → child1 is opponent player turn]\n",
      " ∧ (assumption) We assume the opponent will do their best move. ∧ [(assumption) By definition a node is \"worst\" if it's ¬(\"better\") compared to all nodes among \"siblings\" ∧ [(assumption) Definition of \"siblings\" is \"node.parent.children excluding node\" → leaf11 has siblings = ['leaf12']]\n",
      " ∧ [(assumption) By definition, node1 is \"better\" than node2 if node1 score > node2 score ∧ [[(assumption) Definition of \"leaf\" is \"node.is_leaf\" → leaf11 is leaf]\n",
      " ∧ (assumption) Leaf nodes have scores from the evaluation function → leaf11 has score = 3]\n",
      " ∧ [[(assumption) Definition of \"leaf\" is \"node.is_leaf\" → leaf12 is leaf]\n",
      " ∧ (assumption) Leaf nodes have scores from the evaluation function → leaf12 has score = 4]\n",
      " → ¬(leaf11 is better than leaf12)]\n",
      " → leaf11 is worst]\n",
      " → child1 has backtracing child = leaf11]\n",
      " → child1 has score = 3]\n",
      " ∧ [[(assumption) Definition of \"leaf\" is \"node.is_leaf\" → ¬(child2 is leaf)]\n",
      " ∧ (assumption) Internal nodes have scores from children ∧ [[(assumption) Definition of \"opponent player turn\" is \"not node.maximizing_player_turn\" → child2 is opponent player turn]\n",
      " ∧ (assumption) We assume the opponent will do their best move. ∧ [(assumption) By definition a node is \"worst\" if it's ¬(\"better\") compared to all nodes among \"siblings\" ∧ [(assumption) Definition of \"siblings\" is \"node.parent.children excluding node\" → leaf22 has siblings = ['leaf21']]\n",
      " ∧ [(assumption) By definition, node1 is \"better\" than node2 if node1 score > node2 score ∧ [[(assumption) Definition of \"leaf\" is \"node.is_leaf\" → leaf22 is leaf]\n",
      " ∧ (assumption) Leaf nodes have scores from the evaluation function → leaf22 has score = 2]\n",
      " ∧ [[(assumption) Definition of \"leaf\" is \"node.is_leaf\" → leaf21 is leaf]\n",
      " ∧ (assumption) Leaf nodes have scores from the evaluation function → leaf21 has score = 8]\n",
      " → ¬(leaf22 is better than leaf21)]\n",
      " → leaf22 is worst]\n",
      " → child2 has backtracing child = leaf22]\n",
      " → child2 has score = 2]\n",
      " → child1 is better than child2]\n",
      " ∧ [(assumption) By definition, node1 is \"better\" than node2 if node1 score > node2 score ∧ [[(assumption) Definition of \"leaf\" is \"node.is_leaf\" → ¬(child1 is leaf)]\n",
      " ∧ (assumption) Internal nodes have scores from children ∧ [[(assumption) Definition of \"opponent player turn\" is \"not node.maximizing_player_turn\" → child1 is opponent player turn]\n",
      " ∧ (assumption) We assume the opponent will do their best move. ∧ [(assumption) By definition a node is \"worst\" if it's ¬(\"better\") compared to all nodes among \"siblings\" ∧ [(assumption) Definition of \"siblings\" is \"node.parent.children excluding node\" → leaf11 has siblings = ['leaf12']]\n",
      " ∧ [(assumption) By definition, node1 is \"better\" than node2 if node1 score > node2 score ∧ [[(assumption) Definition of \"leaf\" is \"node.is_leaf\" → leaf11 is leaf]\n",
      " ∧ (assumption) Leaf nodes have scores from the evaluation function → leaf11 has score = 3]\n",
      " ∧ [[(assumption) Definition of \"leaf\" is \"node.is_leaf\" → leaf12 is leaf]\n",
      " ∧ (assumption) Leaf nodes have scores from the evaluation function → leaf12 has score = 4]\n",
      " → ¬(leaf11 is better than leaf12)]\n",
      " → leaf11 is worst]\n",
      " → child1 has backtracing child = leaf11]\n",
      " → child1 has score = 3]\n",
      " ∧ [[(assumption) Definition of \"leaf\" is \"node.is_leaf\" → ¬(child3 is leaf)]\n",
      " ∧ (assumption) Internal nodes have scores from children ∧ [[(assumption) Definition of \"opponent player turn\" is \"not node.maximizing_player_turn\" → child3 is opponent player turn]\n",
      " ∧ (assumption) We assume the opponent will do their best move. ∧ [(assumption) By definition a node is \"worst\" if it's ¬(\"better\") compared to all nodes among \"siblings\" ∧ [(assumption) Definition of \"siblings\" is \"node.parent.children excluding node\" → leaf21 has siblings = ['leaf22']]\n",
      " ∧ [(assumption) By definition, node1 is \"better\" than node2 if node1 score > node2 score ∧ [[(assumption) Definition of \"leaf\" is \"node.is_leaf\" → leaf21 is leaf]\n",
      " ∧ (assumption) Leaf nodes have scores from the evaluation function → leaf21 has score = 1]\n",
      " ∧ [[(assumption) Definition of \"leaf\" is \"node.is_leaf\" → leaf22 is leaf]\n",
      " ∧ (assumption) Leaf nodes have scores from the evaluation function → leaf22 has score = 1]\n",
      " → ¬(leaf21 is better than leaf22)]\n",
      " → ¬(leaf21 is worst)]\n",
      " → child3 has backtracing child = leaf21]\n",
      " → child3 has score = 1]\n",
      " → child1 is better than child3]\n",
      " → child1 is best]\n",
      "\n"
     ]
    }
   ],
   "source": [
    "print(explainer.explain_adjective(child1, \"best\"))"
   ]
  },
  {
   "cell_type": "code",
   "execution_count": 16,
   "metadata": {},
   "outputs": [],
   "source": [
    "knowledgebase.settings.explanation_depth = 3\n",
    "knowledgebase.settings.repeat_explanations = False"
   ]
  },
  {
   "cell_type": "code",
   "execution_count": 17,
   "metadata": {},
   "outputs": [
    {
     "name": "stdout",
     "output_type": "stream",
     "text": [
      "[(assumption) By definition a node is \"worst\" if it's ¬(\"better\") compared to all nodes among \"siblings\" ∧ [(assumption) Definition of \"siblings\" is \"node.parent.children excluding node\" → child1 has siblings = ['child2', 'child3']]\n",
      " ∧ [(assumption) By definition, node1 is \"better\" than node2 if node1 score > node2 score ∧ [[(assumption) Definition of \"leaf\" is \"node.is_leaf\" → ¬(child1 is leaf)]\n",
      " ∧ (assumption) Internal nodes have scores from children ∧ [[(assumption) Definition of \"opponent player turn\" is \"not node.maximizing_player_turn\" → child1 is opponent player turn]\n",
      " ∧ (assumption) We assume the opponent will do their best move. ∧ [(assumption) By definition a node is \"worst\" if it's ¬(\"better\") compared to all nodes among \"siblings\" ∧ [(assumption) Definition of \"siblings\" is \"node.parent.children excluding node\" → leaf11 has siblings = ['leaf12']]\n",
      " ∧ [(assumption) By definition, node1 is \"better\" than node2 if node1 score > node2 score ∧ [[(assumption) Definition of \"leaf\" is \"node.is_leaf\" → leaf11 is leaf]\n",
      " ∧ (assumption) Leaf nodes have scores from the evaluation function → leaf11 has score = 3]\n",
      " ∧ [[(assumption) Definition of \"leaf\" is \"node.is_leaf\" → leaf12 is leaf]\n",
      " ∧ (assumption) Leaf nodes have scores from the evaluation function → leaf12 has score = 4]\n",
      " → ¬(leaf11 is better than leaf12)]\n",
      " → leaf11 is worst]\n",
      " → child1 has backtracing child = leaf11]\n",
      " → child1 has score = 3]\n",
      " ∧ [[(assumption) Definition of \"leaf\" is \"node.is_leaf\" → ¬(child2 is leaf)]\n",
      " ∧ (assumption) Internal nodes have scores from children ∧ [[(assumption) Definition of \"opponent player turn\" is \"not node.maximizing_player_turn\" → child2 is opponent player turn]\n",
      " ∧ (assumption) We assume the opponent will do their best move. ∧ [(assumption) By definition a node is \"worst\" if it's ¬(\"better\") compared to all nodes among \"siblings\" ∧ [(assumption) Definition of \"siblings\" is \"node.parent.children excluding node\" → leaf22 has siblings = ['leaf21']]\n",
      " ∧ [(assumption) By definition, node1 is \"better\" than node2 if node1 score > node2 score ∧ [[(assumption) Definition of \"leaf\" is \"node.is_leaf\" → leaf22 is leaf]\n",
      " ∧ (assumption) Leaf nodes have scores from the evaluation function → leaf22 has score = 2]\n",
      " ∧ [[(assumption) Definition of \"leaf\" is \"node.is_leaf\" → leaf21 is leaf]\n",
      " ∧ (assumption) Leaf nodes have scores from the evaluation function → leaf21 has score = 8]\n",
      " → ¬(leaf22 is better than leaf21)]\n",
      " → leaf22 is worst]\n",
      " → child2 has backtracing child = leaf22]\n",
      " → child2 has score = 2]\n",
      " → child1 is better than child2]\n",
      " ∧ [(assumption) By definition, node1 is \"better\" than node2 if node1 score > node2 score ∧ [[(assumption) Definition of \"leaf\" is \"node.is_leaf\" → ¬(child1 is leaf)]\n",
      " ∧ (assumption) Internal nodes have scores from children ∧ [[(assumption) Definition of \"opponent player turn\" is \"not node.maximizing_player_turn\" → child1 is opponent player turn]\n",
      " ∧ (assumption) We assume the opponent will do their best move. ∧ [(assumption) By definition a node is \"worst\" if it's ¬(\"better\") compared to all nodes among \"siblings\" ∧ [(assumption) Definition of \"siblings\" is \"node.parent.children excluding node\" → leaf11 has siblings = ['leaf12']]\n",
      " ∧ [(assumption) By definition, node1 is \"better\" than node2 if node1 score > node2 score ∧ [[(assumption) Definition of \"leaf\" is \"node.is_leaf\" → leaf11 is leaf]\n",
      " ∧ (assumption) Leaf nodes have scores from the evaluation function → leaf11 has score = 3]\n",
      " ∧ [[(assumption) Definition of \"leaf\" is \"node.is_leaf\" → leaf12 is leaf]\n",
      " ∧ (assumption) Leaf nodes have scores from the evaluation function → leaf12 has score = 4]\n",
      " → ¬(leaf11 is better than leaf12)]\n",
      " → leaf11 is worst]\n",
      " → child1 has backtracing child = leaf11]\n",
      " → child1 has score = 3]\n",
      " ∧ [[(assumption) Definition of \"leaf\" is \"node.is_leaf\" → ¬(child3 is leaf)]\n",
      " ∧ (assumption) Internal nodes have scores from children ∧ [[(assumption) Definition of \"opponent player turn\" is \"not node.maximizing_player_turn\" → child3 is opponent player turn]\n",
      " ∧ (assumption) We assume the opponent will do their best move. ∧ [(assumption) By definition a node is \"worst\" if it's ¬(\"better\") compared to all nodes among \"siblings\" ∧ [(assumption) Definition of \"siblings\" is \"node.parent.children excluding node\" → leaf21 has siblings = ['leaf22']]\n",
      " ∧ [(assumption) By definition, node1 is \"better\" than node2 if node1 score > node2 score ∧ [[(assumption) Definition of \"leaf\" is \"node.is_leaf\" → leaf21 is leaf]\n",
      " ∧ (assumption) Leaf nodes have scores from the evaluation function → leaf21 has score = 1]\n",
      " ∧ [[(assumption) Definition of \"leaf\" is \"node.is_leaf\" → leaf22 is leaf]\n",
      " ∧ (assumption) Leaf nodes have scores from the evaluation function → leaf22 has score = 1]\n",
      " → ¬(leaf21 is better than leaf22)]\n",
      " → ¬(leaf21 is worst)]\n",
      " → child3 has backtracing child = leaf21]\n",
      " → child3 has score = 1]\n",
      " → child1 is better than child3]\n",
      " → ¬(child1 is worst)]\n",
      "\n"
     ]
    }
   ],
   "source": [
    "print(explainer.explain_adjective(child1, \"worst\"))"
   ]
  },
  {
   "cell_type": "code",
   "execution_count": 18,
   "metadata": {},
   "outputs": [
    {
     "name": "stdout",
     "output_type": "stream",
     "text": [
      "[(assumption) By definition a node is \"worst\" if it's ¬(\"better\") compared to all nodes among \"siblings\" ∧ [(assumption) Definition of \"siblings\" is \"node.parent.children excluding node\" → leaf11 has siblings = ['leaf12']]\n",
      " ∧ [(assumption) By definition, node1 is \"better\" than node2 if node1 score > node2 score ∧ [[(assumption) Definition of \"leaf\" is \"node.is_leaf\" → leaf11 is leaf]\n",
      " ∧ (assumption) Leaf nodes have scores from the evaluation function → leaf11 has score = 3]\n",
      " ∧ [[(assumption) Definition of \"leaf\" is \"node.is_leaf\" → leaf12 is leaf]\n",
      " ∧ (assumption) Leaf nodes have scores from the evaluation function → leaf12 has score = 4]\n",
      " → ¬(leaf11 is better than leaf12)]\n",
      " → leaf11 is worst]\n",
      "\n"
     ]
    }
   ],
   "source": [
    "print(explainer.explain_adjective(leaf11, \"worst\"))"
   ]
  },
  {
   "cell_type": "code",
   "execution_count": 19,
   "metadata": {},
   "outputs": [
    {
     "name": "stdout",
     "output_type": "stream",
     "text": [
      "[(assumption) By definition a node is \"best\" if it's \"better\" compared to all nodes among \"siblings\" ∧ [(assumption) Definition of \"siblings\" is \"node.parent.children excluding node\" → child2 has siblings = ['child1', 'child3']]\n",
      " ∧ [(assumption) By definition, node1 is \"better\" than node2 if node1 score > node2 score ∧ [[(assumption) Definition of \"leaf\" is \"node.is_leaf\" → ¬(child2 is leaf)]\n",
      " ∧ (assumption) Internal nodes have scores from children ∧ [[(assumption) Definition of \"opponent player turn\" is \"not node.maximizing_player_turn\" → child2 is opponent player turn]\n",
      " ∧ (assumption) We assume the opponent will do their best move. ∧ [(assumption) By definition a node is \"worst\" if it's ¬(\"better\") compared to all nodes among \"siblings\" ∧ [(assumption) Definition of \"siblings\" is \"node.parent.children excluding node\" → leaf22 has siblings = ['leaf21']]\n",
      " ∧ [(assumption) By definition, node1 is \"better\" than node2 if node1 score > node2 score ∧ [[(assumption) Definition of \"leaf\" is \"node.is_leaf\" → leaf22 is leaf]\n",
      " ∧ (assumption) Leaf nodes have scores from the evaluation function → leaf22 has score = 2]\n",
      " ∧ [[(assumption) Definition of \"leaf\" is \"node.is_leaf\" → leaf21 is leaf]\n",
      " ∧ (assumption) Leaf nodes have scores from the evaluation function → leaf21 has score = 8]\n",
      " → ¬(leaf22 is better than leaf21)]\n",
      " → leaf22 is worst]\n",
      " → child2 has backtracing child = leaf22]\n",
      " → child2 has score = 2]\n",
      " ∧ [[(assumption) Definition of \"leaf\" is \"node.is_leaf\" → ¬(child1 is leaf)]\n",
      " ∧ (assumption) Internal nodes have scores from children ∧ [[(assumption) Definition of \"opponent player turn\" is \"not node.maximizing_player_turn\" → child1 is opponent player turn]\n",
      " ∧ (assumption) We assume the opponent will do their best move. ∧ [(assumption) By definition a node is \"worst\" if it's ¬(\"better\") compared to all nodes among \"siblings\" ∧ [(assumption) Definition of \"siblings\" is \"node.parent.children excluding node\" → leaf11 has siblings = ['leaf12']]\n",
      " ∧ [(assumption) By definition, node1 is \"better\" than node2 if node1 score > node2 score ∧ [[(assumption) Definition of \"leaf\" is \"node.is_leaf\" → leaf11 is leaf]\n",
      " ∧ (assumption) Leaf nodes have scores from the evaluation function → leaf11 has score = 3]\n",
      " ∧ [[(assumption) Definition of \"leaf\" is \"node.is_leaf\" → leaf12 is leaf]\n",
      " ∧ (assumption) Leaf nodes have scores from the evaluation function → leaf12 has score = 4]\n",
      " → ¬(leaf11 is better than leaf12)]\n",
      " → leaf11 is worst]\n",
      " → child1 has backtracing child = leaf11]\n",
      " → child1 has score = 3]\n",
      " → ¬(child2 is better than child1)]\n",
      " ∧ [(assumption) By definition, node1 is \"better\" than node2 if node1 score > node2 score ∧ [[(assumption) Definition of \"leaf\" is \"node.is_leaf\" → ¬(child2 is leaf)]\n",
      " ∧ (assumption) Internal nodes have scores from children ∧ [[(assumption) Definition of \"opponent player turn\" is \"not node.maximizing_player_turn\" → child2 is opponent player turn]\n",
      " ∧ (assumption) We assume the opponent will do their best move. ∧ [(assumption) By definition a node is \"worst\" if it's ¬(\"better\") compared to all nodes among \"siblings\" ∧ [(assumption) Definition of \"siblings\" is \"node.parent.children excluding node\" → leaf22 has siblings = ['leaf21']]\n",
      " ∧ [(assumption) By definition, node1 is \"better\" than node2 if node1 score > node2 score ∧ [[(assumption) Definition of \"leaf\" is \"node.is_leaf\" → leaf22 is leaf]\n",
      " ∧ (assumption) Leaf nodes have scores from the evaluation function → leaf22 has score = 2]\n",
      " ∧ [[(assumption) Definition of \"leaf\" is \"node.is_leaf\" → leaf21 is leaf]\n",
      " ∧ (assumption) Leaf nodes have scores from the evaluation function → leaf21 has score = 8]\n",
      " → ¬(leaf22 is better than leaf21)]\n",
      " → leaf22 is worst]\n",
      " → child2 has backtracing child = leaf22]\n",
      " → child2 has score = 2]\n",
      " ∧ [[(assumption) Definition of \"leaf\" is \"node.is_leaf\" → ¬(child3 is leaf)]\n",
      " ∧ (assumption) Internal nodes have scores from children ∧ [[(assumption) Definition of \"opponent player turn\" is \"not node.maximizing_player_turn\" → child3 is opponent player turn]\n",
      " ∧ (assumption) We assume the opponent will do their best move. ∧ [(assumption) By definition a node is \"worst\" if it's ¬(\"better\") compared to all nodes among \"siblings\" ∧ [(assumption) Definition of \"siblings\" is \"node.parent.children excluding node\" → leaf21 has siblings = ['leaf22']]\n",
      " ∧ [(assumption) By definition, node1 is \"better\" than node2 if node1 score > node2 score ∧ [[(assumption) Definition of \"leaf\" is \"node.is_leaf\" → leaf21 is leaf]\n",
      " ∧ (assumption) Leaf nodes have scores from the evaluation function → leaf21 has score = 1]\n",
      " ∧ [[(assumption) Definition of \"leaf\" is \"node.is_leaf\" → leaf22 is leaf]\n",
      " ∧ (assumption) Leaf nodes have scores from the evaluation function → leaf22 has score = 1]\n",
      " → ¬(leaf21 is better than leaf22)]\n",
      " → ¬(leaf21 is worst)]\n",
      " → child3 has backtracing child = leaf21]\n",
      " → child3 has score = 1]\n",
      " → child2 is better than child3]\n",
      " → ¬(child2 is best)]\n",
      "\n"
     ]
    }
   ],
   "source": [
    "print(explainer.explain_adjective(child2, \"best\"))"
   ]
  },
  {
   "cell_type": "code",
   "execution_count": 20,
   "metadata": {},
   "outputs": [
    {
     "name": "stdout",
     "output_type": "stream",
     "text": [
      "[[(assumption) Definition of \"opponent player turn\" is \"not node.maximizing_player_turn\" → ¬(root is opponent player turn)]\n",
      " ∧ (assumption) On our turn we take the maximum rated move. ∧ [(assumption) By definition a node is \"best\" if it's \"better\" compared to all nodes among \"siblings\" ∧ [(assumption) Definition of \"siblings\" is \"node.parent.children excluding node\" → child1 has siblings = ['child2', 'child3']]\n",
      " ∧ [(assumption) By definition, node1 is \"better\" than node2 if node1 score > node2 score ∧ [[(assumption) Definition of \"leaf\" is \"node.is_leaf\" → ¬(child1 is leaf)]\n",
      " ∧ (assumption) Internal nodes have scores from children ∧ [[(assumption) Definition of \"opponent player turn\" is \"not node.maximizing_player_turn\" → child1 is opponent player turn]\n",
      " ∧ (assumption) We assume the opponent will do their best move. ∧ [(assumption) By definition a node is \"worst\" if it's ¬(\"better\") compared to all nodes among \"siblings\" ∧ [(assumption) Definition of \"siblings\" is \"node.parent.children excluding node\" → leaf11 has siblings = ['leaf12']]\n",
      " ∧ [(assumption) By definition, node1 is \"better\" than node2 if node1 score > node2 score ∧ [[(assumption) Definition of \"leaf\" is \"node.is_leaf\" → leaf11 is leaf]\n",
      " ∧ (assumption) Leaf nodes have scores from the evaluation function → leaf11 has score = 3]\n",
      " ∧ [[(assumption) Definition of \"leaf\" is \"node.is_leaf\" → leaf12 is leaf]\n",
      " ∧ (assumption) Leaf nodes have scores from the evaluation function → leaf12 has score = 4]\n",
      " → ¬(leaf11 is better than leaf12)]\n",
      " → leaf11 is worst]\n",
      " → child1 has backtracing child = leaf11]\n",
      " → child1 has score = 3]\n",
      " ∧ [[(assumption) Definition of \"leaf\" is \"node.is_leaf\" → ¬(child2 is leaf)]\n",
      " ∧ (assumption) Internal nodes have scores from children ∧ [[(assumption) Definition of \"opponent player turn\" is \"not node.maximizing_player_turn\" → child2 is opponent player turn]\n",
      " ∧ (assumption) We assume the opponent will do their best move. ∧ [(assumption) By definition a node is \"worst\" if it's ¬(\"better\") compared to all nodes among \"siblings\" ∧ [(assumption) Definition of \"siblings\" is \"node.parent.children excluding node\" → leaf22 has siblings = ['leaf21']]\n",
      " ∧ [(assumption) By definition, node1 is \"better\" than node2 if node1 score > node2 score ∧ [[(assumption) Definition of \"leaf\" is \"node.is_leaf\" → leaf22 is leaf]\n",
      " ∧ (assumption) Leaf nodes have scores from the evaluation function → leaf22 has score = 2]\n",
      " ∧ [[(assumption) Definition of \"leaf\" is \"node.is_leaf\" → leaf21 is leaf]\n",
      " ∧ (assumption) Leaf nodes have scores from the evaluation function → leaf21 has score = 8]\n",
      " → ¬(leaf22 is better than leaf21)]\n",
      " → leaf22 is worst]\n",
      " → child2 has backtracing child = leaf22]\n",
      " → child2 has score = 2]\n",
      " → child1 is better than child2]\n",
      " ∧ [(assumption) By definition, node1 is \"better\" than node2 if node1 score > node2 score ∧ [[(assumption) Definition of \"leaf\" is \"node.is_leaf\" → ¬(child1 is leaf)]\n",
      " ∧ (assumption) Internal nodes have scores from children ∧ [[(assumption) Definition of \"opponent player turn\" is \"not node.maximizing_player_turn\" → child1 is opponent player turn]\n",
      " ∧ (assumption) We assume the opponent will do their best move. ∧ [(assumption) By definition a node is \"worst\" if it's ¬(\"better\") compared to all nodes among \"siblings\" ∧ [(assumption) Definition of \"siblings\" is \"node.parent.children excluding node\" → leaf11 has siblings = ['leaf12']]\n",
      " ∧ [(assumption) By definition, node1 is \"better\" than node2 if node1 score > node2 score ∧ [[(assumption) Definition of \"leaf\" is \"node.is_leaf\" → leaf11 is leaf]\n",
      " ∧ (assumption) Leaf nodes have scores from the evaluation function → leaf11 has score = 3]\n",
      " ∧ [[(assumption) Definition of \"leaf\" is \"node.is_leaf\" → leaf12 is leaf]\n",
      " ∧ (assumption) Leaf nodes have scores from the evaluation function → leaf12 has score = 4]\n",
      " → ¬(leaf11 is better than leaf12)]\n",
      " → leaf11 is worst]\n",
      " → child1 has backtracing child = leaf11]\n",
      " → child1 has score = 3]\n",
      " ∧ [[(assumption) Definition of \"leaf\" is \"node.is_leaf\" → ¬(child3 is leaf)]\n",
      " ∧ (assumption) Internal nodes have scores from children ∧ [[(assumption) Definition of \"opponent player turn\" is \"not node.maximizing_player_turn\" → child3 is opponent player turn]\n",
      " ∧ (assumption) We assume the opponent will do their best move. ∧ [(assumption) By definition a node is \"worst\" if it's ¬(\"better\") compared to all nodes among \"siblings\" ∧ [(assumption) Definition of \"siblings\" is \"node.parent.children excluding node\" → leaf21 has siblings = ['leaf22']]\n",
      " ∧ [(assumption) By definition, node1 is \"better\" than node2 if node1 score > node2 score ∧ [[(assumption) Definition of \"leaf\" is \"node.is_leaf\" → leaf21 is leaf]\n",
      " ∧ (assumption) Leaf nodes have scores from the evaluation function → leaf21 has score = 1]\n",
      " ∧ [[(assumption) Definition of \"leaf\" is \"node.is_leaf\" → leaf22 is leaf]\n",
      " ∧ (assumption) Leaf nodes have scores from the evaluation function → leaf22 has score = 1]\n",
      " → ¬(leaf21 is better than leaf22)]\n",
      " → ¬(leaf21 is worst)]\n",
      " → child3 has backtracing child = leaf21]\n",
      " → child3 has score = 1]\n",
      " → child1 is better than child3]\n",
      " → child1 is best]\n",
      " → root has backtracing child = child1]\n",
      "\n"
     ]
    }
   ],
   "source": [
    "print(explainer.explain_adjective(root, \"backtracing child\"))"
   ]
  },
  {
   "cell_type": "code",
   "execution_count": 21,
   "metadata": {},
   "outputs": [
    {
     "name": "stdout",
     "output_type": "stream",
     "text": [
      "[[(assumption) Definition of \"leaf\" is \"node.is_leaf\" → ¬(root is leaf)]\n",
      " ∧ (assumption) Internal nodes have scores from children ∧ [[(assumption) Definition of \"opponent player turn\" is \"not node.maximizing_player_turn\" → ¬(root is opponent player turn)]\n",
      " ∧ (assumption) On our turn we take the maximum rated move. ∧ [(assumption) By definition a node is \"best\" if it's \"better\" compared to all nodes among \"siblings\" ∧ [(assumption) Definition of \"siblings\" is \"node.parent.children excluding node\" → child1 has siblings = ['child2', 'child3']]\n",
      " ∧ [(assumption) By definition, node1 is \"better\" than node2 if node1 score > node2 score ∧ [[(assumption) Definition of \"leaf\" is \"node.is_leaf\" → ¬(child1 is leaf)]\n",
      " ∧ (assumption) Internal nodes have scores from children ∧ [[(assumption) Definition of \"opponent player turn\" is \"not node.maximizing_player_turn\" → child1 is opponent player turn]\n",
      " ∧ (assumption) We assume the opponent will do their best move. ∧ [(assumption) By definition a node is \"worst\" if it's ¬(\"better\") compared to all nodes among \"siblings\" ∧ [(assumption) Definition of \"siblings\" is \"node.parent.children excluding node\" → leaf11 has siblings = ['leaf12']]\n",
      " ∧ [(assumption) By definition, node1 is \"better\" than node2 if node1 score > node2 score ∧ [[(assumption) Definition of \"leaf\" is \"node.is_leaf\" → leaf11 is leaf]\n",
      " ∧ (assumption) Leaf nodes have scores from the evaluation function → leaf11 has score = 3]\n",
      " ∧ [[(assumption) Definition of \"leaf\" is \"node.is_leaf\" → leaf12 is leaf]\n",
      " ∧ (assumption) Leaf nodes have scores from the evaluation function → leaf12 has score = 4]\n",
      " → ¬(leaf11 is better than leaf12)]\n",
      " → leaf11 is worst]\n",
      " → child1 has backtracing child = leaf11]\n",
      " → child1 has score = 3]\n",
      " ∧ [[(assumption) Definition of \"leaf\" is \"node.is_leaf\" → ¬(child2 is leaf)]\n",
      " ∧ (assumption) Internal nodes have scores from children ∧ [[(assumption) Definition of \"opponent player turn\" is \"not node.maximizing_player_turn\" → child2 is opponent player turn]\n",
      " ∧ (assumption) We assume the opponent will do their best move. ∧ [(assumption) By definition a node is \"worst\" if it's ¬(\"better\") compared to all nodes among \"siblings\" ∧ [(assumption) Definition of \"siblings\" is \"node.parent.children excluding node\" → leaf22 has siblings = ['leaf21']]\n",
      " ∧ [(assumption) By definition, node1 is \"better\" than node2 if node1 score > node2 score ∧ [[(assumption) Definition of \"leaf\" is \"node.is_leaf\" → leaf22 is leaf]\n",
      " ∧ (assumption) Leaf nodes have scores from the evaluation function → leaf22 has score = 2]\n",
      " ∧ [[(assumption) Definition of \"leaf\" is \"node.is_leaf\" → leaf21 is leaf]\n",
      " ∧ (assumption) Leaf nodes have scores from the evaluation function → leaf21 has score = 8]\n",
      " → ¬(leaf22 is better than leaf21)]\n",
      " → leaf22 is worst]\n",
      " → child2 has backtracing child = leaf22]\n",
      " → child2 has score = 2]\n",
      " → child1 is better than child2]\n",
      " ∧ [(assumption) By definition, node1 is \"better\" than node2 if node1 score > node2 score ∧ [[(assumption) Definition of \"leaf\" is \"node.is_leaf\" → ¬(child1 is leaf)]\n",
      " ∧ (assumption) Internal nodes have scores from children ∧ [[(assumption) Definition of \"opponent player turn\" is \"not node.maximizing_player_turn\" → child1 is opponent player turn]\n",
      " ∧ (assumption) We assume the opponent will do their best move. ∧ [(assumption) By definition a node is \"worst\" if it's ¬(\"better\") compared to all nodes among \"siblings\" ∧ [(assumption) Definition of \"siblings\" is \"node.parent.children excluding node\" → leaf11 has siblings = ['leaf12']]\n",
      " ∧ [(assumption) By definition, node1 is \"better\" than node2 if node1 score > node2 score ∧ [[(assumption) Definition of \"leaf\" is \"node.is_leaf\" → leaf11 is leaf]\n",
      " ∧ (assumption) Leaf nodes have scores from the evaluation function → leaf11 has score = 3]\n",
      " ∧ [[(assumption) Definition of \"leaf\" is \"node.is_leaf\" → leaf12 is leaf]\n",
      " ∧ (assumption) Leaf nodes have scores from the evaluation function → leaf12 has score = 4]\n",
      " → ¬(leaf11 is better than leaf12)]\n",
      " → leaf11 is worst]\n",
      " → child1 has backtracing child = leaf11]\n",
      " → child1 has score = 3]\n",
      " ∧ [[(assumption) Definition of \"leaf\" is \"node.is_leaf\" → ¬(child3 is leaf)]\n",
      " ∧ (assumption) Internal nodes have scores from children ∧ [[(assumption) Definition of \"opponent player turn\" is \"not node.maximizing_player_turn\" → child3 is opponent player turn]\n",
      " ∧ (assumption) We assume the opponent will do their best move. ∧ [(assumption) By definition a node is \"worst\" if it's ¬(\"better\") compared to all nodes among \"siblings\" ∧ [(assumption) Definition of \"siblings\" is \"node.parent.children excluding node\" → leaf21 has siblings = ['leaf22']]\n",
      " ∧ [(assumption) By definition, node1 is \"better\" than node2 if node1 score > node2 score ∧ [[(assumption) Definition of \"leaf\" is \"node.is_leaf\" → leaf21 is leaf]\n",
      " ∧ (assumption) Leaf nodes have scores from the evaluation function → leaf21 has score = 1]\n",
      " ∧ [[(assumption) Definition of \"leaf\" is \"node.is_leaf\" → leaf22 is leaf]\n",
      " ∧ (assumption) Leaf nodes have scores from the evaluation function → leaf22 has score = 1]\n",
      " → ¬(leaf21 is better than leaf22)]\n",
      " → ¬(leaf21 is worst)]\n",
      " → child3 has backtracing child = leaf21]\n",
      " → child3 has score = 1]\n",
      " → child1 is better than child3]\n",
      " → child1 is best]\n",
      " → root has backtracing child = child1]\n",
      " → root has score = 3]\n",
      "\n"
     ]
    }
   ],
   "source": [
    "print(explainer.explain_adjective(root, \"score\"))"
   ]
  },
  {
   "cell_type": "code",
   "execution_count": 22,
   "metadata": {},
   "outputs": [],
   "source": [
    "knowledgebase.settings.explanation_depth = 15\n",
    "knowledgebase.settings.repeat_explanations = False"
   ]
  },
  {
   "cell_type": "code",
   "execution_count": 23,
   "metadata": {},
   "outputs": [
    {
     "name": "stdout",
     "output_type": "stream",
     "text": [
      "[(assumption) By definition a node is \"best\" if it's \"better\" compared to all nodes among \"siblings\" ∧ [(assumption) Definition of \"siblings\" is \"node.parent.children excluding node\" → child1 has siblings = ['child2', 'child3']]\n",
      " ∧ [(assumption) By definition, node1 is \"better\" than node2 if node1 score > node2 score ∧ [[(assumption) Definition of \"leaf\" is \"node.is_leaf\" → ¬(child1 is leaf)]\n",
      " ∧ (assumption) Internal nodes have scores from children ∧ [[(assumption) Definition of \"opponent player turn\" is \"not node.maximizing_player_turn\" → child1 is opponent player turn]\n",
      " ∧ (assumption) We assume the opponent will do their best move. ∧ [(assumption) By definition a node is \"worst\" if it's ¬(\"better\") compared to all nodes among \"siblings\" ∧ [(assumption) Definition of \"siblings\" is \"node.parent.children excluding node\" → leaf11 has siblings = ['leaf12']]\n",
      " ∧ [(assumption) By definition, node1 is \"better\" than node2 if node1 score > node2 score ∧ [[(assumption) Definition of \"leaf\" is \"node.is_leaf\" → leaf11 is leaf]\n",
      " ∧ (assumption) Leaf nodes have scores from the evaluation function → leaf11 has score = 3]\n",
      " ∧ [[(assumption) Definition of \"leaf\" is \"node.is_leaf\" → leaf12 is leaf]\n",
      " ∧ (assumption) Leaf nodes have scores from the evaluation function → leaf12 has score = 4]\n",
      " → ¬(leaf11 is better than leaf12)]\n",
      " → leaf11 is worst]\n",
      " → child1 has backtracing child = leaf11]\n",
      " → child1 has score = 3]\n",
      " ∧ [[(assumption) Definition of \"leaf\" is \"node.is_leaf\" → ¬(child2 is leaf)]\n",
      " ∧ (assumption) Internal nodes have scores from children ∧ [[(assumption) Definition of \"opponent player turn\" is \"not node.maximizing_player_turn\" → child2 is opponent player turn]\n",
      " ∧ (assumption) We assume the opponent will do their best move. ∧ [(assumption) By definition a node is \"worst\" if it's ¬(\"better\") compared to all nodes among \"siblings\" ∧ [(assumption) Definition of \"siblings\" is \"node.parent.children excluding node\" → leaf22 has siblings = ['leaf21']]\n",
      " ∧ [(assumption) By definition, node1 is \"better\" than node2 if node1 score > node2 score ∧ [[(assumption) Definition of \"leaf\" is \"node.is_leaf\" → leaf22 is leaf]\n",
      " ∧ (assumption) Leaf nodes have scores from the evaluation function → leaf22 has score = 2]\n",
      " ∧ [[(assumption) Definition of \"leaf\" is \"node.is_leaf\" → leaf21 is leaf]\n",
      " ∧ (assumption) Leaf nodes have scores from the evaluation function → leaf21 has score = 8]\n",
      " → ¬(leaf22 is better than leaf21)]\n",
      " → leaf22 is worst]\n",
      " → child2 has backtracing child = leaf22]\n",
      " → child2 has score = 2]\n",
      " → child1 is better than child2]\n",
      " ∧ [(assumption) By definition, node1 is \"better\" than node2 if node1 score > node2 score ∧ [[(assumption) Definition of \"leaf\" is \"node.is_leaf\" → ¬(child1 is leaf)]\n",
      " ∧ (assumption) Internal nodes have scores from children ∧ [[(assumption) Definition of \"opponent player turn\" is \"not node.maximizing_player_turn\" → child1 is opponent player turn]\n",
      " ∧ (assumption) We assume the opponent will do their best move. ∧ [(assumption) By definition a node is \"worst\" if it's ¬(\"better\") compared to all nodes among \"siblings\" ∧ [(assumption) Definition of \"siblings\" is \"node.parent.children excluding node\" → leaf11 has siblings = ['leaf12']]\n",
      " ∧ [(assumption) By definition, node1 is \"better\" than node2 if node1 score > node2 score ∧ [[(assumption) Definition of \"leaf\" is \"node.is_leaf\" → leaf11 is leaf]\n",
      " ∧ (assumption) Leaf nodes have scores from the evaluation function → leaf11 has score = 3]\n",
      " ∧ [[(assumption) Definition of \"leaf\" is \"node.is_leaf\" → leaf12 is leaf]\n",
      " ∧ (assumption) Leaf nodes have scores from the evaluation function → leaf12 has score = 4]\n",
      " → ¬(leaf11 is better than leaf12)]\n",
      " → leaf11 is worst]\n",
      " → child1 has backtracing child = leaf11]\n",
      " → child1 has score = 3]\n",
      " ∧ [[(assumption) Definition of \"leaf\" is \"node.is_leaf\" → ¬(child3 is leaf)]\n",
      " ∧ (assumption) Internal nodes have scores from children ∧ [[(assumption) Definition of \"opponent player turn\" is \"not node.maximizing_player_turn\" → child3 is opponent player turn]\n",
      " ∧ (assumption) We assume the opponent will do their best move. ∧ [(assumption) By definition a node is \"worst\" if it's ¬(\"better\") compared to all nodes among \"siblings\" ∧ [(assumption) Definition of \"siblings\" is \"node.parent.children excluding node\" → leaf21 has siblings = ['leaf22']]\n",
      " ∧ [(assumption) By definition, node1 is \"better\" than node2 if node1 score > node2 score ∧ [[(assumption) Definition of \"leaf\" is \"node.is_leaf\" → leaf21 is leaf]\n",
      " ∧ (assumption) Leaf nodes have scores from the evaluation function → leaf21 has score = 1]\n",
      " ∧ [[(assumption) Definition of \"leaf\" is \"node.is_leaf\" → leaf22 is leaf]\n",
      " ∧ (assumption) Leaf nodes have scores from the evaluation function → leaf22 has score = 1]\n",
      " → ¬(leaf21 is better than leaf22)]\n",
      " → ¬(leaf21 is worst)]\n",
      " → child3 has backtracing child = leaf21]\n",
      " → child3 has score = 1]\n",
      " → child1 is better than child3]\n",
      " → child1 is best]\n",
      "\n"
     ]
    }
   ],
   "source": [
    "print(explainer.explain_adjective(child1, \"best\"))"
   ]
  },
  {
   "cell_type": "markdown",
   "metadata": {},
   "source": [
    "Track down that Not before the \"Considering your definition of leaf\""
   ]
  },
  {
   "cell_type": "code",
   "execution_count": 24,
   "metadata": {},
   "outputs": [
    {
     "name": "stdout",
     "output_type": "stream",
     "text": [
      "None\n"
     ]
    }
   ],
   "source": [
    "print(explainer.query_explanation(root, \"Why is child 1 maxoptimal?\"))"
   ]
  }
 ],
 "metadata": {
  "kernelspec": {
   "display_name": "Python 3 (ipykernel)",
   "language": "python",
   "name": "python3"
  },
  "language_info": {
   "codemirror_mode": {
    "name": "ipython",
    "version": 3
   },
   "file_extension": ".py",
   "mimetype": "text/x-python",
   "name": "python",
   "nbconvert_exporter": "python",
   "pygments_lexer": "ipython3",
   "version": "3.11.9"
  }
 },
 "nbformat": 4,
 "nbformat_minor": 2
}
