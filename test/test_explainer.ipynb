{
 "cells": [
  {
   "cell_type": "code",
   "execution_count": 1,
   "metadata": {},
   "outputs": [],
   "source": [
    "from explainers.minimax_explainer import MiniMaxExplainer"
   ]
  },
  {
   "cell_type": "markdown",
   "metadata": {},
   "source": [
    "## Example search tree:"
   ]
  },
  {
   "cell_type": "code",
   "execution_count": 2,
   "metadata": {},
   "outputs": [],
   "source": [
    "class MiniMaxNode:\n",
    "    def __init__(self, id, *, score=None, maximizing_player_turn=True, children=None, score_child=None):\n",
    "        \n",
    "        self.id = id\n",
    "\n",
    "        if score:\n",
    "            self.score = score\n",
    "        elif score_child:\n",
    "            self.score_child = score_child\n",
    "            self.score = score_child.score\n",
    "        else:\n",
    "            raise ValueError(\"Provide score or score_child.\")\n",
    "\n",
    "        self.children = children or []\n",
    "        self.parent = None\n",
    "        self.maximizing_player_turn = maximizing_player_turn\n",
    "        \n",
    "        self.is_leaf = True\n",
    "        if len(self.children) > 0:\n",
    "            self.is_leaf = False\n",
    "            for child in children:\n",
    "                child.parent=self\n",
    "                child.maximizing_player_turn = not self.maximizing_player_turn\n",
    "    \n",
    "    def __str__(self):\n",
    "        return self.id\n",
    "\n",
    "# Create a simple game tree\n",
    "leaf11 = MiniMaxNode('leaf11', score=3)\n",
    "leaf12 = MiniMaxNode('leaf12', score=4)\n",
    "leaf21 = MiniMaxNode('leaf21', score=8)\n",
    "leaf22 = MiniMaxNode('leaf22', score=2)\n",
    "leaf31 = MiniMaxNode('leaf21', score=1)\n",
    "leaf32 = MiniMaxNode('leaf22', score=1)\n",
    "\n",
    "child1 = MiniMaxNode('child1', children=[leaf11, leaf12], score_child=leaf11)\n",
    "child2 = MiniMaxNode('child2', children=[leaf21, leaf22], score_child=leaf22)\n",
    "child3 = MiniMaxNode('child3', children=[leaf31, leaf32], score_child=leaf31)\n",
    "\n",
    "root = MiniMaxNode('root', maximizing_player_turn=True, children=[child1, child2, child3], score_child=child1)"
   ]
  },
  {
   "cell_type": "code",
   "execution_count": 3,
   "metadata": {},
   "outputs": [],
   "source": [
    "explainer = MiniMaxExplainer()"
   ]
  },
  {
   "cell_type": "markdown",
   "metadata": {},
   "source": [
    "## Framework definition"
   ]
  },
  {
   "cell_type": "code",
   "execution_count": 4,
   "metadata": {},
   "outputs": [
    {
     "name": "stdout",
     "output_type": "stream",
     "text": [
      "Propositions:\n",
      "node is leaf\n",
      "node has score = ?\n",
      "node is opponent player turn\n",
      "node has backpropagating child = ?\n",
      "node1 is better than node2\n",
      "node has siblings = ?\n",
      "node is best\n",
      "node is worst\n",
      "\n",
      "\n",
      "Implications:\n",
      "node has leaf = ? ←\n",
      " (assumption) Definition of \"leaf\" is node.is_leaf\n",
      "node has score = ? ←\n",
      " node is leaf ←\n",
      " (assumption) Definition of \"leaf\" is node.is_leaf\n",
      "∧ (assumption) Leaf nodes have scores from the evaluation function\n",
      "|| node is ¬(leaf) ←\n",
      " (assumption) Definition of \"leaf\" is node.is_leaf\n",
      "∧ (assumption) Internal nodes have scores from children\n",
      "∧ node has backpropagating child = ? ←\n",
      " node is opponent player turn ←\n",
      " (assumption) Definition of \"opponent player turn\" is not node.maximizing_player_turn\n",
      "∧ (assumption) We assume the opponent will do their best move.\n",
      "∧ node has worst = ? ←\n",
      " (assumption) By definition a node is \"worst\" if it's not \"better\" than all \"siblings\"\n",
      "∧ Node not better than all nodes in siblings\n",
      "|| node is ¬(opponent player turn) ←\n",
      " (assumption) Definition of \"opponent player turn\" is not node.maximizing_player_turn\n",
      "∧ (assumption) On our turn we take the maximum rated move.\n",
      "∧ node has best = ? ←\n",
      " (assumption) By definition a node is \"best\" if it's \"better\" than all \"siblings\"\n",
      "∧ Node better than all nodes in siblings\n",
      "node has opponent player turn = ? ←\n",
      " (assumption) Definition of \"opponent player turn\" is not node.maximizing_player_turn\n",
      "node has backpropagating child = ? ←\n",
      " node is opponent player turn ←\n",
      " (assumption) Definition of \"opponent player turn\" is not node.maximizing_player_turn\n",
      "∧ (assumption) We assume the opponent will do their best move.\n",
      "∧ node has worst = ? ←\n",
      " (assumption) By definition a node is \"worst\" if it's not \"better\" than all \"siblings\"\n",
      "∧ Node not better than all nodes in siblings\n",
      "|| node is ¬(opponent player turn) ←\n",
      " (assumption) Definition of \"opponent player turn\" is not node.maximizing_player_turn\n",
      "∧ (assumption) On our turn we take the maximum rated move.\n",
      "∧ node has best = ? ←\n",
      " (assumption) By definition a node is \"best\" if it's \"better\" than all \"siblings\"\n",
      "∧ Node better than all nodes in siblings\n",
      "None has better than None = ? ←\n",
      " (assumption) By definition, node1 is \"better\" than node2 if node1 score > node2 score\n",
      "∧ node has score = ? ←\n",
      " node is leaf ←\n",
      " (assumption) Definition of \"leaf\" is node.is_leaf\n",
      "∧ (assumption) Leaf nodes have scores from the evaluation function\n",
      "|| node is ¬(leaf) ←\n",
      " (assumption) Definition of \"leaf\" is node.is_leaf\n",
      "∧ (assumption) Internal nodes have scores from children\n",
      "∧ node has backpropagating child = ? ←\n",
      " node is opponent player turn ←\n",
      " (assumption) Definition of \"opponent player turn\" is not node.maximizing_player_turn\n",
      "∧ (assumption) We assume the opponent will do their best move.\n",
      "∧ node has worst = ? ←\n",
      " (assumption) By definition a node is \"worst\" if it's not \"better\" than all \"siblings\"\n",
      "∧ Node not better than all nodes in siblings\n",
      "|| node is ¬(opponent player turn) ←\n",
      " (assumption) Definition of \"opponent player turn\" is not node.maximizing_player_turn\n",
      "∧ (assumption) On our turn we take the maximum rated move.\n",
      "∧ node has best = ? ←\n",
      " (assumption) By definition a node is \"best\" if it's \"better\" than all \"siblings\"\n",
      "∧ Node better than all nodes in siblings\n",
      "node has siblings = ? ←\n",
      " (assumption) Definition of \"siblings\" is node.parent.children excluding node\n",
      "node has best = ? ←\n",
      " (assumption) By definition a node is \"best\" if it's \"better\" than all \"siblings\"\n",
      "∧ Node better than all nodes in siblings\n",
      "node has worst = ? ←\n",
      " (assumption) By definition a node is \"worst\" if it's not \"better\" than all \"siblings\"\n",
      "∧ Node not better than all nodes in siblings\n"
     ]
    }
   ],
   "source": [
    "print(explainer['lowlevel'])"
   ]
  },
  {
   "cell_type": "code",
   "execution_count": 5,
   "metadata": {},
   "outputs": [
    {
     "name": "stdout",
     "output_type": "stream",
     "text": [
      "Propositions:\n",
      "move is final move\n",
      "move has score = ?\n",
      "move is opponent player turn\n",
      "move has next possible move = ?\n",
      "move1 is better than move2\n",
      "move has possible alternative moves = ?\n",
      "move is the best\n",
      "move is the best the opponent can do\n",
      "\n",
      "\n",
      "Implications:\n",
      "move has final move = ? ←\n",
      " (assumption) Definition of \"final move\" is node.is_leaf\n",
      "move has score = ? ←\n",
      " move is final move ←\n",
      " (assumption) Definition of \"final move\" is node.is_leaf\n",
      "∧ (assumption) final moves are evaluated only looking at the final position\n",
      "|| move is ¬(final move) ←\n",
      " (assumption) Definition of \"final move\" is node.is_leaf\n",
      "∧ move has next possible move = ? ←\n",
      " move is opponent player turn ←\n",
      " (assumption) Definition of \"opponent player turn\" is not node.maximizing_player_turn\n",
      "∧ (assumption) we assume the opponent will do their best move\n",
      "∧ move has the best the opponent can do = ? ←\n",
      " (assumption) By definition a move is \"the best the opponent can do\" if it's not \"better\" than all \"possible alternative moves\"\n",
      "∧ Node not better than all nodes in possible alternative moves\n",
      "|| move is ¬(opponent player turn) ←\n",
      " (assumption) Definition of \"opponent player turn\" is not node.maximizing_player_turn\n",
      "∧ (assumption) on our turn we take the maximum rated move\n",
      "∧ move has the best = ? ←\n",
      " (assumption) By definition a move is \"the best\" if it's \"better\" than all \"possible alternative moves\"\n",
      "∧ Node better than all nodes in possible alternative moves\n",
      "move has opponent player turn = ? ←\n",
      " (assumption) Definition of \"opponent player turn\" is not node.maximizing_player_turn\n",
      "move has next possible move = ? ←\n",
      " move is opponent player turn ←\n",
      " (assumption) Definition of \"opponent player turn\" is not node.maximizing_player_turn\n",
      "∧ (assumption) we assume the opponent will do their best move\n",
      "∧ move has the best the opponent can do = ? ←\n",
      " (assumption) By definition a move is \"the best the opponent can do\" if it's not \"better\" than all \"possible alternative moves\"\n",
      "∧ Node not better than all nodes in possible alternative moves\n",
      "|| move is ¬(opponent player turn) ←\n",
      " (assumption) Definition of \"opponent player turn\" is not node.maximizing_player_turn\n",
      "∧ (assumption) on our turn we take the maximum rated move\n",
      "∧ move has the best = ? ←\n",
      " (assumption) By definition a move is \"the best\" if it's \"better\" than all \"possible alternative moves\"\n",
      "∧ Node better than all nodes in possible alternative moves\n",
      "None has better than None = ? ←\n",
      " (assumption) By definition, move1 is \"better\" than move2 if move1 score > move2 score\n",
      "∧ move has score = ? ←\n",
      " move is final move ←\n",
      " (assumption) Definition of \"final move\" is node.is_leaf\n",
      "∧ (assumption) final moves are evaluated only looking at the final position\n",
      "|| move is ¬(final move) ←\n",
      " (assumption) Definition of \"final move\" is node.is_leaf\n",
      "∧ move has next possible move = ? ←\n",
      " move is opponent player turn ←\n",
      " (assumption) Definition of \"opponent player turn\" is not node.maximizing_player_turn\n",
      "∧ (assumption) we assume the opponent will do their best move\n",
      "∧ move has the best the opponent can do = ? ←\n",
      " (assumption) By definition a move is \"the best the opponent can do\" if it's not \"better\" than all \"possible alternative moves\"\n",
      "∧ Node not better than all nodes in possible alternative moves\n",
      "|| move is ¬(opponent player turn) ←\n",
      " (assumption) Definition of \"opponent player turn\" is not node.maximizing_player_turn\n",
      "∧ (assumption) on our turn we take the maximum rated move\n",
      "∧ move has the best = ? ←\n",
      " (assumption) By definition a move is \"the best\" if it's \"better\" than all \"possible alternative moves\"\n",
      "∧ Node better than all nodes in possible alternative moves\n",
      "move has possible alternative moves = ? ←\n",
      " (assumption) Definition of \"possible alternative moves\" is node.parent.children excluding node\n",
      "move has the best = ? ←\n",
      " (assumption) By definition a move is \"the best\" if it's \"better\" than all \"possible alternative moves\"\n",
      "∧ Node better than all nodes in possible alternative moves\n",
      "move has the best the opponent can do = ? ←\n",
      " (assumption) By definition a move is \"the best the opponent can do\" if it's not \"better\" than all \"possible alternative moves\"\n",
      "∧ Node not better than all nodes in possible alternative moves\n"
     ]
    }
   ],
   "source": [
    "print(explainer['highlevel'])"
   ]
  },
  {
   "cell_type": "markdown",
   "metadata": {},
   "source": [
    "## Set your explanations settings"
   ]
  },
  {
   "cell_type": "code",
   "execution_count": 6,
   "metadata": {},
   "outputs": [],
   "source": [
    "settings = {\n",
    "            'with_framework': 'highlevel',\n",
    "            'explanation_depth': 5 ,\n",
    "            'assumptions_verbosity': 'verbose'\n",
    "        }\n",
    "\n",
    "explainer.configure_settings(settings)"
   ]
  },
  {
   "cell_type": "markdown",
   "metadata": {},
   "source": [
    "## You can now explain nodes' properties"
   ]
  },
  {
   "cell_type": "code",
   "execution_count": 7,
   "metadata": {},
   "outputs": [
    {
     "name": "stdout",
     "output_type": "stream",
     "text": [
      "child1 is the best ←\n",
      " \t(assumption) By definition a move is \"the best\" if it's \"better\" than all \"possible alternative moves\"\n",
      "\t∧ child1 has possible alternative moves = child2 (only showing relevant 1) ←\n",
      "\t \t\t(assumption) Definition of \"possible alternative moves\" is node.parent.children excluding node\n",
      "\t∧ child1 is better than child2 ←\n",
      "\t \tit leads to a better position ←\n",
      "\t \t\t(assumption) By definition, move1 is \"better\" than move2 if move1 score > move2 score\n",
      "\t\t\t∧ child1 is ¬(final move) ←\n",
      "\t\t\t \t\t\t\t(assumption) Definition of \"final move\" is node.is_leaf\n",
      "\t\t\t∧ child1 has next possible move = leaf11 ←\n",
      "\t\t\t \t\t\t\t(assumption) we assume the opponent will do their best move\n",
      "\t\t\t\t\t\t\t∧ leaf11 is the best the opponent can do ←\n",
      "\t\t\t\t\t\t\t \t\t\t\t\t(assumption) By definition a move is \"the best the opponent can do\" if it's not \"better\" than all \"possible alternative moves\"\n",
      "\t\t\t\t\t\t\t\t\t\t\t\t∧ leaf11 has possible alternative moves = leaf12 (only showing relevant 1) ∧ leaf11 is ¬(better than leaf12)\n",
      "\t\t\t∧ child2 is ¬(final move) ←\n",
      "\t\t\t \t\t\t\t(assumption) Definition of \"final move\" is node.is_leaf\n",
      "\t\t\t∧ child2 has next possible move = leaf22 ←\n",
      "\t\t\t \t\t\t\t(assumption) we assume the opponent will do their best move\n",
      "\t\t\t\t\t\t\t∧ leaf22 is the best the opponent can do ←\n",
      "\t\t\t\t\t\t\t \t\t\t\t\t(assumption) By definition a move is \"the best the opponent can do\" if it's not \"better\" than all \"possible alternative moves\"\n",
      "\t\t\t\t\t\t\t\t\t\t\t\t∧ leaf22 has possible alternative moves = leaf21 (only showing relevant 1) ∧ leaf22 is ¬(better than leaf21)\n"
     ]
    }
   ],
   "source": [
    "explainer.explain(child1, \"the best\")"
   ]
  },
  {
   "cell_type": "code",
   "execution_count": 8,
   "metadata": {},
   "outputs": [],
   "source": [
    "high_abstraction_settings = {\n",
    "            'with_framework': 'highlevel',\n",
    "            'explanation_depth': 4 ,\n",
    "            'print_implicit_assumptions': False,\n",
    "            'assumptions_verbosity': 'if_asked',\n",
    "            'print_mode': 'verbal'\n",
    "        }\n",
    "\n",
    "explainer.configure_settings(high_abstraction_settings)"
   ]
  },
  {
   "cell_type": "code",
   "execution_count": 10,
   "metadata": {},
   "outputs": [
    {
     "name": "stdout",
     "output_type": "stream",
     "text": [
      "child1 is the best (because\n",
      " \tchild1 has as possible alternative moves child2 (only showing relevant 1) and child1 is better than child2)\n"
     ]
    }
   ],
   "source": [
    "explainer.explain(child1, \"the best\", explanation_depth=2)"
   ]
  },
  {
   "cell_type": "code",
   "execution_count": 11,
   "metadata": {},
   "outputs": [
    {
     "name": "stdout",
     "output_type": "stream",
     "text": [
      "child1 is the best (because\n",
      " \tchild1 has as possible alternative moves child2 (only showing relevant 1)\n",
      "\tand child1 is better than child2 (because\n",
      "\t \tit leads to a better position (because\n",
      "\t \t\tchild1 has as next possible move leaf11 (because\n",
      "\t\t\t \t\t\t\tleaf11 is the best the opponent can do)\n",
      "\t\t\tand child2 has as next possible move leaf22 (because\n",
      "\t\t\t \t\t\t\tleaf22 is the best the opponent can do))))\n"
     ]
    }
   ],
   "source": [
    "explainer.explain(child1, \"the best\")"
   ]
  },
  {
   "cell_type": "code",
   "execution_count": 12,
   "metadata": {},
   "outputs": [],
   "source": [
    "settings = {\n",
    "            'with_framework': 'lowlevel',\n",
    "            'explanation_depth': 2 ,\n",
    "            'assumptions_verbosity' : 'if_asked',\n",
    "            'print_mode': 'logic'\n",
    "        }\n",
    "\n",
    "explainer.configure_settings(settings)"
   ]
  },
  {
   "cell_type": "code",
   "execution_count": 13,
   "metadata": {},
   "outputs": [
    {
     "name": "stdout",
     "output_type": "stream",
     "text": [
      "child1 is ¬(worst)\n"
     ]
    }
   ],
   "source": [
    "explainer.explain(child1, \"worst\", explanation_depth = 0)"
   ]
  },
  {
   "cell_type": "code",
   "execution_count": 14,
   "metadata": {},
   "outputs": [
    {
     "name": "stdout",
     "output_type": "stream",
     "text": [
      "child1 is ¬(worst) ←\n",
      " \tchild1 has siblings = child2, child3\n",
      "\t∧ child1 is better than child2 ∧ child1 is better than child3\n"
     ]
    }
   ],
   "source": [
    "explainer.explain(child1, \"worst\", explanation_depth = 1)"
   ]
  },
  {
   "cell_type": "code",
   "execution_count": 15,
   "metadata": {},
   "outputs": [
    {
     "name": "stdout",
     "output_type": "stream",
     "text": [
      "child1 is ¬(worst) ←\n",
      " \tchild1 has siblings = child2, child3\n",
      "\t∧ child1 is better than child2 ←\n",
      "\t \t\tchild1 has score = 3 ∧ child2 has score = 2\n",
      "\t∧ child1 is better than child3 ←\n",
      "\t \t\tchild1 has score = 3 ∧ child3 has score = 1\n"
     ]
    }
   ],
   "source": [
    "explainer.explain(child1, \"worst\")"
   ]
  },
  {
   "cell_type": "code",
   "execution_count": 16,
   "metadata": {},
   "outputs": [
    {
     "name": "stdout",
     "output_type": "stream",
     "text": [
      "child1 is ¬(worst) ←\n",
      " \tDepth 1:\n",
      "\tchild1 has siblings = child2, child3\n",
      "\t∧ child1 is better than child2 ←\n",
      "\t \t\tDepth 2:\n",
      "\t\t\tchild1 has score = 3 ←\n",
      "\t\t\t \t\t\tDepth 3:\n",
      "\t\t\t\t\t\tchild1 is ¬(leaf) ∧ child1 has backpropagating child = leaf11\n",
      "\t\t\t∧ child2 has score = 2 ←\n",
      "\t\t\t \t\t\tDepth 3:\n",
      "\t\t\t\t\t\tchild2 is ¬(leaf) ∧ child2 has backpropagating child = leaf22\n",
      "\t∧ child1 is better than child3 ←\n",
      "\t \t\tDepth 2:\n",
      "\t\t\tchild1 has score = 3 ←\n",
      "\t\t\t \t\t\tDepth 3:\n",
      "\t\t\t\t\t\tchild1 is ¬(leaf) ∧ child1 has backpropagating child = leaf11\n",
      "\t\t\t∧ child3 has score = 1 ←\n",
      "\t\t\t \t\t\tDepth 3:\n",
      "\t\t\t\t\t\tchild3 is ¬(leaf) ∧ child3 has backpropagating child = leaf21\n"
     ]
    }
   ],
   "source": [
    "explainer.explain(child1, \"worst\", explanation_depth = 3, print_depth=True)"
   ]
  },
  {
   "cell_type": "code",
   "execution_count": 17,
   "metadata": {},
   "outputs": [],
   "source": [
    "low_abstraction_settings = {\n",
    "            'with_framework': 'lowlevel',\n",
    "            'explanation_depth': 3 ,\n",
    "            'print_implicit_assumptions': True,\n",
    "            'assumptions_verbosity': 'verbose',\n",
    "            'print_mode': 'logic'\n",
    "        }\n",
    "\n",
    "explainer.configure_settings(low_abstraction_settings)"
   ]
  },
  {
   "cell_type": "code",
   "execution_count": 18,
   "metadata": {},
   "outputs": [
    {
     "name": "stdout",
     "output_type": "stream",
     "text": [
      "child1 is better than child2 ←\n",
      " \t(assumption) By definition, node1 is \"better\" than node2 if node1 score > node2 score\n",
      "\t∧ child1 has score = 3 ←\n",
      "\t \t\tchild1 is ¬(leaf) ←\n",
      "\t\t\t \t\t\t(assumption) Definition of \"leaf\" is node.is_leaf\n",
      "\t\t\t∧ (assumption) Internal nodes have scores from children\n",
      "\t\t\t∧ child1 has backpropagating child = leaf11 ←\n",
      "\t\t\t \t\t\tchild1 is opponent player turn\n",
      "\t\t\t\t\t\t∧ (assumption) We assume the opponent will do their best move.\n",
      "\t\t\t\t\t\t∧ leaf11 is worst\n",
      "\t∧ child2 has score = 2 ←\n",
      "\t \t\tchild2 is ¬(leaf) ←\n",
      "\t\t\t \t\t\t(assumption) Definition of \"leaf\" is node.is_leaf\n",
      "\t\t\t∧ (assumption) Internal nodes have scores from children\n",
      "\t\t\t∧ child2 has backpropagating child = leaf22 ←\n",
      "\t\t\t \t\t\tchild2 is opponent player turn\n",
      "\t\t\t\t\t\t∧ (assumption) We assume the opponent will do their best move.\n",
      "\t\t\t\t\t\t∧ leaf22 is worst\n"
     ]
    }
   ],
   "source": [
    "explainer.explain(child1, \"better\", child2)"
   ]
  },
  {
   "cell_type": "code",
   "execution_count": 19,
   "metadata": {},
   "outputs": [
    {
     "name": "stdout",
     "output_type": "stream",
     "text": [
      "child1 has siblings = child2, child3 ←\n",
      " \t(assumption) Definition of \"siblings\" is node.parent.children excluding node\n"
     ]
    }
   ],
   "source": [
    "explainer.explain(child1, \"siblings\")"
   ]
  },
  {
   "cell_type": "code",
   "execution_count": 20,
   "metadata": {},
   "outputs": [
    {
     "name": "stdout",
     "output_type": "stream",
     "text": [
      "child1 is best ←\n",
      " \t(assumption) By definition a node is \"best\" if it's \"better\" than all \"siblings\"\n",
      "\t∧ child1 has siblings = child2, child3 ←\n",
      "\t \t\t(assumption) Definition of \"siblings\" is node.parent.children excluding node\n",
      "\t∧ child1 is better than child2 ←\n",
      "\t \t\t(assumption) By definition, node1 is \"better\" than node2 if node1 score > node2 score\n",
      "\t\t\t∧ child1 has score = 3 ←\n",
      "\t\t\t \t\t\tchild1 is ¬(leaf)\n",
      "\t\t\t\t\t\t∧ (assumption) Internal nodes have scores from children\n",
      "\t\t\t\t\t\t∧ child1 has backpropagating child = leaf11\n",
      "\t\t\t∧ child2 has score = 2 ←\n",
      "\t\t\t \t\t\tchild2 is ¬(leaf)\n",
      "\t\t\t\t\t\t∧ (assumption) Internal nodes have scores from children\n",
      "\t\t\t\t\t\t∧ child2 has backpropagating child = leaf22\n",
      "\t∧ child1 is better than child3 ←\n",
      "\t \t\t(assumption) By definition, node1 is \"better\" than node2 if node1 score > node2 score\n",
      "\t\t\t∧ child1 has score = 3 ←\n",
      "\t\t\t \t\t\tchild1 is ¬(leaf)\n",
      "\t\t\t\t\t\t∧ (assumption) Internal nodes have scores from children\n",
      "\t\t\t\t\t\t∧ child1 has backpropagating child = leaf11\n",
      "\t\t\t∧ child3 has score = 1 ←\n",
      "\t\t\t \t\t\tchild3 is ¬(leaf)\n",
      "\t\t\t\t\t\t∧ (assumption) Internal nodes have scores from children\n",
      "\t\t\t\t\t\t∧ child3 has backpropagating child = leaf21\n"
     ]
    }
   ],
   "source": [
    "explainer.explain(child1, \"best\")"
   ]
  },
  {
   "cell_type": "code",
   "execution_count": 21,
   "metadata": {},
   "outputs": [
    {
     "name": "stdout",
     "output_type": "stream",
     "text": [
      "root has backpropagating child = child1 ←\n",
      " \troot is ¬(opponent player turn) ←\n",
      "\t \t\t(assumption) Definition of \"opponent player turn\" is not node.maximizing_player_turn\n",
      "\t∧ (assumption) On our turn we take the maximum rated move.\n",
      "\t∧ child1 is best ←\n",
      "\t \t\t(assumption) By definition a node is \"best\" if it's \"better\" than all \"siblings\"\n",
      "\t\t\t∧ child1 has siblings = child2, child3 ←\n",
      "\t\t\t \t\t\t(assumption) Definition of \"siblings\" is node.parent.children excluding node\n",
      "\t\t\t∧ child1 is better than child2 ←\n",
      "\t\t\t \t\t\t(assumption) By definition, node1 is \"better\" than node2 if node1 score > node2 score\n",
      "\t\t\t\t\t\t∧ child1 has score = 3 ∧ child2 has score = 2\n",
      "\t\t\t∧ child1 is better than child3 ←\n",
      "\t\t\t \t\t\t(assumption) By definition, node1 is \"better\" than node2 if node1 score > node2 score\n",
      "\t\t\t\t\t\t∧ child1 has score = 3 ∧ child3 has score = 1\n"
     ]
    }
   ],
   "source": [
    "explainer.explain(root, \"backpropagating child\")"
   ]
  },
  {
   "cell_type": "code",
   "execution_count": 22,
   "metadata": {},
   "outputs": [
    {
     "name": "stdout",
     "output_type": "stream",
     "text": [
      "child1 is best ←\n",
      " \tDepth 1:\n",
      "\t(assumption) By definition a node is \"best\" if it's \"better\" than all \"siblings\"\n",
      "\t∧ child1 has siblings = child2, child3 ←\n",
      "\t \t\tDepth 2:\n",
      "\t\t\t(assumption) Definition of \"siblings\" is node.parent.children excluding node\n",
      "\t∧ child1 is better than child2 ←\n",
      "\t \t\tDepth 2:\n",
      "\t\t\t(assumption) By definition, node1 is \"better\" than node2 if node1 score > node2 score\n",
      "\t\t\t∧ child1 has score = 3 ←\n",
      "\t\t\t \t\t\tDepth 3:\n",
      "\t\t\t\t\t\tchild1 is ¬(leaf) ←\n",
      "\t\t\t\t\t\t \t\t\t\tDepth 4:\n",
      "\t\t\t\t\t\t\t\t\t\t(assumption) Definition of \"leaf\" is node.is_leaf\n",
      "\t\t\t\t\t\t∧ (assumption) Internal nodes have scores from children\n",
      "\t\t\t\t\t\t∧ child1 has backpropagating child = leaf11 ←\n",
      "\t\t\t\t\t\t \t\t\t\tDepth 4:\n",
      "\t\t\t\t\t\t\t\t\t\tchild1 is opponent player turn ←\n",
      "\t\t\t\t\t\t\t\t\t\t \t\t\t\t\tDepth 5:\n",
      "\t\t\t\t\t\t\t\t\t\t\t\t\t\t\t(assumption) Definition of \"opponent player turn\" is not node.maximizing_player_turn\n",
      "\t\t\t\t\t\t\t\t\t\t∧ (assumption) We assume the opponent will do their best move.\n",
      "\t\t\t\t\t\t\t\t\t\t∧ leaf11 is worst ←\n",
      "\t\t\t\t\t\t\t\t\t\t \t\t\t\t\tDepth 5:\n",
      "\t\t\t\t\t\t\t\t\t\t\t\t\t\t\t(assumption) By definition a node is \"worst\" if it's not \"better\" than all \"siblings\"\n",
      "\t\t\t\t\t\t\t\t\t\t\t\t\t\t\t∧ leaf11 has siblings = leaf12 ←\n",
      "\t\t\t\t\t\t\t\t\t\t\t\t\t\t\t \t\t\t\t\t\tDepth 6:\n",
      "\t\t\t\t\t\t\t\t\t\t\t\t\t\t\t\t\t\t\t\t\t(assumption) Definition of \"siblings\" is node.parent.children excluding node\n",
      "\t\t\t\t\t\t\t\t\t\t\t\t\t\t\t∧ leaf11 is ¬(better than leaf12) ←\n",
      "\t\t\t\t\t\t\t\t\t\t\t\t\t\t\t \t\t\t\t\t\tDepth 6:\n",
      "\t\t\t\t\t\t\t\t\t\t\t\t\t\t\t\t\t\t\t\t\t(assumption) By definition, node1 is \"better\" than node2 if node1 score > node2 score\n",
      "\t\t\t\t\t\t\t\t\t\t\t\t\t\t\t\t\t\t\t\t\t∧ leaf11 has score = 3 ∧ leaf12 has score = 4\n",
      "\t\t\t∧ child2 has score = 2 ←\n",
      "\t\t\t \t\t\tDepth 3:\n",
      "\t\t\t\t\t\tchild2 is ¬(leaf) ←\n",
      "\t\t\t\t\t\t \t\t\t\tDepth 4:\n",
      "\t\t\t\t\t\t\t\t\t\t(assumption) Definition of \"leaf\" is node.is_leaf\n",
      "\t\t\t\t\t\t∧ (assumption) Internal nodes have scores from children\n",
      "\t\t\t\t\t\t∧ child2 has backpropagating child = leaf22 ←\n",
      "\t\t\t\t\t\t \t\t\t\tDepth 4:\n",
      "\t\t\t\t\t\t\t\t\t\tchild2 is opponent player turn ←\n",
      "\t\t\t\t\t\t\t\t\t\t \t\t\t\t\tDepth 5:\n",
      "\t\t\t\t\t\t\t\t\t\t\t\t\t\t\t(assumption) Definition of \"opponent player turn\" is not node.maximizing_player_turn\n",
      "\t\t\t\t\t\t\t\t\t\t∧ (assumption) We assume the opponent will do their best move.\n",
      "\t\t\t\t\t\t\t\t\t\t∧ leaf22 is worst ←\n",
      "\t\t\t\t\t\t\t\t\t\t \t\t\t\t\tDepth 5:\n",
      "\t\t\t\t\t\t\t\t\t\t\t\t\t\t\t(assumption) By definition a node is \"worst\" if it's not \"better\" than all \"siblings\"\n",
      "\t\t\t\t\t\t\t\t\t\t\t\t\t\t\t∧ leaf22 has siblings = leaf21 ←\n",
      "\t\t\t\t\t\t\t\t\t\t\t\t\t\t\t \t\t\t\t\t\tDepth 6:\n",
      "\t\t\t\t\t\t\t\t\t\t\t\t\t\t\t\t\t\t\t\t\t(assumption) Definition of \"siblings\" is node.parent.children excluding node\n",
      "\t\t\t\t\t\t\t\t\t\t\t\t\t\t\t∧ leaf22 is ¬(better than leaf21) ←\n",
      "\t\t\t\t\t\t\t\t\t\t\t\t\t\t\t \t\t\t\t\t\tDepth 6:\n",
      "\t\t\t\t\t\t\t\t\t\t\t\t\t\t\t\t\t\t\t\t\t(assumption) By definition, node1 is \"better\" than node2 if node1 score > node2 score\n",
      "\t\t\t\t\t\t\t\t\t\t\t\t\t\t\t\t\t\t\t\t\t∧ leaf22 has score = 2 ∧ leaf21 has score = 8\n",
      "\t∧ child1 is better than child3 ←\n",
      "\t \t\tDepth 2:\n",
      "\t\t\t(assumption) By definition, node1 is \"better\" than node2 if node1 score > node2 score\n",
      "\t\t\t∧ child1 has score = 3 ←\n",
      "\t\t\t \t\t\tDepth 3:\n",
      "\t\t\t\t\t\tchild1 is ¬(leaf) ←\n",
      "\t\t\t\t\t\t \t\t\t\tDepth 4:\n",
      "\t\t\t\t\t\t\t\t\t\t(assumption) Definition of \"leaf\" is node.is_leaf\n",
      "\t\t\t\t\t\t∧ (assumption) Internal nodes have scores from children\n",
      "\t\t\t\t\t\t∧ child1 has backpropagating child = leaf11 ←\n",
      "\t\t\t\t\t\t \t\t\t\tDepth 4:\n",
      "\t\t\t\t\t\t\t\t\t\tchild1 is opponent player turn ←\n",
      "\t\t\t\t\t\t\t\t\t\t \t\t\t\t\tDepth 5:\n",
      "\t\t\t\t\t\t\t\t\t\t\t\t\t\t\t(assumption) Definition of \"opponent player turn\" is not node.maximizing_player_turn\n",
      "\t\t\t\t\t\t\t\t\t\t∧ (assumption) We assume the opponent will do their best move.\n",
      "\t\t\t\t\t\t\t\t\t\t∧ leaf11 is worst ←\n",
      "\t\t\t\t\t\t\t\t\t\t \t\t\t\t\tDepth 5:\n",
      "\t\t\t\t\t\t\t\t\t\t\t\t\t\t\t(assumption) By definition a node is \"worst\" if it's not \"better\" than all \"siblings\"\n",
      "\t\t\t\t\t\t\t\t\t\t\t\t\t\t\t∧ leaf11 has siblings = leaf12 ←\n",
      "\t\t\t\t\t\t\t\t\t\t\t\t\t\t\t \t\t\t\t\t\tDepth 6:\n",
      "\t\t\t\t\t\t\t\t\t\t\t\t\t\t\t\t\t\t\t\t\t(assumption) Definition of \"siblings\" is node.parent.children excluding node\n",
      "\t\t\t\t\t\t\t\t\t\t\t\t\t\t\t∧ leaf11 is ¬(better than leaf12) ←\n",
      "\t\t\t\t\t\t\t\t\t\t\t\t\t\t\t \t\t\t\t\t\tDepth 6:\n",
      "\t\t\t\t\t\t\t\t\t\t\t\t\t\t\t\t\t\t\t\t\t(assumption) By definition, node1 is \"better\" than node2 if node1 score > node2 score\n",
      "\t\t\t\t\t\t\t\t\t\t\t\t\t\t\t\t\t\t\t\t\t∧ leaf11 has score = 3 ∧ leaf12 has score = 4\n",
      "\t\t\t∧ child3 has score = 1 ←\n",
      "\t\t\t \t\t\tDepth 3:\n",
      "\t\t\t\t\t\tchild3 is ¬(leaf) ←\n",
      "\t\t\t\t\t\t \t\t\t\tDepth 4:\n",
      "\t\t\t\t\t\t\t\t\t\t(assumption) Definition of \"leaf\" is node.is_leaf\n",
      "\t\t\t\t\t\t∧ (assumption) Internal nodes have scores from children\n",
      "\t\t\t\t\t\t∧ child3 has backpropagating child = leaf21 ←\n",
      "\t\t\t\t\t\t \t\t\t\tDepth 4:\n",
      "\t\t\t\t\t\t\t\t\t\tchild3 is opponent player turn ←\n",
      "\t\t\t\t\t\t\t\t\t\t \t\t\t\t\tDepth 5:\n",
      "\t\t\t\t\t\t\t\t\t\t\t\t\t\t\t(assumption) Definition of \"opponent player turn\" is not node.maximizing_player_turn\n",
      "\t\t\t\t\t\t\t\t\t\t∧ (assumption) We assume the opponent will do their best move.\n",
      "\t\t\t\t\t\t\t\t\t\t∧ leaf21 is ¬(worst) ←\n",
      "\t\t\t\t\t\t\t\t\t\t \t\t\t\t\tDepth 5:\n",
      "\t\t\t\t\t\t\t\t\t\t\t\t\t\t\t(assumption) By definition a node is \"worst\" if it's not \"better\" than all \"siblings\"\n",
      "\t\t\t\t\t\t\t\t\t\t\t\t\t\t\t∧ leaf21 has siblings = leaf22 ←\n",
      "\t\t\t\t\t\t\t\t\t\t\t\t\t\t\t \t\t\t\t\t\tDepth 6:\n",
      "\t\t\t\t\t\t\t\t\t\t\t\t\t\t\t\t\t\t\t\t\t(assumption) Definition of \"siblings\" is node.parent.children excluding node\n",
      "\t\t\t\t\t\t\t\t\t\t\t\t\t\t\t∧ leaf21 is ¬(better than leaf22) ←\n",
      "\t\t\t\t\t\t\t\t\t\t\t\t\t\t\t \t\t\t\t\t\tDepth 6:\n",
      "\t\t\t\t\t\t\t\t\t\t\t\t\t\t\t\t\t\t\t\t\t(assumption) By definition, node1 is \"better\" than node2 if node1 score > node2 score\n",
      "\t\t\t\t\t\t\t\t\t\t\t\t\t\t\t\t\t\t\t\t\t∧ leaf21 has score = 1 ∧ leaf22 has score = 1\n"
     ]
    }
   ],
   "source": [
    "explainer.explain(child1, \"best\", explanation_depth=6, print_depth=True)"
   ]
  },
  {
   "cell_type": "code",
   "execution_count": 23,
   "metadata": {},
   "outputs": [
    {
     "name": "stdout",
     "output_type": "stream",
     "text": [
      "root has score = 3 ←\n",
      " \tDepth 1:\n",
      "\troot is ¬(leaf) ←\n",
      "\t \t\tDepth 2:\n",
      "\t\t\t(assumption) Definition of \"leaf\" is node.is_leaf\n",
      "\t∧ (assumption) Internal nodes have scores from children\n",
      "\t∧ root has backpropagating child = child1 ←\n",
      "\t \t\tDepth 2:\n",
      "\t\t\troot is ¬(opponent player turn) ←\n",
      "\t\t\t \t\t\tDepth 3:\n",
      "\t\t\t\t\t\t(assumption) Definition of \"opponent player turn\" is not node.maximizing_player_turn\n",
      "\t\t\t∧ (assumption) On our turn we take the maximum rated move.\n",
      "\t\t\t∧ child1 is best ←\n",
      "\t\t\t \t\t\tDepth 3:\n",
      "\t\t\t\t\t\t(assumption) By definition a node is \"best\" if it's \"better\" than all \"siblings\"\n",
      "\t\t\t\t\t\t∧ child1 has siblings = child2, child3 ←\n",
      "\t\t\t\t\t\t \t\t\t\tDepth 4:\n",
      "\t\t\t\t\t\t\t\t\t\t(assumption) Definition of \"siblings\" is node.parent.children excluding node\n",
      "\t\t\t\t\t\t∧ child1 is better than child2 ←\n",
      "\t\t\t\t\t\t \t\t\t\tDepth 4:\n",
      "\t\t\t\t\t\t\t\t\t\t(assumption) By definition, node1 is \"better\" than node2 if node1 score > node2 score\n",
      "\t\t\t\t\t\t\t\t\t\t∧ child1 has score = 3 ←\n",
      "\t\t\t\t\t\t\t\t\t\t \t\t\t\t\tDepth 5:\n",
      "\t\t\t\t\t\t\t\t\t\t\t\t\t\t\tchild1 is ¬(leaf) ←\n",
      "\t\t\t\t\t\t\t\t\t\t\t\t\t\t\t \t\t\t\t\t\tDepth 6:\n",
      "\t\t\t\t\t\t\t\t\t\t\t\t\t\t\t\t\t\t\t\t\t(assumption) Definition of \"leaf\" is node.is_leaf\n",
      "\t\t\t\t\t\t\t\t\t\t\t\t\t\t\t∧ (assumption) Internal nodes have scores from children\n",
      "\t\t\t\t\t\t\t\t\t\t\t\t\t\t\t∧ child1 has backpropagating child = leaf11 ←\n",
      "\t\t\t\t\t\t\t\t\t\t\t\t\t\t\t \t\t\t\t\t\tDepth 6:\n",
      "\t\t\t\t\t\t\t\t\t\t\t\t\t\t\t\t\t\t\t\t\tchild1 is opponent player turn ←\n",
      "\t\t\t\t\t\t\t\t\t\t\t\t\t\t\t\t\t\t\t\t\t \t\t\t\t\t\t\tDepth 7:\n",
      "\t\t\t\t\t\t\t\t\t\t\t\t\t\t\t\t\t\t\t\t\t\t\t\t\t\t\t\t(assumption) Definition of \"opponent player turn\" is not node.maximizing_player_turn\n",
      "\t\t\t\t\t\t\t\t\t\t\t\t\t\t\t\t\t\t\t\t\t∧ (assumption) We assume the opponent will do their best move.\n",
      "\t\t\t\t\t\t\t\t\t\t\t\t\t\t\t\t\t\t\t\t\t∧ leaf11 is worst ←\n",
      "\t\t\t\t\t\t\t\t\t\t\t\t\t\t\t\t\t\t\t\t\t \t\t\t\t\t\t\tDepth 7:\n",
      "\t\t\t\t\t\t\t\t\t\t\t\t\t\t\t\t\t\t\t\t\t\t\t\t\t\t\t\t(assumption) By definition a node is \"worst\" if it's not \"better\" than all \"siblings\"\n",
      "\t\t\t\t\t\t\t\t\t\t\t\t\t\t\t\t\t\t\t\t\t\t\t\t\t\t\t\t∧ leaf11 has siblings = leaf12 ←\n",
      "\t\t\t\t\t\t\t\t\t\t\t\t\t\t\t\t\t\t\t\t\t\t\t\t\t\t\t\t \t\t\t\t\t\t\t\tDepth 8:\n",
      "\t\t\t\t\t\t\t\t\t\t\t\t\t\t\t\t\t\t\t\t\t\t\t\t\t\t\t\t\t\t\t\t\t\t\t\t(assumption) Definition of \"siblings\" is node.parent.children excluding node\n",
      "\t\t\t\t\t\t\t\t\t\t\t\t\t\t\t\t\t\t\t\t\t\t\t\t\t\t\t\t∧ leaf11 is ¬(better than leaf12) ←\n",
      "\t\t\t\t\t\t\t\t\t\t\t\t\t\t\t\t\t\t\t\t\t\t\t\t\t\t\t\t \t\t\t\t\t\t\t\tDepth 8:\n",
      "\t\t\t\t\t\t\t\t\t\t\t\t\t\t\t\t\t\t\t\t\t\t\t\t\t\t\t\t\t\t\t\t\t\t\t\t(assumption) By definition, node1 is \"better\" than node2 if node1 score > node2 score\n",
      "\t\t\t\t\t\t\t\t\t\t\t\t\t\t\t\t\t\t\t\t\t\t\t\t\t\t\t\t\t\t\t\t\t\t\t\t∧ leaf11 has score = 3 ←\n",
      "\t\t\t\t\t\t\t\t\t\t\t\t\t\t\t\t\t\t\t\t\t\t\t\t\t\t\t\t\t\t\t\t\t\t\t\t \t\t\t\t\t\t\t\t\tDepth 9:\n",
      "\t\t\t\t\t\t\t\t\t\t\t\t\t\t\t\t\t\t\t\t\t\t\t\t\t\t\t\t\t\t\t\t\t\t\t\t\t\t\t\t\t\t\t\t\tleaf11 is leaf ←\n",
      "\t\t\t\t\t\t\t\t\t\t\t\t\t\t\t\t\t\t\t\t\t\t\t\t\t\t\t\t\t\t\t\t\t\t\t\t\t\t\t\t\t\t\t\t\t \t\t\t\t\t\t\t\t\t\tDepth 10:\n",
      "\t\t\t\t\t\t\t\t\t\t\t\t\t\t\t\t\t\t\t\t\t\t\t\t\t\t\t\t\t\t\t\t\t\t\t\t\t\t\t\t\t\t\t\t\t\t\t\t\t\t\t\t\t\t\t(assumption) Definition of \"leaf\" is node.is_leaf\n",
      "\t\t\t\t\t\t\t\t\t\t\t\t\t\t\t\t\t\t\t\t\t\t\t\t\t\t\t\t\t\t\t\t\t\t\t\t\t\t\t\t\t\t\t\t\t∧ (assumption) Leaf nodes have scores from the evaluation function\n",
      "\t\t\t\t\t\t\t\t\t\t\t\t\t\t\t\t\t\t\t\t\t\t\t\t\t\t\t\t\t\t\t\t\t\t\t\t∧ leaf12 has score = 4 ←\n",
      "\t\t\t\t\t\t\t\t\t\t\t\t\t\t\t\t\t\t\t\t\t\t\t\t\t\t\t\t\t\t\t\t\t\t\t\t \t\t\t\t\t\t\t\t\tDepth 9:\n",
      "\t\t\t\t\t\t\t\t\t\t\t\t\t\t\t\t\t\t\t\t\t\t\t\t\t\t\t\t\t\t\t\t\t\t\t\t\t\t\t\t\t\t\t\t\tleaf12 is leaf ←\n",
      "\t\t\t\t\t\t\t\t\t\t\t\t\t\t\t\t\t\t\t\t\t\t\t\t\t\t\t\t\t\t\t\t\t\t\t\t\t\t\t\t\t\t\t\t\t \t\t\t\t\t\t\t\t\t\tDepth 10:\n",
      "\t\t\t\t\t\t\t\t\t\t\t\t\t\t\t\t\t\t\t\t\t\t\t\t\t\t\t\t\t\t\t\t\t\t\t\t\t\t\t\t\t\t\t\t\t\t\t\t\t\t\t\t\t\t\t(assumption) Definition of \"leaf\" is node.is_leaf\n",
      "\t\t\t\t\t\t\t\t\t\t\t\t\t\t\t\t\t\t\t\t\t\t\t\t\t\t\t\t\t\t\t\t\t\t\t\t\t\t\t\t\t\t\t\t\t∧ (assumption) Leaf nodes have scores from the evaluation function\n",
      "\t\t\t\t\t\t\t\t\t\t∧ child2 has score = 2 ←\n",
      "\t\t\t\t\t\t\t\t\t\t \t\t\t\t\tDepth 5:\n",
      "\t\t\t\t\t\t\t\t\t\t\t\t\t\t\tchild2 is ¬(leaf) ←\n",
      "\t\t\t\t\t\t\t\t\t\t\t\t\t\t\t \t\t\t\t\t\tDepth 6:\n",
      "\t\t\t\t\t\t\t\t\t\t\t\t\t\t\t\t\t\t\t\t\t(assumption) Definition of \"leaf\" is node.is_leaf\n",
      "\t\t\t\t\t\t\t\t\t\t\t\t\t\t\t∧ (assumption) Internal nodes have scores from children\n",
      "\t\t\t\t\t\t\t\t\t\t\t\t\t\t\t∧ child2 has backpropagating child = leaf22 ←\n",
      "\t\t\t\t\t\t\t\t\t\t\t\t\t\t\t \t\t\t\t\t\tDepth 6:\n",
      "\t\t\t\t\t\t\t\t\t\t\t\t\t\t\t\t\t\t\t\t\tchild2 is opponent player turn ←\n",
      "\t\t\t\t\t\t\t\t\t\t\t\t\t\t\t\t\t\t\t\t\t \t\t\t\t\t\t\tDepth 7:\n",
      "\t\t\t\t\t\t\t\t\t\t\t\t\t\t\t\t\t\t\t\t\t\t\t\t\t\t\t\t(assumption) Definition of \"opponent player turn\" is not node.maximizing_player_turn\n",
      "\t\t\t\t\t\t\t\t\t\t\t\t\t\t\t\t\t\t\t\t\t∧ (assumption) We assume the opponent will do their best move.\n",
      "\t\t\t\t\t\t\t\t\t\t\t\t\t\t\t\t\t\t\t\t\t∧ leaf22 is worst ←\n",
      "\t\t\t\t\t\t\t\t\t\t\t\t\t\t\t\t\t\t\t\t\t \t\t\t\t\t\t\tDepth 7:\n",
      "\t\t\t\t\t\t\t\t\t\t\t\t\t\t\t\t\t\t\t\t\t\t\t\t\t\t\t\t(assumption) By definition a node is \"worst\" if it's not \"better\" than all \"siblings\"\n",
      "\t\t\t\t\t\t\t\t\t\t\t\t\t\t\t\t\t\t\t\t\t\t\t\t\t\t\t\t∧ leaf22 has siblings = leaf21 ←\n",
      "\t\t\t\t\t\t\t\t\t\t\t\t\t\t\t\t\t\t\t\t\t\t\t\t\t\t\t\t \t\t\t\t\t\t\t\tDepth 8:\n",
      "\t\t\t\t\t\t\t\t\t\t\t\t\t\t\t\t\t\t\t\t\t\t\t\t\t\t\t\t\t\t\t\t\t\t\t\t(assumption) Definition of \"siblings\" is node.parent.children excluding node\n",
      "\t\t\t\t\t\t\t\t\t\t\t\t\t\t\t\t\t\t\t\t\t\t\t\t\t\t\t\t∧ leaf22 is ¬(better than leaf21) ←\n",
      "\t\t\t\t\t\t\t\t\t\t\t\t\t\t\t\t\t\t\t\t\t\t\t\t\t\t\t\t \t\t\t\t\t\t\t\tDepth 8:\n",
      "\t\t\t\t\t\t\t\t\t\t\t\t\t\t\t\t\t\t\t\t\t\t\t\t\t\t\t\t\t\t\t\t\t\t\t\t(assumption) By definition, node1 is \"better\" than node2 if node1 score > node2 score\n",
      "\t\t\t\t\t\t\t\t\t\t\t\t\t\t\t\t\t\t\t\t\t\t\t\t\t\t\t\t\t\t\t\t\t\t\t\t∧ leaf22 has score = 2 ←\n",
      "\t\t\t\t\t\t\t\t\t\t\t\t\t\t\t\t\t\t\t\t\t\t\t\t\t\t\t\t\t\t\t\t\t\t\t\t \t\t\t\t\t\t\t\t\tDepth 9:\n",
      "\t\t\t\t\t\t\t\t\t\t\t\t\t\t\t\t\t\t\t\t\t\t\t\t\t\t\t\t\t\t\t\t\t\t\t\t\t\t\t\t\t\t\t\t\tleaf22 is leaf ←\n",
      "\t\t\t\t\t\t\t\t\t\t\t\t\t\t\t\t\t\t\t\t\t\t\t\t\t\t\t\t\t\t\t\t\t\t\t\t\t\t\t\t\t\t\t\t\t \t\t\t\t\t\t\t\t\t\tDepth 10:\n",
      "\t\t\t\t\t\t\t\t\t\t\t\t\t\t\t\t\t\t\t\t\t\t\t\t\t\t\t\t\t\t\t\t\t\t\t\t\t\t\t\t\t\t\t\t\t\t\t\t\t\t\t\t\t\t\t(assumption) Definition of \"leaf\" is node.is_leaf\n",
      "\t\t\t\t\t\t\t\t\t\t\t\t\t\t\t\t\t\t\t\t\t\t\t\t\t\t\t\t\t\t\t\t\t\t\t\t\t\t\t\t\t\t\t\t\t∧ (assumption) Leaf nodes have scores from the evaluation function\n",
      "\t\t\t\t\t\t\t\t\t\t\t\t\t\t\t\t\t\t\t\t\t\t\t\t\t\t\t\t\t\t\t\t\t\t\t\t∧ leaf21 has score = 8 ←\n",
      "\t\t\t\t\t\t\t\t\t\t\t\t\t\t\t\t\t\t\t\t\t\t\t\t\t\t\t\t\t\t\t\t\t\t\t\t \t\t\t\t\t\t\t\t\tDepth 9:\n",
      "\t\t\t\t\t\t\t\t\t\t\t\t\t\t\t\t\t\t\t\t\t\t\t\t\t\t\t\t\t\t\t\t\t\t\t\t\t\t\t\t\t\t\t\t\tleaf21 is leaf ←\n",
      "\t\t\t\t\t\t\t\t\t\t\t\t\t\t\t\t\t\t\t\t\t\t\t\t\t\t\t\t\t\t\t\t\t\t\t\t\t\t\t\t\t\t\t\t\t \t\t\t\t\t\t\t\t\t\tDepth 10:\n",
      "\t\t\t\t\t\t\t\t\t\t\t\t\t\t\t\t\t\t\t\t\t\t\t\t\t\t\t\t\t\t\t\t\t\t\t\t\t\t\t\t\t\t\t\t\t\t\t\t\t\t\t\t\t\t\t(assumption) Definition of \"leaf\" is node.is_leaf\n",
      "\t\t\t\t\t\t\t\t\t\t\t\t\t\t\t\t\t\t\t\t\t\t\t\t\t\t\t\t\t\t\t\t\t\t\t\t\t\t\t\t\t\t\t\t\t∧ (assumption) Leaf nodes have scores from the evaluation function\n",
      "\t\t\t\t\t\t∧ child1 is better than child3 ←\n",
      "\t\t\t\t\t\t \t\t\t\tDepth 4:\n",
      "\t\t\t\t\t\t\t\t\t\t(assumption) By definition, node1 is \"better\" than node2 if node1 score > node2 score\n",
      "\t\t\t\t\t\t\t\t\t\t∧ child1 has score = 3 ←\n",
      "\t\t\t\t\t\t\t\t\t\t \t\t\t\t\tDepth 5:\n",
      "\t\t\t\t\t\t\t\t\t\t\t\t\t\t\tchild1 is ¬(leaf) ←\n",
      "\t\t\t\t\t\t\t\t\t\t\t\t\t\t\t \t\t\t\t\t\tDepth 6:\n",
      "\t\t\t\t\t\t\t\t\t\t\t\t\t\t\t\t\t\t\t\t\t(assumption) Definition of \"leaf\" is node.is_leaf\n",
      "\t\t\t\t\t\t\t\t\t\t\t\t\t\t\t∧ (assumption) Internal nodes have scores from children\n",
      "\t\t\t\t\t\t\t\t\t\t\t\t\t\t\t∧ child1 has backpropagating child = leaf11 ←\n",
      "\t\t\t\t\t\t\t\t\t\t\t\t\t\t\t \t\t\t\t\t\tDepth 6:\n",
      "\t\t\t\t\t\t\t\t\t\t\t\t\t\t\t\t\t\t\t\t\tchild1 is opponent player turn ←\n",
      "\t\t\t\t\t\t\t\t\t\t\t\t\t\t\t\t\t\t\t\t\t \t\t\t\t\t\t\tDepth 7:\n",
      "\t\t\t\t\t\t\t\t\t\t\t\t\t\t\t\t\t\t\t\t\t\t\t\t\t\t\t\t(assumption) Definition of \"opponent player turn\" is not node.maximizing_player_turn\n",
      "\t\t\t\t\t\t\t\t\t\t\t\t\t\t\t\t\t\t\t\t\t∧ (assumption) We assume the opponent will do their best move.\n",
      "\t\t\t\t\t\t\t\t\t\t\t\t\t\t\t\t\t\t\t\t\t∧ leaf11 is worst ←\n",
      "\t\t\t\t\t\t\t\t\t\t\t\t\t\t\t\t\t\t\t\t\t \t\t\t\t\t\t\tDepth 7:\n",
      "\t\t\t\t\t\t\t\t\t\t\t\t\t\t\t\t\t\t\t\t\t\t\t\t\t\t\t\t(assumption) By definition a node is \"worst\" if it's not \"better\" than all \"siblings\"\n",
      "\t\t\t\t\t\t\t\t\t\t\t\t\t\t\t\t\t\t\t\t\t\t\t\t\t\t\t\t∧ leaf11 has siblings = leaf12 ←\n",
      "\t\t\t\t\t\t\t\t\t\t\t\t\t\t\t\t\t\t\t\t\t\t\t\t\t\t\t\t \t\t\t\t\t\t\t\tDepth 8:\n",
      "\t\t\t\t\t\t\t\t\t\t\t\t\t\t\t\t\t\t\t\t\t\t\t\t\t\t\t\t\t\t\t\t\t\t\t\t(assumption) Definition of \"siblings\" is node.parent.children excluding node\n",
      "\t\t\t\t\t\t\t\t\t\t\t\t\t\t\t\t\t\t\t\t\t\t\t\t\t\t\t\t∧ leaf11 is ¬(better than leaf12) ←\n",
      "\t\t\t\t\t\t\t\t\t\t\t\t\t\t\t\t\t\t\t\t\t\t\t\t\t\t\t\t \t\t\t\t\t\t\t\tDepth 8:\n",
      "\t\t\t\t\t\t\t\t\t\t\t\t\t\t\t\t\t\t\t\t\t\t\t\t\t\t\t\t\t\t\t\t\t\t\t\t(assumption) By definition, node1 is \"better\" than node2 if node1 score > node2 score\n",
      "\t\t\t\t\t\t\t\t\t\t\t\t\t\t\t\t\t\t\t\t\t\t\t\t\t\t\t\t\t\t\t\t\t\t\t\t∧ leaf11 has score = 3 ←\n",
      "\t\t\t\t\t\t\t\t\t\t\t\t\t\t\t\t\t\t\t\t\t\t\t\t\t\t\t\t\t\t\t\t\t\t\t\t \t\t\t\t\t\t\t\t\tDepth 9:\n",
      "\t\t\t\t\t\t\t\t\t\t\t\t\t\t\t\t\t\t\t\t\t\t\t\t\t\t\t\t\t\t\t\t\t\t\t\t\t\t\t\t\t\t\t\t\tleaf11 is leaf ←\n",
      "\t\t\t\t\t\t\t\t\t\t\t\t\t\t\t\t\t\t\t\t\t\t\t\t\t\t\t\t\t\t\t\t\t\t\t\t\t\t\t\t\t\t\t\t\t \t\t\t\t\t\t\t\t\t\tDepth 10:\n",
      "\t\t\t\t\t\t\t\t\t\t\t\t\t\t\t\t\t\t\t\t\t\t\t\t\t\t\t\t\t\t\t\t\t\t\t\t\t\t\t\t\t\t\t\t\t\t\t\t\t\t\t\t\t\t\t(assumption) Definition of \"leaf\" is node.is_leaf\n",
      "\t\t\t\t\t\t\t\t\t\t\t\t\t\t\t\t\t\t\t\t\t\t\t\t\t\t\t\t\t\t\t\t\t\t\t\t\t\t\t\t\t\t\t\t\t∧ (assumption) Leaf nodes have scores from the evaluation function\n",
      "\t\t\t\t\t\t\t\t\t\t\t\t\t\t\t\t\t\t\t\t\t\t\t\t\t\t\t\t\t\t\t\t\t\t\t\t∧ leaf12 has score = 4 ←\n",
      "\t\t\t\t\t\t\t\t\t\t\t\t\t\t\t\t\t\t\t\t\t\t\t\t\t\t\t\t\t\t\t\t\t\t\t\t \t\t\t\t\t\t\t\t\tDepth 9:\n",
      "\t\t\t\t\t\t\t\t\t\t\t\t\t\t\t\t\t\t\t\t\t\t\t\t\t\t\t\t\t\t\t\t\t\t\t\t\t\t\t\t\t\t\t\t\tleaf12 is leaf ←\n",
      "\t\t\t\t\t\t\t\t\t\t\t\t\t\t\t\t\t\t\t\t\t\t\t\t\t\t\t\t\t\t\t\t\t\t\t\t\t\t\t\t\t\t\t\t\t \t\t\t\t\t\t\t\t\t\tDepth 10:\n",
      "\t\t\t\t\t\t\t\t\t\t\t\t\t\t\t\t\t\t\t\t\t\t\t\t\t\t\t\t\t\t\t\t\t\t\t\t\t\t\t\t\t\t\t\t\t\t\t\t\t\t\t\t\t\t\t(assumption) Definition of \"leaf\" is node.is_leaf\n",
      "\t\t\t\t\t\t\t\t\t\t\t\t\t\t\t\t\t\t\t\t\t\t\t\t\t\t\t\t\t\t\t\t\t\t\t\t\t\t\t\t\t\t\t\t\t∧ (assumption) Leaf nodes have scores from the evaluation function\n",
      "\t\t\t\t\t\t\t\t\t\t∧ child3 has score = 1 ←\n",
      "\t\t\t\t\t\t\t\t\t\t \t\t\t\t\tDepth 5:\n",
      "\t\t\t\t\t\t\t\t\t\t\t\t\t\t\tchild3 is ¬(leaf) ←\n",
      "\t\t\t\t\t\t\t\t\t\t\t\t\t\t\t \t\t\t\t\t\tDepth 6:\n",
      "\t\t\t\t\t\t\t\t\t\t\t\t\t\t\t\t\t\t\t\t\t(assumption) Definition of \"leaf\" is node.is_leaf\n",
      "\t\t\t\t\t\t\t\t\t\t\t\t\t\t\t∧ (assumption) Internal nodes have scores from children\n",
      "\t\t\t\t\t\t\t\t\t\t\t\t\t\t\t∧ child3 has backpropagating child = leaf21 ←\n",
      "\t\t\t\t\t\t\t\t\t\t\t\t\t\t\t \t\t\t\t\t\tDepth 6:\n",
      "\t\t\t\t\t\t\t\t\t\t\t\t\t\t\t\t\t\t\t\t\tchild3 is opponent player turn ←\n",
      "\t\t\t\t\t\t\t\t\t\t\t\t\t\t\t\t\t\t\t\t\t \t\t\t\t\t\t\tDepth 7:\n",
      "\t\t\t\t\t\t\t\t\t\t\t\t\t\t\t\t\t\t\t\t\t\t\t\t\t\t\t\t(assumption) Definition of \"opponent player turn\" is not node.maximizing_player_turn\n",
      "\t\t\t\t\t\t\t\t\t\t\t\t\t\t\t\t\t\t\t\t\t∧ (assumption) We assume the opponent will do their best move.\n",
      "\t\t\t\t\t\t\t\t\t\t\t\t\t\t\t\t\t\t\t\t\t∧ leaf21 is ¬(worst) ←\n",
      "\t\t\t\t\t\t\t\t\t\t\t\t\t\t\t\t\t\t\t\t\t \t\t\t\t\t\t\tDepth 7:\n",
      "\t\t\t\t\t\t\t\t\t\t\t\t\t\t\t\t\t\t\t\t\t\t\t\t\t\t\t\t(assumption) By definition a node is \"worst\" if it's not \"better\" than all \"siblings\"\n",
      "\t\t\t\t\t\t\t\t\t\t\t\t\t\t\t\t\t\t\t\t\t\t\t\t\t\t\t\t∧ leaf21 has siblings = leaf22 ←\n",
      "\t\t\t\t\t\t\t\t\t\t\t\t\t\t\t\t\t\t\t\t\t\t\t\t\t\t\t\t \t\t\t\t\t\t\t\tDepth 8:\n",
      "\t\t\t\t\t\t\t\t\t\t\t\t\t\t\t\t\t\t\t\t\t\t\t\t\t\t\t\t\t\t\t\t\t\t\t\t(assumption) Definition of \"siblings\" is node.parent.children excluding node\n",
      "\t\t\t\t\t\t\t\t\t\t\t\t\t\t\t\t\t\t\t\t\t\t\t\t\t\t\t\t∧ leaf21 is ¬(better than leaf22) ←\n",
      "\t\t\t\t\t\t\t\t\t\t\t\t\t\t\t\t\t\t\t\t\t\t\t\t\t\t\t\t \t\t\t\t\t\t\t\tDepth 8:\n",
      "\t\t\t\t\t\t\t\t\t\t\t\t\t\t\t\t\t\t\t\t\t\t\t\t\t\t\t\t\t\t\t\t\t\t\t\t(assumption) By definition, node1 is \"better\" than node2 if node1 score > node2 score\n",
      "\t\t\t\t\t\t\t\t\t\t\t\t\t\t\t\t\t\t\t\t\t\t\t\t\t\t\t\t\t\t\t\t\t\t\t\t∧ leaf21 has score = 1 ←\n",
      "\t\t\t\t\t\t\t\t\t\t\t\t\t\t\t\t\t\t\t\t\t\t\t\t\t\t\t\t\t\t\t\t\t\t\t\t \t\t\t\t\t\t\t\t\tDepth 9:\n",
      "\t\t\t\t\t\t\t\t\t\t\t\t\t\t\t\t\t\t\t\t\t\t\t\t\t\t\t\t\t\t\t\t\t\t\t\t\t\t\t\t\t\t\t\t\tleaf21 is leaf ←\n",
      "\t\t\t\t\t\t\t\t\t\t\t\t\t\t\t\t\t\t\t\t\t\t\t\t\t\t\t\t\t\t\t\t\t\t\t\t\t\t\t\t\t\t\t\t\t \t\t\t\t\t\t\t\t\t\tDepth 10:\n",
      "\t\t\t\t\t\t\t\t\t\t\t\t\t\t\t\t\t\t\t\t\t\t\t\t\t\t\t\t\t\t\t\t\t\t\t\t\t\t\t\t\t\t\t\t\t\t\t\t\t\t\t\t\t\t\t(assumption) Definition of \"leaf\" is node.is_leaf\n",
      "\t\t\t\t\t\t\t\t\t\t\t\t\t\t\t\t\t\t\t\t\t\t\t\t\t\t\t\t\t\t\t\t\t\t\t\t\t\t\t\t\t\t\t\t\t∧ (assumption) Leaf nodes have scores from the evaluation function\n",
      "\t\t\t\t\t\t\t\t\t\t\t\t\t\t\t\t\t\t\t\t\t\t\t\t\t\t\t\t\t\t\t\t\t\t\t\t∧ leaf22 has score = 1 ←\n",
      "\t\t\t\t\t\t\t\t\t\t\t\t\t\t\t\t\t\t\t\t\t\t\t\t\t\t\t\t\t\t\t\t\t\t\t\t \t\t\t\t\t\t\t\t\tDepth 9:\n",
      "\t\t\t\t\t\t\t\t\t\t\t\t\t\t\t\t\t\t\t\t\t\t\t\t\t\t\t\t\t\t\t\t\t\t\t\t\t\t\t\t\t\t\t\t\tleaf22 is leaf ←\n",
      "\t\t\t\t\t\t\t\t\t\t\t\t\t\t\t\t\t\t\t\t\t\t\t\t\t\t\t\t\t\t\t\t\t\t\t\t\t\t\t\t\t\t\t\t\t \t\t\t\t\t\t\t\t\t\tDepth 10:\n",
      "\t\t\t\t\t\t\t\t\t\t\t\t\t\t\t\t\t\t\t\t\t\t\t\t\t\t\t\t\t\t\t\t\t\t\t\t\t\t\t\t\t\t\t\t\t\t\t\t\t\t\t\t\t\t\t(assumption) Definition of \"leaf\" is node.is_leaf\n",
      "\t\t\t\t\t\t\t\t\t\t\t\t\t\t\t\t\t\t\t\t\t\t\t\t\t\t\t\t\t\t\t\t\t\t\t\t\t\t\t\t\t\t\t\t\t∧ (assumption) Leaf nodes have scores from the evaluation function\n"
     ]
    }
   ],
   "source": [
    "explainer.explain(root, \"score\", explanation_depth = 15, print_depth=True)"
   ]
  },
  {
   "cell_type": "markdown",
   "metadata": {},
   "source": [
    "Track down that Not before the \"Considering your definition of leaf\""
   ]
  },
  {
   "cell_type": "code",
   "execution_count": 24,
   "metadata": {},
   "outputs": [],
   "source": [
    "explainer.query_explanation(root, \"Why is child 1 maxoptimal?\")"
   ]
  }
 ],
 "metadata": {
  "kernelspec": {
   "display_name": "Python 3 (ipykernel)",
   "language": "python",
   "name": "python3"
  },
  "language_info": {
   "codemirror_mode": {
    "name": "ipython",
    "version": 3
   },
   "file_extension": ".py",
   "mimetype": "text/x-python",
   "name": "python",
   "nbconvert_exporter": "python",
   "pygments_lexer": "ipython3",
   "version": "3.11.9"
  }
 },
 "nbformat": 4,
 "nbformat_minor": 2
}
