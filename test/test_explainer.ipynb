{
 "cells": [
  {
   "cell_type": "code",
   "execution_count": 11,
   "metadata": {},
   "outputs": [],
   "source": [
    "from src.explainer.explainer import ArgumentativeExplainer\n",
    "from src.explainer.framework import ArgumentationFramework\n",
    "\n",
    "from src.explainer.adjective import StaticAdjective, PointerAdjective, RankingAdjective\n",
    "from src.explainer.explanation import AdjectiveExplanation, AssumptionExplanation, ConditionalExplanation, CompositeExplanation\n",
    "from src.explainer.condition import Condition"
   ]
  },
  {
   "cell_type": "code",
   "execution_count": 12,
   "metadata": {},
   "outputs": [],
   "source": [
    "# Example usage:\n",
    "class MinMaxNode:\n",
    "    def __init__(self, id, *, score=None, is_leaf, children=None, score_child=None):\n",
    "        \n",
    "        self.id = id\n",
    "\n",
    "        if score:\n",
    "            self.score = score\n",
    "        elif score_child:\n",
    "            self.score_child = score_child\n",
    "            self.score = score_child.score\n",
    "        else:\n",
    "            raise ValueError(\"Provide score or score_child.\")\n",
    "\n",
    "        self.is_leaf = is_leaf\n",
    "        self.children = children or []\n",
    "        self.parent = None\n",
    "        \n",
    "        \n",
    "        if len(self.children) > 0:\n",
    "            for child in children:\n",
    "                child.parent=self\n",
    "    \n",
    "    def __str__(self):\n",
    "        return self.id\n",
    "\n",
    "# Create a simple game tree\n",
    "leaf1 = MinMaxNode('child1', score=3, is_leaf=True)\n",
    "leaf2 = MinMaxNode('child2', score=5, is_leaf=True)\n",
    "root = MinMaxNode('root', is_leaf=False, children=[leaf1, leaf2], score_child=leaf2)"
   ]
  },
  {
   "cell_type": "code",
   "execution_count": 13,
   "metadata": {},
   "outputs": [],
   "source": [
    "framework = ArgumentationFramework()\n",
    "\n",
    "framework.add_adjective(StaticAdjective(\"leaf\", lambda node: node.is_leaf))\n",
    "\n",
    "framework.add_adjective(PointerAdjective(\"score\", \n",
    "    getter = lambda node: node.score,\n",
    "\n",
    "    explanation = ConditionalExplanation(\n",
    "        condition = Condition(\"leaf\"),\n",
    "        true_explanation = AssumptionExplanation(\"Leaf nodes have scores from the evaluation function\"),\n",
    "        false_explanation = CompositeExplanation(\n",
    "            AssumptionExplanation(\"Internal nodes have scores from children\"),\n",
    "            AdjectiveExplanation(\"has score from child\", \"minoptimal\")\n",
    "))))\n",
    "\n",
    "framework.add_adjective(RankingAdjective(\"better\", \"score\", \">\"))\n",
    "\n",
    "# Renaming automatically created adjectives\n",
    "framework.rename_adjective(\"max_better\", \"maxoptimal\")\n",
    "framework.rename_adjective(\"min_better\", \"minoptimal\")\n",
    "\n",
    "# Setting tree search motivation\n",
    "framework.set_tree_search_motivation(\"maxoptimal\")\n",
    "\n",
    "framework.add_adjective(\n",
    "    PointerAdjective(\"has score from child\",\n",
    "    #lambda node: min(node.children, key=lambda child: child.score),\n",
    "    getter = lambda node: node.score_child,\n",
    "\n",
    "    explanation = ConditionalExplanation(\n",
    "        condition = Condition(\"minoptimal\", \"has score from child\"),\n",
    "        true_explanation = CompositeExplanation(\n",
    "            AssumptionExplanation(\"We assume the opponent will do their best move.\"),\n",
    "            AdjectiveExplanation(\"minoptimal\", \"has score from child\")),\n",
    "        false_explanation = AdjectiveExplanation(\"has score from child\", \"maxoptimal\")\n",
    "    )\n",
    "))\n",
    "\n"
   ]
  },
  {
   "cell_type": "code",
   "execution_count": 14,
   "metadata": {},
   "outputs": [],
   "source": [
    "explainer = ArgumentativeExplainer(framework)"
   ]
  },
  {
   "cell_type": "markdown",
   "metadata": {},
   "source": [
    "Try"
   ]
  },
  {
   "cell_type": "code",
   "execution_count": 15,
   "metadata": {},
   "outputs": [
    {
     "name": "stdout",
     "output_type": "stream",
     "text": [
      "((A node is maxranked in a RankingAdjective if the Ranking Condition is TRUE when compared to all its siblings.\n",
      " ∧ ((¬(child1.score > child2.score) → child1 not better than child2))) → child1 is not maxoptimal)\n"
     ]
    }
   ],
   "source": [
    "# Generate explanations\n",
    "print(explainer.explain_adjective(root.children[0], \"maxoptimal\"))\n"
   ]
  },
  {
   "cell_type": "code",
   "execution_count": 16,
   "metadata": {},
   "outputs": [
    {
     "name": "stdout",
     "output_type": "stream",
     "text": [
      "((A node is minranked in a RankingAdjective if the Ranking Condition is FALSE when compared to all its siblings.\n",
      " ∧ ((¬(child1.score > child2.score) → child1 not better than child2))) → child1 is minoptimal)\n"
     ]
    }
   ],
   "source": [
    "print(explainer.explain_adjective(root.children[0], \"minoptimal\"))"
   ]
  },
  {
   "cell_type": "code",
   "execution_count": 17,
   "metadata": {},
   "outputs": [
    {
     "name": "stdout",
     "output_type": "stream",
     "text": [
      "((A node is maxranked in a RankingAdjective if the Ranking Condition is TRUE when compared to all its siblings.\n",
      " ∧ ((child2.score > child1.score → child2 better than child1))) → child2 is maxoptimal)\n"
     ]
    }
   ],
   "source": [
    "print(explainer.explain_adjective(root.children[1], \"maxoptimal\"))"
   ]
  },
  {
   "cell_type": "code",
   "execution_count": 18,
   "metadata": {},
   "outputs": [
    {
     "ename": "KeyError",
     "evalue": "'score_child'",
     "output_type": "error",
     "traceback": [
      "\u001b[0;31m---------------------------------------------------------------------------\u001b[0m",
      "\u001b[0;31mKeyError\u001b[0m                                  Traceback (most recent call last)",
      "Cell \u001b[0;32mIn[18], line 1\u001b[0m\n\u001b[0;32m----> 1\u001b[0m \u001b[38;5;28mprint\u001b[39m(\u001b[43mexplainer\u001b[49m\u001b[38;5;241;43m.\u001b[39;49m\u001b[43mexplain_adjective\u001b[49m\u001b[43m(\u001b[49m\u001b[43mroot\u001b[49m\u001b[43m,\u001b[49m\u001b[43m \u001b[49m\u001b[38;5;124;43m\"\u001b[39;49m\u001b[38;5;124;43mscore_child\u001b[39;49m\u001b[38;5;124;43m\"\u001b[39;49m\u001b[43m)\u001b[49m)\n",
      "File \u001b[0;32m~/src/explainer/explainer.py:43\u001b[0m, in \u001b[0;36mArgumentativeExplainer.explain_adjective\u001b[0;34m(self, node, adjective_name, comparison_node)\u001b[0m\n\u001b[1;32m     28\u001b[0m \u001b[38;5;28;01mdef\u001b[39;00m \u001b[38;5;21mexplain_adjective\u001b[39m(\u001b[38;5;28mself\u001b[39m, node: Any, adjective_name: \u001b[38;5;28mstr\u001b[39m, comparison_node: Any \u001b[38;5;241m=\u001b[39m \u001b[38;5;28;01mNone\u001b[39;00m) \u001b[38;5;241m-\u001b[39m\u001b[38;5;241m>\u001b[39m Implies:\n\u001b[1;32m     29\u001b[0m \u001b[38;5;250m    \u001b[39m\u001b[38;5;124;03m\"\"\"\u001b[39;00m\n\u001b[1;32m     30\u001b[0m \u001b[38;5;124;03m    Generate a propositional logic explanation for why a node has a specific adjective.\u001b[39;00m\n\u001b[1;32m     31\u001b[0m \u001b[38;5;124;03m    \u001b[39;00m\n\u001b[0;32m   (...)\u001b[0m\n\u001b[1;32m     41\u001b[0m \u001b[38;5;124;03m        KeyError: If no adjective with the given name is found.\u001b[39;00m\n\u001b[1;32m     42\u001b[0m \u001b[38;5;124;03m    \"\"\"\u001b[39;00m\n\u001b[0;32m---> 43\u001b[0m     adjective \u001b[38;5;241m=\u001b[39m \u001b[38;5;28;43mself\u001b[39;49m\u001b[38;5;241;43m.\u001b[39;49m\u001b[43mframework\u001b[49m\u001b[38;5;241;43m.\u001b[39;49m\u001b[43mget_adjective\u001b[49m\u001b[43m(\u001b[49m\u001b[43madjective_name\u001b[49m\u001b[43m)\u001b[49m\n\u001b[1;32m     44\u001b[0m     context \u001b[38;5;241m=\u001b[39m {\u001b[38;5;124m\"\u001b[39m\u001b[38;5;124mexplainer\u001b[39m\u001b[38;5;124m\"\u001b[39m: \u001b[38;5;28mself\u001b[39m, \u001b[38;5;124m\"\u001b[39m\u001b[38;5;124mnode\u001b[39m\u001b[38;5;124m\"\u001b[39m: node}\n\u001b[1;32m     46\u001b[0m     \u001b[38;5;28;01mif\u001b[39;00m \u001b[38;5;129;01mnot\u001b[39;00m comparison_node: \u001b[38;5;66;03m# The adjective is not comparative\u001b[39;00m\n",
      "File \u001b[0;32m~/src/explainer/framework.py:105\u001b[0m, in \u001b[0;36mArgumentationFramework.get_adjective\u001b[0;34m(self, name)\u001b[0m\n\u001b[1;32m     92\u001b[0m \u001b[38;5;28;01mdef\u001b[39;00m \u001b[38;5;21mget_adjective\u001b[39m(\u001b[38;5;28mself\u001b[39m, name: \u001b[38;5;28mstr\u001b[39m) \u001b[38;5;241m-\u001b[39m\u001b[38;5;241m>\u001b[39m Adjective:\n\u001b[1;32m     93\u001b[0m \u001b[38;5;250m    \u001b[39m\u001b[38;5;124;03m\"\"\"\u001b[39;00m\n\u001b[1;32m     94\u001b[0m \u001b[38;5;124;03m    Retrieve an adjective from the framework.\u001b[39;00m\n\u001b[1;32m     95\u001b[0m \u001b[38;5;124;03m    \u001b[39;00m\n\u001b[0;32m   (...)\u001b[0m\n\u001b[1;32m    103\u001b[0m \u001b[38;5;124;03m        KeyError: If no adjective with the given name is found.\u001b[39;00m\n\u001b[1;32m    104\u001b[0m \u001b[38;5;124;03m    \"\"\"\u001b[39;00m\n\u001b[0;32m--> 105\u001b[0m     \u001b[38;5;28;01mreturn\u001b[39;00m \u001b[38;5;28;43mself\u001b[39;49m\u001b[38;5;241;43m.\u001b[39;49m\u001b[43madjectives\u001b[49m\u001b[43m[\u001b[49m\u001b[43mname\u001b[49m\u001b[43m]\u001b[49m\n",
      "\u001b[0;31mKeyError\u001b[0m: 'score_child'"
     ]
    }
   ],
   "source": [
    "print(explainer.explain_adjective(root, \"score_child\"))"
   ]
  },
  {
   "cell_type": "code",
   "execution_count": null,
   "metadata": {},
   "outputs": [
    {
     "name": "stdout",
     "output_type": "stream",
     "text": [
      "((¬(The node is is_leaf)\n",
      " ∧ (Internal nodes have scores from children\n",
      " ∧ ((A node is minranked in a RankingAdjective if the Ranking Condition is FALSE when compared to all its siblings.\n",
      " ∧ ((child2.score > child1.score → child2 better than child1))) → child2 is not minoptimal))) → root has score = 5)\n"
     ]
    }
   ],
   "source": [
    "print(explainer.explain_adjective(root, \"score\"))"
   ]
  },
  {
   "cell_type": "code",
   "execution_count": null,
   "metadata": {},
   "outputs": [
    {
     "name": "stdout",
     "output_type": "stream",
     "text": [
      "None\n"
     ]
    }
   ],
   "source": [
    "print(explainer.query_explanation(root, \"Why is child 1 maxoptimal?\"))"
   ]
  }
 ],
 "metadata": {
  "language_info": {
   "name": "python"
  }
 },
 "nbformat": 4,
 "nbformat_minor": 2
}
