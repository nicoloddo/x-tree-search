{
 "cells": [
  {
   "cell_type": "code",
   "execution_count": 6,
   "metadata": {},
   "outputs": [],
   "source": [
    "from src.explainer.explainer import ArgumentativeExplainer\n",
    "from src.explainer.framework import ArgumentationFramework\n",
    "\n",
    "from src.explainer.adjective import StaticAdjective, PointerAdjective, PointerRankingAdjective\n",
    "from src.explainer.explanation import AdjectiveExplanation, AssumptionExplanation, ConditionalExplanation, CompositeExplanation"
   ]
  },
  {
   "cell_type": "code",
   "execution_count": 4,
   "metadata": {},
   "outputs": [],
   "source": [
    "# Example usage:\n",
    "class MinMaxNode:\n",
    "    def __init__(self, *, score=None, is_leaf, children=None, score_child=None):\n",
    "        \n",
    "        if score:\n",
    "            self.score = score\n",
    "        elif score_child:\n",
    "            self.score_child = score_child\n",
    "            self.score = score_child.score\n",
    "        else:\n",
    "            raise ValueError(\"Provide score or score_child.\")\n",
    "\n",
    "        self.is_leaf = is_leaf\n",
    "        self.children = children or []\n",
    "        self.parent = None\n",
    "        \n",
    "        \n",
    "        if len(self.children) > 0:\n",
    "            for child in children:\n",
    "                child.parent=self\n",
    "\n",
    "# Create a simple game tree\n",
    "leaf1 = MinMaxNode(score=3, is_leaf=True)\n",
    "leaf2 = MinMaxNode(score=5, is_leaf=True)\n",
    "root = MinMaxNode(is_leaf=False, children=[leaf1, leaf2], score_child=leaf2)"
   ]
  },
  {
   "cell_type": "code",
   "execution_count": 11,
   "metadata": {},
   "outputs": [],
   "source": [
    "framework = ArgumentationFramework()\n",
    "\n",
    "# Adding adjectives\n",
    "framework.add_adjective(StaticAdjective(\"is_leaf\", lambda node: node.is_leaf))\n",
    "framework.add_adjective(PointerRankingAdjective(\"better\", \"score\", lambda x, y: x.score > y.score))\n",
    "\n",
    "# Renaming automatically created adjectives\n",
    "framework.rename_adjective(\"max_better\", \"maxoptimal\")\n",
    "framework.rename_adjective(\"min_better\", \"minoptimal\")\n",
    "\n",
    "# Setting tree search motivation\n",
    "framework.set_tree_search_motivation(\"maxoptimal\")\n",
    "\n",
    "framework.set_adjective_explanation(\"score\", \n",
    "    ConditionalExplanation(\n",
    "    condition = lambda node: node.is_leaf,\n",
    "    true_explanation = AssumptionExplanation(\"Leaf nodes have scores from the evaluation function\"),\n",
    "    false_explanation = CompositeExplanation(\n",
    "        AssumptionExplanation(\"Internal nodes have scores from children\"),\n",
    "        AdjectiveExplanation(\"minoptimal\", \"min_score_child\")\n",
    "    )\n",
    "))\n",
    "\n",
    "framework.add_adjective(\n",
    "    PointerAdjective(\"score_child\",\n",
    "    #lambda node: min(node.children, key=lambda child: child.score),\n",
    "    getter = lambda node: node.score_child,\n",
    "    explanation = ConditionalExplanation(\n",
    "        condition=lambda node: framework.get_adjective(\"minoptimal\").evaluate(node),\n",
    "        true_explanation=AdjectiveExplanation(\"minoptimal\", \"min_score_child\"),\n",
    "        false_explanation=AdjectiveExplanation(\"maxoptimal\", \"min_score_child\")\n",
    "    )\n",
    "))"
   ]
  },
  {
   "cell_type": "code",
   "execution_count": 13,
   "metadata": {},
   "outputs": [],
   "source": [
    "explainer = ArgumentativeExplainer(framework)"
   ]
  },
  {
   "cell_type": "markdown",
   "metadata": {},
   "source": [
    "Try"
   ]
  },
  {
   "cell_type": "code",
   "execution_count": 14,
   "metadata": {},
   "outputs": [
    {
     "name": "stdout",
     "output_type": "stream",
     "text": [
      "max_better is defined by its condition\n"
     ]
    }
   ],
   "source": [
    "# Generate explanations\n",
    "print(explainer.explain_adjective(root.children[1], \"maxoptimal\"))\n"
   ]
  },
  {
   "cell_type": "code",
   "execution_count": null,
   "metadata": {},
   "outputs": [
    {
     "name": "stdout",
     "output_type": "stream",
     "text": [
      "((Leaf nodes have scores from the evaluation function) → maxoptimal(True))\n"
     ]
    }
   ],
   "source": [
    "print(explainer.query_explanation(root, \"Why is child 1 maxoptimal?\"))"
   ]
  }
 ],
 "metadata": {
  "language_info": {
   "name": "python"
  }
 },
 "nbformat": 4,
 "nbformat_minor": 2
}
